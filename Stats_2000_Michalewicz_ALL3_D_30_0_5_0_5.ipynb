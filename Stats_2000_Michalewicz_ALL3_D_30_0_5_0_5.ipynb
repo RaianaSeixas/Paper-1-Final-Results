{
  "nbformat": 4,
  "nbformat_minor": 0,
  "metadata": {
    "colab": {
      "name": "Stats_2000_Michalewicz_ALL3_D_30_0.5_0.5.ipynb",
      "provenance": [],
      "collapsed_sections": [],
      "include_colab_link": true
    },
    "kernelspec": {
      "name": "python3",
      "display_name": "Python 3"
    }
  },
  "cells": [
    {
      "cell_type": "markdown",
      "metadata": {
        "id": "view-in-github",
        "colab_type": "text"
      },
      "source": [
        "<a href=\"https://colab.research.google.com/github/RaianaSeixas/Paper-1-Final-Results/blob/master/Stats_2000_Michalewicz_ALL3_D_30_0_5_0_5.ipynb\" target=\"_parent\"><img src=\"https://colab.research.google.com/assets/colab-badge.svg\" alt=\"Open In Colab\"/></a>"
      ]
    },
    {
      "cell_type": "code",
      "metadata": {
        "id": "MC26Bm1UyUR5",
        "colab_type": "code",
        "colab": {
          "base_uri": "https://localhost:8080/",
          "height": 105
        },
        "outputId": "24c55b66-c6db-4d90-e154-95826363b345"
      },
      "source": [
        "!pip install pyade-python"
      ],
      "execution_count": 1,
      "outputs": [
        {
          "output_type": "stream",
          "text": [
            "Collecting pyade-python\n",
            "  Downloading https://files.pythonhosted.org/packages/02/e7/aefff90c8de0ad3ff151d51507ec65a2988b7cce9126c342746f77615d9f/pyade_python-1.1-py3-none-any.whl\n",
            "Installing collected packages: pyade-python\n",
            "Successfully installed pyade-python-1.1\n"
          ],
          "name": "stdout"
        }
      ]
    },
    {
      "cell_type": "code",
      "metadata": {
        "id": "rRwqrtCmgzdZ",
        "colab_type": "code",
        "colab": {
          "base_uri": "https://localhost:8080/",
          "height": 224
        },
        "outputId": "e2155867-868d-4eb0-8e4a-f5b0501c1f95"
      },
      "source": [
        "!pip install PyFDE"
      ],
      "execution_count": 2,
      "outputs": [
        {
          "output_type": "stream",
          "text": [
            "Collecting PyFDE\n",
            "\u001b[?25l  Downloading https://files.pythonhosted.org/packages/72/f9/87f7279554d2682e3827d39c3d3a565b2fd42f7114a779e34a601c6c5079/PyFDE-1.3.0.tar.gz (397kB)\n",
            "\u001b[K     |████████████████████████████████| 399kB 2.7MB/s \n",
            "\u001b[?25hRequirement already satisfied: numpy in /usr/local/lib/python3.6/dist-packages (from PyFDE) (1.18.5)\n",
            "Building wheels for collected packages: PyFDE\n",
            "  Building wheel for PyFDE (setup.py) ... \u001b[?25l\u001b[?25hdone\n",
            "  Created wheel for PyFDE: filename=PyFDE-1.3.0-cp36-cp36m-linux_x86_64.whl size=969300 sha256=73c0dfe5c37fbaa43c27e81dc55231477aa88db2f0a7f2a2ea5d26ac2db82441\n",
            "  Stored in directory: /root/.cache/pip/wheels/7d/42/ba/abf21db37934e576c74fc2c9504b5cd97eb6a99e3dec1743c0\n",
            "Successfully built PyFDE\n",
            "Installing collected packages: PyFDE\n",
            "Successfully installed PyFDE-1.3.0\n"
          ],
          "name": "stdout"
        }
      ]
    },
    {
      "cell_type": "code",
      "metadata": {
        "id": "anFukot-ypn6",
        "colab_type": "code",
        "colab": {}
      },
      "source": [
        "import pyade.ilshade \n",
        "import pyade.sade \n",
        "import pyade.jso\n",
        "import pyade.shade\n",
        "import pyade.jade \n",
        "import pyfde\n",
        "import numpy as np\n",
        "import pandas as pd\n",
        "import time"
      ],
      "execution_count": 3,
      "outputs": []
    },
    {
      "cell_type": "code",
      "metadata": {
        "id": "6Oh714_-z1Ia",
        "colab_type": "code",
        "colab": {
          "base_uri": "https://localhost:8080/",
          "height": 153
        },
        "outputId": "1f74e55a-2a35-45c4-bfd5-5cd10d29ff82"
      },
      "source": [
        "!git clone https://github.com/ucfilho/Raianars_July_2020 #clonar do Github\n",
        "%cd Raianars_July_2020"
      ],
      "execution_count": 4,
      "outputs": [
        {
          "output_type": "stream",
          "text": [
            "Cloning into 'Raianars_July_2020'...\n",
            "remote: Enumerating objects: 9, done.\u001b[K\n",
            "remote: Counting objects: 100% (9/9), done.\u001b[K\n",
            "remote: Compressing objects: 100% (9/9), done.\u001b[K\n",
            "remote: Total 132 (delta 3), reused 0 (delta 0), pack-reused 123\u001b[K\n",
            "Receiving objects: 100% (132/132), 200.33 KiB | 5.56 MiB/s, done.\n",
            "Resolving deltas: 100% (65/65), done.\n",
            "/content/Raianars_July_2020\n"
          ],
          "name": "stdout"
        }
      ]
    },
    {
      "cell_type": "code",
      "metadata": {
        "id": "LnzftXkky78A",
        "colab_type": "code",
        "colab": {}
      },
      "source": [
        "import Go2Ann\n",
        "import de_soma_Insight\n",
        "import de_bounds_matriz\n",
        "from AvaliaX import AvaliaX\n",
        "from GeraIndices import GeraIndices"
      ],
      "execution_count": 5,
      "outputs": []
    },
    {
      "cell_type": "code",
      "metadata": {
        "id": "HNW92728z7fR",
        "colab_type": "code",
        "colab": {}
      },
      "source": [
        "import Function\n",
        "import Go2MinMax"
      ],
      "execution_count": 6,
      "outputs": []
    },
    {
      "cell_type": "code",
      "metadata": {
        "id": "T_C-e7aH0CZH",
        "colab_type": "code",
        "colab": {}
      },
      "source": [
        "ITE=2000 #10 # PONTOS quantas vezes vai alteral NPAR \n",
        "NPAR=100 # NUMBER OF PARTICLES\n",
        "dim=30\n",
        "RUNS=50\n",
        "fchoice='Michalewicz'  #MS\n",
        "Fun=Function.Michalewicz\n",
        "\n",
        "MIN,MAX=Go2MinMax.Intervalo(dim,fchoice)\n",
        "bounds = [(0,0)]*dim\n",
        "\n",
        "for i in range(dim):\n",
        "  bounds[i] = (MIN[i],MAX[i])\n",
        "\n",
        "start_time = time.time() "
      ],
      "execution_count": 7,
      "outputs": []
    },
    {
      "cell_type": "code",
      "metadata": {
        "id": "Nqv5qp9yzQEw",
        "colab_type": "code",
        "colab": {}
      },
      "source": [
        "############################### INPUT INFORMATION (FRANNK)\n",
        "Fc=0.1 # fator de correcao parametros da ANN\n",
        "its=1 #10 # quantas vezes vai usar o NPAR antes de alterar de novo\n",
        "mut=0.5\n",
        "crossp=0.5\n",
        "Fi=mut;CRi=crossp;# para impressão\n",
        "PAR=len(MAX) #NUM DE PARAMETROS A SER OTIMIZADOS"
      ],
      "execution_count": 8,
      "outputs": []
    },
    {
      "cell_type": "code",
      "metadata": {
        "id": "q77YsFa82zFU",
        "colab_type": "code",
        "colab": {
          "base_uri": "https://localhost:8080/",
          "height": 289
        },
        "outputId": "144cb5a8-b92e-4742-e606-f74fd16ee58d"
      },
      "source": [
        "# JADE\n",
        "algorithm = pyade.jso\n",
        "BEST_AGENTS=[]\n",
        "for i in range(RUNS):\n",
        "  ANSWER_AGENTS=[]\n",
        "  solver = pyfde.JADE(Fun, n_dim=dim, n_pop=NPAR, limits=bounds, minimize=True)\n",
        "  solver.p = 0.05\n",
        "  solver.c = 0.1\n",
        "  solver.cr = 0.5\n",
        "  solver.f = 0.5\n",
        "  best, fit = solver.run(n_it=ITE)\n",
        "  for x in best:\n",
        "    ANSWER_AGENTS.append(x)\n",
        "  ANSWER_AGENTS.append(fit)\n",
        "  BEST_AGENTS.append(ANSWER_AGENTS)\n",
        "BEST_AGENTS=np.array(BEST_AGENTS)\n",
        "TIME = (time.time() - start_time)/RUNS\n",
        "BEST_AGENTS=np.array(BEST_AGENTS)\n",
        "BEST_AGENTS_ST= BEST_AGENTS[BEST_AGENTS[:,-1].argsort()]\n",
        "BEST=BEST_AGENTS_ST[0]\n",
        "WORSE=BEST_AGENTS_ST[-1]\n",
        "MEAN=np.mean(BEST_AGENTS,axis=0)\n",
        "MAXFO=BEST_AGENTS[:,-1].max()\n",
        "MINFO=BEST_AGENTS[:,-1].min()\n",
        "STD=BEST_AGENTS[:,-1].std()\n",
        "nome='JADE_Fo-'+str(0)+'_CRo-'+str(0)\n",
        "print(nome,'NPAR',NPAR,'Iterações=',ITE,'Dim=',dim ,\"Min/Max=\",MIN[0],\"/\",MAX[0],'_',Fun.__name__)\n",
        "print( '\\n')\n",
        "print('MÉDIA: ',MEAN[-1])\n",
        "print('MIN __:',MINFO)\n",
        "print('MAX__: ',MAXFO)\n",
        "print('STD __:',STD)\n",
        "print(\"Tempo Médio= %.3f segundos ---\" % (TIME))\n",
        "print(RUNS,'Rodadas') \n",
        "print()\n",
        "print('BEST: ',BEST)"
      ],
      "execution_count": 9,
      "outputs": [
        {
          "output_type": "stream",
          "text": [
            "JADE_Fo-0_CRo-0 NPAR 100 Iterações= 2000 Dim= 30 Min/Max= 0 / 3.141592653589793 _ Michalewicz\n",
            "\n",
            "\n",
            "MÉDIA:  28.627894989362826\n",
            "MIN __: 28.60815788893304\n",
            "MAX__:  28.63064359368492\n",
            "STD __: 0.003624795866950667\n",
            "Tempo Médio= 5.201 segundos ---\n",
            "50 Rodadas\n",
            "\n",
            "BEST:  [ 0.24552526  2.20290554  1.57079227  1.28498198  1.92303825  1.7204549\n",
            "  1.57079733  1.4544149   1.75597181  1.65569882  1.57078689  1.49772668\n",
            "  1.69661817  1.62996145  1.57065422  1.51754557  1.66610167  1.6169939\n",
            "  1.57050547  1.52850146  1.64746169  1.60782939  1.57101961  1.53605327\n",
            "  1.63424448  1.47353487  1.57101741  1.41786517  1.62565496  1.59739022\n",
            " 28.60815789]\n"
          ],
          "name": "stdout"
        }
      ]
    },
    {
      "cell_type": "code",
      "metadata": {
        "id": "gXdUgSStzppX",
        "colab_type": "code",
        "colab": {}
      },
      "source": [
        "# FRANNK START HERE !!!!!"
      ],
      "execution_count": 10,
      "outputs": []
    },
    {
      "cell_type": "code",
      "metadata": {
        "id": "raWOfeJBztuj",
        "colab_type": "code",
        "colab": {
          "base_uri": "https://localhost:8080/",
          "height": 136
        },
        "outputId": "1fb1d6b1-7f76-466f-9f3c-52360225dbe8"
      },
      "source": [
        "!git clone https://github.com/ucfilho/ANN_read_matrix #clonar do Github\n",
        "%cd ANN_read_matrix"
      ],
      "execution_count": 11,
      "outputs": [
        {
          "output_type": "stream",
          "text": [
            "Cloning into 'ANN_read_matrix'...\n",
            "remote: Enumerating objects: 20, done.\u001b[K\n",
            "remote: Counting objects:   5% (1/20)\u001b[K\rremote: Counting objects:  10% (2/20)\u001b[K\rremote: Counting objects:  15% (3/20)\u001b[K\rremote: Counting objects:  20% (4/20)\u001b[K\rremote: Counting objects:  25% (5/20)\u001b[K\rremote: Counting objects:  30% (6/20)\u001b[K\rremote: Counting objects:  35% (7/20)\u001b[K\rremote: Counting objects:  40% (8/20)\u001b[K\rremote: Counting objects:  45% (9/20)\u001b[K\rremote: Counting objects:  50% (10/20)\u001b[K\rremote: Counting objects:  55% (11/20)\u001b[K\rremote: Counting objects:  60% (12/20)\u001b[K\rremote: Counting objects:  65% (13/20)\u001b[K\rremote: Counting objects:  70% (14/20)\u001b[K\rremote: Counting objects:  75% (15/20)\u001b[K\rremote: Counting objects:  80% (16/20)\u001b[K\rremote: Counting objects:  85% (17/20)\u001b[K\rremote: Counting objects:  90% (18/20)\u001b[K\rremote: Counting objects:  95% (19/20)\u001b[K\rremote: Counting objects: 100% (20/20)\u001b[K\rremote: Counting objects: 100% (20/20), done.\u001b[K\n",
            "remote: Compressing objects:   5% (1/18)\u001b[K\rremote: Compressing objects:  11% (2/18)\u001b[K\rremote: Compressing objects:  16% (3/18)\u001b[K\rremote: Compressing objects:  22% (4/18)\u001b[K\rremote: Compressing objects:  27% (5/18)\u001b[K\rremote: Compressing objects:  33% (6/18)\u001b[K\rremote: Compressing objects:  38% (7/18)\u001b[K\rremote: Compressing objects:  44% (8/18)\u001b[K\rremote: Compressing objects:  50% (9/18)\u001b[K\rremote: Compressing objects:  55% (10/18)\u001b[K\rremote: Compressing objects:  61% (11/18)\u001b[K\rremote: Compressing objects:  66% (12/18)\u001b[K\rremote: Compressing objects:  72% (13/18)\u001b[K\rremote: Compressing objects:  77% (14/18)\u001b[K\rremote: Compressing objects:  83% (15/18)\u001b[K\rremote: Compressing objects:  88% (16/18)\u001b[K\rremote: Compressing objects:  94% (17/18)\u001b[K\rremote: Compressing objects: 100% (18/18)\u001b[K\rremote: Compressing objects: 100% (18/18), done.\u001b[K\n",
            "remote: Total 20 (delta 5), reused 0 (delta 0), pack-reused 0\u001b[K\n",
            "Unpacking objects:   5% (1/20)   \rUnpacking objects:  10% (2/20)   \rUnpacking objects:  15% (3/20)   \rUnpacking objects:  20% (4/20)   \rUnpacking objects:  25% (5/20)   \rUnpacking objects:  30% (6/20)   \rUnpacking objects:  35% (7/20)   \rUnpacking objects:  40% (8/20)   \rUnpacking objects:  45% (9/20)   \rUnpacking objects:  50% (10/20)   \rUnpacking objects:  55% (11/20)   \rUnpacking objects:  60% (12/20)   \rUnpacking objects:  65% (13/20)   \rUnpacking objects:  70% (14/20)   \rUnpacking objects:  75% (15/20)   \rUnpacking objects:  80% (16/20)   \rUnpacking objects:  85% (17/20)   \rUnpacking objects:  90% (18/20)   \rUnpacking objects:  95% (19/20)   \rUnpacking objects: 100% (20/20)   \rUnpacking objects: 100% (20/20), done.\n",
            "/content/Raianars_July_2020/ANN_read_matrix\n"
          ],
          "name": "stdout"
        }
      ]
    },
    {
      "cell_type": "code",
      "metadata": {
        "id": "N2lyPfivzwGv",
        "colab_type": "code",
        "colab": {
          "base_uri": "https://localhost:8080/",
          "height": 1000
        },
        "outputId": "8eaf4939-1879-4408-8de4-f310fd563375"
      },
      "source": [
        "ANN_F=pd.read_csv('ANN_INSIGHT_Valor_F.csv')\n",
        "ANN_CR=pd.read_csv('ANN_INSIGHT_CR.csv')\n",
        "syn0_F,syn1_F,X_max_F,X_min_F=Go2Ann.GetMatriz(ANN_F)\n",
        "syn0_CR,syn1_CR,X_max_CR,X_min_CR=Go2Ann.GetMatriz(ANN_CR)\n",
        "fields = ['DI RELATIVO','FRAC Its','Fo','CRo']\n",
        "\n",
        "#TOTAL=7*dim*its*ITE\n",
        "TOTAL=10*dim*its*ITE\n",
        "TOTAL=int(TOTAL/2)   # CONFERIR SE ESTE EH O MELHOR LUGAR\n",
        "\n",
        "dimensions=len(MAX)\n",
        "start_time = time.time() #INICIALIZA CONTAGEM DO TEMPO\n",
        "\n",
        "MAX_P=np.zeros(ITE) # ATENCAO para variar F e Cr MAX_P passa a ser 3 vezes maior\n",
        "MIN_P=np.zeros(ITE) # ATENCAO para variar F e Cr MIN_P passa a ser 3 vezes maior\n",
        "\n",
        "for i in range(dim):\n",
        "  MAX_P[i]=MAX[i] \n",
        "  MIN_P[i]=MIN[i]\n",
        "\n",
        "rodadas=1\n",
        "for i in range(rodadas):\n",
        "  SOMA=0\n",
        "  pop = np.random.rand(NPAR, dimensions)\n",
        "  diff=np.zeros(PAR)\n",
        "  for ii in range(PAR):\n",
        "    diff[ii] = MAX[ii]-MIN[ii]\n",
        "  X = MIN + pop * diff\n",
        "    \n",
        "  PONTOS=ITE # DIVISOES DA POPULACAO\n",
        "start_time = time.time()\n",
        "BEST_AGENTS=[]\n",
        "MAT_stat=[]\n",
        "for i in range(RUNS):\n",
        "    MAT=[] \n",
        "    mut=Fi\n",
        "    crossp=CRi\n",
        "    SOMA=0\n",
        "    SOMAf=0\n",
        "    start_ite = time.time()\n",
        "    delta_time=(start_ite-start_time)/60\n",
        "    print('ite=',i,'time=',delta_time)\n",
        "    pop = np.random.rand(NPAR, dim)\n",
        "    diff=np.zeros(PAR)\n",
        "    for ii in range(PAR):\n",
        "      diff[ii] = MAX[ii]-MIN[ii]\n",
        "    X = MIN + pop * diff\n",
        "    Xf = MIN + pop * diff\n",
        "    \n",
        "    DIo=1e99\n",
        "  \n",
        "    CRo=crossp;Fo=mut;\n",
        "    Fitness = np.asarray([Fun(ind) for ind in X])\n",
        "\n",
        "    XY,BEST_XY,BESTo,FOBESTo=AvaliaX(X,Fitness)\n",
        "    nrow,ncol=X.shape\n",
        "\n",
        "    QUANT=17;MAT_INDo=np.zeros((1,QUANT)); # quantos indices esta fazendo\n",
        "    MAT_INDo[0,5]=nrow  # VALOR NP\n",
        "    MAT_INDo[0,6]=Fo    # VALOR Fo   \n",
        "    MAT_INDo[0,7]=CRo   # VALOR CRo\n",
        "  \n",
        "    MAT_INDo=GeraIndices(X,BESTo,FOBESTo,DIo,MAT_INDo,SOMA,TOTAL,syn0_F,\n",
        "                        syn1_F,X_max_F,X_min_F,syn0_CR,syn1_CR,X_max_CR,\n",
        "                        X_min_CR,Fc,fields,Fun)\n",
        "  \n",
        "    DIo=np.copy(MAT_INDo[0,0])\n",
        "    MAT_INDo[0,15]=Fo    # VALOR Fo   \n",
        "    MAT_INDo[0,16]=CRo   # VALOR CRo\n",
        "    #ind_crossp=ITE-1\n",
        "\n",
        "    \n",
        "    for k in range(ITE):\n",
        "      X,BEST,FOBEST,XY,BEST_XY,SOMA= de_soma_Insight.de(MAX,MIN, mut, crossp,NPAR,its,Fun,X,SOMA,TOTAL)\n",
        "      #Xf,BESTf,FOBESTf,XYf,BEST_XYf,SOMAf= de_soma_Insight.de(MAX,MIN, Fi, CRi, NPAR,its,Fun,Xf,SOMAf,TOTAL)\n",
        "\n",
        "      \n",
        "      MAT_IND=GeraIndices(X,BESTo,FOBESTo,DIo,MAT_INDo,SOMA,TOTAL,syn0_F,\n",
        "                          syn1_F,X_max_F,X_min_F,syn0_CR,syn1_CR,X_max_CR,\n",
        "                          X_min_CR,Fc,fields,Fun)\n",
        "    \n",
        "      BESTo=np.copy(BEST);FOBESTo=np.copy(FOBEST);\n",
        "      MAT.append(MAT_IND.ravel())\n",
        "    \n",
        "      MAT_INDo[0,6]=MAT_IND[0,15]   # VALOR Fo   \n",
        "      MAT_INDo[0,7]=MAT_IND[0,16]   # VALOR CRo\n",
        "      mut=MAT_IND[0,15]\n",
        "      crossp=MAT_IND[0,16]\n",
        "\n",
        "      Fitness = np.asarray([Fun(ind) for ind in X])\n",
        "      #Fitnessf = np.asarray([Fun(ind) for ind in Xf])\n",
        "      Maior=np.argmax(Fitness)\n",
        "      #Maiorf=np.argmax(Fitnessf)\n",
        "      Menor=np.argmin(Fitness)\n",
        "      #Menorf=np.argmin(Fitnessf)\n",
        "\n",
        "      #X[Maior,:]=np.copy(Xf[Menorf,:])\n",
        "      #Xf[Maiorf,:]=np.copy(X[Menor,:])\n",
        "      \n",
        "    BEST_AGENTS.append(BEST_XY)\n",
        "    MAT_stat.append(MAT)\n",
        "    #print(\"GlobalParam e Solucao:\", BEST,\"Funcao=\",FOBEST)\n",
        "    \n",
        "############################## Cálculo dos Parâmetros de Avaliação   \n",
        "TIME = (time.time() - start_time)/RUNS\n",
        "BEST_AGENTS=np.array(BEST_AGENTS)\n",
        "BEST_AGENTS_ST= BEST_AGENTS[BEST_AGENTS[:,-1].argsort()]\n",
        "BEST=BEST_AGENTS_ST[0]\n",
        "WORSE=BEST_AGENTS_ST[-1]\n",
        "MEAN=np.mean(BEST_AGENTS,axis=0)\n",
        "MAXFO=BEST_AGENTS[:,-1].max()\n",
        "MINFO=BEST_AGENTS[:,-1].min()\n",
        "STD=BEST_AGENTS[:,-1].std()\n",
        "\n",
        "print()\n",
        "nome='_ANN_Div3x4_Fo-'+str(Fi)+'_CRo-'+str(CRi)+'_D-'+str(dim)+'_Interv-'+str(ITE)\n",
        "print('DE_POP_VAR_F_CR','TOTAL=',TOTAL,'Iterações=',ITE*its,'Dim=', PAR,\"Min/Max=\",MIN[0],\"/\",MAX[0],'_',Fun.__name__)\n",
        "print(nome, '\\n')\n",
        "print('MÉDIA: ',MEAN[-1])\n",
        "print('MIN __:',MINFO)\n",
        "print('MAX__: ',MAXFO)\n",
        "print('STD __:',STD)\n",
        "print(\"Tempo Médio= %.3f segundos ---\" % (TIME))\n",
        "print(RUNS,'Rodadas') \n",
        "print()\n",
        "print('BEST: ',BEST)"
      ],
      "execution_count": 12,
      "outputs": [
        {
          "output_type": "stream",
          "text": [
            "ite= 0 time= 8.141994476318359e-06\n",
            "ite= 1 time= 2.5316229542096456\n",
            "ite= 2 time= 5.05416522026062\n",
            "ite= 3 time= 7.590906393527985\n",
            "ite= 4 time= 10.120298822720846\n",
            "ite= 5 time= 12.680719061692555\n",
            "ite= 6 time= 15.19453994433085\n",
            "ite= 7 time= 17.7036075035731\n",
            "ite= 8 time= 20.220977580547334\n",
            "ite= 9 time= 22.749961308638255\n",
            "ite= 10 time= 25.255831241607666\n",
            "ite= 11 time= 27.768452509244284\n",
            "ite= 12 time= 30.278625949223837\n",
            "ite= 13 time= 32.80631441275279\n",
            "ite= 14 time= 35.32323322296143\n",
            "ite= 15 time= 37.833934430281325\n",
            "ite= 16 time= 40.34464465777079\n",
            "ite= 17 time= 42.876481314500175\n",
            "ite= 18 time= 45.3919267932574\n",
            "ite= 19 time= 47.913159024715426\n",
            "ite= 20 time= 50.446821955839795\n",
            "ite= 21 time= 52.97795512676239\n",
            "ite= 22 time= 55.50954111417135\n",
            "ite= 23 time= 58.01742662588755\n",
            "ite= 24 time= 60.535324505964915\n",
            "ite= 25 time= 63.0669007062912\n",
            "ite= 26 time= 65.57923107147217\n",
            "ite= 27 time= 68.09429999192555\n",
            "ite= 28 time= 70.59605296850205\n",
            "ite= 29 time= 73.12018119891485\n",
            "ite= 30 time= 75.62582886616389\n",
            "ite= 31 time= 78.15383979082108\n",
            "ite= 32 time= 80.66757981379827\n",
            "ite= 33 time= 83.20671965678532\n",
            "ite= 34 time= 85.71614247163137\n",
            "ite= 35 time= 88.2121965487798\n",
            "ite= 36 time= 90.72267558177312\n",
            "ite= 37 time= 93.27437882820765\n",
            "ite= 38 time= 95.79911175568898\n",
            "ite= 39 time= 98.32107240756353\n",
            "ite= 40 time= 100.84580487807592\n",
            "ite= 41 time= 103.37964332501093\n",
            "ite= 42 time= 105.87950598398844\n",
            "ite= 43 time= 108.39992283980051\n",
            "ite= 44 time= 110.92114029328029\n",
            "ite= 45 time= 113.4705622514089\n",
            "ite= 46 time= 116.05906913280486\n",
            "ite= 47 time= 118.5660273830096\n",
            "ite= 48 time= 121.0710907737414\n",
            "ite= 49 time= 123.58410833279292\n",
            "\n",
            "DE_POP_VAR_F_CR TOTAL= 300000 Iterações= 2000 Dim= 30 Min/Max= 0 / 3.141592653589793 _ Michalewicz\n",
            "_ANN_Div3x4_Fo-0.5_CRo-0.5_D-30_Interv-2000 \n",
            "\n",
            "MÉDIA:  -28.630662873973517\n",
            "MIN __: -28.630883850324416\n",
            "MAX__:  -28.625972702530774\n",
            "STD __: 0.0008920259990756346\n",
            "Tempo Médio= 151.412 segundos ---\n",
            "50 Rodadas\n",
            "\n",
            "BEST:  [  1.89020571   2.20290552   1.57079633   1.28499157   1.92305847\n",
            "   1.72046977   1.57079633   1.45441397   1.75608652   1.65571742\n",
            "   1.57079633   1.4977288    1.6966163    1.63007608   1.57079633\n",
            "   1.51754611   1.66606451   1.61632864   1.57079633   1.528907\n",
            "   1.64745636   1.6077573    1.57079633   1.53627253   1.63493151\n",
            "   1.60190183   1.57079633   1.54143515   1.62592538   1.59764795\n",
            " -28.63088385]\n"
          ],
          "name": "stdout"
        }
      ]
    },
    {
      "cell_type": "code",
      "metadata": {
        "id": "egkWFpw6GiNo",
        "colab_type": "code",
        "colab": {
          "base_uri": "https://localhost:8080/",
          "height": 1000
        },
        "outputId": "a6257a53-42c7-481d-96db-10a52e31794b"
      },
      "source": [
        "#DE_ tradicional\n",
        "\n",
        "!git clone https://github.com/ucfilho/Raianars_July_2020 #clonar do Github\n",
        "%cd Raianars_July_2020\n",
        "\n",
        "mut=0.5\n",
        "crossp=0.5\n",
        "\n",
        "SOMA=0\n",
        "start_time = time.time()\n",
        "BEST_AGENTS=[]\n",
        "MAT_stat=[]\n",
        "\n",
        "for i in range(RUNS):\n",
        "\n",
        "    pop = np.random.rand(NPAR, dim)\n",
        "    diff=np.zeros(dim)\n",
        "    for ii in range(dim):\n",
        "      diff[ii] = MAX[ii]-MIN[ii]\n",
        "    X = MIN + pop * diff\n",
        "\n",
        "    SOMA=0\n",
        "\n",
        "    for k in range(ITE):\n",
        "      X,BEST,FOBEST,XY,BEST_XY,SOMA= de_soma_Insight.de(MAX,MIN, mut, crossp,dim,its,Fun,X,SOMA,TOTAL)\n",
        "\n",
        "    start_run = (time.time()-start_time)/60\n",
        "    print('run=',i,'total=50','Fobj=',FOBEST,'Time=',start_run)  \n",
        "    BEST_AGENTS.append(BEST_XY)"
      ],
      "execution_count": 13,
      "outputs": [
        {
          "output_type": "stream",
          "text": [
            "Cloning into 'Raianars_July_2020'...\n",
            "remote: Enumerating objects: 12, done.\u001b[K\n",
            "remote: Counting objects:   8% (1/12)\u001b[K\rremote: Counting objects:  16% (2/12)\u001b[K\rremote: Counting objects:  25% (3/12)\u001b[K\rremote: Counting objects:  33% (4/12)\u001b[K\rremote: Counting objects:  41% (5/12)\u001b[K\rremote: Counting objects:  50% (6/12)\u001b[K\rremote: Counting objects:  58% (7/12)\u001b[K\rremote: Counting objects:  66% (8/12)\u001b[K\rremote: Counting objects:  75% (9/12)\u001b[K\rremote: Counting objects:  83% (10/12)\u001b[K\rremote: Counting objects:  91% (11/12)\u001b[K\rremote: Counting objects: 100% (12/12)\u001b[K\rremote: Counting objects: 100% (12/12), done.\u001b[K\n",
            "remote: Compressing objects:   8% (1/12)\u001b[K\rremote: Compressing objects:  16% (2/12)\u001b[K\rremote: Compressing objects:  25% (3/12)\u001b[K\rremote: Compressing objects:  33% (4/12)\u001b[K\rremote: Compressing objects:  41% (5/12)\u001b[K\rremote: Compressing objects:  50% (6/12)\u001b[K\rremote: Compressing objects:  58% (7/12)\u001b[K\rremote: Compressing objects:  66% (8/12)\u001b[K\rremote: Compressing objects:  75% (9/12)\u001b[K\rremote: Compressing objects:  83% (10/12)\u001b[K\rremote: Compressing objects:  91% (11/12)\u001b[K\rremote: Compressing objects: 100% (12/12)\u001b[K\rremote: Compressing objects: 100% (12/12), done.\u001b[K\n",
            "Receiving objects:   0% (1/135)   \rReceiving objects:   1% (2/135)   \rReceiving objects:   2% (3/135)   \rReceiving objects:   3% (5/135)   \rReceiving objects:   4% (6/135)   \rReceiving objects:   5% (7/135)   \rReceiving objects:   6% (9/135)   \rReceiving objects:   7% (10/135)   \rReceiving objects:   8% (11/135)   \rReceiving objects:   9% (13/135)   \rReceiving objects:  10% (14/135)   \rReceiving objects:  11% (15/135)   \rReceiving objects:  12% (17/135)   \rReceiving objects:  13% (18/135)   \rReceiving objects:  14% (19/135)   \rReceiving objects:  15% (21/135)   \rReceiving objects:  16% (22/135)   \rReceiving objects:  17% (23/135)   \rReceiving objects:  18% (25/135)   \rReceiving objects:  19% (26/135)   \rReceiving objects:  20% (27/135)   \rReceiving objects:  21% (29/135)   \rReceiving objects:  22% (30/135)   \rReceiving objects:  23% (32/135)   \rReceiving objects:  24% (33/135)   \rReceiving objects:  25% (34/135)   \rReceiving objects:  26% (36/135)   \rReceiving objects:  27% (37/135)   \rReceiving objects:  28% (38/135)   \rReceiving objects:  29% (40/135)   \rReceiving objects:  30% (41/135)   \rReceiving objects:  31% (42/135)   \rReceiving objects:  32% (44/135)   \rReceiving objects:  33% (45/135)   \rReceiving objects:  34% (46/135)   \rReceiving objects:  35% (48/135)   \rReceiving objects:  36% (49/135)   \rReceiving objects:  37% (50/135)   \rremote: Total 135 (delta 5), reused 0 (delta 0), pack-reused 123\u001b[K\n",
            "Receiving objects:  38% (52/135)   \rReceiving objects:  39% (53/135)   \rReceiving objects:  40% (54/135)   \rReceiving objects:  41% (56/135)   \rReceiving objects:  42% (57/135)   \rReceiving objects:  43% (59/135)   \rReceiving objects:  44% (60/135)   \rReceiving objects:  45% (61/135)   \rReceiving objects:  46% (63/135)   \rReceiving objects:  47% (64/135)   \rReceiving objects:  48% (65/135)   \rReceiving objects:  49% (67/135)   \rReceiving objects:  50% (68/135)   \rReceiving objects:  51% (69/135)   \rReceiving objects:  52% (71/135)   \rReceiving objects:  53% (72/135)   \rReceiving objects:  54% (73/135)   \rReceiving objects:  55% (75/135)   \rReceiving objects:  56% (76/135)   \rReceiving objects:  57% (77/135)   \rReceiving objects:  58% (79/135)   \rReceiving objects:  59% (80/135)   \rReceiving objects:  60% (81/135)   \rReceiving objects:  61% (83/135)   \rReceiving objects:  62% (84/135)   \rReceiving objects:  63% (86/135)   \rReceiving objects:  64% (87/135)   \rReceiving objects:  65% (88/135)   \rReceiving objects:  66% (90/135)   \rReceiving objects:  67% (91/135)   \rReceiving objects:  68% (92/135)   \rReceiving objects:  69% (94/135)   \rReceiving objects:  70% (95/135)   \rReceiving objects:  71% (96/135)   \rReceiving objects:  72% (98/135)   \rReceiving objects:  73% (99/135)   \rReceiving objects:  74% (100/135)   \rReceiving objects:  75% (102/135)   \rReceiving objects:  76% (103/135)   \rReceiving objects:  77% (104/135)   \rReceiving objects:  78% (106/135)   \rReceiving objects:  79% (107/135)   \rReceiving objects:  80% (108/135)   \rReceiving objects:  81% (110/135)   \rReceiving objects:  82% (111/135)   \rReceiving objects:  83% (113/135)   \rReceiving objects:  84% (114/135)   \rReceiving objects:  85% (115/135)   \rReceiving objects:  86% (117/135)   \rReceiving objects:  87% (118/135)   \rReceiving objects:  88% (119/135)   \rReceiving objects:  89% (121/135)   \rReceiving objects:  90% (122/135)   \rReceiving objects:  91% (123/135)   \rReceiving objects:  92% (125/135)   \rReceiving objects:  93% (126/135)   \rReceiving objects:  94% (127/135)   \rReceiving objects:  95% (129/135)   \rReceiving objects:  96% (130/135)   \rReceiving objects:  97% (131/135)   \rReceiving objects:  98% (133/135)   \rReceiving objects:  99% (134/135)   \rReceiving objects: 100% (135/135)   \rReceiving objects: 100% (135/135), 200.94 KiB | 8.04 MiB/s, done.\n",
            "Resolving deltas:   0% (0/67)   \rResolving deltas:   8% (6/67)   \rResolving deltas:  59% (40/67)   \rResolving deltas:  77% (52/67)   \rResolving deltas:  79% (53/67)   \rResolving deltas:  80% (54/67)   \rResolving deltas:  88% (59/67)   \rResolving deltas:  94% (63/67)   \rResolving deltas:  98% (66/67)   \rResolving deltas: 100% (67/67)   \rResolving deltas: 100% (67/67), done.\n",
            "/content/Raianars_July_2020/ANN_read_matrix/Raianars_July_2020\n",
            "run= 0 total=50 Fobj= -17.559372859980343 Time= 0.3916960080464681\n",
            "run= 1 total=50 Fobj= -18.111153747705874 Time= 0.7812318603197733\n",
            "run= 2 total=50 Fobj= -18.90372889961194 Time= 1.1753339091936748\n",
            "run= 3 total=50 Fobj= -18.02022710256987 Time= 1.5672532399495442\n",
            "run= 4 total=50 Fobj= -18.09066007530036 Time= 1.958463966846466\n",
            "run= 5 total=50 Fobj= -18.02918379941046 Time= 2.351280144850413\n",
            "run= 6 total=50 Fobj= -19.585492350831057 Time= 2.7429209033648174\n",
            "run= 7 total=50 Fobj= -18.0294389934213 Time= 3.1384888648986817\n",
            "run= 8 total=50 Fobj= -17.434089049470753 Time= 3.532960657278697\n",
            "run= 9 total=50 Fobj= -17.38895894746382 Time= 3.929003047943115\n",
            "run= 10 total=50 Fobj= -17.53902946810965 Time= 4.322503272692362\n",
            "run= 11 total=50 Fobj= -18.725540510118808 Time= 4.713981282711029\n",
            "run= 12 total=50 Fobj= -19.08832742947929 Time= 5.106017871697744\n",
            "run= 13 total=50 Fobj= -19.853084968305414 Time= 5.498344814777374\n",
            "run= 14 total=50 Fobj= -17.80493812942877 Time= 5.889811849594116\n",
            "run= 15 total=50 Fobj= -17.448784683144765 Time= 6.281556204954783\n",
            "run= 16 total=50 Fobj= -19.63196823159884 Time= 6.673407467206319\n",
            "run= 17 total=50 Fobj= -18.022116479240843 Time= 7.064181673526764\n",
            "run= 18 total=50 Fobj= -17.632627686698566 Time= 7.455955390135447\n",
            "run= 19 total=50 Fobj= -19.58929457682135 Time= 7.924314967791239\n",
            "run= 20 total=50 Fobj= -17.808515405387027 Time= 8.32027926047643\n",
            "run= 21 total=50 Fobj= -18.02143367054687 Time= 8.709960373242696\n",
            "run= 22 total=50 Fobj= -19.852910948504054 Time= 9.09910159111023\n",
            "run= 23 total=50 Fobj= -18.128905302016246 Time= 9.489201041062673\n",
            "run= 24 total=50 Fobj= -18.739639298898254 Time= 9.880400824546815\n",
            "run= 25 total=50 Fobj= -17.7511746670499 Time= 10.270958038171132\n",
            "run= 26 total=50 Fobj= -19.20409759505719 Time= 10.661666278044382\n",
            "run= 27 total=50 Fobj= -17.52179366359559 Time= 11.055736509958903\n",
            "run= 28 total=50 Fobj= -17.824981912015648 Time= 11.446609417597452\n",
            "run= 29 total=50 Fobj= -18.255497653502562 Time= 11.838370684782664\n",
            "run= 30 total=50 Fobj= -17.87550599787931 Time= 12.230835835138956\n",
            "run= 31 total=50 Fobj= -17.524839940945746 Time= 12.622724950313568\n",
            "run= 32 total=50 Fobj= -18.073538633540043 Time= 13.01327447493871\n",
            "run= 33 total=50 Fobj= -17.413028007256685 Time= 13.409813006718954\n",
            "run= 34 total=50 Fobj= -17.14961767516433 Time= 13.80077292919159\n",
            "run= 35 total=50 Fobj= -19.33134180184053 Time= 14.191122015317282\n",
            "run= 36 total=50 Fobj= -17.812621062745645 Time= 14.580555061499277\n",
            "run= 37 total=50 Fobj= -17.16687425975004 Time= 14.971666487058004\n",
            "run= 38 total=50 Fobj= -18.094697543227507 Time= 15.362221240997314\n",
            "run= 39 total=50 Fobj= -17.64300693991279 Time= 15.752218226591745\n",
            "run= 40 total=50 Fobj= -17.713027431034998 Time= 16.143519647916158\n",
            "run= 41 total=50 Fobj= -17.944996607101505 Time= 16.535535577932993\n",
            "run= 42 total=50 Fobj= -17.137494445216664 Time= 16.928418997923533\n",
            "run= 43 total=50 Fobj= -17.82887177531652 Time= 17.321603914101917\n",
            "run= 44 total=50 Fobj= -18.37992889975713 Time= 17.71612559556961\n",
            "run= 45 total=50 Fobj= -18.01845711402219 Time= 18.10873362223307\n",
            "run= 46 total=50 Fobj= -18.621116268139723 Time= 18.501237952709197\n",
            "run= 47 total=50 Fobj= -18.62888065683627 Time= 18.900093575318653\n",
            "run= 48 total=50 Fobj= -17.9865564036922 Time= 19.2915753920873\n",
            "run= 49 total=50 Fobj= -19.311707603190374 Time= 19.682015343507132\n"
          ],
          "name": "stdout"
        }
      ]
    },
    {
      "cell_type": "code",
      "metadata": {
        "id": "3W8R6htAHO63",
        "colab_type": "code",
        "colab": {
          "base_uri": "https://localhost:8080/",
          "height": 306
        },
        "outputId": "4ff14b92-ceff-4fb6-be00-604b3cfdd3d0"
      },
      "source": [
        "############################## Cálculo dos Parâmetros de Avaliação   \n",
        "TIME = (time.time() - start_time)/RUNS\n",
        "BEST_AGENTS=np.array(BEST_AGENTS)\n",
        "BEST_AGENTS_ST= BEST_AGENTS[BEST_AGENTS[:,-1].argsort()]\n",
        "BEST=BEST_AGENTS_ST[0]\n",
        "WORSE=BEST_AGENTS_ST[-1]\n",
        "MEAN=np.mean(BEST_AGENTS,axis=0)\n",
        "MAXFO=BEST_AGENTS[:,-1].max()\n",
        "MINFO=BEST_AGENTS[:,-1].min()\n",
        "STD=BEST_AGENTS[:,-1].std()\n",
        "\n",
        "nome='DE_STAT_Fo-'+str(mut)+'_CRo-'+str(crossp)+'_D-'+str(dim)+'_Interv-'+str(ITE)\n",
        "print('DE_','TOTAL=',TOTAL,'Iterações=',ITE*its,'Dim=', dim,\"Min/Max=\",MIN[0],\"/\",MAX[0],'_',Fun.__name__)\n",
        "print(nome, '\\n')\n",
        "#print('BEST: ',BEST)\n",
        "#print('MÉDIA: ',MEAN)\n",
        "print('MÉDIA: ',MEAN[-1])\n",
        "print('MIN __:',MINFO)\n",
        "print('MAX__: ',MAXFO)\n",
        "print('STD __:',STD)\n",
        "print(\"Tempo Médio= %.3f segundos ---\" % (TIME))\n",
        "print(RUNS,'Rodadas') \n",
        "print()\n",
        "print('BEST: ',BEST)"
      ],
      "execution_count": 14,
      "outputs": [
        {
          "output_type": "stream",
          "text": [
            "DE_ TOTAL= 300000 Iterações= 2000 Dim= 30 Min/Max= 0 / 3.141592653589793 _ Michalewicz\n",
            "DE_STAT_Fo-0.5_CRo-0.5_D-30_Interv-2000 \n",
            "\n",
            "MÉDIA:  -18.185061543437115\n",
            "MIN __: -19.853084968305414\n",
            "MAX__:  -17.137494445216664\n",
            "STD __: 0.7332204285392894\n",
            "Tempo Médio= 23.619 segundos ---\n",
            "50 Rodadas\n",
            "\n",
            "BEST:  [  1.6553457    2.22378514   1.58803959   1.23922313   1.93271468\n",
            "   2.72017377   1.54926705   1.47579466   1.76570186   2.22343581\n",
            "   1.87566479   1.16153604   1.22387454   1.38982571   0.\n",
            "   2.22365452   1.40353879   1.71260268   1.15660855   1.97672168\n",
            "   2.05429355   1.74291227   1.42167698   1.53216389   2.75463179\n",
            "   1.47866718   1.44445856   2.05234243   1.25841468   1.48378802\n",
            " -19.85308497]\n"
          ],
          "name": "stdout"
        }
      ]
    }
  ]
}