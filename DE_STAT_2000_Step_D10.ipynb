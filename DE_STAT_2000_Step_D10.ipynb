{
  "nbformat": 4,
  "nbformat_minor": 0,
  "metadata": {
    "accelerator": "GPU",
    "colab": {
      "name": "DE_STAT_2000_Step_D10.ipynb",
      "provenance": [],
      "collapsed_sections": [],
      "include_colab_link": true
    },
    "kernelspec": {
      "display_name": "Python 3",
      "language": "python",
      "name": "python3"
    },
    "language_info": {
      "codemirror_mode": {
        "name": "ipython",
        "version": 3
      },
      "file_extension": ".py",
      "mimetype": "text/x-python",
      "name": "python",
      "nbconvert_exporter": "python",
      "pygments_lexer": "ipython3",
      "version": "3.6.1"
    }
  },
  "cells": [
    {
      "cell_type": "markdown",
      "metadata": {
        "id": "view-in-github",
        "colab_type": "text"
      },
      "source": [
        "<a href=\"https://colab.research.google.com/github/RaianaSeixas/Paper-1-Final-Results/blob/master/DE_STAT_2000_Step_D10.ipynb\" target=\"_parent\"><img src=\"https://colab.research.google.com/assets/colab-badge.svg\" alt=\"Open In Colab\"/></a>"
      ]
    },
    {
      "cell_type": "code",
      "metadata": {
        "colab_type": "code",
        "id": "cG5nOUQ9Eucw",
        "colab": {}
      },
      "source": [
        "# JADE: Adaptive Differential Evolution with Optional External Archive"
      ],
      "execution_count": 1,
      "outputs": []
    },
    {
      "cell_type": "code",
      "metadata": {
        "colab_type": "code",
        "id": "v1OxgXboBKoG",
        "colab": {}
      },
      "source": [
        "import time\n",
        "import matplotlib.pyplot as plt\n",
        "import numpy as np\n",
        "from random import randint"
      ],
      "execution_count": 2,
      "outputs": []
    },
    {
      "cell_type": "code",
      "metadata": {
        "id": "qMRpE0dGULCI",
        "colab_type": "code",
        "colab": {
          "base_uri": "https://localhost:8080/",
          "height": 153
        },
        "outputId": "e6d7b02b-e61e-4d94-8cc7-e2b4cf2d279f"
      },
      "source": [
        "!git clone https://github.com/ucfilho/Raianars_July_2020 #clonar do Github\n",
        "%cd Raianars_July_2020"
      ],
      "execution_count": 3,
      "outputs": [
        {
          "output_type": "stream",
          "text": [
            "Cloning into 'Raianars_July_2020'...\n",
            "remote: Enumerating objects: 9, done.\u001b[K\n",
            "remote: Counting objects: 100% (9/9), done.\u001b[K\n",
            "remote: Compressing objects: 100% (9/9), done.\u001b[K\n",
            "remote: Total 132 (delta 3), reused 0 (delta 0), pack-reused 123\u001b[K\n",
            "Receiving objects: 100% (132/132), 200.33 KiB | 932.00 KiB/s, done.\n",
            "Resolving deltas: 100% (65/65), done.\n",
            "/content/Raianars_July_2020\n"
          ],
          "name": "stdout"
        }
      ]
    },
    {
      "cell_type": "code",
      "metadata": {
        "colab_type": "code",
        "id": "_E15mKFURR6O",
        "colab": {}
      },
      "source": [
        "import de_soma_Insight\n",
        "import de_bounds_matriz\n",
        "import Function\n",
        "import Go2MinMax\n",
        "from AvaliaX import AvaliaX\n",
        "\n",
        "\n",
        "############################### DADOS DE ENTRADA \n",
        "its=1 #10 # quantas vezes vai usar o NPAR antes de alterar de novo\n",
        "ITE=2000 #10 # PONTOS quantas vezes vai alteral NPAR \n",
        "NPAR=100 # NUMBER OF PARTICLES\n",
        "dim=10\n",
        "RUNS=50\n",
        "fchoice='Step' \n",
        "Fun=Function.Step\n",
        "\n",
        "mut=0.5\n",
        "crossp=0.5\n",
        "\n",
        "\n",
        "MIN,MAX=Go2MinMax.Intervalo(dim,fchoice)\n",
        "\n",
        "TOTAL=10*dim*its*ITE\n",
        "SOMA=0"
      ],
      "execution_count": 4,
      "outputs": []
    },
    {
      "cell_type": "code",
      "metadata": {
        "colab_type": "code",
        "id": "rnX8ttNopd1G",
        "colab": {
          "base_uri": "https://localhost:8080/",
          "height": 867
        },
        "outputId": "3f47390d-5fea-470e-a41d-d75fc8b4d92c"
      },
      "source": [
        "start_time = time.time()\n",
        "BEST_AGENTS=[]\n",
        "MAT_stat=[]\n",
        "\n",
        "for i in range(RUNS):\n",
        "\n",
        "    pop = np.random.rand(NPAR, dim)\n",
        "    diff=np.zeros(dim)\n",
        "    for ii in range(dim):\n",
        "      diff[ii] = MAX[ii]-MIN[ii]\n",
        "    X = MIN + pop * diff\n",
        "\n",
        "    SOMA=0\n",
        "\n",
        "    for k in range(ITE):\n",
        "      X,BEST,FOBEST,XY,BEST_XY,SOMA= de_soma_Insight.de(MAX,MIN, mut, crossp,dim,its,Fun,X,SOMA,TOTAL)\n",
        "\n",
        "    start_run = (time.time()-start_time)/60\n",
        "    print('run=',i,'total=50','Fobj=',FOBEST,'Time=',start_run)  \n",
        "    BEST_AGENTS.append(BEST_XY)"
      ],
      "execution_count": 5,
      "outputs": [
        {
          "output_type": "stream",
          "text": [
            "run= 0 total=50 Fobj= 1.7038198255506245 Time= 0.04343713124593099\n",
            "run= 1 total=50 Fobj= 2.2252292751515443 Time= 0.08603618144989014\n",
            "run= 2 total=50 Fobj= 0.0005719699960891967 Time= 0.12915503978729248\n",
            "run= 3 total=50 Fobj= 0.005347026707638572 Time= 0.1721943696339925\n",
            "run= 4 total=50 Fobj= 0.0003330707133206582 Time= 0.21483482917149863\n",
            "run= 5 total=50 Fobj= 2.0651161363348125 Time= 0.25823943614959716\n",
            "run= 6 total=50 Fobj= 0.12269928470045868 Time= 0.3014919638633728\n",
            "run= 7 total=50 Fobj= 265.68994986600967 Time= 0.3450728019078573\n",
            "run= 8 total=50 Fobj= 40.79210956722967 Time= 0.38803847630818683\n",
            "run= 9 total=50 Fobj= 0.007332800512648517 Time= 0.43085037072499593\n",
            "run= 10 total=50 Fobj= 67.94484340181182 Time= 0.4736386140187581\n",
            "run= 11 total=50 Fobj= 0.10675567358450554 Time= 0.5175661524136861\n",
            "run= 12 total=50 Fobj= 0.005976272455736893 Time= 0.560289982954661\n",
            "run= 13 total=50 Fobj= 2.2519748364543317 Time= 0.6032512267430623\n",
            "run= 14 total=50 Fobj= 30.73276155883969 Time= 0.6464125315348307\n",
            "run= 15 total=50 Fobj= 1.6132330271035054e-09 Time= 0.6888335347175598\n",
            "run= 16 total=50 Fobj= 4.1529645158827074e-06 Time= 0.7318114280700684\n",
            "run= 17 total=50 Fobj= 84.2241632987353 Time= 0.7750487804412842\n",
            "run= 18 total=50 Fobj= 8.177143888432676 Time= 0.8189181923866272\n",
            "run= 19 total=50 Fobj= 17.849733232624374 Time= 0.8617515007654826\n",
            "run= 20 total=50 Fobj= 1.4471289524854947 Time= 0.9052329222361247\n",
            "run= 21 total=50 Fobj= 24.82367672956493 Time= 0.9491573691368103\n",
            "run= 22 total=50 Fobj= 0.7097467553004606 Time= 0.9926293134689331\n",
            "run= 23 total=50 Fobj= 0.01057384997507523 Time= 1.036240784327189\n",
            "run= 24 total=50 Fobj= 0.04293059380441099 Time= 1.0800594449043275\n",
            "run= 25 total=50 Fobj= 2.440068440722637e-06 Time= 1.1240250905354818\n",
            "run= 26 total=50 Fobj= 5.380002169322543e-06 Time= 1.1677592754364015\n",
            "run= 27 total=50 Fobj= 0.00012984035477958106 Time= 1.2102405945460002\n",
            "run= 28 total=50 Fobj= 290.77951689730094 Time= 1.252990976969401\n",
            "run= 29 total=50 Fobj= 0.0028980745151998416 Time= 1.2958385586738586\n",
            "run= 30 total=50 Fobj= 4.368412582223985e-05 Time= 1.3388502836227416\n",
            "run= 31 total=50 Fobj= 0.0010886084450563774 Time= 1.3815419673919678\n",
            "run= 32 total=50 Fobj= 331.90603189453185 Time= 1.423806357383728\n",
            "run= 33 total=50 Fobj= 5.061569747210624 Time= 1.4660915931065877\n",
            "run= 34 total=50 Fobj= 1.2459237941752483 Time= 1.5089516838391621\n",
            "run= 35 total=50 Fobj= 0.0018071270531173306 Time= 1.5512287696202596\n",
            "run= 36 total=50 Fobj= 40.872448259767864 Time= 1.593865660826365\n",
            "run= 37 total=50 Fobj= 0.0006503953322452812 Time= 1.6365409056345621\n",
            "run= 38 total=50 Fobj= 110.55390396352013 Time= 1.6792723894119264\n",
            "run= 39 total=50 Fobj= 0.0006563211865015902 Time= 1.7224217772483825\n",
            "run= 40 total=50 Fobj= 0.12141629839463136 Time= 1.7648752609888712\n",
            "run= 41 total=50 Fobj= 1.600824507382592 Time= 1.8075231631596884\n",
            "run= 42 total=50 Fobj= 6.509232957929423 Time= 1.8500640551249186\n",
            "run= 43 total=50 Fobj= 1.2027266603691995e-11 Time= 1.8926478226979573\n",
            "run= 44 total=50 Fobj= 96.96796918041775 Time= 1.937312869230906\n",
            "run= 45 total=50 Fobj= 0.0005995475608981339 Time= 1.9809767762819925\n",
            "run= 46 total=50 Fobj= 0.0038730458542784946 Time= 2.023521300156911\n",
            "run= 47 total=50 Fobj= 6.8601095870094575 Time= 2.0661686221758524\n",
            "run= 48 total=50 Fobj= 25.56218634376999 Time= 2.1085764010747274\n",
            "run= 49 total=50 Fobj= 0.0030274267276885294 Time= 2.1506747285525005\n"
          ],
          "name": "stdout"
        }
      ]
    },
    {
      "cell_type": "code",
      "metadata": {
        "id": "VAbHty3zbVND",
        "colab_type": "code",
        "colab": {}
      },
      "source": [
        ""
      ],
      "execution_count": 5,
      "outputs": []
    },
    {
      "cell_type": "code",
      "metadata": {
        "colab_type": "code",
        "id": "lNSN5X-wskcx",
        "colab": {
          "base_uri": "https://localhost:8080/",
          "height": 238
        },
        "outputId": "8af1c970-c3bc-4f56-f79a-543168ed29e2"
      },
      "source": [
        "############################## Cálculo dos Parâmetros de Avaliação   \n",
        "TIME = (time.time() - start_time)/RUNS\n",
        "BEST_AGENTS=np.array(BEST_AGENTS)\n",
        "BEST_AGENTS_ST= BEST_AGENTS[BEST_AGENTS[:,-1].argsort()]\n",
        "BEST=BEST_AGENTS_ST[0]\n",
        "WORSE=BEST_AGENTS_ST[-1]\n",
        "MEAN=np.mean(BEST_AGENTS,axis=0)\n",
        "MAXFO=BEST_AGENTS[:,-1].max()\n",
        "MINFO=BEST_AGENTS[:,-1].min()\n",
        "STD=BEST_AGENTS[:,-1].std()\n",
        "\n",
        "nome='DE_STAT_Fo-'+str(mut)+'_CRo-'+str(crossp)+'_D-'+str(dim)+'_Interv-'+str(ITE)\n",
        "print('DE_','TOTAL=',TOTAL,'Iterações=',ITE*its,'Dim=', dim,\"Min/Max=\",MIN[0],\"/\",MAX[0],'_',Fun.__name__)\n",
        "print(nome, '\\n')\n",
        "#print('BEST: ',BEST)\n",
        "#print('MÉDIA: ',MEAN)\n",
        "print('MÉDIA: ',MEAN[-1])\n",
        "print('MIN __:',MINFO)\n",
        "print('MAX__: ',MAXFO)\n",
        "print('STD __:',STD)\n",
        "print(\"Tempo Médio= %.3f segundos ---\" % (TIME))\n",
        "print(RUNS,'Rodadas') \n",
        "print()\n",
        "print('BEST: ',BEST)\n",
        "# print('melhor=',BEST_AGENTS[BEST_INDEX])"
      ],
      "execution_count": 6,
      "outputs": [
        {
          "output_type": "stream",
          "text": [
            "DE_ TOTAL= 200000 Iterações= 2000 Dim= 10 Min/Max= -100 / 100 _ Step\n",
            "DE_STAT_Fo-0.5_CRo-0.5_D-10_Interv-2000 \n",
            "\n",
            "MÉDIA:  29.379916746884035\n",
            "MIN __: 1.2027266603691995e-11\n",
            "MAX__:  331.90603189453185\n",
            "STD __: 72.32632330332093\n",
            "Tempo Médio= 2.581 segundos ---\n",
            "50 Rodadas\n",
            "\n",
            "BEST:  [-5.00000007e-01 -5.00000000e-01 -5.00000000e-01 -5.00000000e-01\n",
            " -5.00000000e-01 -5.00003468e-01 -5.00000013e-01 -5.00000000e-01\n",
            " -5.00000000e-01 -5.00000000e-01  1.20272666e-11]\n"
          ],
          "name": "stdout"
        }
      ]
    }
  ]
}