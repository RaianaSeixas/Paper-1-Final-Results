{
  "nbformat": 4,
  "nbformat_minor": 0,
  "metadata": {
    "accelerator": "GPU",
    "colab": {
      "name": "DE_STAT_2000_Rosenbrock_D10.ipynb",
      "provenance": [],
      "collapsed_sections": [],
      "include_colab_link": true
    },
    "kernelspec": {
      "display_name": "Python 3",
      "language": "python",
      "name": "python3"
    },
    "language_info": {
      "codemirror_mode": {
        "name": "ipython",
        "version": 3
      },
      "file_extension": ".py",
      "mimetype": "text/x-python",
      "name": "python",
      "nbconvert_exporter": "python",
      "pygments_lexer": "ipython3",
      "version": "3.6.1"
    }
  },
  "cells": [
    {
      "cell_type": "markdown",
      "metadata": {
        "id": "view-in-github",
        "colab_type": "text"
      },
      "source": [
        "<a href=\"https://colab.research.google.com/github/RaianaSeixas/Paper-1-Final-Results/blob/master/DE_STAT_2000_Rosenbrock_D10.ipynb\" target=\"_parent\"><img src=\"https://colab.research.google.com/assets/colab-badge.svg\" alt=\"Open In Colab\"/></a>"
      ]
    },
    {
      "cell_type": "code",
      "metadata": {
        "colab_type": "code",
        "id": "cG5nOUQ9Eucw",
        "colab": {}
      },
      "source": [
        "# JADE: Adaptive Differential Evolution with Optional External Archive"
      ],
      "execution_count": 7,
      "outputs": []
    },
    {
      "cell_type": "code",
      "metadata": {
        "colab_type": "code",
        "id": "v1OxgXboBKoG",
        "colab": {}
      },
      "source": [
        "import time\n",
        "import matplotlib.pyplot as plt\n",
        "import numpy as np\n",
        "from random import randint"
      ],
      "execution_count": 8,
      "outputs": []
    },
    {
      "cell_type": "code",
      "metadata": {
        "id": "qMRpE0dGULCI",
        "colab_type": "code",
        "colab": {
          "base_uri": "https://localhost:8080/",
          "height": 153
        },
        "outputId": "d65fd6e1-046f-4ab7-cb18-b499352a2310"
      },
      "source": [
        "!git clone https://github.com/ucfilho/Raianars_July_2020 #clonar do Github\n",
        "%cd Raianars_July_2020"
      ],
      "execution_count": 9,
      "outputs": [
        {
          "output_type": "stream",
          "text": [
            "Cloning into 'Raianars_July_2020'...\n",
            "remote: Enumerating objects: 9, done.\u001b[K\n",
            "remote: Counting objects: 100% (9/9), done.\u001b[K\n",
            "remote: Compressing objects: 100% (9/9), done.\u001b[K\n",
            "remote: Total 132 (delta 3), reused 0 (delta 0), pack-reused 123\u001b[K\n",
            "Receiving objects: 100% (132/132), 200.33 KiB | 555.00 KiB/s, done.\n",
            "Resolving deltas: 100% (65/65), done.\n",
            "/content/Raianars_July_2020/Raianars_July_2020\n"
          ],
          "name": "stdout"
        }
      ]
    },
    {
      "cell_type": "code",
      "metadata": {
        "colab_type": "code",
        "id": "_E15mKFURR6O",
        "colab": {}
      },
      "source": [
        "import de_soma_Insight\n",
        "import de_bounds_matriz\n",
        "import Function\n",
        "import Go2MinMax\n",
        "from AvaliaX import AvaliaX\n",
        "\n",
        "\n",
        "############################### DADOS DE ENTRADA \n",
        "its=1 #10 # quantas vezes vai usar o NPAR antes de alterar de novo\n",
        "ITE=2000 #10 # PONTOS quantas vezes vai alteral NPAR \n",
        "NPAR=100 # NUMBER OF PARTICLES\n",
        "dim=10\n",
        "RUNS=50\n",
        "fchoice='Rosenbrock' \n",
        "Fun=Function.Rosenbrock\n",
        "\n",
        "mut=0.5\n",
        "crossp=0.5\n",
        "\n",
        "\n",
        "MIN,MAX=Go2MinMax.Intervalo(dim,fchoice)\n",
        "\n",
        "TOTAL=10*dim*its*ITE\n",
        "SOMA=0"
      ],
      "execution_count": 10,
      "outputs": []
    },
    {
      "cell_type": "code",
      "metadata": {
        "colab_type": "code",
        "id": "rnX8ttNopd1G",
        "colab": {
          "base_uri": "https://localhost:8080/",
          "height": 867
        },
        "outputId": "6add9c06-3c65-4f1f-cab4-8999f82d5f96"
      },
      "source": [
        "start_time = time.time()\n",
        "BEST_AGENTS=[]\n",
        "MAT_stat=[]\n",
        "\n",
        "for i in range(RUNS):\n",
        "\n",
        "    pop = np.random.rand(NPAR, dim)\n",
        "    diff=np.zeros(dim)\n",
        "    for ii in range(dim):\n",
        "      diff[ii] = MAX[ii]-MIN[ii]\n",
        "    X = MIN + pop * diff\n",
        "\n",
        "    SOMA=0\n",
        "\n",
        "    for k in range(ITE):\n",
        "      X,BEST,FOBEST,XY,BEST_XY,SOMA= de_soma_Insight.de(MAX,MIN, mut, crossp,dim,its,Fun,X,SOMA,TOTAL)\n",
        "\n",
        "    start_run = (time.time()-start_time)/60\n",
        "    print('run=',i,'total=50','Fobj=',FOBEST,'Time=',start_run)  \n",
        "    BEST_AGENTS.append(BEST_XY)"
      ],
      "execution_count": 11,
      "outputs": [
        {
          "output_type": "stream",
          "text": [
            "run= 0 total=50 Fobj= 6.041000116735384 Time= 0.07732705672581991\n",
            "run= 1 total=50 Fobj= 9.401360012136852 Time= 0.15312379995981854\n",
            "run= 2 total=50 Fobj= 2.216252181271774 Time= 0.2292658805847168\n",
            "run= 3 total=50 Fobj= 7.547963748072869 Time= 0.3063668370246887\n",
            "run= 4 total=50 Fobj= 5.1387887833395 Time= 0.3834469477335612\n",
            "run= 5 total=50 Fobj= 1669.145184728203 Time= 0.4603317658106486\n",
            "run= 6 total=50 Fobj= 13.45646955529515 Time= 0.5365205009778341\n",
            "run= 7 total=50 Fobj= 52.93057375849564 Time= 0.6123370885848999\n",
            "run= 8 total=50 Fobj= 326.0954778405861 Time= 0.6890224337577819\n",
            "run= 9 total=50 Fobj= 15.820664582268309 Time= 0.7654899716377258\n",
            "run= 10 total=50 Fobj= 9.749356930778882 Time= 0.8418736656506857\n",
            "run= 11 total=50 Fobj= 17.796665545280607 Time= 0.9192981521288554\n",
            "run= 12 total=50 Fobj= 1.8597241410791543 Time= 0.9952882925669352\n",
            "run= 13 total=50 Fobj= 250.22034118319166 Time= 1.0714685757954916\n",
            "run= 14 total=50 Fobj= 9.55362203366737 Time= 1.1467413663864137\n",
            "run= 15 total=50 Fobj= 130.607430189577 Time= 1.22284939289093\n",
            "run= 16 total=50 Fobj= 8.382473855365083 Time= 1.2981027364730835\n",
            "run= 17 total=50 Fobj= 4.787655971371393 Time= 1.3746753454208374\n",
            "run= 18 total=50 Fobj= 70.14992094093442 Time= 1.452352730433146\n",
            "run= 19 total=50 Fobj= 659.8041949403132 Time= 1.5284336964289347\n",
            "run= 20 total=50 Fobj= 8.332243752453902 Time= 1.6046855807304383\n",
            "run= 21 total=50 Fobj= 6.978468040380327 Time= 1.6819048245747885\n",
            "run= 22 total=50 Fobj= 7.081581024183013 Time= 1.7599403023719788\n",
            "run= 23 total=50 Fobj= 446.3575239243729 Time= 1.837214215596517\n",
            "run= 24 total=50 Fobj= 9.47251336581774 Time= 1.9135962088902791\n",
            "run= 25 total=50 Fobj= 3225.125128198114 Time= 1.9912959098815919\n",
            "run= 26 total=50 Fobj= 6.748527429978468 Time= 2.067760916550954\n",
            "run= 27 total=50 Fobj= 64.47046802255666 Time= 2.1441487312316894\n",
            "run= 28 total=50 Fobj= 6.108960786125392 Time= 2.220739563306173\n",
            "run= 29 total=50 Fobj= 8.039505450883285 Time= 2.2972360769907634\n",
            "run= 30 total=50 Fobj= 8.36171984104315 Time= 2.374133121967316\n",
            "run= 31 total=50 Fobj= 9.230858043502835 Time= 2.4515451113382976\n",
            "run= 32 total=50 Fobj= 4.396563417379446 Time= 2.5280417680740355\n",
            "run= 33 total=50 Fobj= 14.016345936874687 Time= 2.6043570200602213\n",
            "run= 34 total=50 Fobj= 8.313254842393647 Time= 2.6802996397018433\n",
            "run= 35 total=50 Fobj= 1.1633661055262452 Time= 2.7574370821317036\n",
            "run= 36 total=50 Fobj= 8.05559246238091 Time= 2.8338227828343707\n",
            "run= 37 total=50 Fobj= 22.539238471135423 Time= 2.9112307906150816\n",
            "run= 38 total=50 Fobj= 7.420986177423226 Time= 2.9878361582756043\n",
            "run= 39 total=50 Fobj= 11.160422037607107 Time= 3.064684474468231\n",
            "run= 40 total=50 Fobj= 12.626659377225879 Time= 3.1407190442085264\n",
            "run= 41 total=50 Fobj= 8.758038918898333 Time= 3.217300808429718\n",
            "run= 42 total=50 Fobj= 345.8305381958153 Time= 3.293843098481496\n",
            "run= 43 total=50 Fobj= 300.15351445623884 Time= 3.370526893933614\n",
            "run= 44 total=50 Fobj= 75.00296722655325 Time= 3.4491091847419737\n",
            "run= 45 total=50 Fobj= 6.729583718490049 Time= 3.5259446620941164\n",
            "run= 46 total=50 Fobj= 324.805952871967 Time= 3.603011985619863\n",
            "run= 47 total=50 Fobj= 8.597590284778699 Time= 3.680222459634145\n",
            "run= 48 total=50 Fobj= 84.96454391627182 Time= 3.7568472743034365\n",
            "run= 49 total=50 Fobj= 11.110393579982375 Time= 3.8339269757270813\n"
          ],
          "name": "stdout"
        }
      ]
    },
    {
      "cell_type": "code",
      "metadata": {
        "id": "VAbHty3zbVND",
        "colab_type": "code",
        "colab": {}
      },
      "source": [
        ""
      ],
      "execution_count": 11,
      "outputs": []
    },
    {
      "cell_type": "code",
      "metadata": {
        "colab_type": "code",
        "id": "lNSN5X-wskcx",
        "colab": {
          "base_uri": "https://localhost:8080/",
          "height": 221
        },
        "outputId": "30bb0d42-4778-496b-8952-0f80d1b04c5f"
      },
      "source": [
        "############################## Cálculo dos Parâmetros de Avaliação   \n",
        "TIME = (time.time() - start_time)/RUNS\n",
        "BEST_AGENTS=np.array(BEST_AGENTS)\n",
        "BEST_AGENTS_ST= BEST_AGENTS[BEST_AGENTS[:,-1].argsort()]\n",
        "BEST=BEST_AGENTS_ST[0]\n",
        "WORSE=BEST_AGENTS_ST[-1]\n",
        "MEAN=np.mean(BEST_AGENTS,axis=0)\n",
        "MAXFO=BEST_AGENTS[:,-1].max()\n",
        "MINFO=BEST_AGENTS[:,-1].min()\n",
        "STD=BEST_AGENTS[:,-1].std()\n",
        "\n",
        "nome='DE_STAT_Fo-'+str(mut)+'_CRo-'+str(crossp)+'_D-'+str(dim)+'_Interv-'+str(ITE)\n",
        "print('DE_','TOTAL=',TOTAL,'Iterações=',ITE*its,'Dim=', dim,\"Min/Max=\",MIN[0],\"/\",MAX[0],'_',Fun.__name__)\n",
        "print(nome, '\\n')\n",
        "#print('BEST: ',BEST)\n",
        "#print('MÉDIA: ',MEAN)\n",
        "print('MÉDIA: ',MEAN[-1])\n",
        "print('MIN __:',MINFO)\n",
        "print('MAX__: ',MAXFO)\n",
        "print('STD __:',STD)\n",
        "print(\"Tempo Médio= %.3f segundos ---\" % (TIME))\n",
        "print(RUNS,'Rodadas') \n",
        "print()\n",
        "print('BEST: ',BEST)\n",
        "# print('melhor=',BEST_AGENTS[BEST_INDEX])"
      ],
      "execution_count": 12,
      "outputs": [
        {
          "output_type": "stream",
          "text": [
            "DE_ TOTAL= 200000 Iterações= 2000 Dim= 10 Min/Max= -10 / 10 _ Rosenbrock\n",
            "DE_STAT_Fo-0.5_CRo-0.5_D-10_Interv-2000 \n",
            "\n",
            "MÉDIA:  166.6531634182864\n",
            "MIN __: 1.1633661055262452\n",
            "MAX__:  3225.125128198114\n",
            "STD __: 509.1685974885469\n",
            "Tempo Médio= 4.601 segundos ---\n",
            "50 Rodadas\n",
            "\n",
            "BEST:  [0.99247926 0.98497722 0.97008464 0.94090463 0.88869653 0.83294599\n",
            " 0.72602372 0.55117956 0.32153958 0.10633383 1.16336611]\n"
          ],
          "name": "stdout"
        }
      ]
    }
  ]
}