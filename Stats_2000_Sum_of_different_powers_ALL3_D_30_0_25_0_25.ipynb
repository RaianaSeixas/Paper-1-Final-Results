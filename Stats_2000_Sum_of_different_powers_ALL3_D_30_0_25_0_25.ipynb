{
  "nbformat": 4,
  "nbformat_minor": 0,
  "metadata": {
    "colab": {
      "name": "Stats_2000_Sum_of_different_powers_ALL3_D_30_0.25_0.25.ipynb",
      "provenance": [],
      "collapsed_sections": [],
      "include_colab_link": true
    },
    "kernelspec": {
      "name": "python3",
      "display_name": "Python 3"
    }
  },
  "cells": [
    {
      "cell_type": "markdown",
      "metadata": {
        "id": "view-in-github",
        "colab_type": "text"
      },
      "source": [
        "<a href=\"https://colab.research.google.com/github/RaianaSeixas/Paper-1-Final-Results/blob/master/Stats_2000_Sum_of_different_powers_ALL3_D_30_0_25_0_25.ipynb\" target=\"_parent\"><img src=\"https://colab.research.google.com/assets/colab-badge.svg\" alt=\"Open In Colab\"/></a>"
      ]
    },
    {
      "cell_type": "code",
      "metadata": {
        "id": "MC26Bm1UyUR5",
        "colab_type": "code",
        "colab": {
          "base_uri": "https://localhost:8080/",
          "height": 34
        },
        "outputId": "8c1280be-0c89-4558-9b99-8585dfa6671c"
      },
      "source": [
        "!pip install pyade-python"
      ],
      "execution_count": 15,
      "outputs": [
        {
          "output_type": "stream",
          "text": [
            "Requirement already satisfied: pyade-python in /usr/local/lib/python3.6/dist-packages (1.1)\n"
          ],
          "name": "stdout"
        }
      ]
    },
    {
      "cell_type": "code",
      "metadata": {
        "id": "rRwqrtCmgzdZ",
        "colab_type": "code",
        "colab": {
          "base_uri": "https://localhost:8080/",
          "height": 51
        },
        "outputId": "c6fbf855-f53b-430a-a493-1a1eb109db91"
      },
      "source": [
        "!pip install PyFDE"
      ],
      "execution_count": 16,
      "outputs": [
        {
          "output_type": "stream",
          "text": [
            "Requirement already satisfied: PyFDE in /usr/local/lib/python3.6/dist-packages (1.3.0)\n",
            "Requirement already satisfied: numpy in /usr/local/lib/python3.6/dist-packages (from PyFDE) (1.18.5)\n"
          ],
          "name": "stdout"
        }
      ]
    },
    {
      "cell_type": "code",
      "metadata": {
        "id": "anFukot-ypn6",
        "colab_type": "code",
        "colab": {}
      },
      "source": [
        "import pyade.ilshade \n",
        "import pyade.sade \n",
        "import pyade.jso\n",
        "import pyade.shade\n",
        "import pyade.jade \n",
        "import pyfde\n",
        "import numpy as np\n",
        "import pandas as pd\n",
        "import time"
      ],
      "execution_count": 17,
      "outputs": []
    },
    {
      "cell_type": "code",
      "metadata": {
        "id": "6Oh714_-z1Ia",
        "colab_type": "code",
        "colab": {
          "base_uri": "https://localhost:8080/",
          "height": 153
        },
        "outputId": "3ff56fb4-b05b-4a5e-a4dd-60c776de2c4a"
      },
      "source": [
        "!git clone https://github.com/ucfilho/Raianars_July_2020 #clonar do Github\n",
        "%cd Raianars_July_2020"
      ],
      "execution_count": 18,
      "outputs": [
        {
          "output_type": "stream",
          "text": [
            "Cloning into 'Raianars_July_2020'...\n",
            "remote: Enumerating objects: 9, done.\u001b[K\n",
            "remote: Counting objects: 100% (9/9), done.\u001b[K\n",
            "remote: Compressing objects: 100% (9/9), done.\u001b[K\n",
            "remote: Total 132 (delta 3), reused 0 (delta 0), pack-reused 123\u001b[K\n",
            "Receiving objects: 100% (132/132), 200.33 KiB | 1.25 MiB/s, done.\n",
            "Resolving deltas: 100% (65/65), done.\n",
            "/content/Raianars_July_2020/ANN_read_matrix/Raianars_July_2020/Raianars_July_2020\n"
          ],
          "name": "stdout"
        }
      ]
    },
    {
      "cell_type": "code",
      "metadata": {
        "id": "LnzftXkky78A",
        "colab_type": "code",
        "colab": {}
      },
      "source": [
        "import Go2Ann\n",
        "import de_soma_Insight\n",
        "import de_bounds_matriz\n",
        "from AvaliaX import AvaliaX\n",
        "from GeraIndices import GeraIndices"
      ],
      "execution_count": 19,
      "outputs": []
    },
    {
      "cell_type": "code",
      "metadata": {
        "id": "HNW92728z7fR",
        "colab_type": "code",
        "colab": {}
      },
      "source": [
        "import Function\n",
        "import Go2MinMax"
      ],
      "execution_count": 20,
      "outputs": []
    },
    {
      "cell_type": "code",
      "metadata": {
        "id": "T_C-e7aH0CZH",
        "colab_type": "code",
        "colab": {}
      },
      "source": [
        "ITE=2000 #10 # PONTOS quantas vezes vai alteral NPAR \n",
        "NPAR=100 # NUMBER OF PARTICLES\n",
        "dim=30\n",
        "RUNS=50\n",
        "fchoice='Sum_of_different_powers'  #US\n",
        "Fun=Function.Sum_of_different_powers\n",
        "\n",
        "MIN,MAX=Go2MinMax.Intervalo(dim,fchoice)\n",
        "bounds = [(0,0)]*dim\n",
        "\n",
        "for i in range(dim):\n",
        "  bounds[i] = (MIN[i],MAX[i])\n",
        "\n",
        "start_time = time.time() "
      ],
      "execution_count": 21,
      "outputs": []
    },
    {
      "cell_type": "code",
      "metadata": {
        "id": "Nqv5qp9yzQEw",
        "colab_type": "code",
        "colab": {}
      },
      "source": [
        "############################### INPUT INFORMATION (FRANNK)\n",
        "Fc=0.1 # fator de correcao parametros da ANN\n",
        "its=1 #10 # quantas vezes vai usar o NPAR antes de alterar de novo\n",
        "mut=0.25\n",
        "crossp=0.25\n",
        "Fi=mut;CRi=crossp;# para impressão\n",
        "PAR=len(MAX) #NUM DE PARAMETROS A SER OTIMIZADOS"
      ],
      "execution_count": 22,
      "outputs": []
    },
    {
      "cell_type": "code",
      "metadata": {
        "id": "q77YsFa82zFU",
        "colab_type": "code",
        "colab": {
          "base_uri": "https://localhost:8080/",
          "height": 323
        },
        "outputId": "532fd832-24bd-4091-def2-edc9f20fd40c"
      },
      "source": [
        "# JADE\n",
        "algorithm = pyade.jso\n",
        "BEST_AGENTS=[]\n",
        "for i in range(RUNS):\n",
        "  ANSWER_AGENTS=[]\n",
        "  solver = pyfde.JADE(Fun, n_dim=dim, n_pop=NPAR, limits=bounds, minimize=True)\n",
        "  solver.p = 0.05\n",
        "  solver.c = 0.1\n",
        "  solver.cr = 0.5\n",
        "  solver.f = 0.5\n",
        "  best, fit = solver.run(n_it=ITE)\n",
        "  for x in best:\n",
        "    ANSWER_AGENTS.append(x)\n",
        "  ANSWER_AGENTS.append(fit)\n",
        "  BEST_AGENTS.append(ANSWER_AGENTS)\n",
        "BEST_AGENTS=np.array(BEST_AGENTS)\n",
        "TIME = (time.time() - start_time)/RUNS\n",
        "BEST_AGENTS=np.array(BEST_AGENTS)\n",
        "BEST_AGENTS_ST= BEST_AGENTS[BEST_AGENTS[:,-1].argsort()]\n",
        "BEST=BEST_AGENTS_ST[0]\n",
        "WORSE=BEST_AGENTS_ST[-1]\n",
        "MEAN=np.mean(BEST_AGENTS,axis=0)\n",
        "MAXFO=BEST_AGENTS[:,-1].max()\n",
        "MINFO=BEST_AGENTS[:,-1].min()\n",
        "STD=BEST_AGENTS[:,-1].std()\n",
        "nome='JADE_Fo-'+str(0)+'_CRo-'+str(0)\n",
        "print(nome,'NPAR',NPAR,'Iterações=',ITE,'Dim=',dim ,\"Min/Max=\",MIN[0],\"/\",MAX[0],'_',Fun.__name__)\n",
        "print( '\\n')\n",
        "print('MÉDIA: ',MEAN[-1])\n",
        "print('MIN __:',MINFO)\n",
        "print('MAX__: ',MAXFO)\n",
        "print('STD __:',STD)\n",
        "print(\"Tempo Médio= %.3f segundos ---\" % (TIME))\n",
        "print(RUNS,'Rodadas') \n",
        "print()\n",
        "print('BEST: ',BEST)"
      ],
      "execution_count": 23,
      "outputs": [
        {
          "output_type": "stream",
          "text": [
            "JADE_Fo-0_CRo-0 NPAR 100 Iterações= 2000 Dim= 30 Min/Max= -1 / 1 _ Sum_of_different_powers\n",
            "\n",
            "\n",
            "MÉDIA:  -3.254455983681613e-105\n",
            "MIN __: -8.164051242488393e-104\n",
            "MAX__:  -1.305540016640286e-120\n",
            "STD __: 1.4065519028947132e-104\n",
            "Tempo Médio= 2.718 segundos ---\n",
            "50 Rodadas\n",
            "\n",
            "BEST:  [-1.35613297e-052  3.15280620e-035  5.39246315e-027  1.89303485e-021\n",
            " -4.17971955e-018 -5.70420134e-016 -3.98272718e-015 -2.03475866e-012\n",
            " -2.81227746e-011  2.13149974e-010 -1.21917368e-009  4.25175102e-009\n",
            "  2.17794622e-008  5.01527705e-008  2.60027732e-007 -2.22866749e-007\n",
            "  4.98222088e-007 -1.17063515e-006 -2.66103322e-006  6.40951371e-006\n",
            " -4.99413097e-006  1.96823573e-005 -2.37034784e-006  2.27292839e-007\n",
            "  5.94146097e-005  5.59144357e-005 -3.65158047e-005  7.36997333e-005\n",
            " -2.16570211e-004  2.57229163e-004 -8.16405124e-104]\n"
          ],
          "name": "stdout"
        }
      ]
    },
    {
      "cell_type": "code",
      "metadata": {
        "id": "gXdUgSStzppX",
        "colab_type": "code",
        "colab": {}
      },
      "source": [
        "# FRANNK START HERE !!!!!"
      ],
      "execution_count": 24,
      "outputs": []
    },
    {
      "cell_type": "code",
      "metadata": {
        "id": "raWOfeJBztuj",
        "colab_type": "code",
        "colab": {
          "base_uri": "https://localhost:8080/",
          "height": 136
        },
        "outputId": "6ed1ae34-e85e-42f9-b07a-dfd8ade1903b"
      },
      "source": [
        "!git clone https://github.com/ucfilho/ANN_read_matrix #clonar do Github\n",
        "%cd ANN_read_matrix"
      ],
      "execution_count": 25,
      "outputs": [
        {
          "output_type": "stream",
          "text": [
            "Cloning into 'ANN_read_matrix'...\n",
            "remote: Enumerating objects: 20, done.\u001b[K\n",
            "remote: Counting objects:   5% (1/20)\u001b[K\rremote: Counting objects:  10% (2/20)\u001b[K\rremote: Counting objects:  15% (3/20)\u001b[K\rremote: Counting objects:  20% (4/20)\u001b[K\rremote: Counting objects:  25% (5/20)\u001b[K\rremote: Counting objects:  30% (6/20)\u001b[K\rremote: Counting objects:  35% (7/20)\u001b[K\rremote: Counting objects:  40% (8/20)\u001b[K\rremote: Counting objects:  45% (9/20)\u001b[K\rremote: Counting objects:  50% (10/20)\u001b[K\rremote: Counting objects:  55% (11/20)\u001b[K\rremote: Counting objects:  60% (12/20)\u001b[K\rremote: Counting objects:  65% (13/20)\u001b[K\rremote: Counting objects:  70% (14/20)\u001b[K\rremote: Counting objects:  75% (15/20)\u001b[K\rremote: Counting objects:  80% (16/20)\u001b[K\rremote: Counting objects:  85% (17/20)\u001b[K\rremote: Counting objects:  90% (18/20)\u001b[K\rremote: Counting objects:  95% (19/20)\u001b[K\rremote: Counting objects: 100% (20/20)\u001b[K\rremote: Counting objects: 100% (20/20), done.\u001b[K\n",
            "remote: Compressing objects:   5% (1/18)\u001b[K\rremote: Compressing objects:  11% (2/18)\u001b[K\rremote: Compressing objects:  16% (3/18)\u001b[K\rremote: Compressing objects:  22% (4/18)\u001b[K\rremote: Compressing objects:  27% (5/18)\u001b[K\rremote: Compressing objects:  33% (6/18)\u001b[K\rremote: Compressing objects:  38% (7/18)\u001b[K\rremote: Compressing objects:  44% (8/18)\u001b[K\rremote: Compressing objects:  50% (9/18)\u001b[K\rremote: Compressing objects:  55% (10/18)\u001b[K\rremote: Compressing objects:  61% (11/18)\u001b[K\rremote: Compressing objects:  66% (12/18)\u001b[K\rremote: Compressing objects:  72% (13/18)\u001b[K\rremote: Compressing objects:  77% (14/18)\u001b[K\rremote: Compressing objects:  83% (15/18)\u001b[K\rremote: Compressing objects:  88% (16/18)\u001b[K\rremote: Compressing objects:  94% (17/18)\u001b[K\rremote: Compressing objects: 100% (18/18)\u001b[K\rremote: Compressing objects: 100% (18/18), done.\u001b[K\n",
            "remote: Total 20 (delta 5), reused 0 (delta 0), pack-reused 0\u001b[K\n",
            "Unpacking objects:   5% (1/20)   \rUnpacking objects:  10% (2/20)   \rUnpacking objects:  15% (3/20)   \rUnpacking objects:  20% (4/20)   \rUnpacking objects:  25% (5/20)   \rUnpacking objects:  30% (6/20)   \rUnpacking objects:  35% (7/20)   \rUnpacking objects:  40% (8/20)   \rUnpacking objects:  45% (9/20)   \rUnpacking objects:  50% (10/20)   \rUnpacking objects:  55% (11/20)   \rUnpacking objects:  60% (12/20)   \rUnpacking objects:  65% (13/20)   \rUnpacking objects:  70% (14/20)   \rUnpacking objects:  75% (15/20)   \rUnpacking objects:  80% (16/20)   \rUnpacking objects:  85% (17/20)   \rUnpacking objects:  90% (18/20)   \rUnpacking objects:  95% (19/20)   \rUnpacking objects: 100% (20/20)   \rUnpacking objects: 100% (20/20), done.\n",
            "/content/Raianars_July_2020/ANN_read_matrix/Raianars_July_2020/Raianars_July_2020/ANN_read_matrix\n"
          ],
          "name": "stdout"
        }
      ]
    },
    {
      "cell_type": "code",
      "metadata": {
        "id": "N2lyPfivzwGv",
        "colab_type": "code",
        "colab": {
          "base_uri": "https://localhost:8080/",
          "height": 1000
        },
        "outputId": "493a18cf-c74f-445d-aedf-f2aae631cd1f"
      },
      "source": [
        "ANN_F=pd.read_csv('ANN_INSIGHT_Valor_F.csv')\n",
        "ANN_CR=pd.read_csv('ANN_INSIGHT_CR.csv')\n",
        "syn0_F,syn1_F,X_max_F,X_min_F=Go2Ann.GetMatriz(ANN_F)\n",
        "syn0_CR,syn1_CR,X_max_CR,X_min_CR=Go2Ann.GetMatriz(ANN_CR)\n",
        "fields = ['DI RELATIVO','FRAC Its','Fo','CRo']\n",
        "\n",
        "#TOTAL=7*dim*its*ITE\n",
        "TOTAL=10*dim*its*ITE\n",
        "TOTAL=int(TOTAL/2)   # CONFERIR SE ESTE EH O MELHOR LUGAR\n",
        "\n",
        "dimensions=len(MAX)\n",
        "start_time = time.time() #INICIALIZA CONTAGEM DO TEMPO\n",
        "\n",
        "MAX_P=np.zeros(ITE) # ATENCAO para variar F e Cr MAX_P passa a ser 3 vezes maior\n",
        "MIN_P=np.zeros(ITE) # ATENCAO para variar F e Cr MIN_P passa a ser 3 vezes maior\n",
        "\n",
        "for i in range(dim):\n",
        "  MAX_P[i]=MAX[i] \n",
        "  MIN_P[i]=MIN[i]\n",
        "\n",
        "rodadas=1\n",
        "for i in range(rodadas):\n",
        "  SOMA=0\n",
        "  pop = np.random.rand(NPAR, dimensions)\n",
        "  diff=np.zeros(PAR)\n",
        "  for ii in range(PAR):\n",
        "    diff[ii] = MAX[ii]-MIN[ii]\n",
        "  X = MIN + pop * diff\n",
        "    \n",
        "  PONTOS=ITE # DIVISOES DA POPULACAO\n",
        "start_time = time.time()\n",
        "BEST_AGENTS=[]\n",
        "MAT_stat=[]\n",
        "for i in range(RUNS):\n",
        "    MAT=[] \n",
        "    mut=Fi\n",
        "    crossp=CRi\n",
        "    SOMA=0\n",
        "    SOMAf=0\n",
        "    start_ite = time.time()\n",
        "    delta_time=(start_ite-start_time)/60\n",
        "    print('ite=',i,'time=',delta_time)\n",
        "    pop = np.random.rand(NPAR, dim)\n",
        "    diff=np.zeros(PAR)\n",
        "    for ii in range(PAR):\n",
        "      diff[ii] = MAX[ii]-MIN[ii]\n",
        "    X = MIN + pop * diff\n",
        "    Xf = MIN + pop * diff\n",
        "    \n",
        "    DIo=1e99\n",
        "  \n",
        "    CRo=crossp;Fo=mut;\n",
        "    Fitness = np.asarray([Fun(ind) for ind in X])\n",
        "\n",
        "    XY,BEST_XY,BESTo,FOBESTo=AvaliaX(X,Fitness)\n",
        "    nrow,ncol=X.shape\n",
        "\n",
        "    QUANT=17;MAT_INDo=np.zeros((1,QUANT)); # quantos indices esta fazendo\n",
        "    MAT_INDo[0,5]=nrow  # VALOR NP\n",
        "    MAT_INDo[0,6]=Fo    # VALOR Fo   \n",
        "    MAT_INDo[0,7]=CRo   # VALOR CRo\n",
        "  \n",
        "    MAT_INDo=GeraIndices(X,BESTo,FOBESTo,DIo,MAT_INDo,SOMA,TOTAL,syn0_F,\n",
        "                        syn1_F,X_max_F,X_min_F,syn0_CR,syn1_CR,X_max_CR,\n",
        "                        X_min_CR,Fc,fields,Fun)\n",
        "  \n",
        "    DIo=np.copy(MAT_INDo[0,0])\n",
        "    MAT_INDo[0,15]=Fo    # VALOR Fo   \n",
        "    MAT_INDo[0,16]=CRo   # VALOR CRo\n",
        "    #ind_crossp=ITE-1\n",
        "\n",
        "    \n",
        "    for k in range(ITE):\n",
        "      X,BEST,FOBEST,XY,BEST_XY,SOMA= de_soma_Insight.de(MAX,MIN, mut, crossp,NPAR,its,Fun,X,SOMA,TOTAL)\n",
        "      #Xf,BESTf,FOBESTf,XYf,BEST_XYf,SOMAf= de_soma_Insight.de(MAX,MIN, Fi, CRi, NPAR,its,Fun,Xf,SOMAf,TOTAL)\n",
        "\n",
        "      \n",
        "      MAT_IND=GeraIndices(X,BESTo,FOBESTo,DIo,MAT_INDo,SOMA,TOTAL,syn0_F,\n",
        "                          syn1_F,X_max_F,X_min_F,syn0_CR,syn1_CR,X_max_CR,\n",
        "                          X_min_CR,Fc,fields,Fun)\n",
        "    \n",
        "      BESTo=np.copy(BEST);FOBESTo=np.copy(FOBEST);\n",
        "      MAT.append(MAT_IND.ravel())\n",
        "    \n",
        "      MAT_INDo[0,6]=MAT_IND[0,15]   # VALOR Fo   \n",
        "      MAT_INDo[0,7]=MAT_IND[0,16]   # VALOR CRo\n",
        "      mut=MAT_IND[0,15]\n",
        "      crossp=MAT_IND[0,16]\n",
        "\n",
        "      Fitness = np.asarray([Fun(ind) for ind in X])\n",
        "      #Fitnessf = np.asarray([Fun(ind) for ind in Xf])\n",
        "      Maior=np.argmax(Fitness)\n",
        "      #Maiorf=np.argmax(Fitnessf)\n",
        "      Menor=np.argmin(Fitness)\n",
        "      #Menorf=np.argmin(Fitnessf)\n",
        "\n",
        "      #X[Maior,:]=np.copy(Xf[Menorf,:])\n",
        "      #Xf[Maiorf,:]=np.copy(X[Menor,:])\n",
        "      \n",
        "    BEST_AGENTS.append(BEST_XY)\n",
        "    MAT_stat.append(MAT)\n",
        "    #print(\"GlobalParam e Solucao:\", BEST,\"Funcao=\",FOBEST)\n",
        "    \n",
        "############################## Cálculo dos Parâmetros de Avaliação   \n",
        "TIME = (time.time() - start_time)/RUNS\n",
        "BEST_AGENTS=np.array(BEST_AGENTS)\n",
        "BEST_AGENTS_ST= BEST_AGENTS[BEST_AGENTS[:,-1].argsort()]\n",
        "BEST=BEST_AGENTS_ST[0]\n",
        "WORSE=BEST_AGENTS_ST[-1]\n",
        "MEAN=np.mean(BEST_AGENTS,axis=0)\n",
        "MAXFO=BEST_AGENTS[:,-1].max()\n",
        "MINFO=BEST_AGENTS[:,-1].min()\n",
        "STD=BEST_AGENTS[:,-1].std()\n",
        "\n",
        "print()\n",
        "nome='_ANN_Div3x4_Fo-'+str(Fi)+'_CRo-'+str(CRi)+'_D-'+str(dim)+'_Interv-'+str(ITE)\n",
        "print('DE_POP_VAR_F_CR','TOTAL=',TOTAL,'Iterações=',ITE*its,'Dim=', PAR,\"Min/Max=\",MIN[0],\"/\",MAX[0],'_',Fun.__name__)\n",
        "print(nome, '\\n')\n",
        "print('MÉDIA: ',MEAN[-1])\n",
        "print('MIN __:',MINFO)\n",
        "print('MAX__: ',MAXFO)\n",
        "print('STD __:',STD)\n",
        "print(\"Tempo Médio= %.3f segundos ---\" % (TIME))\n",
        "print(RUNS,'Rodadas') \n",
        "print()\n",
        "print('BEST: ',BEST)"
      ],
      "execution_count": 26,
      "outputs": [
        {
          "output_type": "stream",
          "text": [
            "ite= 0 time= 2.330938975016276e-05\n",
            "ite= 1 time= 2.1253979881604512\n",
            "ite= 2 time= 4.246351472536722\n",
            "ite= 3 time= 6.37212302684784\n",
            "ite= 4 time= 8.491983004411061\n",
            "ite= 5 time= 10.61163014570872\n",
            "ite= 6 time= 12.736488966147105\n",
            "ite= 7 time= 14.86132847070694\n",
            "ite= 8 time= 16.987391102313996\n",
            "ite= 9 time= 19.11638074318568\n",
            "ite= 10 time= 21.239185349146524\n",
            "ite= 11 time= 23.368827982743582\n",
            "ite= 12 time= 25.50104745229085\n",
            "ite= 13 time= 27.635056189695995\n",
            "ite= 14 time= 29.89796439409256\n",
            "ite= 15 time= 32.13895102739334\n",
            "ite= 16 time= 34.30708041191101\n",
            "ite= 17 time= 36.46941061814626\n",
            "ite= 18 time= 38.66351493994395\n",
            "ite= 19 time= 40.84502458175023\n",
            "ite= 20 time= 42.9971713701884\n",
            "ite= 21 time= 45.161005385716756\n",
            "ite= 22 time= 47.31293501456579\n",
            "ite= 23 time= 49.47596427599589\n",
            "ite= 24 time= 51.61917037169139\n",
            "ite= 25 time= 53.75924512942632\n",
            "ite= 26 time= 55.90356905460358\n",
            "ite= 27 time= 58.07189114491145\n",
            "ite= 28 time= 60.211106566588086\n",
            "ite= 29 time= 62.35316457748413\n",
            "ite= 30 time= 64.49224183956782\n",
            "ite= 31 time= 66.64697484175365\n",
            "ite= 32 time= 68.79808245102565\n",
            "ite= 33 time= 70.93793807427089\n",
            "ite= 34 time= 73.07149823904038\n",
            "ite= 35 time= 75.22285303672155\n",
            "ite= 36 time= 77.3571365515391\n",
            "ite= 37 time= 79.51719919045766\n",
            "ite= 38 time= 81.6800030430158\n",
            "ite= 39 time= 83.8412052790324\n",
            "ite= 40 time= 86.02424426078797\n",
            "ite= 41 time= 88.19344335397085\n",
            "ite= 42 time= 90.32946266730626\n",
            "ite= 43 time= 92.4861287355423\n",
            "ite= 44 time= 94.61264943679174\n",
            "ite= 45 time= 96.74181581338247\n",
            "ite= 46 time= 98.87556529839834\n",
            "ite= 47 time= 101.02999902963639\n",
            "ite= 48 time= 103.17696906725565\n",
            "ite= 49 time= 105.31228951613109\n",
            "\n",
            "DE_POP_VAR_F_CR TOTAL= 300000 Iterações= 2000 Dim= 30 Min/Max= -1 / 1 _ Sum_of_different_powers\n",
            "_ANN_Div3x4_Fo-0.25_CRo-0.25_D-30_Interv-2000 \n",
            "\n",
            "MÉDIA:  2.1668668601868571e-125\n",
            "MIN __: 1.672105698485161e-144\n",
            "MAX__:  9.88770204615513e-124\n",
            "STD __: 1.3855206461788001e-124\n",
            "Tempo Médio= 128.951 segundos ---\n",
            "50 Rodadas\n",
            "\n",
            "BEST:  [ 1.78859924e-073 -8.00404264e-049  6.62814749e-037  6.26819599e-030\n",
            "  3.52791569e-025  4.34701530e-022  7.78824087e-019 -4.32862911e-017\n",
            "  1.77222280e-016 -3.13910759e-014 -1.80052352e-013  1.10861180e-014\n",
            "  1.47267679e-011 -6.94553688e-011  7.08408589e-010  1.22503948e-009\n",
            "  4.08490193e-009 -6.90392497e-009 -2.32569845e-008 -9.07614850e-009\n",
            " -5.64042433e-008 -1.32511095e-007  3.72267110e-007 -8.73013247e-008\n",
            "  1.23704512e-006 -2.94752234e-006 -3.43199465e-006  9.36129285e-007\n",
            "  5.26395771e-006  2.24598842e-005  1.67210570e-144]\n"
          ],
          "name": "stdout"
        }
      ]
    },
    {
      "cell_type": "code",
      "metadata": {
        "id": "egkWFpw6GiNo",
        "colab_type": "code",
        "colab": {
          "base_uri": "https://localhost:8080/",
          "height": 1000
        },
        "outputId": "725a0eaf-5331-4b79-82b6-3e22b2479bc8"
      },
      "source": [
        "#DE_ tradicional\n",
        "\n",
        "!git clone https://github.com/ucfilho/Raianars_July_2020 #clonar do Github\n",
        "%cd Raianars_July_2020\n",
        "\n",
        "mut=0.5\n",
        "crossp=0.5\n",
        "\n",
        "SOMA=0\n",
        "start_time = time.time()\n",
        "BEST_AGENTS=[]\n",
        "MAT_stat=[]\n",
        "\n",
        "for i in range(RUNS):\n",
        "\n",
        "    pop = np.random.rand(NPAR, dim)\n",
        "    diff=np.zeros(dim)\n",
        "    for ii in range(dim):\n",
        "      diff[ii] = MAX[ii]-MIN[ii]\n",
        "    X = MIN + pop * diff\n",
        "\n",
        "    SOMA=0\n",
        "\n",
        "    for k in range(ITE):\n",
        "      X,BEST,FOBEST,XY,BEST_XY,SOMA= de_soma_Insight.de(MAX,MIN, mut, crossp,dim,its,Fun,X,SOMA,TOTAL)\n",
        "\n",
        "    start_run = (time.time()-start_time)/60\n",
        "    print('run=',i,'total=50','Fobj=',FOBEST,'Time=',start_run)  \n",
        "    BEST_AGENTS.append(BEST_XY)"
      ],
      "execution_count": 27,
      "outputs": [
        {
          "output_type": "stream",
          "text": [
            "Cloning into 'Raianars_July_2020'...\n",
            "remote: Enumerating objects: 12, done.\u001b[K\n",
            "remote: Counting objects:   8% (1/12)\u001b[K\rremote: Counting objects:  16% (2/12)\u001b[K\rremote: Counting objects:  25% (3/12)\u001b[K\rremote: Counting objects:  33% (4/12)\u001b[K\rremote: Counting objects:  41% (5/12)\u001b[K\rremote: Counting objects:  50% (6/12)\u001b[K\rremote: Counting objects:  58% (7/12)\u001b[K\rremote: Counting objects:  66% (8/12)\u001b[K\rremote: Counting objects:  75% (9/12)\u001b[K\rremote: Counting objects:  83% (10/12)\u001b[K\rremote: Counting objects:  91% (11/12)\u001b[K\rremote: Counting objects: 100% (12/12)\u001b[K\rremote: Counting objects: 100% (12/12), done.\u001b[K\n",
            "remote: Compressing objects:   8% (1/12)\u001b[K\rremote: Compressing objects:  16% (2/12)\u001b[K\rremote: Compressing objects:  25% (3/12)\u001b[K\rremote: Compressing objects:  33% (4/12)\u001b[K\rremote: Compressing objects:  41% (5/12)\u001b[K\rremote: Compressing objects:  50% (6/12)\u001b[K\rremote: Compressing objects:  58% (7/12)\u001b[K\rremote: Compressing objects:  66% (8/12)\u001b[K\rremote: Compressing objects:  75% (9/12)\u001b[K\rremote: Compressing objects:  83% (10/12)\u001b[K\rremote: Compressing objects:  91% (11/12)\u001b[K\rremote: Compressing objects: 100% (12/12)\u001b[K\rremote: Compressing objects: 100% (12/12), done.\u001b[K\n",
            "Receiving objects:   0% (1/135)   \rReceiving objects:   1% (2/135)   \rReceiving objects:   2% (3/135)   \rReceiving objects:   3% (5/135)   \rReceiving objects:   4% (6/135)   \rReceiving objects:   5% (7/135)   \rReceiving objects:   6% (9/135)   \rReceiving objects:   7% (10/135)   \rReceiving objects:   8% (11/135)   \rReceiving objects:   9% (13/135)   \rReceiving objects:  10% (14/135)   \rReceiving objects:  11% (15/135)   \rReceiving objects:  12% (17/135)   \rReceiving objects:  13% (18/135)   \rReceiving objects:  14% (19/135)   \rReceiving objects:  15% (21/135)   \rReceiving objects:  16% (22/135)   \rReceiving objects:  17% (23/135)   \rReceiving objects:  18% (25/135)   \rReceiving objects:  19% (26/135)   \rReceiving objects:  20% (27/135)   \rReceiving objects:  21% (29/135)   \rReceiving objects:  22% (30/135)   \rReceiving objects:  23% (32/135)   \rReceiving objects:  24% (33/135)   \rReceiving objects:  25% (34/135)   \rReceiving objects:  26% (36/135)   \rReceiving objects:  27% (37/135)   \rReceiving objects:  28% (38/135)   \rReceiving objects:  29% (40/135)   \rReceiving objects:  30% (41/135)   \rReceiving objects:  31% (42/135)   \rReceiving objects:  32% (44/135)   \rReceiving objects:  33% (45/135)   \rReceiving objects:  34% (46/135)   \rReceiving objects:  35% (48/135)   \rReceiving objects:  36% (49/135)   \rReceiving objects:  37% (50/135)   \rremote: Total 135 (delta 5), reused 0 (delta 0), pack-reused 123\u001b[K\n",
            "Receiving objects:  38% (52/135)   \rReceiving objects:  39% (53/135)   \rReceiving objects:  40% (54/135)   \rReceiving objects:  41% (56/135)   \rReceiving objects:  42% (57/135)   \rReceiving objects:  43% (59/135)   \rReceiving objects:  44% (60/135)   \rReceiving objects:  45% (61/135)   \rReceiving objects:  46% (63/135)   \rReceiving objects:  47% (64/135)   \rReceiving objects:  48% (65/135)   \rReceiving objects:  49% (67/135)   \rReceiving objects:  50% (68/135)   \rReceiving objects:  51% (69/135)   \rReceiving objects:  52% (71/135)   \rReceiving objects:  53% (72/135)   \rReceiving objects:  54% (73/135)   \rReceiving objects:  55% (75/135)   \rReceiving objects:  56% (76/135)   \rReceiving objects:  57% (77/135)   \rReceiving objects:  58% (79/135)   \rReceiving objects:  59% (80/135)   \rReceiving objects:  60% (81/135)   \rReceiving objects:  61% (83/135)   \rReceiving objects:  62% (84/135)   \rReceiving objects:  63% (86/135)   \rReceiving objects:  64% (87/135)   \rReceiving objects:  65% (88/135)   \rReceiving objects:  66% (90/135)   \rReceiving objects:  67% (91/135)   \rReceiving objects:  68% (92/135)   \rReceiving objects:  69% (94/135)   \rReceiving objects:  70% (95/135)   \rReceiving objects:  71% (96/135)   \rReceiving objects:  72% (98/135)   \rReceiving objects:  73% (99/135)   \rReceiving objects:  74% (100/135)   \rReceiving objects:  75% (102/135)   \rReceiving objects:  76% (103/135)   \rReceiving objects:  77% (104/135)   \rReceiving objects:  78% (106/135)   \rReceiving objects:  79% (107/135)   \rReceiving objects:  80% (108/135)   \rReceiving objects:  81% (110/135)   \rReceiving objects:  82% (111/135)   \rReceiving objects:  83% (113/135)   \rReceiving objects:  84% (114/135)   \rReceiving objects:  85% (115/135)   \rReceiving objects:  86% (117/135)   \rReceiving objects:  87% (118/135)   \rReceiving objects:  88% (119/135)   \rReceiving objects:  89% (121/135)   \rReceiving objects:  90% (122/135)   \rReceiving objects:  91% (123/135)   \rReceiving objects:  92% (125/135)   \rReceiving objects:  93% (126/135)   \rReceiving objects:  94% (127/135)   \rReceiving objects:  95% (129/135)   \rReceiving objects:  96% (130/135)   \rReceiving objects:  97% (131/135)   \rReceiving objects:  98% (133/135)   \rReceiving objects:  99% (134/135)   \rReceiving objects: 100% (135/135)   \rReceiving objects: 100% (135/135), 200.94 KiB | 11.82 MiB/s, done.\n",
            "Resolving deltas:   0% (0/67)   \rResolving deltas:   8% (6/67)   \rResolving deltas:  59% (40/67)   \rResolving deltas:  74% (50/67)   \rResolving deltas:  79% (53/67)   \rResolving deltas:  80% (54/67)   \rResolving deltas:  86% (58/67)   \rResolving deltas:  92% (62/67)   \rResolving deltas:  95% (64/67)   \rResolving deltas: 100% (67/67)   \rResolving deltas: 100% (67/67), done.\n",
            "/content/Raianars_July_2020/ANN_read_matrix/Raianars_July_2020/Raianars_July_2020/ANN_read_matrix/Raianars_July_2020\n",
            "run= 0 total=50 Fobj= 3.438517097962775e-62 Time= 0.31327861150105796\n",
            "run= 1 total=50 Fobj= 1.7424940755783663e-71 Time= 0.626011069615682\n",
            "run= 2 total=50 Fobj= 1.7426802037209098e-56 Time= 0.9405158281326294\n",
            "run= 3 total=50 Fobj= 1.7367075458722295e-76 Time= 1.2566986719767252\n",
            "run= 4 total=50 Fobj= 2.2520937936368588e-74 Time= 1.5727408289909364\n",
            "run= 5 total=50 Fobj= 1.1012958486706718e-74 Time= 1.8847904642422995\n",
            "run= 6 total=50 Fobj= 1.22780877275352e-75 Time= 2.1999942898750304\n",
            "run= 7 total=50 Fobj= 1.5337286853413382e-76 Time= 2.5149430990219117\n",
            "run= 8 total=50 Fobj= 2.0366550970962116e-75 Time= 2.8287503282229105\n",
            "run= 9 total=50 Fobj= 6.410572306194919e-78 Time= 3.140023358662923\n",
            "run= 10 total=50 Fobj= 2.214029932291806e-77 Time= 3.4534773508707683\n",
            "run= 11 total=50 Fobj= 5.712162846675915e-66 Time= 3.767711393038432\n",
            "run= 12 total=50 Fobj= 4.3003531385281934e-76 Time= 4.081646656990051\n",
            "run= 13 total=50 Fobj= 1.361560188544485e-71 Time= 4.3996890664100645\n",
            "run= 14 total=50 Fobj= 7.848177424280762e-73 Time= 4.713507187366486\n",
            "run= 15 total=50 Fobj= 3.525736802042707e-76 Time= 5.028926412264506\n",
            "run= 16 total=50 Fobj= 2.8162303028104736e-71 Time= 5.344156674544016\n",
            "run= 17 total=50 Fobj= 4.5005727172131807e-72 Time= 5.656927816073099\n",
            "run= 18 total=50 Fobj= 1.09111781464284e-61 Time= 5.970268229643504\n",
            "run= 19 total=50 Fobj= 1.7779839466645645e-75 Time= 6.282701043287913\n",
            "run= 20 total=50 Fobj= 2.3988894077744374e-71 Time= 6.5970565716425575\n",
            "run= 21 total=50 Fobj= 3.338257451321735e-74 Time= 6.911530379454295\n",
            "run= 22 total=50 Fobj= 2.0784922390138405e-76 Time= 7.227591605981191\n",
            "run= 23 total=50 Fobj= 1.423005411163475e-41 Time= 7.543817830085755\n",
            "run= 24 total=50 Fobj= 2.6182281790866175e-73 Time= 7.859697230656942\n",
            "run= 25 total=50 Fobj= 6.466181664657658e-76 Time= 8.17768055597941\n",
            "run= 26 total=50 Fobj= 1.8747002709128444e-71 Time= 8.493635996182759\n",
            "run= 27 total=50 Fobj= 2.480373555740343e-50 Time= 8.811855900287629\n",
            "run= 28 total=50 Fobj= 2.304361716196659e-76 Time= 9.12793527841568\n",
            "run= 29 total=50 Fobj= 1.119235727950493e-73 Time= 9.448488601048787\n",
            "run= 30 total=50 Fobj= 1.429276189159619e-76 Time= 9.779435205459595\n",
            "run= 31 total=50 Fobj= 6.267560006717725e-60 Time= 10.120257099469503\n",
            "run= 32 total=50 Fobj= 3.9770379661524e-75 Time= 10.460740812619527\n",
            "run= 33 total=50 Fobj= 3.736297188396195e-72 Time= 10.78527243534724\n",
            "run= 34 total=50 Fobj= 4.1193546382533104e-70 Time= 11.107468330860138\n",
            "run= 35 total=50 Fobj= 1.6284455338444578e-77 Time= 11.431305638949077\n",
            "run= 36 total=50 Fobj= 1.9282348461950568e-54 Time= 11.755760510762533\n",
            "run= 37 total=50 Fobj= 6.991299783179009e-75 Time= 12.07989012002945\n",
            "run= 38 total=50 Fobj= 2.1647171735635248e-77 Time= 12.398598798116048\n",
            "run= 39 total=50 Fobj= 3.121408214002338e-49 Time= 12.716600441932679\n",
            "run= 40 total=50 Fobj= 5.4620383029389354e-76 Time= 13.037737707297007\n",
            "run= 41 total=50 Fobj= 2.7556991929658982e-76 Time= 13.356840674082438\n",
            "run= 42 total=50 Fobj= 2.549596075430574e-76 Time= 13.682788133621216\n",
            "run= 43 total=50 Fobj= 1.195781024909785e-77 Time= 14.016418492794037\n",
            "run= 44 total=50 Fobj= 6.706763127522163e-77 Time= 14.351931655406952\n",
            "run= 45 total=50 Fobj= 1.0260983672253774e-76 Time= 14.692523554960887\n",
            "run= 46 total=50 Fobj= 2.7493313248789015e-76 Time= 15.020557415485381\n",
            "run= 47 total=50 Fobj= 1.8083998321146254e-64 Time= 15.348850870132447\n",
            "run= 48 total=50 Fobj= 9.575278857303411e-55 Time= 15.675231420993805\n",
            "run= 49 total=50 Fobj= 6.094199934252199e-62 Time= 16.004526380697886\n"
          ],
          "name": "stdout"
        }
      ]
    },
    {
      "cell_type": "code",
      "metadata": {
        "id": "3W8R6htAHO63",
        "colab_type": "code",
        "colab": {
          "base_uri": "https://localhost:8080/",
          "height": 323
        },
        "outputId": "c86cd573-9958-48d0-bd57-e175bbbf7318"
      },
      "source": [
        "############################## Cálculo dos Parâmetros de Avaliação   \n",
        "TIME = (time.time() - start_time)/RUNS\n",
        "BEST_AGENTS=np.array(BEST_AGENTS)\n",
        "BEST_AGENTS_ST= BEST_AGENTS[BEST_AGENTS[:,-1].argsort()]\n",
        "BEST=BEST_AGENTS_ST[0]\n",
        "WORSE=BEST_AGENTS_ST[-1]\n",
        "MEAN=np.mean(BEST_AGENTS,axis=0)\n",
        "MAXFO=BEST_AGENTS[:,-1].max()\n",
        "MINFO=BEST_AGENTS[:,-1].min()\n",
        "STD=BEST_AGENTS[:,-1].std()\n",
        "\n",
        "nome='DE_STAT_Fo-'+str(mut)+'_CRo-'+str(crossp)+'_D-'+str(dim)+'_Interv-'+str(ITE)\n",
        "print('DE_','TOTAL=',TOTAL,'Iterações=',ITE*its,'Dim=', dim,\"Min/Max=\",MIN[0],\"/\",MAX[0],'_',Fun.__name__)\n",
        "print(nome, '\\n')\n",
        "#print('BEST: ',BEST)\n",
        "#print('MÉDIA: ',MEAN)\n",
        "print('MÉDIA: ',MEAN[-1])\n",
        "print('MIN __:',MINFO)\n",
        "print('MAX__: ',MAXFO)\n",
        "print('STD __:',STD)\n",
        "print(\"Tempo Médio= %.3f segundos ---\" % (TIME))\n",
        "print(RUNS,'Rodadas') \n",
        "print()\n",
        "print('BEST: ',BEST)"
      ],
      "execution_count": 28,
      "outputs": [
        {
          "output_type": "stream",
          "text": [
            "DE_ TOTAL= 300000 Iterações= 2000 Dim= 30 Min/Max= -1 / 1 _ Sum_of_different_powers\n",
            "DE_STAT_Fo-0.5_CRo-0.5_D-30_Interv-2000 \n",
            "\n",
            "MÉDIA:  2.846010889716442e-43\n",
            "MIN __: 6.410572306194919e-78\n",
            "MAX__:  1.423005411163475e-41\n",
            "STD __: 1.9922075746661585e-42\n",
            "Tempo Médio= 19.206 segundos ---\n",
            "50 Rodadas\n",
            "\n",
            "BEST:  [-1.02992254e-39 -1.78586476e-27 -4.36151039e-21 -2.10179964e-16\n",
            "  8.71604200e-14  3.30324524e-12  9.80571391e-12  1.52399983e-09\n",
            "  1.31672165e-08  5.95701966e-08  3.50895676e-07 -9.58410403e-07\n",
            " -3.97502862e-07  1.78031184e-06  1.02089810e-05  3.99639926e-06\n",
            " -7.08006920e-06  1.92931017e-05  4.57551372e-05  1.51957780e-04\n",
            " -2.61141252e-04 -1.45940143e-04 -3.09682251e-05 -6.50869593e-04\n",
            " -5.55247585e-04  1.88142330e-04  9.56307998e-04  8.55225537e-04\n",
            " -1.97350008e-03  2.56737387e-03  6.41057231e-78]\n"
          ],
          "name": "stdout"
        }
      ]
    }
  ]
}