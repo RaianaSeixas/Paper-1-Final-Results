{
  "nbformat": 4,
  "nbformat_minor": 0,
  "metadata": {
    "colab": {
      "name": "Stats_2000_sum_squares_function_ALL3_D_10_0.25_0.25.ipynb",
      "provenance": [],
      "collapsed_sections": [],
      "include_colab_link": true
    },
    "kernelspec": {
      "name": "python3",
      "display_name": "Python 3"
    }
  },
  "cells": [
    {
      "cell_type": "markdown",
      "metadata": {
        "id": "view-in-github",
        "colab_type": "text"
      },
      "source": [
        "<a href=\"https://colab.research.google.com/github/RaianaSeixas/Paper-1-Final-Results/blob/master/Stats_2000_sum_squares_function_ALL3_D_10_0_25_0_25.ipynb\" target=\"_parent\"><img src=\"https://colab.research.google.com/assets/colab-badge.svg\" alt=\"Open In Colab\"/></a>"
      ]
    },
    {
      "cell_type": "code",
      "metadata": {
        "id": "MC26Bm1UyUR5",
        "colab_type": "code",
        "colab": {
          "base_uri": "https://localhost:8080/",
          "height": 34
        },
        "outputId": "7592319c-6c77-40d8-ef6d-e9ef1d0f6c8f"
      },
      "source": [
        "!pip install pyade-python"
      ],
      "execution_count": 44,
      "outputs": [
        {
          "output_type": "stream",
          "text": [
            "Requirement already satisfied: pyade-python in /usr/local/lib/python3.6/dist-packages (1.1)\n"
          ],
          "name": "stdout"
        }
      ]
    },
    {
      "cell_type": "code",
      "metadata": {
        "id": "rRwqrtCmgzdZ",
        "colab_type": "code",
        "colab": {}
      },
      "source": [
        "#!pip install PyFDE"
      ],
      "execution_count": 45,
      "outputs": []
    },
    {
      "cell_type": "code",
      "metadata": {
        "id": "anFukot-ypn6",
        "colab_type": "code",
        "colab": {}
      },
      "source": [
        "import pyade.ilshade \n",
        "import pyade.sade \n",
        "import pyade.jso\n",
        "import pyade.shade\n",
        "import pyade.jade \n",
        "import pyfde\n",
        "import numpy as np\n",
        "import pandas as pd\n",
        "import time"
      ],
      "execution_count": 46,
      "outputs": []
    },
    {
      "cell_type": "code",
      "metadata": {
        "id": "6Oh714_-z1Ia",
        "colab_type": "code",
        "colab": {
          "base_uri": "https://localhost:8080/",
          "height": 173
        },
        "outputId": "eb0a61b6-a007-4643-fd29-0e8074146629"
      },
      "source": [
        "!git clone https://github.com/ucfilho/Raianars_July_2020 #clonar do Github\n",
        "%cd Raianars_July_2020"
      ],
      "execution_count": 47,
      "outputs": [
        {
          "output_type": "stream",
          "text": [
            "Cloning into 'Raianars_July_2020'...\n",
            "remote: Enumerating objects: 9, done.\u001b[K\n",
            "remote: Counting objects:  11% (1/9)\u001b[K\rremote: Counting objects:  22% (2/9)\u001b[K\rremote: Counting objects:  33% (3/9)\u001b[K\rremote: Counting objects:  44% (4/9)\u001b[K\rremote: Counting objects:  55% (5/9)\u001b[K\rremote: Counting objects:  66% (6/9)\u001b[K\rremote: Counting objects:  77% (7/9)\u001b[K\rremote: Counting objects:  88% (8/9)\u001b[K\rremote: Counting objects: 100% (9/9)\u001b[K\rremote: Counting objects: 100% (9/9), done.\u001b[K\n",
            "remote: Compressing objects:  11% (1/9)\u001b[K\rremote: Compressing objects:  22% (2/9)\u001b[K\rremote: Compressing objects:  33% (3/9)\u001b[K\rremote: Compressing objects:  44% (4/9)\u001b[K\rremote: Compressing objects:  55% (5/9)\u001b[K\rremote: Compressing objects:  66% (6/9)\u001b[K\rremote: Compressing objects:  77% (7/9)\u001b[K\rremote: Compressing objects:  88% (8/9)\u001b[K\rremote: Compressing objects: 100% (9/9)\u001b[K\rremote: Compressing objects: 100% (9/9), done.\u001b[K\n",
            "Receiving objects:   0% (1/132)   \rReceiving objects:   1% (2/132)   \rReceiving objects:   2% (3/132)   \rReceiving objects:   3% (4/132)   \rReceiving objects:   4% (6/132)   \rReceiving objects:   5% (7/132)   \rReceiving objects:   6% (8/132)   \rReceiving objects:   7% (10/132)   \rReceiving objects:   8% (11/132)   \rReceiving objects:   9% (12/132)   \rReceiving objects:  10% (14/132)   \rReceiving objects:  11% (15/132)   \rReceiving objects:  12% (16/132)   \rReceiving objects:  13% (18/132)   \rReceiving objects:  14% (19/132)   \rReceiving objects:  15% (20/132)   \rReceiving objects:  16% (22/132)   \rReceiving objects:  17% (23/132)   \rReceiving objects:  18% (24/132)   \rReceiving objects:  19% (26/132)   \rReceiving objects:  20% (27/132)   \rReceiving objects:  21% (28/132)   \rReceiving objects:  22% (30/132)   \rReceiving objects:  23% (31/132)   \rReceiving objects:  24% (32/132)   \rReceiving objects:  25% (33/132)   \rReceiving objects:  26% (35/132)   \rReceiving objects:  27% (36/132)   \rReceiving objects:  28% (37/132)   \rReceiving objects:  29% (39/132)   \rReceiving objects:  30% (40/132)   \rReceiving objects:  31% (41/132)   \rReceiving objects:  32% (43/132)   \rReceiving objects:  33% (44/132)   \rReceiving objects:  34% (45/132)   \rReceiving objects:  35% (47/132)   \rReceiving objects:  36% (48/132)   \rReceiving objects:  37% (49/132)   \rReceiving objects:  38% (51/132)   \rremote: Total 132 (delta 3), reused 0 (delta 0), pack-reused 123\u001b[K\n",
            "Receiving objects:  39% (52/132)   \rReceiving objects:  40% (53/132)   \rReceiving objects:  41% (55/132)   \rReceiving objects:  42% (56/132)   \rReceiving objects:  43% (57/132)   \rReceiving objects:  44% (59/132)   \rReceiving objects:  45% (60/132)   \rReceiving objects:  46% (61/132)   \rReceiving objects:  47% (63/132)   \rReceiving objects:  48% (64/132)   \rReceiving objects:  49% (65/132)   \rReceiving objects:  50% (66/132)   \rReceiving objects:  51% (68/132)   \rReceiving objects:  52% (69/132)   \rReceiving objects:  53% (70/132)   \rReceiving objects:  54% (72/132)   \rReceiving objects:  55% (73/132)   \rReceiving objects:  56% (74/132)   \rReceiving objects:  57% (76/132)   \rReceiving objects:  58% (77/132)   \rReceiving objects:  59% (78/132)   \rReceiving objects:  60% (80/132)   \rReceiving objects:  61% (81/132)   \rReceiving objects:  62% (82/132)   \rReceiving objects:  63% (84/132)   \rReceiving objects:  64% (85/132)   \rReceiving objects:  65% (86/132)   \rReceiving objects:  66% (88/132)   \rReceiving objects:  67% (89/132)   \rReceiving objects:  68% (90/132)   \rReceiving objects:  69% (92/132)   \rReceiving objects:  70% (93/132)   \rReceiving objects:  71% (94/132)   \rReceiving objects:  72% (96/132)   \rReceiving objects:  73% (97/132)   \rReceiving objects:  74% (98/132)   \rReceiving objects:  75% (99/132)   \rReceiving objects:  76% (101/132)   \rReceiving objects:  77% (102/132)   \rReceiving objects:  78% (103/132)   \rReceiving objects:  79% (105/132)   \rReceiving objects:  80% (106/132)   \rReceiving objects:  81% (107/132)   \rReceiving objects:  82% (109/132)   \rReceiving objects:  83% (110/132)   \rReceiving objects:  84% (111/132)   \rReceiving objects:  85% (113/132)   \rReceiving objects:  86% (114/132)   \rReceiving objects:  87% (115/132)   \rReceiving objects:  88% (117/132)   \rReceiving objects:  89% (118/132)   \rReceiving objects:  90% (119/132)   \rReceiving objects:  91% (121/132)   \rReceiving objects:  92% (122/132)   \rReceiving objects:  93% (123/132)   \rReceiving objects:  94% (125/132)   \rReceiving objects:  95% (126/132)   \rReceiving objects:  96% (127/132)   \rReceiving objects:  97% (129/132)   \rReceiving objects:  98% (130/132)   \rReceiving objects:  99% (131/132)   \rReceiving objects: 100% (132/132)   \rReceiving objects: 100% (132/132), 200.33 KiB | 12.52 MiB/s, done.\n",
            "Resolving deltas:   0% (0/65)   \rResolving deltas:   9% (6/65)   \rResolving deltas:  61% (40/65)   \rResolving deltas:  76% (50/65)   \rResolving deltas:  81% (53/65)   \rResolving deltas:  83% (54/65)   \rResolving deltas:  87% (57/65)   \rResolving deltas:  90% (59/65)   \rResolving deltas: 100% (65/65)   \rResolving deltas: 100% (65/65), done.\n",
            "/content/Raianars_July_2020/ANN_read_matrix/Raianars_July_2020/ANN_read_matrix/Raianars_July_2020/Raianars_July_2020/ANN_read_matrix/Raianars_July_2020/Raianars_July_2020\n"
          ],
          "name": "stdout"
        }
      ]
    },
    {
      "cell_type": "code",
      "metadata": {
        "id": "LnzftXkky78A",
        "colab_type": "code",
        "colab": {}
      },
      "source": [
        "import Go2Ann\n",
        "import de_soma_Insight\n",
        "import de_bounds_matriz\n",
        "from AvaliaX import AvaliaX\n",
        "from GeraIndices import GeraIndices"
      ],
      "execution_count": 48,
      "outputs": []
    },
    {
      "cell_type": "code",
      "metadata": {
        "id": "HNW92728z7fR",
        "colab_type": "code",
        "colab": {}
      },
      "source": [
        "import Function\n",
        "import Go2MinMax"
      ],
      "execution_count": 49,
      "outputs": []
    },
    {
      "cell_type": "code",
      "metadata": {
        "id": "T_C-e7aH0CZH",
        "colab_type": "code",
        "colab": {}
      },
      "source": [
        "ITE=2000 #10 # PONTOS quantas vezes vai alteral NPAR \n",
        "NPAR=100 # NUMBER OF PARTICLES\n",
        "dim=10\n",
        "RUNS=50\n",
        "fchoice='sum_squares_function'  #US\n",
        "Fun=Function.sum_squares_function\n",
        "\n",
        "MIN,MAX=Go2MinMax.Intervalo(dim,fchoice)\n",
        "bounds = [(0,0)]*dim\n",
        "\n",
        "for i in range(dim):\n",
        "  bounds[i] = (MIN[i],MAX[i])"
      ],
      "execution_count": 50,
      "outputs": []
    },
    {
      "cell_type": "code",
      "metadata": {
        "id": "Nqv5qp9yzQEw",
        "colab_type": "code",
        "colab": {}
      },
      "source": [
        "############################### INPUT INFORMATION (FRANNK)\n",
        "Fc=0.1 # fator de correcao parametros da ANN\n",
        "its=1 #10 # quantas vezes vai usar o NPAR antes de alterar de novo\n",
        "mut=0.25\n",
        "crossp=0.25\n",
        "Fi=mut;CRi=crossp;# para impressão\n",
        "PAR=len(MAX) #NUM DE PARAMETROS A SER OTIMIZADOS"
      ],
      "execution_count": 51,
      "outputs": []
    },
    {
      "cell_type": "code",
      "metadata": {
        "id": "q77YsFa82zFU",
        "colab_type": "code",
        "colab": {
          "base_uri": "https://localhost:8080/",
          "height": 238
        },
        "outputId": "1ffd5fd9-a815-4290-95ec-fd80c6bb2200"
      },
      "source": [
        "# JADE\n",
        "algorithm = pyade.jso\n",
        "BEST_AGENTS=[]\n",
        "for i in range(RUNS):\n",
        "  ANSWER_AGENTS=[]\n",
        "  solver = pyfde.JADE(Fun, n_dim=dim, n_pop=NPAR, limits=bounds, minimize=True)\n",
        "  solver.p = 0.05\n",
        "  solver.c = 0.1\n",
        "  solver.cr = 0.5\n",
        "  solver.f = 0.5\n",
        "  best, fit = solver.run(n_it=ITE)\n",
        "  for x in best:\n",
        "    ANSWER_AGENTS.append(x)\n",
        "  ANSWER_AGENTS.append(fit)\n",
        "  BEST_AGENTS.append(ANSWER_AGENTS)\n",
        "BEST_AGENTS=np.array(BEST_AGENTS)\n",
        "TIME = (time.time() - start_time)/RUNS\n",
        "BEST_AGENTS=np.array(BEST_AGENTS)\n",
        "BEST_AGENTS_ST= BEST_AGENTS[BEST_AGENTS[:,-1].argsort()]\n",
        "BEST=BEST_AGENTS_ST[0]\n",
        "WORSE=BEST_AGENTS_ST[-1]\n",
        "MEAN=np.mean(BEST_AGENTS,axis=0)\n",
        "MAXFO=BEST_AGENTS[:,-1].max()\n",
        "MINFO=BEST_AGENTS[:,-1].min()\n",
        "STD=BEST_AGENTS[:,-1].std()\n",
        "nome='JADE_Fo-'+str(0)+'_CRo-'+str(0)\n",
        "print(nome,'NPAR',NPAR,'Iterações=',ITE,'Dim=',dim ,\"Min/Max=\",MIN[0],\"/\",MAX[0],'_',Fun.__name__)\n",
        "print( '\\n')\n",
        "print('MÉDIA: ',MEAN[-1])\n",
        "print('MIN __:',MINFO)\n",
        "print('MAX__: ',MAXFO)\n",
        "print('STD __:',STD)\n",
        "print(\"Tempo Médio= %.3f segundos ---\" % (TIME))\n",
        "print(RUNS,'Rodadas') \n",
        "print()\n",
        "print('BEST: ',BEST)"
      ],
      "execution_count": 52,
      "outputs": [
        {
          "output_type": "stream",
          "text": [
            "JADE_Fo-0_CRo-0 NPAR 100 Iterações= 2000 Dim= 10 Min/Max= -10 / 10 _ sum_squares_function\n",
            "\n",
            "\n",
            "MÉDIA:  -3.377132124526089e-90\n",
            "MIN __: -1.09832858583081e-88\n",
            "MAX__:  -2.3560412667263333e-108\n",
            "STD __: 1.62309539280994e-89\n",
            "Tempo Médio= 144.878 segundos ---\n",
            "50 Rodadas\n",
            "\n",
            "BEST:  [ 1.15730737e-45  1.57801946e-45  1.21115091e-45 -1.47417717e-45\n",
            "  3.84642602e-45  3.89993164e-46 -6.59017911e-46 -6.83548732e-47\n",
            " -1.08758493e-45 -4.25339955e-46 -1.09832859e-88]\n"
          ],
          "name": "stdout"
        }
      ]
    },
    {
      "cell_type": "code",
      "metadata": {
        "id": "gXdUgSStzppX",
        "colab_type": "code",
        "colab": {}
      },
      "source": [
        "# FRANNK START HERE !!!!!"
      ],
      "execution_count": 53,
      "outputs": []
    },
    {
      "cell_type": "code",
      "metadata": {
        "id": "raWOfeJBztuj",
        "colab_type": "code",
        "colab": {
          "base_uri": "https://localhost:8080/",
          "height": 156
        },
        "outputId": "7d26299e-b9d5-441b-810e-84e702cd832e"
      },
      "source": [
        "!git clone https://github.com/ucfilho/ANN_read_matrix #clonar do Github\n",
        "%cd ANN_read_matrix"
      ],
      "execution_count": 54,
      "outputs": [
        {
          "output_type": "stream",
          "text": [
            "Cloning into 'ANN_read_matrix'...\n",
            "remote: Enumerating objects: 20, done.\u001b[K\n",
            "remote: Counting objects:   5% (1/20)\u001b[K\rremote: Counting objects:  10% (2/20)\u001b[K\rremote: Counting objects:  15% (3/20)\u001b[K\rremote: Counting objects:  20% (4/20)\u001b[K\rremote: Counting objects:  25% (5/20)\u001b[K\rremote: Counting objects:  30% (6/20)\u001b[K\rremote: Counting objects:  35% (7/20)\u001b[K\rremote: Counting objects:  40% (8/20)\u001b[K\rremote: Counting objects:  45% (9/20)\u001b[K\rremote: Counting objects:  50% (10/20)\u001b[K\rremote: Counting objects:  55% (11/20)\u001b[K\rremote: Counting objects:  60% (12/20)\u001b[K\rremote: Counting objects:  65% (13/20)\u001b[K\rremote: Counting objects:  70% (14/20)\u001b[K\rremote: Counting objects:  75% (15/20)\u001b[K\rremote: Counting objects:  80% (16/20)\u001b[K\rremote: Counting objects:  85% (17/20)\u001b[K\rremote: Counting objects:  90% (18/20)\u001b[K\rremote: Counting objects:  95% (19/20)\u001b[K\rremote: Counting objects: 100% (20/20)\u001b[K\rremote: Counting objects: 100% (20/20), done.\u001b[K\n",
            "remote: Compressing objects:   5% (1/18)\u001b[K\rremote: Compressing objects:  11% (2/18)\u001b[K\rremote: Compressing objects:  16% (3/18)\u001b[K\rremote: Compressing objects:  22% (4/18)\u001b[K\rremote: Compressing objects:  27% (5/18)\u001b[K\rremote: Compressing objects:  33% (6/18)\u001b[K\rremote: Compressing objects:  38% (7/18)\u001b[K\rremote: Compressing objects:  44% (8/18)\u001b[K\rremote: Compressing objects:  50% (9/18)\u001b[K\rremote: Compressing objects:  55% (10/18)\u001b[K\rremote: Compressing objects:  61% (11/18)\u001b[K\rremote: Compressing objects:  66% (12/18)\u001b[K\rremote: Compressing objects:  72% (13/18)\u001b[K\rremote: Compressing objects:  77% (14/18)\u001b[K\rremote: Compressing objects:  83% (15/18)\u001b[K\rremote: Compressing objects:  88% (16/18)\u001b[K\rremote: Compressing objects:  94% (17/18)\u001b[K\rremote: Compressing objects: 100% (18/18)\u001b[K\rremote: Compressing objects: 100% (18/18), done.\u001b[K\n",
            "remote: Total 20 (delta 5), reused 0 (delta 0), pack-reused 0\u001b[K\n",
            "Unpacking objects:   5% (1/20)   \rUnpacking objects:  10% (2/20)   \rUnpacking objects:  15% (3/20)   \rUnpacking objects:  20% (4/20)   \rUnpacking objects:  25% (5/20)   \rUnpacking objects:  30% (6/20)   \rUnpacking objects:  35% (7/20)   \rUnpacking objects:  40% (8/20)   \rUnpacking objects:  45% (9/20)   \rUnpacking objects:  50% (10/20)   \rUnpacking objects:  55% (11/20)   \rUnpacking objects:  60% (12/20)   \rUnpacking objects:  65% (13/20)   \rUnpacking objects:  70% (14/20)   \rUnpacking objects:  75% (15/20)   \rUnpacking objects:  80% (16/20)   \rUnpacking objects:  85% (17/20)   \rUnpacking objects:  90% (18/20)   \rUnpacking objects:  95% (19/20)   \rUnpacking objects: 100% (20/20)   \rUnpacking objects: 100% (20/20), done.\n",
            "/content/Raianars_July_2020/ANN_read_matrix/Raianars_July_2020/ANN_read_matrix/Raianars_July_2020/Raianars_July_2020/ANN_read_matrix/Raianars_July_2020/Raianars_July_2020/ANN_read_matrix\n"
          ],
          "name": "stdout"
        }
      ]
    },
    {
      "cell_type": "code",
      "metadata": {
        "id": "N2lyPfivzwGv",
        "colab_type": "code",
        "colab": {
          "base_uri": "https://localhost:8080/",
          "height": 1000
        },
        "outputId": "79bee014-db17-4a20-d570-a32a137fcc5e"
      },
      "source": [
        "ANN_F=pd.read_csv('ANN_INSIGHT_Valor_F.csv')\n",
        "ANN_CR=pd.read_csv('ANN_INSIGHT_CR.csv')\n",
        "syn0_F,syn1_F,X_max_F,X_min_F=Go2Ann.GetMatriz(ANN_F)\n",
        "syn0_CR,syn1_CR,X_max_CR,X_min_CR=Go2Ann.GetMatriz(ANN_CR)\n",
        "fields = ['DI RELATIVO','FRAC Its','Fo','CRo']\n",
        "\n",
        "#TOTAL=7*dim*its*ITE\n",
        "TOTAL=10*dim*its*ITE\n",
        "TOTAL=int(TOTAL/2)   # CONFERIR SE ESTE EH O MELHOR LUGAR\n",
        "\n",
        "dimensions=len(MAX)\n",
        "start_time = time.time() #INICIALIZA CONTAGEM DO TEMPO\n",
        "\n",
        "MAX_P=np.zeros(ITE) # ATENCAO para variar F e Cr MAX_P passa a ser 3 vezes maior\n",
        "MIN_P=np.zeros(ITE) # ATENCAO para variar F e Cr MIN_P passa a ser 3 vezes maior\n",
        "\n",
        "for i in range(dim):\n",
        "  MAX_P[i]=MAX[i] \n",
        "  MIN_P[i]=MIN[i]\n",
        "\n",
        "rodadas=1\n",
        "for i in range(rodadas):\n",
        "  SOMA=0\n",
        "  pop = np.random.rand(NPAR, dimensions)\n",
        "  diff=np.zeros(PAR)\n",
        "  for ii in range(PAR):\n",
        "    diff[ii] = MAX[ii]-MIN[ii]\n",
        "  X = MIN + pop * diff\n",
        "    \n",
        "  PONTOS=ITE # DIVISOES DA POPULACAO\n",
        "start_time = time.time()\n",
        "BEST_AGENTS=[]\n",
        "MAT_stat=[]\n",
        "for i in range(RUNS):\n",
        "    MAT=[] \n",
        "    mut=Fi\n",
        "    crossp=CRi\n",
        "    SOMA=0\n",
        "    SOMAf=0\n",
        "    start_ite = time.time()\n",
        "    delta_time=(start_ite-start_time)/60\n",
        "    print('ite=',i,'total=50','time=',delta_time)\n",
        "    pop = np.random.rand(NPAR, dim)\n",
        "    diff=np.zeros(PAR)\n",
        "    for ii in range(PAR):\n",
        "      diff[ii] = MAX[ii]-MIN[ii]\n",
        "    X = MIN + pop * diff\n",
        "    Xf = MIN + pop * diff\n",
        "    \n",
        "    DIo=1e99\n",
        "  \n",
        "    CRo=crossp;Fo=mut;\n",
        "    Fitness = np.asarray([Fun(ind) for ind in X])\n",
        "\n",
        "    XY,BEST_XY,BESTo,FOBESTo=AvaliaX(X,Fitness)\n",
        "    nrow,ncol=X.shape\n",
        "\n",
        "    QUANT=17;MAT_INDo=np.zeros((1,QUANT)); # quantos indices esta fazendo\n",
        "    MAT_INDo[0,5]=nrow  # VALOR NP\n",
        "    MAT_INDo[0,6]=Fo    # VALOR Fo   \n",
        "    MAT_INDo[0,7]=CRo   # VALOR CRo\n",
        "  \n",
        "    MAT_INDo=GeraIndices(X,BESTo,FOBESTo,DIo,MAT_INDo,SOMA,TOTAL,syn0_F,\n",
        "                        syn1_F,X_max_F,X_min_F,syn0_CR,syn1_CR,X_max_CR,\n",
        "                        X_min_CR,Fc,fields,Fun)\n",
        "  \n",
        "    DIo=np.copy(MAT_INDo[0,0])\n",
        "    MAT_INDo[0,15]=Fo    # VALOR Fo   \n",
        "    MAT_INDo[0,16]=CRo   # VALOR CRo\n",
        "    #ind_crossp=ITE-1\n",
        "\n",
        "    \n",
        "    for k in range(ITE):\n",
        "      X,BEST,FOBEST,XY,BEST_XY,SOMA= de_soma_Insight.de(MAX,MIN, mut, crossp,NPAR,its,Fun,X,SOMA,TOTAL)\n",
        "      #Xf,BESTf,FOBESTf,XYf,BEST_XYf,SOMAf= de_soma_Insight.de(MAX,MIN, Fi, CRi, NPAR,its,Fun,Xf,SOMAf,TOTAL)\n",
        "\n",
        "      \n",
        "      MAT_IND=GeraIndices(X,BESTo,FOBESTo,DIo,MAT_INDo,SOMA,TOTAL,syn0_F,\n",
        "                          syn1_F,X_max_F,X_min_F,syn0_CR,syn1_CR,X_max_CR,\n",
        "                          X_min_CR,Fc,fields,Fun)\n",
        "    \n",
        "      BESTo=np.copy(BEST);FOBESTo=np.copy(FOBEST);\n",
        "      MAT.append(MAT_IND.ravel())\n",
        "    \n",
        "      MAT_INDo[0,6]=MAT_IND[0,15]   # VALOR Fo   \n",
        "      MAT_INDo[0,7]=MAT_IND[0,16]   # VALOR CRo\n",
        "      mut=MAT_IND[0,15]\n",
        "      crossp=MAT_IND[0,16]\n",
        "\n",
        "      Fitness = np.asarray([Fun(ind) for ind in X])\n",
        "      #Fitnessf = np.asarray([Fun(ind) for ind in Xf])\n",
        "      Maior=np.argmax(Fitness)\n",
        "      #Maiorf=np.argmax(Fitnessf)\n",
        "      Menor=np.argmin(Fitness)\n",
        "      #Menorf=np.argmin(Fitnessf)\n",
        "\n",
        "      #X[Maior,:]=np.copy(Xf[Menorf,:])\n",
        "      #Xf[Maiorf,:]=np.copy(X[Menor,:])\n",
        "      \n",
        "    BEST_AGENTS.append(BEST_XY)\n",
        "    MAT_stat.append(MAT)\n",
        "    #print(\"GlobalParam e Solucao:\", BEST,\"Funcao=\",FOBEST)\n",
        "    \n",
        "############################## Cálculo dos Parâmetros de Avaliação   \n",
        "TIME = (time.time() - start_time)/RUNS\n",
        "BEST_AGENTS=np.array(BEST_AGENTS)\n",
        "BEST_AGENTS_ST= BEST_AGENTS[BEST_AGENTS[:,-1].argsort()]\n",
        "BEST=BEST_AGENTS_ST[0]\n",
        "WORSE=BEST_AGENTS_ST[-1]\n",
        "MEAN=np.mean(BEST_AGENTS,axis=0)\n",
        "MAXFO=BEST_AGENTS[:,-1].max()\n",
        "MINFO=BEST_AGENTS[:,-1].min()\n",
        "STD=BEST_AGENTS[:,-1].std()\n",
        "\n",
        "print()\n",
        "nome='_ANN_Div3x4_Fo-'+str(Fi)+'_CRo-'+str(CRi)+'_D-'+str(dim)+'_Interv-'+str(ITE)\n",
        "print('DE_POP_VAR_F_CR','TOTAL=',TOTAL,'Iterações=',ITE*its,'Dim=', PAR,\"Min/Max=\",MIN[0],\"/\",MAX[0],'_',Fun.__name__)\n",
        "print(nome, '\\n')\n",
        "print('MÉDIA: ',MEAN[-1])\n",
        "print('MIN __:',MINFO)\n",
        "print('MAX__: ',MAXFO)\n",
        "print('STD __:',STD)\n",
        "print(\"Tempo Médio= %.3f segundos ---\" % (TIME))\n",
        "print(RUNS,'Rodadas') \n",
        "print()\n",
        "print('BEST: ',BEST)"
      ],
      "execution_count": 55,
      "outputs": [
        {
          "output_type": "stream",
          "text": [
            "ite= 0 total=50 time= 2.096096674601237e-05\n",
            "ite= 1 total=50 time= 0.7962386250495911\n",
            "ite= 2 total=50 time= 1.60014568567276\n",
            "ite= 3 total=50 time= 2.401784670352936\n",
            "ite= 4 total=50 time= 3.2038068254788716\n",
            "ite= 5 total=50 time= 3.9993239363034565\n",
            "ite= 6 total=50 time= 4.798764928181966\n",
            "ite= 7 total=50 time= 5.592664980888367\n",
            "ite= 8 total=50 time= 6.391621486345927\n",
            "ite= 9 total=50 time= 7.185044384002685\n",
            "ite= 10 total=50 time= 7.983733820915222\n",
            "ite= 11 total=50 time= 8.777425722281139\n",
            "ite= 12 total=50 time= 9.573405603567759\n",
            "ite= 13 total=50 time= 10.370442569255829\n",
            "ite= 14 total=50 time= 11.170008969306945\n",
            "ite= 15 total=50 time= 11.966505157947541\n",
            "ite= 16 total=50 time= 12.75637109676997\n",
            "ite= 17 total=50 time= 13.550711929798126\n",
            "ite= 18 total=50 time= 14.341329904397329\n",
            "ite= 19 total=50 time= 15.137676759560902\n",
            "ite= 20 total=50 time= 15.934366834163665\n",
            "ite= 21 total=50 time= 16.729424663384755\n",
            "ite= 22 total=50 time= 17.52862559556961\n",
            "ite= 23 total=50 time= 18.32775127887726\n",
            "ite= 24 total=50 time= 19.120909186204276\n",
            "ite= 25 total=50 time= 19.918350958824156\n",
            "ite= 26 total=50 time= 20.712916461626687\n",
            "ite= 27 total=50 time= 21.505419417222342\n",
            "ite= 28 total=50 time= 22.302760140101114\n",
            "ite= 29 total=50 time= 23.09682077964147\n",
            "ite= 30 total=50 time= 23.906039198239643\n",
            "ite= 31 total=50 time= 24.69897361199061\n",
            "ite= 32 total=50 time= 25.49993424018224\n",
            "ite= 33 total=50 time= 26.308697080612184\n",
            "ite= 34 total=50 time= 27.104166650772093\n",
            "ite= 35 total=50 time= 27.90527708530426\n",
            "ite= 36 total=50 time= 28.70974708000819\n",
            "ite= 37 total=50 time= 29.5165115237236\n",
            "ite= 38 total=50 time= 30.32135369380315\n",
            "ite= 39 total=50 time= 31.11938684384028\n",
            "ite= 40 total=50 time= 31.917565194765725\n",
            "ite= 41 total=50 time= 32.720278930664065\n",
            "ite= 42 total=50 time= 33.52117784420649\n",
            "ite= 43 total=50 time= 34.32382506132126\n",
            "ite= 44 total=50 time= 35.12399607896805\n",
            "ite= 45 total=50 time= 35.929899887243906\n",
            "ite= 46 total=50 time= 36.7270297686259\n",
            "ite= 47 total=50 time= 37.52722563346227\n",
            "ite= 48 total=50 time= 38.330570356051126\n",
            "ite= 49 total=50 time= 39.1425977230072\n",
            "\n",
            "DE_POP_VAR_F_CR TOTAL= 100000 Iterações= 2000 Dim= 10 Min/Max= -10 / 10 _ sum_squares_function\n",
            "_ANN_Div3x4_Fo-0.25_CRo-0.25_D-10_Interv-2000 \n",
            "\n",
            "MÉDIA:  4.333347284463201e-49\n",
            "MIN __: 3.644204474351282e-53\n",
            "MAX__:  1.957387992179219e-48\n",
            "STD __: 4.4072984728362205e-49\n",
            "Tempo Médio= 47.932 segundos ---\n",
            "50 Rodadas\n",
            "\n",
            "BEST:  [-1.26502650e-28  1.22961434e-27 -5.06222926e-28  2.02871398e-28\n",
            "  1.37773018e-27  1.01823716e-28 -3.70527624e-28 -9.71248088e-29\n",
            "  1.42504351e-27  6.00214486e-28  3.64420447e-53]\n"
          ],
          "name": "stdout"
        }
      ]
    },
    {
      "cell_type": "code",
      "metadata": {
        "id": "egkWFpw6GiNo",
        "colab_type": "code",
        "colab": {
          "base_uri": "https://localhost:8080/",
          "height": 1000
        },
        "outputId": "4f99e6b0-a8af-4e81-93cc-f891a2ffdf0d"
      },
      "source": [
        "#DE_ tradicional\n",
        "\n",
        "!git clone https://github.com/ucfilho/Raianars_July_2020 #clonar do Github\n",
        "%cd Raianars_July_2020\n",
        "\n",
        "mut=0.5\n",
        "crossp=0.5\n",
        "\n",
        "SOMA=0\n",
        "start_time = time.time()\n",
        "BEST_AGENTS=[]\n",
        "MAT_stat=[]\n",
        "\n",
        "for i in range(RUNS):\n",
        "\n",
        "    pop = np.random.rand(NPAR, dim)\n",
        "    diff=np.zeros(dim)\n",
        "    for ii in range(dim):\n",
        "      diff[ii] = MAX[ii]-MIN[ii]\n",
        "    X = MIN + pop * diff\n",
        "\n",
        "    SOMA=0\n",
        "\n",
        "    for k in range(ITE):\n",
        "      X,BEST,FOBEST,XY,BEST_XY,SOMA= de_soma_Insight.de(MAX,MIN, mut, crossp,dim,its,Fun,X,SOMA,TOTAL)\n",
        "\n",
        "    start_run = (time.time()-start_time)/60\n",
        "    print('run=',i,'total=50','Fobj=',FOBEST,'Time=',start_run)  \n",
        "    BEST_AGENTS.append(BEST_XY)"
      ],
      "execution_count": 56,
      "outputs": [
        {
          "output_type": "stream",
          "text": [
            "Cloning into 'Raianars_July_2020'...\n",
            "remote: Enumerating objects: 9, done.\u001b[K\n",
            "remote: Counting objects:  11% (1/9)\u001b[K\rremote: Counting objects:  22% (2/9)\u001b[K\rremote: Counting objects:  33% (3/9)\u001b[K\rremote: Counting objects:  44% (4/9)\u001b[K\rremote: Counting objects:  55% (5/9)\u001b[K\rremote: Counting objects:  66% (6/9)\u001b[K\rremote: Counting objects:  77% (7/9)\u001b[K\rremote: Counting objects:  88% (8/9)\u001b[K\rremote: Counting objects: 100% (9/9)\u001b[K\rremote: Counting objects: 100% (9/9), done.\u001b[K\n",
            "remote: Compressing objects:  11% (1/9)\u001b[K\rremote: Compressing objects:  22% (2/9)\u001b[K\rremote: Compressing objects:  33% (3/9)\u001b[K\rremote: Compressing objects:  44% (4/9)\u001b[K\rremote: Compressing objects:  55% (5/9)\u001b[K\rremote: Compressing objects:  66% (6/9)\u001b[K\rremote: Compressing objects:  77% (7/9)\u001b[K\rremote: Compressing objects:  88% (8/9)\u001b[K\rremote: Compressing objects: 100% (9/9)\u001b[K\rremote: Compressing objects: 100% (9/9), done.\u001b[K\n",
            "Receiving objects:   0% (1/132)   \rReceiving objects:   1% (2/132)   \rReceiving objects:   2% (3/132)   \rReceiving objects:   3% (4/132)   \rReceiving objects:   4% (6/132)   \rReceiving objects:   5% (7/132)   \rReceiving objects:   6% (8/132)   \rReceiving objects:   7% (10/132)   \rReceiving objects:   8% (11/132)   \rReceiving objects:   9% (12/132)   \rReceiving objects:  10% (14/132)   \rReceiving objects:  11% (15/132)   \rReceiving objects:  12% (16/132)   \rReceiving objects:  13% (18/132)   \rReceiving objects:  14% (19/132)   \rReceiving objects:  15% (20/132)   \rReceiving objects:  16% (22/132)   \rReceiving objects:  17% (23/132)   \rReceiving objects:  18% (24/132)   \rReceiving objects:  19% (26/132)   \rReceiving objects:  20% (27/132)   \rReceiving objects:  21% (28/132)   \rReceiving objects:  22% (30/132)   \rReceiving objects:  23% (31/132)   \rReceiving objects:  24% (32/132)   \rReceiving objects:  25% (33/132)   \rReceiving objects:  26% (35/132)   \rReceiving objects:  27% (36/132)   \rReceiving objects:  28% (37/132)   \rReceiving objects:  29% (39/132)   \rReceiving objects:  30% (40/132)   \rReceiving objects:  31% (41/132)   \rReceiving objects:  32% (43/132)   \rReceiving objects:  33% (44/132)   \rReceiving objects:  34% (45/132)   \rReceiving objects:  35% (47/132)   \rReceiving objects:  36% (48/132)   \rReceiving objects:  37% (49/132)   \rReceiving objects:  38% (51/132)   \rReceiving objects:  39% (52/132)   \rremote: Total 132 (delta 3), reused 0 (delta 0), pack-reused 123\u001b[K\n",
            "Receiving objects:  40% (53/132)   \rReceiving objects:  41% (55/132)   \rReceiving objects:  42% (56/132)   \rReceiving objects:  43% (57/132)   \rReceiving objects:  44% (59/132)   \rReceiving objects:  45% (60/132)   \rReceiving objects:  46% (61/132)   \rReceiving objects:  47% (63/132)   \rReceiving objects:  48% (64/132)   \rReceiving objects:  49% (65/132)   \rReceiving objects:  50% (66/132)   \rReceiving objects:  51% (68/132)   \rReceiving objects:  52% (69/132)   \rReceiving objects:  53% (70/132)   \rReceiving objects:  54% (72/132)   \rReceiving objects:  55% (73/132)   \rReceiving objects:  56% (74/132)   \rReceiving objects:  57% (76/132)   \rReceiving objects:  58% (77/132)   \rReceiving objects:  59% (78/132)   \rReceiving objects:  60% (80/132)   \rReceiving objects:  61% (81/132)   \rReceiving objects:  62% (82/132)   \rReceiving objects:  63% (84/132)   \rReceiving objects:  64% (85/132)   \rReceiving objects:  65% (86/132)   \rReceiving objects:  66% (88/132)   \rReceiving objects:  67% (89/132)   \rReceiving objects:  68% (90/132)   \rReceiving objects:  69% (92/132)   \rReceiving objects:  70% (93/132)   \rReceiving objects:  71% (94/132)   \rReceiving objects:  72% (96/132)   \rReceiving objects:  73% (97/132)   \rReceiving objects:  74% (98/132)   \rReceiving objects:  75% (99/132)   \rReceiving objects:  76% (101/132)   \rReceiving objects:  77% (102/132)   \rReceiving objects:  78% (103/132)   \rReceiving objects:  79% (105/132)   \rReceiving objects:  80% (106/132)   \rReceiving objects:  81% (107/132)   \rReceiving objects:  82% (109/132)   \rReceiving objects:  83% (110/132)   \rReceiving objects:  84% (111/132)   \rReceiving objects:  85% (113/132)   \rReceiving objects:  86% (114/132)   \rReceiving objects:  87% (115/132)   \rReceiving objects:  88% (117/132)   \rReceiving objects:  89% (118/132)   \rReceiving objects:  90% (119/132)   \rReceiving objects:  91% (121/132)   \rReceiving objects:  92% (122/132)   \rReceiving objects:  93% (123/132)   \rReceiving objects:  94% (125/132)   \rReceiving objects:  95% (126/132)   \rReceiving objects:  96% (127/132)   \rReceiving objects:  97% (129/132)   \rReceiving objects:  98% (130/132)   \rReceiving objects:  99% (131/132)   \rReceiving objects: 100% (132/132)   \rReceiving objects: 100% (132/132), 200.33 KiB | 1.60 MiB/s, done.\n",
            "Resolving deltas:   0% (0/65)   \rResolving deltas:   7% (5/65)   \rResolving deltas:  61% (40/65)   \rResolving deltas:  75% (49/65)   \rResolving deltas:  80% (52/65)   \rResolving deltas:  83% (54/65)   \rResolving deltas:  84% (55/65)   \rResolving deltas:  87% (57/65)   \rResolving deltas:  92% (60/65)   \rResolving deltas: 100% (65/65)   \rResolving deltas: 100% (65/65), done.\n",
            "/content/Raianars_July_2020/ANN_read_matrix/Raianars_July_2020/ANN_read_matrix/Raianars_July_2020/Raianars_July_2020/ANN_read_matrix/Raianars_July_2020/Raianars_July_2020/ANN_read_matrix/Raianars_July_2020\n",
            "run= 0 total=50 Fobj= 0.18785213049943536 Time= 0.05382514794667562\n",
            "run= 1 total=50 Fobj= 2.5521540475333417e-06 Time= 0.10547930796941121\n",
            "run= 2 total=50 Fobj= 0.14969201462766984 Time= 0.15740478436152142\n",
            "run= 3 total=50 Fobj= 0.393962493876903 Time= 0.20939305226008098\n",
            "run= 4 total=50 Fobj= 0.003409252763068901 Time= 0.2610238790512085\n",
            "run= 5 total=50 Fobj= 1.3841497948644068e-05 Time= 0.3140994707743327\n",
            "run= 6 total=50 Fobj= 0.003659630426721948 Time= 0.36695879300435386\n",
            "run= 7 total=50 Fobj= 0.2922654398425711 Time= 0.42030880848566693\n",
            "run= 8 total=50 Fobj= 9.533532475014626 Time= 0.4735767126083374\n",
            "run= 9 total=50 Fobj= 5.926477391876061 Time= 0.5259397824605306\n",
            "run= 10 total=50 Fobj= 0.01630673435930708 Time= 0.5775678594907124\n",
            "run= 11 total=50 Fobj= 0.12562036949860064 Time= 0.6293425758679708\n",
            "run= 12 total=50 Fobj= 4.88053706782668e-05 Time= 0.681259540716807\n",
            "run= 13 total=50 Fobj= 0.026154561232934453 Time= 0.7327096343040467\n",
            "run= 14 total=50 Fobj= 0.013037013113961219 Time= 0.784619931379954\n",
            "run= 15 total=50 Fobj= 4.4893270976969974 Time= 0.8369730552037556\n",
            "run= 16 total=50 Fobj= 0.021223531179513616 Time= 0.8886821111043294\n",
            "run= 17 total=50 Fobj= 3.3062685316281586 Time= 0.9415257771809896\n",
            "run= 18 total=50 Fobj= 0.011618061515860575 Time= 0.9934731205304463\n",
            "run= 19 total=50 Fobj= 0.033652767206334346 Time= 1.0451365828514099\n",
            "run= 20 total=50 Fobj= 12.763746946023948 Time= 1.09695409933726\n",
            "run= 21 total=50 Fobj= 0.041987728399834966 Time= 1.1485918561617534\n",
            "run= 22 total=50 Fobj= 3.838067893053079e-08 Time= 1.2001399676005045\n",
            "run= 23 total=50 Fobj= 0.0002897468609373576 Time= 1.2519595861434936\n",
            "run= 24 total=50 Fobj= 0.03187985007065561 Time= 1.304312801361084\n",
            "run= 25 total=50 Fobj= 0.23149819096481267 Time= 1.3564942439397176\n",
            "run= 26 total=50 Fobj= 1.513121796920499 Time= 1.4080639362335206\n",
            "run= 27 total=50 Fobj= 0.6437680657704294 Time= 1.4603286147117616\n",
            "run= 28 total=50 Fobj= 0.0002518320915279661 Time= 1.5122339447339377\n",
            "run= 29 total=50 Fobj= 0.20131111410126498 Time= 1.5638044913609823\n",
            "run= 30 total=50 Fobj= 4.028133098813844e-06 Time= 1.6156540989875794\n",
            "run= 31 total=50 Fobj= 1.502285619355102 Time= 1.6677067756652832\n",
            "run= 32 total=50 Fobj= 1.987893096514279e-05 Time= 1.719539467493693\n",
            "run= 33 total=50 Fobj= 0.8296702103405931 Time= 1.7725328842798869\n",
            "run= 34 total=50 Fobj= 0.0013474499524183047 Time= 1.824687651793162\n",
            "run= 35 total=50 Fobj= 0.13718041484160118 Time= 1.8763327240943908\n",
            "run= 36 total=50 Fobj= 3.155846107337091 Time= 1.9283351143201193\n",
            "run= 37 total=50 Fobj= 2.3253591626431542 Time= 1.9801974097887676\n",
            "run= 38 total=50 Fobj= 0.003535113789296189 Time= 2.0319588581720986\n",
            "run= 39 total=50 Fobj= 0.24106244245520414 Time= 2.083416775862376\n",
            "run= 40 total=50 Fobj= 5.76768249604006e-05 Time= 2.135252598921458\n",
            "run= 41 total=50 Fobj= 11.611280978076561 Time= 2.187617290019989\n",
            "run= 42 total=50 Fobj= 0.13030554159064672 Time= 2.23930522998174\n",
            "run= 43 total=50 Fobj= 1.0500503895251647e-05 Time= 2.2908975481987\n",
            "run= 44 total=50 Fobj= 0.6408847286396107 Time= 2.3425217866897583\n",
            "run= 45 total=50 Fobj= 0.00031824211118486524 Time= 2.394523799419403\n",
            "run= 46 total=50 Fobj= 0.8105569933301016 Time= 2.4470207055409747\n",
            "run= 47 total=50 Fobj= 0.9519149015491859 Time= 2.499000334739685\n",
            "run= 48 total=50 Fobj= 1.7601225777506055 Time= 2.550557625293732\n",
            "run= 49 total=50 Fobj= 0.18625698008364866 Time= 2.6027422149976096\n"
          ],
          "name": "stdout"
        }
      ]
    },
    {
      "cell_type": "code",
      "metadata": {
        "id": "3W8R6htAHO63",
        "colab_type": "code",
        "colab": {
          "base_uri": "https://localhost:8080/",
          "height": 238
        },
        "outputId": "05530523-fb55-47e6-dc30-64ccb4270eb4"
      },
      "source": [
        "############################## Cálculo dos Parâmetros de Avaliação   \n",
        "TIME = (time.time() - start_time)/RUNS\n",
        "BEST_AGENTS=np.array(BEST_AGENTS)\n",
        "BEST_AGENTS_ST= BEST_AGENTS[BEST_AGENTS[:,-1].argsort()]\n",
        "BEST=BEST_AGENTS_ST[0]\n",
        "WORSE=BEST_AGENTS_ST[-1]\n",
        "MEAN=np.mean(BEST_AGENTS,axis=0)\n",
        "MAXFO=BEST_AGENTS[:,-1].max()\n",
        "MINFO=BEST_AGENTS[:,-1].min()\n",
        "STD=BEST_AGENTS[:,-1].std()\n",
        "\n",
        "nome='DE_STAT_Fo-'+str(mut)+'_CRo-'+str(crossp)+'_D-'+str(dim)+'_Interv-'+str(ITE)\n",
        "print('DE_','TOTAL=',TOTAL,'Iterações=',ITE*its,'Dim=', dim,\"Min/Max=\",MIN[0],\"/\",MAX[0],'_',Fun.__name__)\n",
        "print(nome, '\\n')\n",
        "#print('BEST: ',BEST)\n",
        "#print('MÉDIA: ',MEAN)\n",
        "print('MÉDIA: ',MEAN[-1])\n",
        "print('MIN __:',MINFO)\n",
        "print('MAX__: ',MAXFO)\n",
        "print('STD __:',STD)\n",
        "print(\"Tempo Médio= %.3f segundos ---\" % (TIME))\n",
        "print(RUNS,'Rodadas') \n",
        "print()\n",
        "print('BEST: ',BEST)"
      ],
      "execution_count": 57,
      "outputs": [
        {
          "output_type": "stream",
          "text": [
            "DE_ TOTAL= 100000 Iterações= 2000 Dim= 10 Min/Max= -10 / 10 _ sum_squares_function\n",
            "DE_STAT_Fo-0.5_CRo-0.5_D-10_Interv-2000 \n",
            "\n",
            "MÉDIA:  1.2849999910640983\n",
            "MIN __: 3.838067893053079e-08\n",
            "MAX__:  12.763746946023948\n",
            "STD __: 2.8245385973782757\n",
            "Tempo Médio= 3.124 segundos ---\n",
            "50 Rodadas\n",
            "\n",
            "BEST:  [-4.83008104e-13 -4.50636813e-13  8.49447149e-13  1.04633070e-11\n",
            " -4.23763972e-10 -2.94891599e-11 -1.67444997e-08 -1.48995744e-12\n",
            " -1.06360333e-13  6.19521404e-05  3.83806789e-08]\n"
          ],
          "name": "stdout"
        }
      ]
    }
  ]
}