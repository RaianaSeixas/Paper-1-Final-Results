{
  "nbformat": 4,
  "nbformat_minor": 0,
  "metadata": {
    "colab": {
      "name": "Stats_2000_Rosenbrock_ALL_D_10_0.5_0.5.ipynb",
      "provenance": [],
      "collapsed_sections": [],
      "include_colab_link": true
    },
    "kernelspec": {
      "name": "python3",
      "display_name": "Python 3"
    }
  },
  "cells": [
    {
      "cell_type": "markdown",
      "metadata": {
        "id": "view-in-github",
        "colab_type": "text"
      },
      "source": [
        "<a href=\"https://colab.research.google.com/github/RaianaSeixas/Paper-1-Final-Results/blob/master/Stats_2000_Rosenbrock_ALL_D_10_0_5_0_5.ipynb\" target=\"_parent\"><img src=\"https://colab.research.google.com/assets/colab-badge.svg\" alt=\"Open In Colab\"/></a>"
      ]
    },
    {
      "cell_type": "code",
      "metadata": {
        "id": "MC26Bm1UyUR5",
        "colab_type": "code",
        "colab": {
          "base_uri": "https://localhost:8080/",
          "height": 34
        },
        "outputId": "67835f65-a166-4864-df2c-5653b0cd4ef6"
      },
      "source": [
        "!pip install pyade-python"
      ],
      "execution_count": null,
      "outputs": [
        {
          "output_type": "stream",
          "text": [
            "Requirement already satisfied: pyade-python in /usr/local/lib/python3.6/dist-packages (1.1)\n"
          ],
          "name": "stdout"
        }
      ]
    },
    {
      "cell_type": "code",
      "metadata": {
        "id": "rRwqrtCmgzdZ",
        "colab_type": "code",
        "colab": {
          "base_uri": "https://localhost:8080/",
          "height": 51
        },
        "outputId": "f5e937f7-e5d6-4a6b-951d-0dbf85b680f8"
      },
      "source": [
        "!pip install PyFDE"
      ],
      "execution_count": null,
      "outputs": [
        {
          "output_type": "stream",
          "text": [
            "Requirement already satisfied: PyFDE in /usr/local/lib/python3.6/dist-packages (1.3.0)\n",
            "Requirement already satisfied: numpy in /usr/local/lib/python3.6/dist-packages (from PyFDE) (1.18.5)\n"
          ],
          "name": "stdout"
        }
      ]
    },
    {
      "cell_type": "code",
      "metadata": {
        "id": "anFukot-ypn6",
        "colab_type": "code",
        "colab": {}
      },
      "source": [
        "import pyade.ilshade \n",
        "import pyade.sade \n",
        "import pyade.jso\n",
        "import pyade.shade\n",
        "import pyade.jade \n",
        "import pyfde\n",
        "import numpy as np\n",
        "import pandas as pd\n",
        "import time"
      ],
      "execution_count": null,
      "outputs": []
    },
    {
      "cell_type": "code",
      "metadata": {
        "id": "6Oh714_-z1Ia",
        "colab_type": "code",
        "colab": {
          "base_uri": "https://localhost:8080/",
          "height": 173
        },
        "outputId": "86923184-11e9-4d39-ecb7-4cf98668d4cb"
      },
      "source": [
        "!git clone https://github.com/ucfilho/Raianars_July_2020 #clonar do Github\n",
        "%cd Raianars_July_2020"
      ],
      "execution_count": null,
      "outputs": [
        {
          "output_type": "stream",
          "text": [
            "Cloning into 'Raianars_July_2020'...\n",
            "remote: Enumerating objects: 103, done.\u001b[K\n",
            "remote: Counting objects:   0% (1/103)\u001b[K\rremote: Counting objects:   1% (2/103)\u001b[K\rremote: Counting objects:   2% (3/103)\u001b[K\rremote: Counting objects:   3% (4/103)\u001b[K\rremote: Counting objects:   4% (5/103)\u001b[K\rremote: Counting objects:   5% (6/103)\u001b[K\rremote: Counting objects:   6% (7/103)\u001b[K\rremote: Counting objects:   7% (8/103)\u001b[K\rremote: Counting objects:   8% (9/103)\u001b[K\rremote: Counting objects:   9% (10/103)\u001b[K\rremote: Counting objects:  10% (11/103)\u001b[K\rremote: Counting objects:  11% (12/103)\u001b[K\rremote: Counting objects:  12% (13/103)\u001b[K\rremote: Counting objects:  13% (14/103)\u001b[K\rremote: Counting objects:  14% (15/103)\u001b[K\rremote: Counting objects:  15% (16/103)\u001b[K\rremote: Counting objects:  16% (17/103)\u001b[K\rremote: Counting objects:  17% (18/103)\u001b[K\rremote: Counting objects:  18% (19/103)\u001b[K\rremote: Counting objects:  19% (20/103)\u001b[K\rremote: Counting objects:  20% (21/103)\u001b[K\rremote: Counting objects:  21% (22/103)\u001b[K\rremote: Counting objects:  22% (23/103)\u001b[K\rremote: Counting objects:  23% (24/103)\u001b[K\rremote: Counting objects:  24% (25/103)\u001b[K\rremote: Counting objects:  25% (26/103)\u001b[K\rremote: Counting objects:  26% (27/103)\u001b[K\rremote: Counting objects:  27% (28/103)\u001b[K\rremote: Counting objects:  28% (29/103)\u001b[K\rremote: Counting objects:  29% (30/103)\u001b[K\rremote: Counting objects:  30% (31/103)\u001b[K\rremote: Counting objects:  31% (32/103)\u001b[K\rremote: Counting objects:  32% (33/103)\u001b[K\rremote: Counting objects:  33% (34/103)\u001b[K\rremote: Counting objects:  34% (36/103)\u001b[K\rremote: Counting objects:  35% (37/103)\u001b[K\rremote: Counting objects:  36% (38/103)\u001b[K\rremote: Counting objects:  37% (39/103)\u001b[K\rremote: Counting objects:  38% (40/103)\u001b[K\rremote: Counting objects:  39% (41/103)\u001b[K\rremote: Counting objects:  40% (42/103)\u001b[K\rremote: Counting objects:  41% (43/103)\u001b[K\rremote: Counting objects:  42% (44/103)\u001b[K\rremote: Counting objects:  43% (45/103)\u001b[K\rremote: Counting objects:  44% (46/103)\u001b[K\rremote: Counting objects:  45% (47/103)\u001b[K\rremote: Counting objects:  46% (48/103)\u001b[K\rremote: Counting objects:  47% (49/103)\u001b[K\rremote: Counting objects:  48% (50/103)\u001b[K\rremote: Counting objects:  49% (51/103)\u001b[K\rremote: Counting objects:  50% (52/103)\u001b[K\rremote: Counting objects:  51% (53/103)\u001b[K\rremote: Counting objects:  52% (54/103)\u001b[K\rremote: Counting objects:  53% (55/103)\u001b[K\rremote: Counting objects:  54% (56/103)\u001b[K\rremote: Counting objects:  55% (57/103)\u001b[K\rremote: Counting objects:  56% (58/103)\u001b[K\rremote: Counting objects:  57% (59/103)\u001b[K\rremote: Counting objects:  58% (60/103)\u001b[K\rremote: Counting objects:  59% (61/103)\u001b[K\rremote: Counting objects:  60% (62/103)\u001b[K\rremote: Counting objects:  61% (63/103)\u001b[K\rremote: Counting objects:  62% (64/103)\u001b[K\rremote: Counting objects:  63% (65/103)\u001b[K\rremote: Counting objects:  64% (66/103)\u001b[K\rremote: Counting objects:  65% (67/103)\u001b[K\rremote: Counting objects:  66% (68/103)\u001b[K\rremote: Counting objects:  67% (70/103)\u001b[K\rremote: Counting objects:  68% (71/103)\u001b[K\rremote: Counting objects:  69% (72/103)\u001b[K\rremote: Counting objects:  70% (73/103)\u001b[K\rremote: Counting objects:  71% (74/103)\u001b[K\rremote: Counting objects:  72% (75/103)\u001b[K\rremote: Counting objects:  73% (76/103)\u001b[K\rremote: Counting objects:  74% (77/103)\u001b[K\rremote: Counting objects:  75% (78/103)\u001b[K\rremote: Counting objects:  76% (79/103)\u001b[K\rremote: Counting objects:  77% (80/103)\u001b[K\rremote: Counting objects:  78% (81/103)\u001b[K\rremote: Counting objects:  79% (82/103)\u001b[K\rremote: Counting objects:  80% (83/103)\u001b[K\rremote: Counting objects:  81% (84/103)\u001b[K\rremote: Counting objects:  82% (85/103)\u001b[K\rremote: Counting objects:  83% (86/103)\u001b[K\rremote: Counting objects:  84% (87/103)\u001b[K\rremote: Counting objects:  85% (88/103)\u001b[K\rremote: Counting objects:  86% (89/103)\u001b[K\rremote: Counting objects:  87% (90/103)\u001b[K\rremote: Counting objects:  88% (91/103)\u001b[K\rremote: Counting objects:  89% (92/103)\u001b[K\rremote: Counting objects:  90% (93/103)\u001b[K\rremote: Counting objects:  91% (94/103)\u001b[K\rremote: Counting objects:  92% (95/103)\u001b[K\rremote: Counting objects:  93% (96/103)\u001b[K\rremote: Counting objects:  94% (97/103)\u001b[K\rremote: Counting objects:  95% (98/103)\u001b[K\rremote: Counting objects:  96% (99/103)\u001b[K\rremote: Counting objects:  97% (100/103)\u001b[K\rremote: Counting objects:  98% (101/103)\u001b[K\rremote: Counting objects:  99% (102/103)\u001b[K\rremote: Counting objects: 100% (103/103)\u001b[K\rremote: Counting objects: 100% (103/103), done.\u001b[K\n",
            "remote: Compressing objects:   0% (1/101)\u001b[K\rremote: Compressing objects:   1% (2/101)\u001b[K\rremote: Compressing objects:   2% (3/101)\u001b[K\rremote: Compressing objects:   3% (4/101)\u001b[K\rremote: Compressing objects:   4% (5/101)\u001b[K\rremote: Compressing objects:   5% (6/101)\u001b[K\rremote: Compressing objects:   6% (7/101)\u001b[K\rremote: Compressing objects:   7% (8/101)\u001b[K\rremote: Compressing objects:   8% (9/101)\u001b[K\rremote: Compressing objects:   9% (10/101)\u001b[K\rremote: Compressing objects:  10% (11/101)\u001b[K\rremote: Compressing objects:  11% (12/101)\u001b[K\rremote: Compressing objects:  12% (13/101)\u001b[K\rremote: Compressing objects:  13% (14/101)\u001b[K\rremote: Compressing objects:  14% (15/101)\u001b[K\rremote: Compressing objects:  15% (16/101)\u001b[K\rremote: Compressing objects:  16% (17/101)\u001b[K\rremote: Compressing objects:  17% (18/101)\u001b[K\rremote: Compressing objects:  18% (19/101)\u001b[K\rremote: Compressing objects:  19% (20/101)\u001b[K\rremote: Compressing objects:  20% (21/101)\u001b[K\rremote: Compressing objects:  21% (22/101)\u001b[K\rremote: Compressing objects:  22% (23/101)\u001b[K\rremote: Compressing objects:  23% (24/101)\u001b[K\rremote: Compressing objects:  24% (25/101)\u001b[K\rremote: Compressing objects:  25% (26/101)\u001b[K\rremote: Compressing objects:  26% (27/101)\u001b[K\rremote: Compressing objects:  27% (28/101)\u001b[K\rremote: Compressing objects:  28% (29/101)\u001b[K\rremote: Compressing objects:  29% (30/101)\u001b[K\rremote: Compressing objects:  30% (31/101)\u001b[K\rremote: Compressing objects:  31% (32/101)\u001b[K\rremote: Compressing objects:  32% (33/101)\u001b[K\rremote: Compressing objects:  33% (34/101)\u001b[K\rremote: Compressing objects:  34% (35/101)\u001b[K\rremote: Compressing objects:  35% (36/101)\u001b[K\rremote: Compressing objects:  36% (37/101)\u001b[K\rremote: Compressing objects:  37% (38/101)\u001b[K\rremote: Compressing objects:  38% (39/101)\u001b[K\rremote: Compressing objects:  39% (40/101)\u001b[K\rremote: Compressing objects:  40% (41/101)\u001b[K\rremote: Compressing objects:  41% (42/101)\u001b[K\rremote: Compressing objects:  42% (43/101)\u001b[K\rremote: Compressing objects:  43% (44/101)\u001b[K\rremote: Compressing objects:  44% (45/101)\u001b[K\rremote: Compressing objects:  45% (46/101)\u001b[K\rremote: Compressing objects:  46% (47/101)\u001b[K\rremote: Compressing objects:  47% (48/101)\u001b[K\rremote: Compressing objects:  48% (49/101)\u001b[K\rremote: Compressing objects:  49% (50/101)\u001b[K\rremote: Compressing objects:  50% (51/101)\u001b[K\rremote: Compressing objects:  51% (52/101)\u001b[K\rremote: Compressing objects:  52% (53/101)\u001b[K\rremote: Compressing objects:  53% (54/101)\u001b[K\rremote: Compressing objects:  54% (55/101)\u001b[K\rremote: Compressing objects:  55% (56/101)\u001b[K\rremote: Compressing objects:  56% (57/101)\u001b[K\rremote: Compressing objects:  57% (58/101)\u001b[K\rremote: Compressing objects:  58% (59/101)\u001b[K\rremote: Compressing objects:  59% (60/101)\u001b[K\rremote: Compressing objects:  60% (61/101)\u001b[K\rremote: Compressing objects:  61% (62/101)\u001b[K\rremote: Compressing objects:  62% (63/101)\u001b[K\rremote: Compressing objects:  63% (64/101)\u001b[K\rremote: Compressing objects:  64% (65/101)\u001b[K\rremote: Compressing objects:  65% (66/101)\u001b[K\rremote: Compressing objects:  66% (67/101)\u001b[K\rremote: Compressing objects:  67% (68/101)\u001b[K\rremote: Compressing objects:  68% (69/101)\u001b[K\rremote: Compressing objects:  69% (70/101)\u001b[K\rremote: Compressing objects:  70% (71/101)\u001b[K\rremote: Compressing objects:  71% (72/101)\u001b[K\rremote: Compressing objects:  72% (73/101)\u001b[K\rremote: Compressing objects:  73% (74/101)\u001b[K\rremote: Compressing objects:  74% (75/101)\u001b[K\rremote: Compressing objects:  75% (76/101)\u001b[K\rremote: Compressing objects:  76% (77/101)\u001b[K\rremote: Compressing objects:  77% (78/101)\u001b[K\rremote: Compressing objects:  78% (79/101)\u001b[K\rremote: Compressing objects:  79% (80/101)\u001b[K\rremote: Compressing objects:  80% (81/101)\u001b[K\rremote: Compressing objects:  81% (82/101)\u001b[K\rremote: Compressing objects:  82% (83/101)\u001b[K\rremote: Compressing objects:  83% (84/101)\u001b[K\rremote: Compressing objects:  84% (85/101)\u001b[K\rremote: Compressing objects:  85% (86/101)\u001b[K\rremote: Compressing objects:  86% (87/101)\u001b[K\rremote: Compressing objects:  87% (88/101)\u001b[K\rremote: Compressing objects:  88% (89/101)\u001b[K\rremote: Compressing objects:  89% (90/101)\u001b[K\rremote: Compressing objects:  90% (91/101)\u001b[K\rremote: Compressing objects:  91% (92/101)\u001b[K\rremote: Compressing objects:  92% (93/101)\u001b[K\rremote: Compressing objects:  93% (94/101)\u001b[K\rremote: Compressing objects:  94% (95/101)\u001b[K\rremote: Compressing objects:  95% (96/101)\u001b[K\rremote: Compressing objects:  96% (97/101)\u001b[K\rremote: Compressing objects:  97% (98/101)\u001b[K\rremote: Compressing objects:  98% (99/101)\u001b[K\rremote: Compressing objects:  99% (100/101)\u001b[K\rremote: Compressing objects: 100% (101/101)\u001b[K\rremote: Compressing objects: 100% (101/101), done.\u001b[K\n",
            "Receiving objects:   0% (1/103)   \rReceiving objects:   1% (2/103)   \rReceiving objects:   2% (3/103)   \rReceiving objects:   3% (4/103)   \rReceiving objects:   4% (5/103)   \rReceiving objects:   5% (6/103)   \rReceiving objects:   6% (7/103)   \rReceiving objects:   7% (8/103)   \rReceiving objects:   8% (9/103)   \rReceiving objects:   9% (10/103)   \rReceiving objects:  10% (11/103)   \rReceiving objects:  11% (12/103)   \rReceiving objects:  12% (13/103)   \rReceiving objects:  13% (14/103)   \rReceiving objects:  14% (15/103)   \rReceiving objects:  15% (16/103)   \rReceiving objects:  16% (17/103)   \rReceiving objects:  17% (18/103)   \rReceiving objects:  18% (19/103)   \rReceiving objects:  19% (20/103)   \rReceiving objects:  20% (21/103)   \rReceiving objects:  21% (22/103)   \rReceiving objects:  22% (23/103)   \rReceiving objects:  23% (24/103)   \rReceiving objects:  24% (25/103)   \rReceiving objects:  25% (26/103)   \rReceiving objects:  26% (27/103)   \rReceiving objects:  27% (28/103)   \rReceiving objects:  28% (29/103)   \rReceiving objects:  29% (30/103)   \rReceiving objects:  30% (31/103)   \rReceiving objects:  31% (32/103)   \rReceiving objects:  32% (33/103)   \rReceiving objects:  33% (34/103)   \rReceiving objects:  34% (36/103)   \rReceiving objects:  35% (37/103)   \rReceiving objects:  36% (38/103)   \rReceiving objects:  37% (39/103)   \rReceiving objects:  38% (40/103)   \rReceiving objects:  39% (41/103)   \rReceiving objects:  40% (42/103)   \rremote: Total 103 (delta 49), reused 0 (delta 0), pack-reused 0\u001b[K\n",
            "Receiving objects:  41% (43/103)   \rReceiving objects:  42% (44/103)   \rReceiving objects:  43% (45/103)   \rReceiving objects:  44% (46/103)   \rReceiving objects:  45% (47/103)   \rReceiving objects:  46% (48/103)   \rReceiving objects:  47% (49/103)   \rReceiving objects:  48% (50/103)   \rReceiving objects:  49% (51/103)   \rReceiving objects:  50% (52/103)   \rReceiving objects:  51% (53/103)   \rReceiving objects:  52% (54/103)   \rReceiving objects:  53% (55/103)   \rReceiving objects:  54% (56/103)   \rReceiving objects:  55% (57/103)   \rReceiving objects:  56% (58/103)   \rReceiving objects:  57% (59/103)   \rReceiving objects:  58% (60/103)   \rReceiving objects:  59% (61/103)   \rReceiving objects:  60% (62/103)   \rReceiving objects:  61% (63/103)   \rReceiving objects:  62% (64/103)   \rReceiving objects:  63% (65/103)   \rReceiving objects:  64% (66/103)   \rReceiving objects:  65% (67/103)   \rReceiving objects:  66% (68/103)   \rReceiving objects:  67% (70/103)   \rReceiving objects:  68% (71/103)   \rReceiving objects:  69% (72/103)   \rReceiving objects:  70% (73/103)   \rReceiving objects:  71% (74/103)   \rReceiving objects:  72% (75/103)   \rReceiving objects:  73% (76/103)   \rReceiving objects:  74% (77/103)   \rReceiving objects:  75% (78/103)   \rReceiving objects:  76% (79/103)   \rReceiving objects:  77% (80/103)   \rReceiving objects:  78% (81/103)   \rReceiving objects:  79% (82/103)   \rReceiving objects:  80% (83/103)   \rReceiving objects:  81% (84/103)   \rReceiving objects:  82% (85/103)   \rReceiving objects:  83% (86/103)   \rReceiving objects:  84% (87/103)   \rReceiving objects:  85% (88/103)   \rReceiving objects:  86% (89/103)   \rReceiving objects:  87% (90/103)   \rReceiving objects:  88% (91/103)   \rReceiving objects:  89% (92/103)   \rReceiving objects:  90% (93/103)   \rReceiving objects:  91% (94/103)   \rReceiving objects:  92% (95/103)   \rReceiving objects:  93% (96/103)   \rReceiving objects:  94% (97/103)   \rReceiving objects:  95% (98/103)   \rReceiving objects:  96% (99/103)   \rReceiving objects:  97% (100/103)   \rReceiving objects:  98% (101/103)   \rReceiving objects:  99% (102/103)   \rReceiving objects: 100% (103/103)   \rReceiving objects: 100% (103/103), 190.44 KiB | 3.66 MiB/s, done.\n",
            "Resolving deltas:   0% (0/49)   \rResolving deltas:  65% (32/49)   \rResolving deltas:  77% (38/49)   \rResolving deltas:  81% (40/49)   \rResolving deltas:  89% (44/49)   \rResolving deltas:  95% (47/49)   \rResolving deltas: 100% (49/49)   \rResolving deltas: 100% (49/49), done.\n",
            "/content/Raianars_July_2020/ANN_read_matrix/Raianars_July_2020/ANN_read_matrix/Raianars_July_2020/ANN_read_matrix/Raianars_July_2020/ANN_read_matrix/Raianars_July_2020/ANN_read_matrix/Raianars_July_2020/ANN_read_matrix/Raianars_July_2020\n"
          ],
          "name": "stdout"
        }
      ]
    },
    {
      "cell_type": "code",
      "metadata": {
        "id": "LnzftXkky78A",
        "colab_type": "code",
        "colab": {}
      },
      "source": [
        "import Go2Ann\n",
        "import de_soma_Insight\n",
        "import de_bounds_matriz\n",
        "from AvaliaX import AvaliaX\n",
        "from GeraIndices import GeraIndices"
      ],
      "execution_count": null,
      "outputs": []
    },
    {
      "cell_type": "code",
      "metadata": {
        "id": "HNW92728z7fR",
        "colab_type": "code",
        "colab": {}
      },
      "source": [
        "import Function\n",
        "import Go2MinMax"
      ],
      "execution_count": null,
      "outputs": []
    },
    {
      "cell_type": "code",
      "metadata": {
        "id": "T_C-e7aH0CZH",
        "colab_type": "code",
        "colab": {}
      },
      "source": [
        "ITE=2000 #10 # PONTOS quantas vezes vai alteral NPAR \n",
        "NPAR=100 # NUMBER OF PARTICLES\n",
        "dim=10\n",
        "RUNS=50\n",
        "fchoice='Rosenbrock'  #UNS\n",
        "Fun=Function.Rosenbrock\n",
        "\n",
        "MIN,MAX=Go2MinMax.Intervalo(dim,fchoice)\n",
        "bounds = [(0,0)]*dim\n",
        "\n",
        "for i in range(dim):\n",
        "  bounds[i] = (MIN[i],MAX[i])"
      ],
      "execution_count": null,
      "outputs": []
    },
    {
      "cell_type": "code",
      "metadata": {
        "id": "Nqv5qp9yzQEw",
        "colab_type": "code",
        "colab": {}
      },
      "source": [
        "############################### INPUT INFORMATION (FRANNK)\n",
        "Fc=0.1 # fator de correcao parametros da ANN\n",
        "its=1 #10 # quantas vezes vai usar o NPAR antes de alterar de novo\n",
        "mut=0.5\n",
        "crossp=0.5\n",
        "Fi=mut;CRi=crossp;# para impressão\n",
        "PAR=len(MAX) #NUM DE PARAMETROS A SER OTIMIZADOS"
      ],
      "execution_count": null,
      "outputs": []
    },
    {
      "cell_type": "code",
      "metadata": {
        "id": "WkbM98uny0QY",
        "colab_type": "code",
        "colab": {
          "base_uri": "https://localhost:8080/",
          "height": 238
        },
        "outputId": "bc7b90e8-c374-4e5c-eed9-c35159a873c6"
      },
      "source": [
        "# IL-Shade\n",
        "\n",
        "BEST_AGENTS=[]\n",
        "start_time = time.time() \n",
        "for i in range(RUNS):\n",
        "  ANSWER_AGENTS=[]\n",
        "  algorithm = pyade.ilshade \n",
        "  params = algorithm.get_default_params(dim=dim) \n",
        "  params['bounds'] = np.array(bounds)\n",
        "  params['max_evals'] = ITE \n",
        "  params['func'] = Fun\n",
        "  params['max_evals'] = ITE\n",
        "  best, fit = algorithm.apply(**params)\n",
        "  for x in best:\n",
        "    ANSWER_AGENTS.append(x)\n",
        "  ANSWER_AGENTS.append(fit)\n",
        "  BEST_AGENTS.append(ANSWER_AGENTS)\n",
        "BEST_AGENTS=np.array(BEST_AGENTS)\n",
        "TIME = (time.time() - start_time)/RUNS\n",
        "BEST_AGENTS=np.array(BEST_AGENTS)\n",
        "BEST_AGENTS_ST= BEST_AGENTS[BEST_AGENTS[:,-1].argsort()]\n",
        "BEST=BEST_AGENTS_ST[0]\n",
        "WORSE=BEST_AGENTS_ST[-1]\n",
        "MEAN=np.mean(BEST_AGENTS,axis=0)\n",
        "MAXFO=BEST_AGENTS[:,-1].max()\n",
        "MINFO=BEST_AGENTS[:,-1].min()\n",
        "STD=BEST_AGENTS[:,-1].std()\n",
        "nome='IL-Shade_Fo-'+str(0)+'_CRo-'+str(0)\n",
        "print(nome,'NPAR',NPAR,'Iterações=',ITE,'Dim=',dim ,\"Min/Max=\",MIN[0],\"/\",MAX[0],'_',Fun.__name__)\n",
        "print( '\\n')\n",
        "print('MÉDIA: ',MEAN[-1])\n",
        "print('MIN __:',MINFO)\n",
        "print('MAX__: ',MAXFO)\n",
        "print('STD __:',STD)\n",
        "print(\"Tempo Médio= %.3f segundos ---\" % (TIME))\n",
        "print(RUNS,'Rodadas') \n",
        "print()\n",
        "print('BEST: ',BEST)"
      ],
      "execution_count": null,
      "outputs": [
        {
          "output_type": "stream",
          "text": [
            "IL-Shade_Fo-0_CRo-0 NPAR 100 Iterações= 2000 Dim= 10 Min/Max= -10 / 10 _ Rosenbrock\n",
            "\n",
            "\n",
            "MÉDIA:  7.82588289484824\n",
            "MIN __: 6.043505025648486\n",
            "MAX__:  9.618938246603046\n",
            "STD __: 0.652197962537039\n",
            "Tempo Médio= 0.173 segundos ---\n",
            "50 Rodadas\n",
            "\n",
            "BEST:  [ 8.38196409e-01  6.94864194e-01  4.82822071e-01  2.35292539e-01\n",
            "  6.41981650e-02 -1.49161541e-03 -3.04471501e-02 -5.39625404e-03\n",
            "  8.90035183e-03  1.28761003e-02  6.04350503e+00]\n"
          ],
          "name": "stdout"
        }
      ]
    },
    {
      "cell_type": "code",
      "metadata": {
        "id": "v4dbY4tSsFMb",
        "colab_type": "code",
        "colab": {
          "base_uri": "https://localhost:8080/",
          "height": 221
        },
        "outputId": "1fee8c85-9cb2-4ba7-96a6-85f39e6d208d"
      },
      "source": [
        "# Jso\n",
        "\n",
        "BEST_AGENTS=[]\n",
        "start_time = time.time() \n",
        "for i in range(RUNS):\n",
        "  ANSWER_AGENTS=[]\n",
        "  algorithm = pyade.jso\n",
        "  params = algorithm.get_default_params(dim=dim) \n",
        "  params['bounds'] = np.array(bounds)\n",
        "  params['max_evals'] = ITE \n",
        "  params['func'] = Fun\n",
        "  best, fit = algorithm.apply(**params)\n",
        "  for x in best:\n",
        "    ANSWER_AGENTS.append(x)\n",
        "  ANSWER_AGENTS.append(fit)\n",
        "  BEST_AGENTS.append(ANSWER_AGENTS)\n",
        "BEST_AGENTS=np.array(BEST_AGENTS)\n",
        "TIME = (time.time() - start_time)/RUNS\n",
        "BEST_AGENTS=np.array(BEST_AGENTS)\n",
        "BEST_AGENTS_ST= BEST_AGENTS[BEST_AGENTS[:,-1].argsort()]\n",
        "BEST=BEST_AGENTS_ST[0]\n",
        "WORSE=BEST_AGENTS_ST[-1]\n",
        "MEAN=np.mean(BEST_AGENTS,axis=0)\n",
        "MAXFO=BEST_AGENTS[:,-1].max()\n",
        "MINFO=BEST_AGENTS[:,-1].min()\n",
        "STD=BEST_AGENTS[:,-1].std()\n",
        "nome='Jso-'+str(0)+'_CRo-'+str(0)\n",
        "print(nome,'NPAR',NPAR,'Iterações=',ITE,'Dim=',dim ,\"Min/Max=\",MIN[0],\"/\",MAX[0],'_',Fun.__name__)\n",
        "print( '\\n')\n",
        "print('MÉDIA: ',MEAN[-1])\n",
        "print('MIN __:',MINFO)\n",
        "print('MAX__: ',MAXFO)\n",
        "print('STD __:',STD)\n",
        "print(\"Tempo Médio= %.3f segundos ---\" % (TIME))\n",
        "print(RUNS,'Rodadas') \n",
        "print()\n",
        "print('BEST: ',BEST)"
      ],
      "execution_count": null,
      "outputs": [
        {
          "output_type": "stream",
          "text": [
            "Jso-0_CRo-0 NPAR 100 Iterações= 2000 Dim= 10 Min/Max= -10 / 10 _ Rosenbrock\n",
            "\n",
            "\n",
            "MÉDIA:  7.978010060897953\n",
            "MIN __: 6.276044180330371\n",
            "MAX__:  8.988312331828944\n",
            "STD __: 0.5197890874571217\n",
            "Tempo Médio= 0.132 segundos ---\n",
            "50 Rodadas\n",
            "\n",
            "BEST:  [ 0.80939119  0.66270668  0.45025518  0.20405694  0.05838053  0.00954591\n",
            "  0.01582927  0.04995733 -0.02265027 -0.0138012   6.27604418]\n"
          ],
          "name": "stdout"
        }
      ]
    },
    {
      "cell_type": "code",
      "metadata": {
        "id": "ZkV_dpDa14C8",
        "colab_type": "code",
        "colab": {
          "base_uri": "https://localhost:8080/",
          "height": 238
        },
        "outputId": "631dae70-5107-4510-b05a-a232bc55e6db"
      },
      "source": [
        "# Sade\n",
        "\n",
        "BEST_AGENTS=[]\n",
        "start_time = time.time() \n",
        "for i in range(RUNS):\n",
        "  ANSWER_AGENTS=[]\n",
        "  algorithm = pyade.sade\n",
        "  params = algorithm.get_default_params(dim=dim) \n",
        "  params['bounds'] = np.array(bounds)\n",
        "  params['max_evals'] = ITE \n",
        "  params['func'] = Fun\n",
        "  best, fit = algorithm.apply(**params)\n",
        "  for x in best:\n",
        "    ANSWER_AGENTS.append(x)\n",
        "  ANSWER_AGENTS.append(fit)\n",
        "  BEST_AGENTS.append(ANSWER_AGENTS)\n",
        "BEST_AGENTS=np.array(BEST_AGENTS)\n",
        "TIME = (time.time() - start_time)/RUNS\n",
        "BEST_AGENTS=np.array(BEST_AGENTS)\n",
        "BEST_AGENTS_ST= BEST_AGENTS[BEST_AGENTS[:,-1].argsort()]\n",
        "BEST=BEST_AGENTS_ST[0]\n",
        "WORSE=BEST_AGENTS_ST[-1]\n",
        "MEAN=np.mean(BEST_AGENTS,axis=0)\n",
        "MAXFO=BEST_AGENTS[:,-1].max()\n",
        "MINFO=BEST_AGENTS[:,-1].min()\n",
        "STD=BEST_AGENTS[:,-1].std()\n",
        "nome='Sade_Fo-'+str(0)+'_CRo-'+str(0)\n",
        "print(nome,'NPAR',NPAR,'Iterações=',ITE,'Dim=',dim ,\"Min/Max=\",MIN[0],\"/\",MAX[0],'_',Fun.__name__)\n",
        "print( '\\n')\n",
        "print('MÉDIA: ',MEAN[-1])\n",
        "print('MIN __:',MINFO)\n",
        "print('MAX__: ',MAXFO)\n",
        "print('STD __:',STD)\n",
        "print(\"Tempo Médio= %.3f segundos ---\" % (TIME))\n",
        "print(RUNS,'Rodadas') \n",
        "print()\n",
        "print('BEST: ',BEST)"
      ],
      "execution_count": null,
      "outputs": [
        {
          "output_type": "stream",
          "text": [
            "Sade_Fo-0_CRo-0 NPAR 100 Iterações= 2000 Dim= 10 Min/Max= -10 / 10 _ Rosenbrock\n",
            "\n",
            "\n",
            "MÉDIA:  28.428796666114277\n",
            "MIN __: 17.708017184525218\n",
            "MAX__:  49.5011307618379\n",
            "STD __: 6.814151968377512\n",
            "Tempo Médio= 0.095 segundos ---\n",
            "50 Rodadas\n",
            "\n",
            "BEST:  [ 2.71790393e-01  3.12264627e-01  2.41655570e-01  6.19281809e-02\n",
            "  8.68823975e-03 -2.20321800e-02  4.70620577e-02 -1.04674529e-01\n",
            " -7.44727852e-02 -1.36266531e-02  1.77080172e+01]\n"
          ],
          "name": "stdout"
        }
      ]
    },
    {
      "cell_type": "code",
      "metadata": {
        "id": "q77YsFa82zFU",
        "colab_type": "code",
        "colab": {
          "base_uri": "https://localhost:8080/",
          "height": 204
        },
        "outputId": "cb0e98f4-ca51-4ea1-b0e5-09dbfaf8a171"
      },
      "source": [
        "# JADE\n",
        "algorithm = pyade.jso\n",
        "BEST_AGENTS=[]\n",
        "for i in range(RUNS):\n",
        "  ANSWER_AGENTS=[]\n",
        "  solver = pyfde.JADE(Fun, n_dim=dim, n_pop=NPAR, limits=bounds, minimize=True)\n",
        "  solver.p = 0.05\n",
        "  solver.c = 0.1\n",
        "  solver.cr = 0.5\n",
        "  solver.f = 0.5\n",
        "  best, fit = solver.run(n_it=ITE)\n",
        "  for x in best:\n",
        "    ANSWER_AGENTS.append(x)\n",
        "  ANSWER_AGENTS.append(fit)\n",
        "  BEST_AGENTS.append(ANSWER_AGENTS)\n",
        "BEST_AGENTS=np.array(BEST_AGENTS)\n",
        "TIME = (time.time() - start_time)/RUNS\n",
        "BEST_AGENTS=np.array(BEST_AGENTS)\n",
        "BEST_AGENTS_ST= BEST_AGENTS[BEST_AGENTS[:,-1].argsort()]\n",
        "BEST=BEST_AGENTS_ST[0]\n",
        "WORSE=BEST_AGENTS_ST[-1]\n",
        "MEAN=np.mean(BEST_AGENTS,axis=0)\n",
        "MAXFO=BEST_AGENTS[:,-1].max()\n",
        "MINFO=BEST_AGENTS[:,-1].min()\n",
        "STD=BEST_AGENTS[:,-1].std()\n",
        "nome='JADE_Fo-'+str(0)+'_CRo-'+str(0)\n",
        "print(nome,'NPAR',NPAR,'Iterações=',ITE,'Dim=',dim ,\"Min/Max=\",MIN[0],\"/\",MAX[0],'_',Fun.__name__)\n",
        "print( '\\n')\n",
        "print('MÉDIA: ',MEAN[-1])\n",
        "print('MIN __:',MINFO)\n",
        "print('MAX__: ',MAXFO)\n",
        "print('STD __:',STD)\n",
        "print(\"Tempo Médio= %.3f segundos ---\" % (TIME))\n",
        "print(RUNS,'Rodadas') \n",
        "print()\n",
        "print('BEST: ',BEST)"
      ],
      "execution_count": null,
      "outputs": [
        {
          "output_type": "stream",
          "text": [
            "JADE_Fo-0_CRo-0 NPAR 100 Iterações= 2000 Dim= 10 Min/Max= -10 / 10 _ Rosenbrock\n",
            "\n",
            "\n",
            "MÉDIA:  0.0\n",
            "MIN __: -0.0\n",
            "MAX__:  -0.0\n",
            "STD __: 0.0\n",
            "Tempo Médio= 1.869 segundos ---\n",
            "50 Rodadas\n",
            "\n",
            "BEST:  [ 1.  1.  1.  1.  1.  1.  1.  1.  1.  1. -0.]\n"
          ],
          "name": "stdout"
        }
      ]
    },
    {
      "cell_type": "code",
      "metadata": {
        "id": "gXdUgSStzppX",
        "colab_type": "code",
        "colab": {}
      },
      "source": [
        "# FRANNK START HERE !!!!!"
      ],
      "execution_count": null,
      "outputs": []
    },
    {
      "cell_type": "code",
      "metadata": {
        "id": "raWOfeJBztuj",
        "colab_type": "code",
        "colab": {
          "base_uri": "https://localhost:8080/",
          "height": 156
        },
        "outputId": "1398e150-a816-4e80-f7fe-2469f071863c"
      },
      "source": [
        "!git clone https://github.com/ucfilho/ANN_read_matrix #clonar do Github\n",
        "%cd ANN_read_matrix"
      ],
      "execution_count": null,
      "outputs": [
        {
          "output_type": "stream",
          "text": [
            "Cloning into 'ANN_read_matrix'...\n",
            "remote: Enumerating objects: 20, done.\u001b[K\n",
            "remote: Counting objects:   5% (1/20)\u001b[K\rremote: Counting objects:  10% (2/20)\u001b[K\rremote: Counting objects:  15% (3/20)\u001b[K\rremote: Counting objects:  20% (4/20)\u001b[K\rremote: Counting objects:  25% (5/20)\u001b[K\rremote: Counting objects:  30% (6/20)\u001b[K\rremote: Counting objects:  35% (7/20)\u001b[K\rremote: Counting objects:  40% (8/20)\u001b[K\rremote: Counting objects:  45% (9/20)\u001b[K\rremote: Counting objects:  50% (10/20)\u001b[K\rremote: Counting objects:  55% (11/20)\u001b[K\rremote: Counting objects:  60% (12/20)\u001b[K\rremote: Counting objects:  65% (13/20)\u001b[K\rremote: Counting objects:  70% (14/20)\u001b[K\rremote: Counting objects:  75% (15/20)\u001b[K\rremote: Counting objects:  80% (16/20)\u001b[K\rremote: Counting objects:  85% (17/20)\u001b[K\rremote: Counting objects:  90% (18/20)\u001b[K\rremote: Counting objects:  95% (19/20)\u001b[K\rremote: Counting objects: 100% (20/20)\u001b[K\rremote: Counting objects: 100% (20/20), done.\u001b[K\n",
            "remote: Compressing objects:   5% (1/18)\u001b[K\rremote: Compressing objects:  11% (2/18)\u001b[K\rremote: Compressing objects:  16% (3/18)\u001b[K\rremote: Compressing objects:  22% (4/18)\u001b[K\rremote: Compressing objects:  27% (5/18)\u001b[K\rremote: Compressing objects:  33% (6/18)\u001b[K\rremote: Compressing objects:  38% (7/18)\u001b[K\rremote: Compressing objects:  44% (8/18)\u001b[K\rremote: Compressing objects:  50% (9/18)\u001b[K\rremote: Compressing objects:  55% (10/18)\u001b[K\rremote: Compressing objects:  61% (11/18)\u001b[K\rremote: Compressing objects:  66% (12/18)\u001b[K\rremote: Compressing objects:  72% (13/18)\u001b[K\rremote: Compressing objects:  77% (14/18)\u001b[K\rremote: Compressing objects:  83% (15/18)\u001b[K\rremote: Compressing objects:  88% (16/18)\u001b[K\rremote: Compressing objects:  94% (17/18)\u001b[K\rremote: Compressing objects: 100% (18/18)\u001b[K\rremote: Compressing objects: 100% (18/18), done.\u001b[K\n",
            "remote: Total 20 (delta 5), reused 0 (delta 0), pack-reused 0\u001b[K\n",
            "Unpacking objects:   5% (1/20)   \rUnpacking objects:  10% (2/20)   \rUnpacking objects:  15% (3/20)   \rUnpacking objects:  20% (4/20)   \rUnpacking objects:  25% (5/20)   \rUnpacking objects:  30% (6/20)   \rUnpacking objects:  35% (7/20)   \rUnpacking objects:  40% (8/20)   \rUnpacking objects:  45% (9/20)   \rUnpacking objects:  50% (10/20)   \rUnpacking objects:  55% (11/20)   \rUnpacking objects:  60% (12/20)   \rUnpacking objects:  65% (13/20)   \rUnpacking objects:  70% (14/20)   \rUnpacking objects:  75% (15/20)   \rUnpacking objects:  80% (16/20)   \rUnpacking objects:  85% (17/20)   \rUnpacking objects:  90% (18/20)   \rUnpacking objects:  95% (19/20)   \rUnpacking objects: 100% (20/20)   \rUnpacking objects: 100% (20/20), done.\n",
            "/content/Raianars_July_2020/ANN_read_matrix/Raianars_July_2020/ANN_read_matrix/Raianars_July_2020/ANN_read_matrix/Raianars_July_2020/ANN_read_matrix/Raianars_July_2020/ANN_read_matrix/Raianars_July_2020/ANN_read_matrix/Raianars_July_2020/ANN_read_matrix\n"
          ],
          "name": "stdout"
        }
      ]
    },
    {
      "cell_type": "code",
      "metadata": {
        "id": "N2lyPfivzwGv",
        "colab_type": "code",
        "colab": {
          "base_uri": "https://localhost:8080/",
          "height": 221
        },
        "outputId": "b0dfcf82-d046-4158-d738-4fda83fb8b6d"
      },
      "source": [
        "ANN_F=pd.read_csv('ANN_INSIGHT_Valor_F.csv')\n",
        "ANN_CR=pd.read_csv('ANN_INSIGHT_CR.csv')\n",
        "syn0_F,syn1_F,X_max_F,X_min_F=Go2Ann.GetMatriz(ANN_F)\n",
        "syn0_CR,syn1_CR,X_max_CR,X_min_CR=Go2Ann.GetMatriz(ANN_CR)\n",
        "fields = ['DI RELATIVO','FRAC Its','Fo','CRo']\n",
        "\n",
        "#TOTAL=7*dim*its*ITE\n",
        "TOTAL=10*dim*its*ITE\n",
        "TOTAL=int(TOTAL/2)   # CONFERIR SE ESTE EH O MELHOR LUGAR\n",
        "\n",
        "dimensions=len(MAX)\n",
        "start_time = time.time() #INICIALIZA CONTAGEM DO TEMPO\n",
        "\n",
        "MAX_P=np.zeros(ITE) # ATENCAO para variar F e Cr MAX_P passa a ser 3 vezes maior\n",
        "MIN_P=np.zeros(ITE) # ATENCAO para variar F e Cr MIN_P passa a ser 3 vezes maior\n",
        "\n",
        "for i in range(dim):\n",
        "  MAX_P[i]=MAX[i] \n",
        "  MIN_P[i]=MIN[i]\n",
        "\n",
        "rodadas=1\n",
        "for i in range(rodadas):\n",
        "  SOMA=0\n",
        "  pop = np.random.rand(NPAR, dimensions)\n",
        "  diff=np.zeros(PAR)\n",
        "  for ii in range(PAR):\n",
        "    diff[ii] = MAX[ii]-MIN[ii]\n",
        "  X = MIN + pop * diff\n",
        "    \n",
        "  PONTOS=ITE # DIVISOES DA POPULACAO\n",
        "start_time = time.time()\n",
        "BEST_AGENTS=[]\n",
        "MAT_stat=[]\n",
        "for i in range(RUNS):\n",
        "    MAT=[] \n",
        "    mut=Fi\n",
        "    crossp=CRi\n",
        "    SOMA=0\n",
        "    SOMAf=0\n",
        "    start_ite = time.time()\n",
        "    delta_time=(start_ite-start_time)/60\n",
        "    #print('ite=',i,'total=50','time=',delta_time)\n",
        "    pop = np.random.rand(NPAR, dim)\n",
        "    diff=np.zeros(PAR)\n",
        "    for ii in range(PAR):\n",
        "      diff[ii] = MAX[ii]-MIN[ii]\n",
        "    X = MIN + pop * diff\n",
        "    Xf = MIN + pop * diff\n",
        "    \n",
        "    DIo=1e99\n",
        "  \n",
        "    CRo=crossp;Fo=mut;\n",
        "    Fitness = np.asarray([Fun(ind) for ind in X])\n",
        "\n",
        "    XY,BEST_XY,BESTo,FOBESTo=AvaliaX(X,Fitness)\n",
        "    nrow,ncol=X.shape\n",
        "\n",
        "    QUANT=17;MAT_INDo=np.zeros((1,QUANT)); # quantos indices esta fazendo\n",
        "    MAT_INDo[0,5]=nrow  # VALOR NP\n",
        "    MAT_INDo[0,6]=Fo    # VALOR Fo   \n",
        "    MAT_INDo[0,7]=CRo   # VALOR CRo\n",
        "  \n",
        "    MAT_INDo=GeraIndices(X,BESTo,FOBESTo,DIo,MAT_INDo,SOMA,TOTAL,syn0_F,\n",
        "                        syn1_F,X_max_F,X_min_F,syn0_CR,syn1_CR,X_max_CR,\n",
        "                        X_min_CR,Fc,fields,Fun)\n",
        "  \n",
        "    DIo=np.copy(MAT_INDo[0,0])\n",
        "    MAT_INDo[0,15]=Fo    # VALOR Fo   \n",
        "    MAT_INDo[0,16]=CRo   # VALOR CRo\n",
        "    #ind_crossp=ITE-1\n",
        "\n",
        "    \n",
        "    for k in range(ITE):\n",
        "      X,BEST,FOBEST,XY,BEST_XY,SOMA= de_soma_Insight.de(MAX,MIN, mut, crossp,NPAR,its,Fun,X,SOMA,TOTAL)\n",
        "      #Xf,BESTf,FOBESTf,XYf,BEST_XYf,SOMAf= de_soma_Insight.de(MAX,MIN, Fi, CRi, NPAR,its,Fun,Xf,SOMAf,TOTAL)\n",
        "\n",
        "      \n",
        "      MAT_IND=GeraIndices(X,BESTo,FOBESTo,DIo,MAT_INDo,SOMA,TOTAL,syn0_F,\n",
        "                          syn1_F,X_max_F,X_min_F,syn0_CR,syn1_CR,X_max_CR,\n",
        "                          X_min_CR,Fc,fields,Fun)\n",
        "    \n",
        "      BESTo=np.copy(BEST);FOBESTo=np.copy(FOBEST);\n",
        "      MAT.append(MAT_IND.ravel())\n",
        "    \n",
        "      MAT_INDo[0,6]=MAT_IND[0,15]   # VALOR Fo   \n",
        "      MAT_INDo[0,7]=MAT_IND[0,16]   # VALOR CRo\n",
        "      mut=MAT_IND[0,15]\n",
        "      crossp=MAT_IND[0,16]\n",
        "\n",
        "      Fitness = np.asarray([Fun(ind) for ind in X])\n",
        "      #Fitnessf = np.asarray([Fun(ind) for ind in Xf])\n",
        "      Maior=np.argmax(Fitness)\n",
        "      #Maiorf=np.argmax(Fitnessf)\n",
        "      Menor=np.argmin(Fitness)\n",
        "      #Menorf=np.argmin(Fitnessf)\n",
        "\n",
        "      #X[Maior,:]=np.copy(Xf[Menorf,:])\n",
        "      #Xf[Maiorf,:]=np.copy(X[Menor,:])\n",
        "      \n",
        "    BEST_AGENTS.append(BEST_XY)\n",
        "    MAT_stat.append(MAT)\n",
        "    #print(\"GlobalParam e Solucao:\", BEST,\"Funcao=\",FOBEST)\n",
        "    \n",
        "############################## Cálculo dos Parâmetros de Avaliação   \n",
        "TIME = (time.time() - start_time)/RUNS\n",
        "BEST_AGENTS=np.array(BEST_AGENTS)\n",
        "BEST_AGENTS_ST= BEST_AGENTS[BEST_AGENTS[:,-1].argsort()]\n",
        "BEST=BEST_AGENTS_ST[0]\n",
        "WORSE=BEST_AGENTS_ST[-1]\n",
        "MEAN=np.mean(BEST_AGENTS,axis=0)\n",
        "MAXFO=BEST_AGENTS[:,-1].max()\n",
        "MINFO=BEST_AGENTS[:,-1].min()\n",
        "STD=BEST_AGENTS[:,-1].std()\n",
        "\n",
        "nome='_ANN_Div3x4_Fo-'+str(Fi)+'_CRo-'+str(CRi)+'_D-'+str(dim)+'_Interv-'+str(ITE)\n",
        "print('DE_POP_VAR_F_CR','TOTAL=',TOTAL,'Iterações=',ITE*its,'Dim=', PAR,\"Min/Max=\",MIN[0],\"/\",MAX[0],'_',Fun.__name__)\n",
        "print(nome, '\\n')\n",
        "print('MÉDIA: ',MEAN[-1])\n",
        "print('MIN __:',MINFO)\n",
        "print('MAX__: ',MAXFO)\n",
        "print('STD __:',STD)\n",
        "print(\"Tempo Médio= %.3f segundos ---\" % (TIME))\n",
        "print(RUNS,'Rodadas') \n",
        "print()\n",
        "print('BEST: ',BEST)"
      ],
      "execution_count": null,
      "outputs": [
        {
          "output_type": "stream",
          "text": [
            "DE_POP_VAR_F_CR TOTAL= 100000 Iterações= 2000 Dim= 10 Min/Max= -10 / 10 _ Rosenbrock\n",
            "_ANN_Div3x4_Fo-0.5_CRo-0.5_D-10_Interv-2000 \n",
            "\n",
            "MÉDIA:  0.11793844599350979\n",
            "MIN __: 0.007902571149090341\n",
            "MAX__:  0.6385770403716039\n",
            "STD __: 0.11269503814500621\n",
            "Tempo Médio= 60.207 segundos ---\n",
            "50 Rodadas\n",
            "\n",
            "BEST:  [0.99971381 0.9995424  0.99935784 0.9989761  1.00010628 1.00309185\n",
            " 1.01081505 1.01695839 1.03597084 1.07203807 0.00790257]\n"
          ],
          "name": "stdout"
        }
      ]
    }
  ]
}