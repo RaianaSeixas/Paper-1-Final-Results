{
  "nbformat": 4,
  "nbformat_minor": 0,
  "metadata": {
    "colab": {
      "name": "Stats_2000_Schwefel_221_ALL3_D_30_0.25_0.25.ipynb",
      "provenance": [],
      "collapsed_sections": [],
      "include_colab_link": true
    },
    "kernelspec": {
      "name": "python3",
      "display_name": "Python 3"
    }
  },
  "cells": [
    {
      "cell_type": "markdown",
      "metadata": {
        "id": "view-in-github",
        "colab_type": "text"
      },
      "source": [
        "<a href=\"https://colab.research.google.com/github/RaianaSeixas/Paper-1-Final-Results/blob/master/Stats_2000_Schwefel_221_ALL3_D_30_0_25_0_25.ipynb\" target=\"_parent\"><img src=\"https://colab.research.google.com/assets/colab-badge.svg\" alt=\"Open In Colab\"/></a>"
      ]
    },
    {
      "cell_type": "code",
      "metadata": {
        "id": "MC26Bm1UyUR5",
        "colab_type": "code",
        "colab": {
          "base_uri": "https://localhost:8080/",
          "height": 34
        },
        "outputId": "9088be2d-9acb-480f-d4aa-94b0af0254c5"
      },
      "source": [
        "!pip install pyade-python"
      ],
      "execution_count": 29,
      "outputs": [
        {
          "output_type": "stream",
          "text": [
            "Requirement already satisfied: pyade-python in /usr/local/lib/python3.6/dist-packages (1.1)\n"
          ],
          "name": "stdout"
        }
      ]
    },
    {
      "cell_type": "code",
      "metadata": {
        "id": "rRwqrtCmgzdZ",
        "colab_type": "code",
        "colab": {
          "base_uri": "https://localhost:8080/",
          "height": 51
        },
        "outputId": "88ccd114-8c73-4b4d-dbdb-a481a02ec2f8"
      },
      "source": [
        "!pip install PyFDE"
      ],
      "execution_count": 30,
      "outputs": [
        {
          "output_type": "stream",
          "text": [
            "Requirement already satisfied: PyFDE in /usr/local/lib/python3.6/dist-packages (1.3.0)\n",
            "Requirement already satisfied: numpy in /usr/local/lib/python3.6/dist-packages (from PyFDE) (1.18.5)\n"
          ],
          "name": "stdout"
        }
      ]
    },
    {
      "cell_type": "code",
      "metadata": {
        "id": "anFukot-ypn6",
        "colab_type": "code",
        "colab": {}
      },
      "source": [
        "import pyade.ilshade \n",
        "import pyade.sade \n",
        "import pyade.jso\n",
        "import pyade.shade\n",
        "import pyade.jade \n",
        "import pyfde\n",
        "import numpy as np\n",
        "import pandas as pd\n",
        "import time"
      ],
      "execution_count": 31,
      "outputs": []
    },
    {
      "cell_type": "code",
      "metadata": {
        "id": "6Oh714_-z1Ia",
        "colab_type": "code",
        "colab": {
          "base_uri": "https://localhost:8080/",
          "height": 173
        },
        "outputId": "457885a4-f37c-45b2-f069-9437ed5ba055"
      },
      "source": [
        "!git clone https://github.com/ucfilho/Raianars_July_2020 #clonar do Github\n",
        "%cd Raianars_July_2020"
      ],
      "execution_count": 32,
      "outputs": [
        {
          "output_type": "stream",
          "text": [
            "Cloning into 'Raianars_July_2020'...\n",
            "remote: Enumerating objects: 27, done.\u001b[K\n",
            "remote: Counting objects:   3% (1/27)\u001b[K\rremote: Counting objects:   7% (2/27)\u001b[K\rremote: Counting objects:  11% (3/27)\u001b[K\rremote: Counting objects:  14% (4/27)\u001b[K\rremote: Counting objects:  18% (5/27)\u001b[K\rremote: Counting objects:  22% (6/27)\u001b[K\rremote: Counting objects:  25% (7/27)\u001b[K\rremote: Counting objects:  29% (8/27)\u001b[K\rremote: Counting objects:  33% (9/27)\u001b[K\rremote: Counting objects:  37% (10/27)\u001b[K\rremote: Counting objects:  40% (11/27)\u001b[K\rremote: Counting objects:  44% (12/27)\u001b[K\rremote: Counting objects:  48% (13/27)\u001b[K\rremote: Counting objects:  51% (14/27)\u001b[K\rremote: Counting objects:  55% (15/27)\u001b[K\rremote: Counting objects:  59% (16/27)\u001b[K\rremote: Counting objects:  62% (17/27)\u001b[K\rremote: Counting objects:  66% (18/27)\u001b[K\rremote: Counting objects:  70% (19/27)\u001b[K\rremote: Counting objects:  74% (20/27)\u001b[K\rremote: Counting objects:  77% (21/27)\u001b[K\rremote: Counting objects:  81% (22/27)\u001b[K\rremote: Counting objects:  85% (23/27)\u001b[K\rremote: Counting objects:  88% (24/27)\u001b[K\rremote: Counting objects:  92% (25/27)\u001b[K\rremote: Counting objects:  96% (26/27)\u001b[K\rremote: Counting objects: 100% (27/27)\u001b[K\rremote: Counting objects: 100% (27/27), done.\u001b[K\n",
            "remote: Compressing objects:   3% (1/27)\u001b[K\rremote: Compressing objects:   7% (2/27)\u001b[K\rremote: Compressing objects:  11% (3/27)\u001b[K\rremote: Compressing objects:  14% (4/27)\u001b[K\rremote: Compressing objects:  18% (5/27)\u001b[K\rremote: Compressing objects:  22% (6/27)\u001b[K\rremote: Compressing objects:  25% (7/27)\u001b[K\rremote: Compressing objects:  29% (8/27)\u001b[K\rremote: Compressing objects:  33% (9/27)\u001b[K\rremote: Compressing objects:  37% (10/27)\u001b[K\rremote: Compressing objects:  40% (11/27)\u001b[K\rremote: Compressing objects:  44% (12/27)\u001b[K\rremote: Compressing objects:  48% (13/27)\u001b[K\rremote: Compressing objects:  51% (14/27)\u001b[K\rremote: Compressing objects:  55% (15/27)\u001b[K\rremote: Compressing objects:  59% (16/27)\u001b[K\rremote: Compressing objects:  62% (17/27)\u001b[K\rremote: Compressing objects:  66% (18/27)\u001b[K\rremote: Compressing objects:  70% (19/27)\u001b[K\rremote: Compressing objects:  74% (20/27)\u001b[K\rremote: Compressing objects:  77% (21/27)\u001b[K\rremote: Compressing objects:  81% (22/27)\u001b[K\rremote: Compressing objects:  85% (23/27)\u001b[K\rremote: Compressing objects:  88% (24/27)\u001b[K\rremote: Compressing objects:  92% (25/27)\u001b[K\rremote: Compressing objects:  96% (26/27)\u001b[K\rremote: Compressing objects: 100% (27/27)\u001b[K\rremote: Compressing objects: 100% (27/27), done.\u001b[K\n",
            "Receiving objects:   0% (1/150)   \rReceiving objects:   1% (2/150)   \rReceiving objects:   2% (3/150)   \rReceiving objects:   3% (5/150)   \rReceiving objects:   4% (6/150)   \rReceiving objects:   5% (8/150)   \rReceiving objects:   6% (9/150)   \rReceiving objects:   7% (11/150)   \rReceiving objects:   8% (12/150)   \rReceiving objects:   9% (14/150)   \rReceiving objects:  10% (15/150)   \rReceiving objects:  11% (17/150)   \rReceiving objects:  12% (18/150)   \rReceiving objects:  13% (20/150)   \rReceiving objects:  14% (21/150)   \rReceiving objects:  15% (23/150)   \rReceiving objects:  16% (24/150)   \rReceiving objects:  17% (26/150)   \rReceiving objects:  18% (27/150)   \rReceiving objects:  19% (29/150)   \rReceiving objects:  20% (30/150)   \rReceiving objects:  21% (32/150)   \rReceiving objects:  22% (33/150)   \rReceiving objects:  23% (35/150)   \rReceiving objects:  24% (36/150)   \rReceiving objects:  25% (38/150)   \rReceiving objects:  26% (39/150)   \rReceiving objects:  27% (41/150)   \rReceiving objects:  28% (42/150)   \rReceiving objects:  29% (44/150)   \rReceiving objects:  30% (45/150)   \rReceiving objects:  31% (47/150)   \rReceiving objects:  32% (48/150)   \rReceiving objects:  33% (50/150)   \rReceiving objects:  34% (51/150)   \rremote: Total 150 (delta 14), reused 0 (delta 0), pack-reused 123\u001b[K\n",
            "Receiving objects:  35% (53/150)   \rReceiving objects:  36% (54/150)   \rReceiving objects:  37% (56/150)   \rReceiving objects:  38% (57/150)   \rReceiving objects:  39% (59/150)   \rReceiving objects:  40% (60/150)   \rReceiving objects:  41% (62/150)   \rReceiving objects:  42% (63/150)   \rReceiving objects:  43% (65/150)   \rReceiving objects:  44% (66/150)   \rReceiving objects:  45% (68/150)   \rReceiving objects:  46% (69/150)   \rReceiving objects:  47% (71/150)   \rReceiving objects:  48% (72/150)   \rReceiving objects:  49% (74/150)   \rReceiving objects:  50% (75/150)   \rReceiving objects:  51% (77/150)   \rReceiving objects:  52% (78/150)   \rReceiving objects:  53% (80/150)   \rReceiving objects:  54% (81/150)   \rReceiving objects:  55% (83/150)   \rReceiving objects:  56% (84/150)   \rReceiving objects:  57% (86/150)   \rReceiving objects:  58% (87/150)   \rReceiving objects:  59% (89/150)   \rReceiving objects:  60% (90/150)   \rReceiving objects:  61% (92/150)   \rReceiving objects:  62% (93/150)   \rReceiving objects:  63% (95/150)   \rReceiving objects:  64% (96/150)   \rReceiving objects:  65% (98/150)   \rReceiving objects:  66% (99/150)   \rReceiving objects:  67% (101/150)   \rReceiving objects:  68% (102/150)   \rReceiving objects:  69% (104/150)   \rReceiving objects:  70% (105/150)   \rReceiving objects:  71% (107/150)   \rReceiving objects:  72% (108/150)   \rReceiving objects:  73% (110/150)   \rReceiving objects:  74% (111/150)   \rReceiving objects:  75% (113/150)   \rReceiving objects:  76% (114/150)   \rReceiving objects:  77% (116/150)   \rReceiving objects:  78% (117/150)   \rReceiving objects:  79% (119/150)   \rReceiving objects:  80% (120/150)   \rReceiving objects:  81% (122/150)   \rReceiving objects:  82% (123/150)   \rReceiving objects:  83% (125/150)   \rReceiving objects:  84% (126/150)   \rReceiving objects:  85% (128/150)   \rReceiving objects:  86% (129/150)   \rReceiving objects:  87% (131/150)   \rReceiving objects:  88% (132/150)   \rReceiving objects:  89% (134/150)   \rReceiving objects:  90% (135/150)   \rReceiving objects:  91% (137/150)   \rReceiving objects:  92% (138/150)   \rReceiving objects:  93% (140/150)   \rReceiving objects:  94% (141/150)   \rReceiving objects:  95% (143/150)   \rReceiving objects:  96% (144/150)   \rReceiving objects:  97% (146/150)   \rReceiving objects:  98% (147/150)   \rReceiving objects:  99% (149/150)   \rReceiving objects: 100% (150/150)   \rReceiving objects: 100% (150/150), 204.85 KiB | 7.88 MiB/s, done.\n",
            "Resolving deltas:   0% (0/76)   \rResolving deltas:  10% (8/76)   \rResolving deltas:  11% (9/76)   \rResolving deltas:  52% (40/76)   \rResolving deltas:  67% (51/76)   \rResolving deltas:  69% (53/76)   \rResolving deltas:  71% (54/76)   \rResolving deltas:  85% (65/76)   \rResolving deltas:  94% (72/76)   \rResolving deltas:  97% (74/76)   \rResolving deltas:  98% (75/76)   \rResolving deltas: 100% (76/76)   \rResolving deltas: 100% (76/76), done.\n",
            "/content/Raianars_July_2020/ANN_read_matrix/Raianars_July_2020/Raianars_July_2020/ANN_read_matrix/Raianars_July_2020/Raianars_July_2020\n"
          ],
          "name": "stdout"
        }
      ]
    },
    {
      "cell_type": "code",
      "metadata": {
        "id": "LnzftXkky78A",
        "colab_type": "code",
        "colab": {}
      },
      "source": [
        "import Go2Ann\n",
        "import de_soma_Insight\n",
        "import de_bounds_matriz\n",
        "from AvaliaX import AvaliaX\n",
        "from GeraIndices import GeraIndices"
      ],
      "execution_count": 33,
      "outputs": []
    },
    {
      "cell_type": "code",
      "metadata": {
        "id": "HNW92728z7fR",
        "colab_type": "code",
        "colab": {}
      },
      "source": [
        "import Function\n",
        "import Go2MinMax"
      ],
      "execution_count": 34,
      "outputs": []
    },
    {
      "cell_type": "code",
      "metadata": {
        "id": "T_C-e7aH0CZH",
        "colab_type": "code",
        "colab": {}
      },
      "source": [
        "ITE=2000 #10 # PONTOS quantas vezes vai alteral NPAR \n",
        "NPAR=100 # NUMBER OF PARTICLES\n",
        "dim=30\n",
        "RUNS=50\n",
        "fchoice='Schwefel_221' \n",
        "Fun=Function.Schwefel_221\n",
        "\n",
        "MIN,MAX=Go2MinMax.Intervalo(dim,fchoice)\n",
        "bounds = [(0,0)]*dim\n",
        "\n",
        "for i in range(dim):\n",
        "  bounds[i] = (MIN[i],MAX[i])\n",
        "\n",
        "start_time = time.time() "
      ],
      "execution_count": 35,
      "outputs": []
    },
    {
      "cell_type": "code",
      "metadata": {
        "id": "Nqv5qp9yzQEw",
        "colab_type": "code",
        "colab": {}
      },
      "source": [
        "############################### INPUT INFORMATION (FRANNK)\n",
        "Fc=0.1 # fator de correcao parametros da ANN\n",
        "its=1 #10 # quantas vezes vai usar o NPAR antes de alterar de novo\n",
        "mut=0.25\n",
        "crossp=0.25\n",
        "Fi=mut;CRi=crossp;# para impressão\n",
        "PAR=len(MAX) #NUM DE PARAMETROS A SER OTIMIZADOS"
      ],
      "execution_count": 36,
      "outputs": []
    },
    {
      "cell_type": "code",
      "metadata": {
        "id": "q77YsFa82zFU",
        "colab_type": "code",
        "colab": {
          "base_uri": "https://localhost:8080/",
          "height": 323
        },
        "outputId": "926ffacf-8643-4637-c067-87c31fe2a953"
      },
      "source": [
        "# JADE\n",
        "algorithm = pyade.jso\n",
        "BEST_AGENTS=[]\n",
        "for i in range(RUNS):\n",
        "  ANSWER_AGENTS=[]\n",
        "  solver = pyfde.JADE(Fun, n_dim=dim, n_pop=NPAR, limits=bounds, minimize=True)\n",
        "  solver.p = 0.05\n",
        "  solver.c = 0.1\n",
        "  solver.cr = 0.5\n",
        "  solver.f = 0.5\n",
        "  best, fit = solver.run(n_it=ITE)\n",
        "  for x in best:\n",
        "    ANSWER_AGENTS.append(x)\n",
        "  ANSWER_AGENTS.append(fit)\n",
        "  BEST_AGENTS.append(ANSWER_AGENTS)\n",
        "BEST_AGENTS=np.array(BEST_AGENTS)\n",
        "TIME = (time.time() - start_time)/RUNS\n",
        "BEST_AGENTS=np.array(BEST_AGENTS)\n",
        "BEST_AGENTS_ST= BEST_AGENTS[BEST_AGENTS[:,-1].argsort()]\n",
        "BEST=BEST_AGENTS_ST[0]\n",
        "WORSE=BEST_AGENTS_ST[-1]\n",
        "MEAN=np.mean(BEST_AGENTS,axis=0)\n",
        "MAXFO=BEST_AGENTS[:,-1].max()\n",
        "MINFO=BEST_AGENTS[:,-1].min()\n",
        "STD=BEST_AGENTS[:,-1].std()\n",
        "nome='JADE_Fo-'+str(0)+'_CRo-'+str(0)\n",
        "print(nome,'NPAR',NPAR,'Iterações=',ITE,'Dim=',dim ,\"Min/Max=\",MIN[0],\"/\",MAX[0],'_',Fun.__name__)\n",
        "print( '\\n')\n",
        "print('MÉDIA: ',MEAN[-1])\n",
        "print('MIN __:',MINFO)\n",
        "print('MAX__: ',MAXFO)\n",
        "print('STD __:',STD)\n",
        "print(\"Tempo Médio= %.3f segundos ---\" % (TIME))\n",
        "print(RUNS,'Rodadas') \n",
        "print()\n",
        "print('BEST: ',BEST)"
      ],
      "execution_count": 37,
      "outputs": [
        {
          "output_type": "stream",
          "text": [
            "JADE_Fo-0_CRo-0 NPAR 100 Iterações= 2000 Dim= 30 Min/Max= -100 / 100 _ Schwefel_221\n",
            "\n",
            "\n",
            "MÉDIA:  -1.1372973608317305e-09\n",
            "MIN __: -2.7179875521990674e-08\n",
            "MAX__:  -1.5587299725984206e-12\n",
            "STD __: 3.858956158579004e-09\n",
            "Tempo Médio= 1.885 segundos ---\n",
            "50 Rodadas\n",
            "\n",
            "BEST:  [ 4.83175709e-09 -2.71445285e-08  7.09010775e-09 -9.04758957e-09\n",
            " -2.53864980e-08 -2.65552697e-08  2.00401237e-08 -2.77082850e-09\n",
            " -1.15699266e-08  2.26685776e-08  4.08707145e-10 -2.68968603e-08\n",
            "  4.78818771e-09  2.29843366e-08 -2.46736567e-08 -7.88250925e-09\n",
            "  2.71798755e-08 -1.57852894e-08 -2.18224744e-08 -2.23039890e-08\n",
            "  2.00469464e-08  2.37943671e-08 -1.84665880e-08  1.14650144e-08\n",
            "  2.36092958e-08  2.95819396e-09 -2.32916718e-08  2.02975506e-08\n",
            " -2.11781657e-08 -4.49708972e-09 -2.71798755e-08]\n"
          ],
          "name": "stdout"
        }
      ]
    },
    {
      "cell_type": "code",
      "metadata": {
        "id": "gXdUgSStzppX",
        "colab_type": "code",
        "colab": {}
      },
      "source": [
        "# FRANNK START HERE !!!!!"
      ],
      "execution_count": 38,
      "outputs": []
    },
    {
      "cell_type": "code",
      "metadata": {
        "id": "raWOfeJBztuj",
        "colab_type": "code",
        "colab": {
          "base_uri": "https://localhost:8080/",
          "height": 156
        },
        "outputId": "6cf7f7a9-5b0f-4881-cc97-709fecb72645"
      },
      "source": [
        "!git clone https://github.com/ucfilho/ANN_read_matrix #clonar do Github\n",
        "%cd ANN_read_matrix"
      ],
      "execution_count": 39,
      "outputs": [
        {
          "output_type": "stream",
          "text": [
            "Cloning into 'ANN_read_matrix'...\n",
            "remote: Enumerating objects: 20, done.\u001b[K\n",
            "remote: Counting objects:   5% (1/20)\u001b[K\rremote: Counting objects:  10% (2/20)\u001b[K\rremote: Counting objects:  15% (3/20)\u001b[K\rremote: Counting objects:  20% (4/20)\u001b[K\rremote: Counting objects:  25% (5/20)\u001b[K\rremote: Counting objects:  30% (6/20)\u001b[K\rremote: Counting objects:  35% (7/20)\u001b[K\rremote: Counting objects:  40% (8/20)\u001b[K\rremote: Counting objects:  45% (9/20)\u001b[K\rremote: Counting objects:  50% (10/20)\u001b[K\rremote: Counting objects:  55% (11/20)\u001b[K\rremote: Counting objects:  60% (12/20)\u001b[K\rremote: Counting objects:  65% (13/20)\u001b[K\rremote: Counting objects:  70% (14/20)\u001b[K\rremote: Counting objects:  75% (15/20)\u001b[K\rremote: Counting objects:  80% (16/20)\u001b[K\rremote: Counting objects:  85% (17/20)\u001b[K\rremote: Counting objects:  90% (18/20)\u001b[K\rremote: Counting objects:  95% (19/20)\u001b[K\rremote: Counting objects: 100% (20/20)\u001b[K\rremote: Counting objects: 100% (20/20), done.\u001b[K\n",
            "remote: Compressing objects:   5% (1/18)\u001b[K\rremote: Compressing objects:  11% (2/18)\u001b[K\rremote: Compressing objects:  16% (3/18)\u001b[K\rremote: Compressing objects:  22% (4/18)\u001b[K\rremote: Compressing objects:  27% (5/18)\u001b[K\rremote: Compressing objects:  33% (6/18)\u001b[K\rremote: Compressing objects:  38% (7/18)\u001b[K\rremote: Compressing objects:  44% (8/18)\u001b[K\rremote: Compressing objects:  50% (9/18)\u001b[K\rremote: Compressing objects:  55% (10/18)\u001b[K\rremote: Compressing objects:  61% (11/18)\u001b[K\rremote: Compressing objects:  66% (12/18)\u001b[K\rremote: Compressing objects:  72% (13/18)\u001b[K\rremote: Compressing objects:  77% (14/18)\u001b[K\rremote: Compressing objects:  83% (15/18)\u001b[K\rremote: Compressing objects:  88% (16/18)\u001b[K\rremote: Compressing objects:  94% (17/18)\u001b[K\rremote: Compressing objects: 100% (18/18)\u001b[K\rremote: Compressing objects: 100% (18/18), done.\u001b[K\n",
            "remote: Total 20 (delta 5), reused 0 (delta 0), pack-reused 0\u001b[K\n",
            "Unpacking objects:   5% (1/20)   \rUnpacking objects:  10% (2/20)   \rUnpacking objects:  15% (3/20)   \rUnpacking objects:  20% (4/20)   \rUnpacking objects:  25% (5/20)   \rUnpacking objects:  30% (6/20)   \rUnpacking objects:  35% (7/20)   \rUnpacking objects:  40% (8/20)   \rUnpacking objects:  45% (9/20)   \rUnpacking objects:  50% (10/20)   \rUnpacking objects:  55% (11/20)   \rUnpacking objects:  60% (12/20)   \rUnpacking objects:  65% (13/20)   \rUnpacking objects:  70% (14/20)   \rUnpacking objects:  75% (15/20)   \rUnpacking objects:  80% (16/20)   \rUnpacking objects:  85% (17/20)   \rUnpacking objects:  90% (18/20)   \rUnpacking objects:  95% (19/20)   \rUnpacking objects: 100% (20/20)   \rUnpacking objects: 100% (20/20), done.\n",
            "/content/Raianars_July_2020/ANN_read_matrix/Raianars_July_2020/Raianars_July_2020/ANN_read_matrix/Raianars_July_2020/Raianars_July_2020/ANN_read_matrix\n"
          ],
          "name": "stdout"
        }
      ]
    },
    {
      "cell_type": "code",
      "metadata": {
        "id": "N2lyPfivzwGv",
        "colab_type": "code",
        "colab": {
          "base_uri": "https://localhost:8080/",
          "height": 1000
        },
        "outputId": "f680e7df-0443-46c8-9246-baddc8234f92"
      },
      "source": [
        "ANN_F=pd.read_csv('ANN_INSIGHT_Valor_F.csv')\n",
        "ANN_CR=pd.read_csv('ANN_INSIGHT_CR.csv')\n",
        "syn0_F,syn1_F,X_max_F,X_min_F=Go2Ann.GetMatriz(ANN_F)\n",
        "syn0_CR,syn1_CR,X_max_CR,X_min_CR=Go2Ann.GetMatriz(ANN_CR)\n",
        "fields = ['DI RELATIVO','FRAC Its','Fo','CRo']\n",
        "\n",
        "#TOTAL=7*dim*its*ITE\n",
        "TOTAL=10*dim*its*ITE\n",
        "TOTAL=int(TOTAL/2)   # CONFERIR SE ESTE EH O MELHOR LUGAR\n",
        "\n",
        "dimensions=len(MAX)\n",
        "start_time = time.time() #INICIALIZA CONTAGEM DO TEMPO\n",
        "\n",
        "MAX_P=np.zeros(ITE) # ATENCAO para variar F e Cr MAX_P passa a ser 3 vezes maior\n",
        "MIN_P=np.zeros(ITE) # ATENCAO para variar F e Cr MIN_P passa a ser 3 vezes maior\n",
        "\n",
        "for i in range(dim):\n",
        "  MAX_P[i]=MAX[i] \n",
        "  MIN_P[i]=MIN[i]\n",
        "\n",
        "rodadas=1\n",
        "for i in range(rodadas):\n",
        "  SOMA=0\n",
        "  pop = np.random.rand(NPAR, dimensions)\n",
        "  diff=np.zeros(PAR)\n",
        "  for ii in range(PAR):\n",
        "    diff[ii] = MAX[ii]-MIN[ii]\n",
        "  X = MIN + pop * diff\n",
        "    \n",
        "  PONTOS=ITE # DIVISOES DA POPULACAO\n",
        "start_time = time.time()\n",
        "BEST_AGENTS=[]\n",
        "MAT_stat=[]\n",
        "for i in range(RUNS):\n",
        "    MAT=[] \n",
        "    mut=Fi\n",
        "    crossp=CRi\n",
        "    SOMA=0\n",
        "    SOMAf=0\n",
        "    start_ite = time.time()\n",
        "    delta_time=(start_ite-start_time)/60\n",
        "    print('ite=',i,'time=',delta_time)\n",
        "    pop = np.random.rand(NPAR, dim)\n",
        "    diff=np.zeros(PAR)\n",
        "    for ii in range(PAR):\n",
        "      diff[ii] = MAX[ii]-MIN[ii]\n",
        "    X = MIN + pop * diff\n",
        "    Xf = MIN + pop * diff\n",
        "    \n",
        "    DIo=1e99\n",
        "  \n",
        "    CRo=crossp;Fo=mut;\n",
        "    Fitness = np.asarray([Fun(ind) for ind in X])\n",
        "\n",
        "    XY,BEST_XY,BESTo,FOBESTo=AvaliaX(X,Fitness)\n",
        "    nrow,ncol=X.shape\n",
        "\n",
        "    QUANT=17;MAT_INDo=np.zeros((1,QUANT)); # quantos indices esta fazendo\n",
        "    MAT_INDo[0,5]=nrow  # VALOR NP\n",
        "    MAT_INDo[0,6]=Fo    # VALOR Fo   \n",
        "    MAT_INDo[0,7]=CRo   # VALOR CRo\n",
        "  \n",
        "    MAT_INDo=GeraIndices(X,BESTo,FOBESTo,DIo,MAT_INDo,SOMA,TOTAL,syn0_F,\n",
        "                        syn1_F,X_max_F,X_min_F,syn0_CR,syn1_CR,X_max_CR,\n",
        "                        X_min_CR,Fc,fields,Fun)\n",
        "  \n",
        "    DIo=np.copy(MAT_INDo[0,0])\n",
        "    MAT_INDo[0,15]=Fo    # VALOR Fo   \n",
        "    MAT_INDo[0,16]=CRo   # VALOR CRo\n",
        "    #ind_crossp=ITE-1\n",
        "\n",
        "    \n",
        "    for k in range(ITE):\n",
        "      X,BEST,FOBEST,XY,BEST_XY,SOMA= de_soma_Insight.de(MAX,MIN, mut, crossp,NPAR,its,Fun,X,SOMA,TOTAL)\n",
        "      #Xf,BESTf,FOBESTf,XYf,BEST_XYf,SOMAf= de_soma_Insight.de(MAX,MIN, Fi, CRi, NPAR,its,Fun,Xf,SOMAf,TOTAL)\n",
        "\n",
        "      \n",
        "      MAT_IND=GeraIndices(X,BESTo,FOBESTo,DIo,MAT_INDo,SOMA,TOTAL,syn0_F,\n",
        "                          syn1_F,X_max_F,X_min_F,syn0_CR,syn1_CR,X_max_CR,\n",
        "                          X_min_CR,Fc,fields,Fun)\n",
        "    \n",
        "      BESTo=np.copy(BEST);FOBESTo=np.copy(FOBEST);\n",
        "      MAT.append(MAT_IND.ravel())\n",
        "    \n",
        "      MAT_INDo[0,6]=MAT_IND[0,15]   # VALOR Fo   \n",
        "      MAT_INDo[0,7]=MAT_IND[0,16]   # VALOR CRo\n",
        "      mut=MAT_IND[0,15]\n",
        "      crossp=MAT_IND[0,16]\n",
        "\n",
        "      Fitness = np.asarray([Fun(ind) for ind in X])\n",
        "      #Fitnessf = np.asarray([Fun(ind) for ind in Xf])\n",
        "      Maior=np.argmax(Fitness)\n",
        "      #Maiorf=np.argmax(Fitnessf)\n",
        "      Menor=np.argmin(Fitness)\n",
        "      #Menorf=np.argmin(Fitnessf)\n",
        "\n",
        "      #X[Maior,:]=np.copy(Xf[Menorf,:])\n",
        "      #Xf[Maiorf,:]=np.copy(X[Menor,:])\n",
        "      \n",
        "    BEST_AGENTS.append(BEST_XY)\n",
        "    MAT_stat.append(MAT)\n",
        "    #print(\"GlobalParam e Solucao:\", BEST,\"Funcao=\",FOBEST)\n",
        "    \n",
        "############################## Cálculo dos Parâmetros de Avaliação   \n",
        "TIME = (time.time() - start_time)/RUNS\n",
        "BEST_AGENTS=np.array(BEST_AGENTS)\n",
        "BEST_AGENTS_ST= BEST_AGENTS[BEST_AGENTS[:,-1].argsort()]\n",
        "BEST=BEST_AGENTS_ST[0]\n",
        "WORSE=BEST_AGENTS_ST[-1]\n",
        "MEAN=np.mean(BEST_AGENTS,axis=0)\n",
        "MAXFO=BEST_AGENTS[:,-1].max()\n",
        "MINFO=BEST_AGENTS[:,-1].min()\n",
        "STD=BEST_AGENTS[:,-1].std()\n",
        "\n",
        "print()\n",
        "nome='_ANN_Div3x4_Fo-'+str(Fi)+'_CRo-'+str(CRi)+'_D-'+str(dim)+'_Interv-'+str(ITE)\n",
        "print('DE_POP_VAR_F_CR','TOTAL=',TOTAL,'Iterações=',ITE*its,'Dim=', PAR,\"Min/Max=\",MIN[0],\"/\",MAX[0],'_',Fun.__name__)\n",
        "print(nome, '\\n')\n",
        "print('MÉDIA: ',MEAN[-1])\n",
        "print('MIN __:',MINFO)\n",
        "print('MAX__: ',MAXFO)\n",
        "print('STD __:',STD)\n",
        "print(\"Tempo Médio= %.3f segundos ---\" % (TIME))\n",
        "print(RUNS,'Rodadas') \n",
        "print()\n",
        "print('BEST: ',BEST)"
      ],
      "execution_count": 40,
      "outputs": [
        {
          "output_type": "stream",
          "text": [
            "ite= 0 time= 3.0243396759033202e-05\n",
            "ite= 1 time= 1.840450370311737\n",
            "ite= 2 time= 3.6968807021776837\n",
            "ite= 3 time= 5.5347044467926025\n",
            "ite= 4 time= 7.35154675245285\n",
            "ite= 5 time= 9.211355948448182\n",
            "ite= 6 time= 11.05270184278488\n",
            "ite= 7 time= 12.906198382377625\n",
            "ite= 8 time= 14.76927702029546\n",
            "ite= 9 time= 16.633427929878234\n",
            "ite= 10 time= 18.493631780147552\n",
            "ite= 11 time= 20.34372015794118\n",
            "ite= 12 time= 22.189832059542336\n",
            "ite= 13 time= 24.063002240657806\n",
            "ite= 14 time= 25.98244221607844\n",
            "ite= 15 time= 27.820010403792065\n",
            "ite= 16 time= 29.680538165569306\n",
            "ite= 17 time= 31.497283681233725\n",
            "ite= 18 time= 33.314665039380394\n",
            "ite= 19 time= 35.130545020103455\n",
            "ite= 20 time= 36.94579819043477\n",
            "ite= 21 time= 38.76499650478363\n",
            "ite= 22 time= 40.66817008256912\n",
            "ite= 23 time= 42.487646253903705\n",
            "ite= 24 time= 44.30382886330287\n",
            "ite= 25 time= 46.11836030085882\n",
            "ite= 26 time= 47.93710848887761\n",
            "ite= 27 time= 49.75044519901276\n",
            "ite= 28 time= 51.56356602509816\n",
            "ite= 29 time= 53.383945393562314\n",
            "ite= 30 time= 55.19943109353383\n",
            "ite= 31 time= 57.01778331597646\n",
            "ite= 32 time= 58.84213769038518\n",
            "ite= 33 time= 60.661902805169426\n",
            "ite= 34 time= 62.480462646484376\n",
            "ite= 35 time= 64.29642408688863\n",
            "ite= 36 time= 66.11362546682358\n",
            "ite= 37 time= 67.92876020272573\n",
            "ite= 38 time= 69.74517908096314\n",
            "ite= 39 time= 71.56343195438384\n",
            "ite= 40 time= 73.38018152713775\n",
            "ite= 41 time= 75.19478245973588\n",
            "ite= 42 time= 77.00939303239187\n",
            "ite= 43 time= 78.82756845553716\n",
            "ite= 44 time= 80.65170284112294\n",
            "ite= 45 time= 82.47541171709696\n",
            "ite= 46 time= 84.29475139379501\n",
            "ite= 47 time= 86.10911887089411\n",
            "ite= 48 time= 87.92877732515335\n",
            "ite= 49 time= 89.74773401419321\n",
            "\n",
            "DE_POP_VAR_F_CR TOTAL= 300000 Iterações= 2000 Dim= 30 Min/Max= -100 / 100 _ Schwefel_221\n",
            "_ANN_Div3x4_Fo-0.25_CRo-0.25_D-30_Interv-2000 \n",
            "\n",
            "MÉDIA:  6.1252255126606405\n",
            "MIN __: 0.03247521480222157\n",
            "MAX__:  8.622395849751715\n",
            "STD __: 1.2633131634995423\n",
            "Tempo Médio= 109.882 segundos ---\n",
            "50 Rodadas\n",
            "\n",
            "BEST:  [-0.01941973 -0.00999546 -0.01726495  0.02320821  0.00133216  0.01815456\n",
            " -0.01906409  0.01484024  0.01178722 -0.03247521  0.03072567  0.00403622\n",
            "  0.02675386 -0.01409296  0.00179699 -0.02210675  0.02487392  0.02477821\n",
            " -0.00678822  0.02061643 -0.00936151 -0.02491599  0.00642578  0.02148145\n",
            "  0.02762612  0.02679448  0.00732918  0.02019074 -0.01305853  0.0116271\n",
            "  0.03247521]\n"
          ],
          "name": "stdout"
        }
      ]
    },
    {
      "cell_type": "code",
      "metadata": {
        "id": "egkWFpw6GiNo",
        "colab_type": "code",
        "colab": {
          "base_uri": "https://localhost:8080/",
          "height": 1000
        },
        "outputId": "f7a984fd-65dd-41b1-c2ba-4d0b2cf30337"
      },
      "source": [
        "#DE_ tradicional\n",
        "\n",
        "!git clone https://github.com/ucfilho/Raianars_July_2020 #clonar do Github\n",
        "%cd Raianars_July_2020\n",
        "\n",
        "mut=0.5\n",
        "crossp=0.5\n",
        "\n",
        "SOMA=0\n",
        "start_time = time.time()\n",
        "BEST_AGENTS=[]\n",
        "MAT_stat=[]\n",
        "\n",
        "for i in range(RUNS):\n",
        "\n",
        "    pop = np.random.rand(NPAR, dim)\n",
        "    diff=np.zeros(dim)\n",
        "    for ii in range(dim):\n",
        "      diff[ii] = MAX[ii]-MIN[ii]\n",
        "    X = MIN + pop * diff\n",
        "\n",
        "    SOMA=0\n",
        "\n",
        "    for k in range(ITE):\n",
        "      X,BEST,FOBEST,XY,BEST_XY,SOMA= de_soma_Insight.de(MAX,MIN, mut, crossp,dim,its,Fun,X,SOMA,TOTAL)\n",
        "\n",
        "    start_run = (time.time()-start_time)/60\n",
        "    print('run=',i,'total=50','Fobj=',FOBEST,'Time=',start_run)  \n",
        "    BEST_AGENTS.append(BEST_XY)"
      ],
      "execution_count": 41,
      "outputs": [
        {
          "output_type": "stream",
          "text": [
            "Cloning into 'Raianars_July_2020'...\n",
            "remote: Enumerating objects: 27, done.\u001b[K\n",
            "remote: Counting objects:   3% (1/27)\u001b[K\rremote: Counting objects:   7% (2/27)\u001b[K\rremote: Counting objects:  11% (3/27)\u001b[K\rremote: Counting objects:  14% (4/27)\u001b[K\rremote: Counting objects:  18% (5/27)\u001b[K\rremote: Counting objects:  22% (6/27)\u001b[K\rremote: Counting objects:  25% (7/27)\u001b[K\rremote: Counting objects:  29% (8/27)\u001b[K\rremote: Counting objects:  33% (9/27)\u001b[K\rremote: Counting objects:  37% (10/27)\u001b[K\rremote: Counting objects:  40% (11/27)\u001b[K\rremote: Counting objects:  44% (12/27)\u001b[K\rremote: Counting objects:  48% (13/27)\u001b[K\rremote: Counting objects:  51% (14/27)\u001b[K\rremote: Counting objects:  55% (15/27)\u001b[K\rremote: Counting objects:  59% (16/27)\u001b[K\rremote: Counting objects:  62% (17/27)\u001b[K\rremote: Counting objects:  66% (18/27)\u001b[K\rremote: Counting objects:  70% (19/27)\u001b[K\rremote: Counting objects:  74% (20/27)\u001b[K\rremote: Counting objects:  77% (21/27)\u001b[K\rremote: Counting objects:  81% (22/27)\u001b[K\rremote: Counting objects:  85% (23/27)\u001b[K\rremote: Counting objects:  88% (24/27)\u001b[K\rremote: Counting objects:  92% (25/27)\u001b[K\rremote: Counting objects:  96% (26/27)\u001b[K\rremote: Counting objects: 100% (27/27)\u001b[K\rremote: Counting objects: 100% (27/27), done.\u001b[K\n",
            "remote: Compressing objects:   3% (1/27)\u001b[K\rremote: Compressing objects:   7% (2/27)\u001b[K\rremote: Compressing objects:  11% (3/27)\u001b[K\rremote: Compressing objects:  14% (4/27)\u001b[K\rremote: Compressing objects:  18% (5/27)\u001b[K\rremote: Compressing objects:  22% (6/27)\u001b[K\rremote: Compressing objects:  25% (7/27)\u001b[K\rremote: Compressing objects:  29% (8/27)\u001b[K\rremote: Compressing objects:  33% (9/27)\u001b[K\rremote: Compressing objects:  37% (10/27)\u001b[K\rremote: Compressing objects:  40% (11/27)\u001b[K\rremote: Compressing objects:  44% (12/27)\u001b[K\rremote: Compressing objects:  48% (13/27)\u001b[K\rremote: Compressing objects:  51% (14/27)\u001b[K\rremote: Compressing objects:  55% (15/27)\u001b[K\rremote: Compressing objects:  59% (16/27)\u001b[K\rremote: Compressing objects:  62% (17/27)\u001b[K\rremote: Compressing objects:  66% (18/27)\u001b[K\rremote: Compressing objects:  70% (19/27)\u001b[K\rremote: Compressing objects:  74% (20/27)\u001b[K\rremote: Compressing objects:  77% (21/27)\u001b[K\rremote: Compressing objects:  81% (22/27)\u001b[K\rremote: Compressing objects:  85% (23/27)\u001b[K\rremote: Compressing objects:  88% (24/27)\u001b[K\rremote: Compressing objects:  92% (25/27)\u001b[K\rremote: Compressing objects:  96% (26/27)\u001b[K\rremote: Compressing objects: 100% (27/27)\u001b[K\rremote: Compressing objects: 100% (27/27), done.\u001b[K\n",
            "Receiving objects:   0% (1/150)   \rReceiving objects:   1% (2/150)   \rReceiving objects:   2% (3/150)   \rReceiving objects:   3% (5/150)   \rReceiving objects:   4% (6/150)   \rReceiving objects:   5% (8/150)   \rReceiving objects:   6% (9/150)   \rReceiving objects:   7% (11/150)   \rReceiving objects:   8% (12/150)   \rReceiving objects:   9% (14/150)   \rReceiving objects:  10% (15/150)   \rReceiving objects:  11% (17/150)   \rReceiving objects:  12% (18/150)   \rReceiving objects:  13% (20/150)   \rReceiving objects:  14% (21/150)   \rReceiving objects:  15% (23/150)   \rReceiving objects:  16% (24/150)   \rReceiving objects:  17% (26/150)   \rReceiving objects:  18% (27/150)   \rReceiving objects:  19% (29/150)   \rReceiving objects:  20% (30/150)   \rReceiving objects:  21% (32/150)   \rReceiving objects:  22% (33/150)   \rReceiving objects:  23% (35/150)   \rReceiving objects:  24% (36/150)   \rReceiving objects:  25% (38/150)   \rReceiving objects:  26% (39/150)   \rReceiving objects:  27% (41/150)   \rReceiving objects:  28% (42/150)   \rReceiving objects:  29% (44/150)   \rReceiving objects:  30% (45/150)   \rReceiving objects:  31% (47/150)   \rReceiving objects:  32% (48/150)   \rReceiving objects:  33% (50/150)   \rReceiving objects:  34% (51/150)   \rremote: Total 150 (delta 14), reused 0 (delta 0), pack-reused 123\u001b[K\n",
            "Receiving objects:  35% (53/150)   \rReceiving objects:  36% (54/150)   \rReceiving objects:  37% (56/150)   \rReceiving objects:  38% (57/150)   \rReceiving objects:  39% (59/150)   \rReceiving objects:  40% (60/150)   \rReceiving objects:  41% (62/150)   \rReceiving objects:  42% (63/150)   \rReceiving objects:  43% (65/150)   \rReceiving objects:  44% (66/150)   \rReceiving objects:  45% (68/150)   \rReceiving objects:  46% (69/150)   \rReceiving objects:  47% (71/150)   \rReceiving objects:  48% (72/150)   \rReceiving objects:  49% (74/150)   \rReceiving objects:  50% (75/150)   \rReceiving objects:  51% (77/150)   \rReceiving objects:  52% (78/150)   \rReceiving objects:  53% (80/150)   \rReceiving objects:  54% (81/150)   \rReceiving objects:  55% (83/150)   \rReceiving objects:  56% (84/150)   \rReceiving objects:  57% (86/150)   \rReceiving objects:  58% (87/150)   \rReceiving objects:  59% (89/150)   \rReceiving objects:  60% (90/150)   \rReceiving objects:  61% (92/150)   \rReceiving objects:  62% (93/150)   \rReceiving objects:  63% (95/150)   \rReceiving objects:  64% (96/150)   \rReceiving objects:  65% (98/150)   \rReceiving objects:  66% (99/150)   \rReceiving objects:  67% (101/150)   \rReceiving objects:  68% (102/150)   \rReceiving objects:  69% (104/150)   \rReceiving objects:  70% (105/150)   \rReceiving objects:  71% (107/150)   \rReceiving objects:  72% (108/150)   \rReceiving objects:  73% (110/150)   \rReceiving objects:  74% (111/150)   \rReceiving objects:  75% (113/150)   \rReceiving objects:  76% (114/150)   \rReceiving objects:  77% (116/150)   \rReceiving objects:  78% (117/150)   \rReceiving objects:  79% (119/150)   \rReceiving objects:  80% (120/150)   \rReceiving objects:  81% (122/150)   \rReceiving objects:  82% (123/150)   \rReceiving objects:  83% (125/150)   \rReceiving objects:  84% (126/150)   \rReceiving objects:  85% (128/150)   \rReceiving objects:  86% (129/150)   \rReceiving objects:  87% (131/150)   \rReceiving objects:  88% (132/150)   \rReceiving objects:  89% (134/150)   \rReceiving objects:  90% (135/150)   \rReceiving objects:  91% (137/150)   \rReceiving objects:  92% (138/150)   \rReceiving objects:  93% (140/150)   \rReceiving objects:  94% (141/150)   \rReceiving objects:  95% (143/150)   \rReceiving objects:  96% (144/150)   \rReceiving objects:  97% (146/150)   \rReceiving objects:  98% (147/150)   \rReceiving objects:  99% (149/150)   \rReceiving objects: 100% (150/150)   \rReceiving objects: 100% (150/150), 204.85 KiB | 8.19 MiB/s, done.\n",
            "Resolving deltas:   0% (0/76)   \rResolving deltas:  13% (10/76)   \rResolving deltas:  52% (40/76)   \rResolving deltas:  64% (49/76)   \rResolving deltas:  68% (52/76)   \rResolving deltas:  72% (55/76)   \rResolving deltas:  88% (67/76)   \rResolving deltas:  92% (70/76)   \rResolving deltas:  96% (73/76)   \rResolving deltas:  98% (75/76)   \rResolving deltas: 100% (76/76)   \rResolving deltas: 100% (76/76), done.\n",
            "/content/Raianars_July_2020/ANN_read_matrix/Raianars_July_2020/Raianars_July_2020/ANN_read_matrix/Raianars_July_2020/Raianars_July_2020/ANN_read_matrix/Raianars_July_2020\n",
            "run= 0 total=50 Fobj= 0.28990556415843416 Time= 0.2505790789922078\n",
            "run= 1 total=50 Fobj= 2.9180461037229497 Time= 0.5007541418075562\n",
            "run= 2 total=50 Fobj= 0.6462679952863046 Time= 0.7504645427068074\n",
            "run= 3 total=50 Fobj= 0.006367210035307158 Time= 1.0002358396848043\n",
            "run= 4 total=50 Fobj= 0.0023203975496788776 Time= 1.2497750520706177\n",
            "run= 5 total=50 Fobj= 0.253745747292748 Time= 1.499301540851593\n",
            "run= 6 total=50 Fobj= 0.004762224824722392 Time= 1.747577432791392\n",
            "run= 7 total=50 Fobj= 0.01007748230450938 Time= 1.997098155816396\n",
            "run= 8 total=50 Fobj= 0.02203978387666327 Time= 2.246528641382853\n",
            "run= 9 total=50 Fobj= 0.1250487798277679 Time= 2.494876134395599\n",
            "run= 10 total=50 Fobj= 0.04029820633308595 Time= 2.74747976064682\n",
            "run= 11 total=50 Fobj= 0.006760786466856762 Time= 2.998029327392578\n",
            "run= 12 total=50 Fobj= 0.0039657123667727195 Time= 3.246943771839142\n",
            "run= 13 total=50 Fobj= 0.012510789638437195 Time= 3.4953574379285177\n",
            "run= 14 total=50 Fobj= 0.6565975518569134 Time= 3.7442960500717164\n",
            "run= 15 total=50 Fobj= 0.004747612044865068 Time= 3.9931902368863423\n",
            "run= 16 total=50 Fobj= 0.005372445930881835 Time= 4.243177541097006\n",
            "run= 17 total=50 Fobj= 0.006818049736948677 Time= 4.492295225461324\n",
            "run= 18 total=50 Fobj= 0.9314729727564184 Time= 4.742808516820272\n",
            "run= 19 total=50 Fobj= 0.06220559438094485 Time= 4.996777371565501\n",
            "run= 20 total=50 Fobj= 0.0799840919597169 Time= 5.247072164217631\n",
            "run= 21 total=50 Fobj= 0.012225159760871422 Time= 5.497046919663747\n",
            "run= 22 total=50 Fobj= 0.09359930894432525 Time= 5.7470155477523805\n",
            "run= 23 total=50 Fobj= 0.12244432052239405 Time= 5.99726183017095\n",
            "run= 24 total=50 Fobj= 0.3111935672169034 Time= 6.246595629056295\n",
            "run= 25 total=50 Fobj= 0.8349840920038963 Time= 6.49714572429657\n",
            "run= 26 total=50 Fobj= 0.029564818175745487 Time= 6.746520193417867\n",
            "run= 27 total=50 Fobj= 0.005394815561991524 Time= 6.995786201953888\n",
            "run= 28 total=50 Fobj= 0.0070110540213532795 Time= 7.244625190893809\n",
            "run= 29 total=50 Fobj= 0.03827405953813385 Time= 7.493529677391052\n",
            "run= 30 total=50 Fobj= 0.05392379702577938 Time= 7.743063203493754\n",
            "run= 31 total=50 Fobj= 0.02025720343768673 Time= 7.995503195126852\n",
            "run= 32 total=50 Fobj= 4.886709526974662 Time= 8.245048586527506\n",
            "run= 33 total=50 Fobj= 0.27073163595810457 Time= 8.494163131713867\n",
            "run= 34 total=50 Fobj= 0.00366305900714613 Time= 8.743141190210979\n",
            "run= 35 total=50 Fobj= 0.21220284669800255 Time= 8.99194853703181\n",
            "run= 36 total=50 Fobj= 0.3396407139168106 Time= 9.239832965532939\n",
            "run= 37 total=50 Fobj= 1.9334434428771914 Time= 9.488260455926259\n",
            "run= 38 total=50 Fobj= 0.0064939919394729 Time= 9.738135409355163\n",
            "run= 39 total=50 Fobj= 0.11091639224887366 Time= 9.989649113019308\n",
            "run= 40 total=50 Fobj= 0.004434902366910054 Time= 10.23797921737035\n",
            "run= 41 total=50 Fobj= 0.005392884153476485 Time= 10.487499765555064\n",
            "run= 42 total=50 Fobj= 1.724259937428403 Time= 10.736310835679372\n",
            "run= 43 total=50 Fobj= 0.01059641570360949 Time= 10.985626443227131\n",
            "run= 44 total=50 Fobj= 0.0033080174974649797 Time= 11.234071977933247\n",
            "run= 45 total=50 Fobj= 0.14561491478245886 Time= 11.483670616149903\n",
            "run= 46 total=50 Fobj= 4.188488236039255 Time= 11.733009652296703\n",
            "run= 47 total=50 Fobj= 1.8873729188306667 Time= 11.980932116508484\n",
            "run= 48 total=50 Fobj= 0.0016525088679290513 Time= 12.230302075544992\n",
            "run= 49 total=50 Fobj= 0.4321782657585653 Time= 12.479523889223735\n"
          ],
          "name": "stdout"
        }
      ]
    },
    {
      "cell_type": "code",
      "metadata": {
        "id": "3W8R6htAHO63",
        "colab_type": "code",
        "colab": {
          "base_uri": "https://localhost:8080/",
          "height": 323
        },
        "outputId": "d33563da-7c02-44d9-f09f-147530de1acb"
      },
      "source": [
        "############################## Cálculo dos Parâmetros de Avaliação   \n",
        "TIME = (time.time() - start_time)/RUNS\n",
        "BEST_AGENTS=np.array(BEST_AGENTS)\n",
        "BEST_AGENTS_ST= BEST_AGENTS[BEST_AGENTS[:,-1].argsort()]\n",
        "BEST=BEST_AGENTS_ST[0]\n",
        "WORSE=BEST_AGENTS_ST[-1]\n",
        "MEAN=np.mean(BEST_AGENTS,axis=0)\n",
        "MAXFO=BEST_AGENTS[:,-1].max()\n",
        "MINFO=BEST_AGENTS[:,-1].min()\n",
        "STD=BEST_AGENTS[:,-1].std()\n",
        "\n",
        "nome='DE_STAT_Fo-'+str(mut)+'_CRo-'+str(crossp)+'_D-'+str(dim)+'_Interv-'+str(ITE)\n",
        "print('DE_','TOTAL=',TOTAL,'Iterações=',ITE*its,'Dim=', dim,\"Min/Max=\",MIN[0],\"/\",MAX[0],'_',Fun.__name__)\n",
        "print(nome, '\\n')\n",
        "#print('BEST: ',BEST)\n",
        "#print('MÉDIA: ',MEAN)\n",
        "print('MÉDIA: ',MEAN[-1])\n",
        "print('MIN __:',MINFO)\n",
        "print('MAX__: ',MAXFO)\n",
        "print('STD __:',STD)\n",
        "print(\"Tempo Médio= %.3f segundos ---\" % (TIME))\n",
        "print(RUNS,'Rodadas') \n",
        "print()\n",
        "print('BEST: ',BEST)"
      ],
      "execution_count": 42,
      "outputs": [
        {
          "output_type": "stream",
          "text": [
            "DE_ TOTAL= 300000 Iterações= 2000 Dim= 30 Min/Max= -100 / 100 _ Schwefel_221\n",
            "DE_STAT_Fo-0.5_CRo-0.5_D-30_Interv-2000 \n",
            "\n",
            "MÉDIA:  0.4757057581921802\n",
            "MIN __: 0.0016525088679290513\n",
            "MAX__:  4.886709526974662\n",
            "STD __: 1.0204728460860086\n",
            "Tempo Médio= 14.976 segundos ---\n",
            "50 Rodadas\n",
            "\n",
            "BEST:  [ 5.17924927e-04 -1.34487117e-03  1.92442424e-04 -1.91928154e-04\n",
            "  1.21794659e-03 -7.51534351e-04  1.61627865e-03 -3.96390081e-04\n",
            "  1.46791552e-03 -1.17302832e-03  3.49414977e-04  5.33685880e-04\n",
            "  1.51926676e-03  1.29177877e-03  7.67004847e-04 -1.25391898e-04\n",
            " -7.28660950e-04 -4.52364736e-04 -3.11348999e-04  6.26113995e-04\n",
            " -6.13337588e-05 -1.02042003e-03 -4.66728694e-04  1.65250887e-03\n",
            "  5.95201149e-04  5.26519028e-04  6.40692816e-04  5.28957416e-04\n",
            "  5.32959165e-04 -3.11838132e-05  1.65250887e-03]\n"
          ],
          "name": "stdout"
        }
      ]
    }
  ]
}