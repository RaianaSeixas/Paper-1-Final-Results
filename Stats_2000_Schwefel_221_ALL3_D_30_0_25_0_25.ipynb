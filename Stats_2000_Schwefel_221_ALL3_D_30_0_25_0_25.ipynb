{
  "nbformat": 4,
  "nbformat_minor": 0,
  "metadata": {
    "colab": {
      "name": "Stats_2000_Schwefel_221_ALL3_D_30_0.25_0.25.ipynb",
      "provenance": [],
      "collapsed_sections": [],
      "include_colab_link": true
    },
    "kernelspec": {
      "name": "python3",
      "display_name": "Python 3"
    }
  },
  "cells": [
    {
      "cell_type": "markdown",
      "metadata": {
        "id": "view-in-github",
        "colab_type": "text"
      },
      "source": [
        "<a href=\"https://colab.research.google.com/github/RaianaSeixas/Paper-1-Final-Results/blob/master/Stats_2000_Schwefel_221_ALL3_D_30_0_25_0_25.ipynb\" target=\"_parent\"><img src=\"https://colab.research.google.com/assets/colab-badge.svg\" alt=\"Open In Colab\"/></a>"
      ]
    },
    {
      "cell_type": "code",
      "metadata": {
        "id": "MC26Bm1UyUR5",
        "colab_type": "code",
        "colab": {
          "base_uri": "https://localhost:8080/",
          "height": 34
        },
        "outputId": "58557f84-9289-4fbb-8d79-340120e79869"
      },
      "source": [
        "!pip install pyade-python"
      ],
      "execution_count": 15,
      "outputs": [
        {
          "output_type": "stream",
          "text": [
            "Requirement already satisfied: pyade-python in /usr/local/lib/python3.6/dist-packages (1.1)\n"
          ],
          "name": "stdout"
        }
      ]
    },
    {
      "cell_type": "code",
      "metadata": {
        "id": "rRwqrtCmgzdZ",
        "colab_type": "code",
        "colab": {
          "base_uri": "https://localhost:8080/",
          "height": 51
        },
        "outputId": "f618daca-e6d8-4b26-f38f-fefb288beaee"
      },
      "source": [
        "!pip install PyFDE"
      ],
      "execution_count": 16,
      "outputs": [
        {
          "output_type": "stream",
          "text": [
            "Requirement already satisfied: PyFDE in /usr/local/lib/python3.6/dist-packages (1.3.0)\n",
            "Requirement already satisfied: numpy in /usr/local/lib/python3.6/dist-packages (from PyFDE) (1.18.5)\n"
          ],
          "name": "stdout"
        }
      ]
    },
    {
      "cell_type": "code",
      "metadata": {
        "id": "anFukot-ypn6",
        "colab_type": "code",
        "colab": {}
      },
      "source": [
        "import pyade.ilshade \n",
        "import pyade.sade \n",
        "import pyade.jso\n",
        "import pyade.shade\n",
        "import pyade.jade \n",
        "import pyfde\n",
        "import numpy as np\n",
        "import pandas as pd\n",
        "import time"
      ],
      "execution_count": 17,
      "outputs": []
    },
    {
      "cell_type": "code",
      "metadata": {
        "id": "6Oh714_-z1Ia",
        "colab_type": "code",
        "colab": {
          "base_uri": "https://localhost:8080/",
          "height": 153
        },
        "outputId": "238efc02-a1bb-4d10-db2e-978593fa3fd2"
      },
      "source": [
        "!git clone https://github.com/ucfilho/Raianars_July_2020 #clonar do Github\n",
        "%cd Raianars_July_2020"
      ],
      "execution_count": 18,
      "outputs": [
        {
          "output_type": "stream",
          "text": [
            "Cloning into 'Raianars_July_2020'...\n",
            "remote: Enumerating objects: 27, done.\u001b[K\n",
            "remote: Counting objects:   3% (1/27)\u001b[K\rremote: Counting objects:   7% (2/27)\u001b[K\rremote: Counting objects:  11% (3/27)\u001b[K\rremote: Counting objects:  14% (4/27)\u001b[K\rremote: Counting objects:  18% (5/27)\u001b[K\rremote: Counting objects:  22% (6/27)\u001b[K\rremote: Counting objects:  25% (7/27)\u001b[K\rremote: Counting objects:  29% (8/27)\u001b[K\rremote: Counting objects:  33% (9/27)\u001b[K\rremote: Counting objects:  37% (10/27)\u001b[K\rremote: Counting objects:  40% (11/27)\u001b[K\rremote: Counting objects:  44% (12/27)\u001b[K\rremote: Counting objects:  48% (13/27)\u001b[K\rremote: Counting objects:  51% (14/27)\u001b[K\rremote: Counting objects:  55% (15/27)\u001b[K\rremote: Counting objects:  59% (16/27)\u001b[K\rremote: Counting objects:  62% (17/27)\u001b[K\rremote: Counting objects:  66% (18/27)\u001b[K\rremote: Counting objects:  70% (19/27)\u001b[K\rremote: Counting objects:  74% (20/27)\u001b[K\rremote: Counting objects:  77% (21/27)\u001b[K\rremote: Counting objects:  81% (22/27)\u001b[K\rremote: Counting objects:  85% (23/27)\u001b[K\rremote: Counting objects:  88% (24/27)\u001b[K\rremote: Counting objects:  92% (25/27)\u001b[K\rremote: Counting objects:  96% (26/27)\u001b[K\rremote: Counting objects: 100% (27/27)\u001b[K\rremote: Counting objects: 100% (27/27), done.\u001b[K\n",
            "remote: Compressing objects:   3% (1/27)\u001b[K\rremote: Compressing objects:   7% (2/27)\u001b[K\rremote: Compressing objects:  11% (3/27)\u001b[K\rremote: Compressing objects:  14% (4/27)\u001b[K\rremote: Compressing objects:  18% (5/27)\u001b[K\rremote: Compressing objects:  22% (6/27)\u001b[K\rremote: Compressing objects:  25% (7/27)\u001b[K\rremote: Compressing objects:  29% (8/27)\u001b[K\rremote: Compressing objects:  33% (9/27)\u001b[K\rremote: Compressing objects:  37% (10/27)\u001b[K\rremote: Compressing objects:  40% (11/27)\u001b[K\rremote: Compressing objects:  44% (12/27)\u001b[K\rremote: Compressing objects:  48% (13/27)\u001b[K\rremote: Compressing objects:  51% (14/27)\u001b[K\rremote: Compressing objects:  55% (15/27)\u001b[K\rremote: Compressing objects:  59% (16/27)\u001b[K\rremote: Compressing objects:  62% (17/27)\u001b[K\rremote: Compressing objects:  66% (18/27)\u001b[K\rremote: Compressing objects:  70% (19/27)\u001b[K\rremote: Compressing objects:  74% (20/27)\u001b[K\rremote: Compressing objects:  77% (21/27)\u001b[K\rremote: Compressing objects:  81% (22/27)\u001b[K\rremote: Compressing objects:  85% (23/27)\u001b[K\rremote: Compressing objects:  88% (24/27)\u001b[K\rremote: Compressing objects:  92% (25/27)\u001b[K\rremote: Compressing objects:  96% (26/27)\u001b[K\rremote: Compressing objects: 100% (27/27)\u001b[K\rremote: Compressing objects: 100% (27/27), done.\u001b[K\n",
            "Receiving objects:   0% (1/150)   \rReceiving objects:   1% (2/150)   \rReceiving objects:   2% (3/150)   \rReceiving objects:   3% (5/150)   \rReceiving objects:   4% (6/150)   \rReceiving objects:   5% (8/150)   \rReceiving objects:   6% (9/150)   \rReceiving objects:   7% (11/150)   \rReceiving objects:   8% (12/150)   \rReceiving objects:   9% (14/150)   \rReceiving objects:  10% (15/150)   \rReceiving objects:  11% (17/150)   \rReceiving objects:  12% (18/150)   \rReceiving objects:  13% (20/150)   \rReceiving objects:  14% (21/150)   \rReceiving objects:  15% (23/150)   \rReceiving objects:  16% (24/150)   \rReceiving objects:  17% (26/150)   \rReceiving objects:  18% (27/150)   \rReceiving objects:  19% (29/150)   \rReceiving objects:  20% (30/150)   \rReceiving objects:  21% (32/150)   \rReceiving objects:  22% (33/150)   \rReceiving objects:  23% (35/150)   \rReceiving objects:  24% (36/150)   \rReceiving objects:  25% (38/150)   \rReceiving objects:  26% (39/150)   \rReceiving objects:  27% (41/150)   \rReceiving objects:  28% (42/150)   \rReceiving objects:  29% (44/150)   \rReceiving objects:  30% (45/150)   \rReceiving objects:  31% (47/150)   \rReceiving objects:  32% (48/150)   \rReceiving objects:  33% (50/150)   \rReceiving objects:  34% (51/150)   \rReceiving objects:  35% (53/150)   \rReceiving objects:  36% (54/150)   \rReceiving objects:  37% (56/150)   \rReceiving objects:  38% (57/150)   \rReceiving objects:  39% (59/150)   \rReceiving objects:  40% (60/150)   \rReceiving objects:  41% (62/150)   \rReceiving objects:  42% (63/150)   \rReceiving objects:  43% (65/150)   \rReceiving objects:  44% (66/150)   \rReceiving objects:  45% (68/150)   \rReceiving objects:  46% (69/150)   \rReceiving objects:  47% (71/150)   \rReceiving objects:  48% (72/150)   \rReceiving objects:  49% (74/150)   \rReceiving objects:  50% (75/150)   \rReceiving objects:  51% (77/150)   \rReceiving objects:  52% (78/150)   \rReceiving objects:  53% (80/150)   \rReceiving objects:  54% (81/150)   \rReceiving objects:  55% (83/150)   \rReceiving objects:  56% (84/150)   \rReceiving objects:  57% (86/150)   \rReceiving objects:  58% (87/150)   \rReceiving objects:  59% (89/150)   \rReceiving objects:  60% (90/150)   \rReceiving objects:  61% (92/150)   \rReceiving objects:  62% (93/150)   \rReceiving objects:  63% (95/150)   \rReceiving objects:  64% (96/150)   \rReceiving objects:  65% (98/150)   \rReceiving objects:  66% (99/150)   \rReceiving objects:  67% (101/150)   \rReceiving objects:  68% (102/150)   \rReceiving objects:  69% (104/150)   \rReceiving objects:  70% (105/150)   \rremote: Total 150 (delta 14), reused 0 (delta 0), pack-reused 123\u001b[K\n",
            "Receiving objects:  71% (107/150)   \rReceiving objects:  72% (108/150)   \rReceiving objects:  73% (110/150)   \rReceiving objects:  74% (111/150)   \rReceiving objects:  75% (113/150)   \rReceiving objects:  76% (114/150)   \rReceiving objects:  77% (116/150)   \rReceiving objects:  78% (117/150)   \rReceiving objects:  79% (119/150)   \rReceiving objects:  80% (120/150)   \rReceiving objects:  81% (122/150)   \rReceiving objects:  82% (123/150)   \rReceiving objects:  83% (125/150)   \rReceiving objects:  84% (126/150)   \rReceiving objects:  85% (128/150)   \rReceiving objects:  86% (129/150)   \rReceiving objects:  87% (131/150)   \rReceiving objects:  88% (132/150)   \rReceiving objects:  89% (134/150)   \rReceiving objects:  90% (135/150)   \rReceiving objects:  91% (137/150)   \rReceiving objects:  92% (138/150)   \rReceiving objects:  93% (140/150)   \rReceiving objects:  94% (141/150)   \rReceiving objects:  95% (143/150)   \rReceiving objects:  96% (144/150)   \rReceiving objects:  97% (146/150)   \rReceiving objects:  98% (147/150)   \rReceiving objects:  99% (149/150)   \rReceiving objects: 100% (150/150)   \rReceiving objects: 100% (150/150), 204.85 KiB | 6.40 MiB/s, done.\n",
            "Resolving deltas:   0% (0/76)   \rResolving deltas:   7% (6/76)   \rResolving deltas:  52% (40/76)   \rResolving deltas:  57% (44/76)   \rResolving deltas:  61% (47/76)   \rResolving deltas:  80% (61/76)   \rResolving deltas:  81% (62/76)   \rResolving deltas:  94% (72/76)   \rResolving deltas:  97% (74/76)   \rResolving deltas:  98% (75/76)   \rResolving deltas: 100% (76/76)   \rResolving deltas: 100% (76/76), done.\n",
            "/content/Raianars_July_2020/ANN_read_matrix/Raianars_July_2020/Raianars_July_2020\n"
          ],
          "name": "stdout"
        }
      ]
    },
    {
      "cell_type": "code",
      "metadata": {
        "id": "LnzftXkky78A",
        "colab_type": "code",
        "colab": {}
      },
      "source": [
        "import Go2Ann\n",
        "import de_soma_Insight\n",
        "import de_bounds_matriz\n",
        "from AvaliaX import AvaliaX\n",
        "from GeraIndices import GeraIndices"
      ],
      "execution_count": 19,
      "outputs": []
    },
    {
      "cell_type": "code",
      "metadata": {
        "id": "HNW92728z7fR",
        "colab_type": "code",
        "colab": {}
      },
      "source": [
        "import Function\n",
        "import Go2MinMax"
      ],
      "execution_count": 20,
      "outputs": []
    },
    {
      "cell_type": "code",
      "metadata": {
        "id": "T_C-e7aH0CZH",
        "colab_type": "code",
        "colab": {}
      },
      "source": [
        "ITE=2000 #10 # PONTOS quantas vezes vai alteral NPAR \n",
        "NPAR=100 # NUMBER OF PARTICLES\n",
        "dim=30\n",
        "RUNS=50\n",
        "fchoice='Schwefel_221' \n",
        "Fun=Function.Schwefel_221\n",
        "\n",
        "MIN,MAX=Go2MinMax.Intervalo(dim,fchoice)\n",
        "bounds = [(0,0)]*dim\n",
        "\n",
        "for i in range(dim):\n",
        "  bounds[i] = (MIN[i],MAX[i])\n",
        "\n",
        "start_time = time.time() "
      ],
      "execution_count": 21,
      "outputs": []
    },
    {
      "cell_type": "code",
      "metadata": {
        "id": "Nqv5qp9yzQEw",
        "colab_type": "code",
        "colab": {}
      },
      "source": [
        "############################### INPUT INFORMATION (FRANNK)\n",
        "Fc=0.1 # fator de correcao parametros da ANN\n",
        "its=1 #10 # quantas vezes vai usar o NPAR antes de alterar de novo\n",
        "mut=0.5\n",
        "crossp=0.5\n",
        "Fi=mut;CRi=crossp;# para impressão\n",
        "PAR=len(MAX) #NUM DE PARAMETROS A SER OTIMIZADOS"
      ],
      "execution_count": 22,
      "outputs": []
    },
    {
      "cell_type": "code",
      "metadata": {
        "id": "q77YsFa82zFU",
        "colab_type": "code",
        "colab": {
          "base_uri": "https://localhost:8080/",
          "height": 323
        },
        "outputId": "158eb7df-9a6c-4270-8555-f9c0d6a071b5"
      },
      "source": [
        "# JADE\n",
        "algorithm = pyade.jso\n",
        "BEST_AGENTS=[]\n",
        "for i in range(RUNS):\n",
        "  ANSWER_AGENTS=[]\n",
        "  solver = pyfde.JADE(Fun, n_dim=dim, n_pop=NPAR, limits=bounds, minimize=True)\n",
        "  solver.p = 0.05\n",
        "  solver.c = 0.1\n",
        "  solver.cr = 0.5\n",
        "  solver.f = 0.5\n",
        "  best, fit = solver.run(n_it=ITE)\n",
        "  for x in best:\n",
        "    ANSWER_AGENTS.append(x)\n",
        "  ANSWER_AGENTS.append(fit)\n",
        "  BEST_AGENTS.append(ANSWER_AGENTS)\n",
        "BEST_AGENTS=np.array(BEST_AGENTS)\n",
        "TIME = (time.time() - start_time)/RUNS\n",
        "BEST_AGENTS=np.array(BEST_AGENTS)\n",
        "BEST_AGENTS_ST= BEST_AGENTS[BEST_AGENTS[:,-1].argsort()]\n",
        "BEST=BEST_AGENTS_ST[0]\n",
        "WORSE=BEST_AGENTS_ST[-1]\n",
        "MEAN=np.mean(BEST_AGENTS,axis=0)\n",
        "MAXFO=BEST_AGENTS[:,-1].max()\n",
        "MINFO=BEST_AGENTS[:,-1].min()\n",
        "STD=BEST_AGENTS[:,-1].std()\n",
        "nome='JADE_Fo-'+str(0)+'_CRo-'+str(0)\n",
        "print(nome,'NPAR',NPAR,'Iterações=',ITE,'Dim=',dim ,\"Min/Max=\",MIN[0],\"/\",MAX[0],'_',Fun.__name__)\n",
        "print( '\\n')\n",
        "print('MÉDIA: ',MEAN[-1])\n",
        "print('MIN __:',MINFO)\n",
        "print('MAX__: ',MAXFO)\n",
        "print('STD __:',STD)\n",
        "print(\"Tempo Médio= %.3f segundos ---\" % (TIME))\n",
        "print(RUNS,'Rodadas') \n",
        "print()\n",
        "print('BEST: ',BEST)"
      ],
      "execution_count": 23,
      "outputs": [
        {
          "output_type": "stream",
          "text": [
            "JADE_Fo-0_CRo-0 NPAR 100 Iterações= 2000 Dim= 30 Min/Max= -100 / 100 _ Schwefel_221\n",
            "\n",
            "\n",
            "MÉDIA:  -1.4849189276092928e-09\n",
            "MIN __: -1.2629697185334176e-08\n",
            "MAX__:  -3.06907305940218e-12\n",
            "STD __: 2.807608614256366e-09\n",
            "Tempo Médio= 1.884 segundos ---\n",
            "50 Rodadas\n",
            "\n",
            "BEST:  [ 6.65018563e-09  1.12390120e-08  1.66939584e-09 -1.26296972e-08\n",
            " -5.58343935e-09 -4.94768555e-09  8.58518783e-09  7.07360469e-09\n",
            " -3.38280389e-10 -7.55156968e-09  1.21255169e-08 -8.43357253e-09\n",
            "  9.57971954e-09  1.22444645e-08  1.21927232e-08 -8.62210785e-09\n",
            " -1.26062284e-08  2.86013006e-09  9.91001348e-10 -8.95028831e-09\n",
            "  1.24406416e-08 -1.02873243e-08 -1.25041608e-08 -3.59181277e-10\n",
            "  1.19855987e-08  1.20401443e-08  1.21873659e-08 -6.00830528e-09\n",
            "  2.69128156e-09  8.16739039e-09 -1.26296972e-08]\n"
          ],
          "name": "stdout"
        }
      ]
    },
    {
      "cell_type": "code",
      "metadata": {
        "id": "gXdUgSStzppX",
        "colab_type": "code",
        "colab": {}
      },
      "source": [
        "# FRANNK START HERE !!!!!"
      ],
      "execution_count": 24,
      "outputs": []
    },
    {
      "cell_type": "code",
      "metadata": {
        "id": "raWOfeJBztuj",
        "colab_type": "code",
        "colab": {
          "base_uri": "https://localhost:8080/",
          "height": 136
        },
        "outputId": "d360275c-b8a9-478a-be3e-66c385276c48"
      },
      "source": [
        "!git clone https://github.com/ucfilho/ANN_read_matrix #clonar do Github\n",
        "%cd ANN_read_matrix"
      ],
      "execution_count": 25,
      "outputs": [
        {
          "output_type": "stream",
          "text": [
            "Cloning into 'ANN_read_matrix'...\n",
            "remote: Enumerating objects: 20, done.\u001b[K\n",
            "remote: Counting objects:   5% (1/20)\u001b[K\rremote: Counting objects:  10% (2/20)\u001b[K\rremote: Counting objects:  15% (3/20)\u001b[K\rremote: Counting objects:  20% (4/20)\u001b[K\rremote: Counting objects:  25% (5/20)\u001b[K\rremote: Counting objects:  30% (6/20)\u001b[K\rremote: Counting objects:  35% (7/20)\u001b[K\rremote: Counting objects:  40% (8/20)\u001b[K\rremote: Counting objects:  45% (9/20)\u001b[K\rremote: Counting objects:  50% (10/20)\u001b[K\rremote: Counting objects:  55% (11/20)\u001b[K\rremote: Counting objects:  60% (12/20)\u001b[K\rremote: Counting objects:  65% (13/20)\u001b[K\rremote: Counting objects:  70% (14/20)\u001b[K\rremote: Counting objects:  75% (15/20)\u001b[K\rremote: Counting objects:  80% (16/20)\u001b[K\rremote: Counting objects:  85% (17/20)\u001b[K\rremote: Counting objects:  90% (18/20)\u001b[K\rremote: Counting objects:  95% (19/20)\u001b[K\rremote: Counting objects: 100% (20/20)\u001b[K\rremote: Counting objects: 100% (20/20), done.\u001b[K\n",
            "remote: Compressing objects:   5% (1/18)\u001b[K\rremote: Compressing objects:  11% (2/18)\u001b[K\rremote: Compressing objects:  16% (3/18)\u001b[K\rremote: Compressing objects:  22% (4/18)\u001b[K\rremote: Compressing objects:  27% (5/18)\u001b[K\rremote: Compressing objects:  33% (6/18)\u001b[K\rremote: Compressing objects:  38% (7/18)\u001b[K\rremote: Compressing objects:  44% (8/18)\u001b[K\rremote: Compressing objects:  50% (9/18)\u001b[K\rremote: Compressing objects:  55% (10/18)\u001b[K\rremote: Compressing objects:  61% (11/18)\u001b[K\rremote: Compressing objects:  66% (12/18)\u001b[K\rremote: Compressing objects:  72% (13/18)\u001b[K\rremote: Compressing objects:  77% (14/18)\u001b[K\rremote: Compressing objects:  83% (15/18)\u001b[K\rremote: Compressing objects:  88% (16/18)\u001b[K\rremote: Compressing objects:  94% (17/18)\u001b[K\rremote: Compressing objects: 100% (18/18)\u001b[K\rremote: Compressing objects: 100% (18/18), done.\u001b[K\n",
            "remote: Total 20 (delta 5), reused 0 (delta 0), pack-reused 0\u001b[K\n",
            "Unpacking objects:   5% (1/20)   \rUnpacking objects:  10% (2/20)   \rUnpacking objects:  15% (3/20)   \rUnpacking objects:  20% (4/20)   \rUnpacking objects:  25% (5/20)   \rUnpacking objects:  30% (6/20)   \rUnpacking objects:  35% (7/20)   \rUnpacking objects:  40% (8/20)   \rUnpacking objects:  45% (9/20)   \rUnpacking objects:  50% (10/20)   \rUnpacking objects:  55% (11/20)   \rUnpacking objects:  60% (12/20)   \rUnpacking objects:  65% (13/20)   \rUnpacking objects:  70% (14/20)   \rUnpacking objects:  75% (15/20)   \rUnpacking objects:  80% (16/20)   \rUnpacking objects:  85% (17/20)   \rUnpacking objects:  90% (18/20)   \rUnpacking objects:  95% (19/20)   \rUnpacking objects: 100% (20/20)   \rUnpacking objects: 100% (20/20), done.\n",
            "/content/Raianars_July_2020/ANN_read_matrix/Raianars_July_2020/Raianars_July_2020/ANN_read_matrix\n"
          ],
          "name": "stdout"
        }
      ]
    },
    {
      "cell_type": "code",
      "metadata": {
        "id": "N2lyPfivzwGv",
        "colab_type": "code",
        "colab": {
          "base_uri": "https://localhost:8080/",
          "height": 1000
        },
        "outputId": "a25cece1-a976-48f7-aae6-452715b98f3c"
      },
      "source": [
        "ANN_F=pd.read_csv('ANN_INSIGHT_Valor_F.csv')\n",
        "ANN_CR=pd.read_csv('ANN_INSIGHT_CR.csv')\n",
        "syn0_F,syn1_F,X_max_F,X_min_F=Go2Ann.GetMatriz(ANN_F)\n",
        "syn0_CR,syn1_CR,X_max_CR,X_min_CR=Go2Ann.GetMatriz(ANN_CR)\n",
        "fields = ['DI RELATIVO','FRAC Its','Fo','CRo']\n",
        "\n",
        "#TOTAL=7*dim*its*ITE\n",
        "TOTAL=10*dim*its*ITE\n",
        "TOTAL=int(TOTAL/2)   # CONFERIR SE ESTE EH O MELHOR LUGAR\n",
        "\n",
        "dimensions=len(MAX)\n",
        "start_time = time.time() #INICIALIZA CONTAGEM DO TEMPO\n",
        "\n",
        "MAX_P=np.zeros(ITE) # ATENCAO para variar F e Cr MAX_P passa a ser 3 vezes maior\n",
        "MIN_P=np.zeros(ITE) # ATENCAO para variar F e Cr MIN_P passa a ser 3 vezes maior\n",
        "\n",
        "for i in range(dim):\n",
        "  MAX_P[i]=MAX[i] \n",
        "  MIN_P[i]=MIN[i]\n",
        "\n",
        "rodadas=1\n",
        "for i in range(rodadas):\n",
        "  SOMA=0\n",
        "  pop = np.random.rand(NPAR, dimensions)\n",
        "  diff=np.zeros(PAR)\n",
        "  for ii in range(PAR):\n",
        "    diff[ii] = MAX[ii]-MIN[ii]\n",
        "  X = MIN + pop * diff\n",
        "    \n",
        "  PONTOS=ITE # DIVISOES DA POPULACAO\n",
        "start_time = time.time()\n",
        "BEST_AGENTS=[]\n",
        "MAT_stat=[]\n",
        "for i in range(RUNS):\n",
        "    MAT=[] \n",
        "    mut=Fi\n",
        "    crossp=CRi\n",
        "    SOMA=0\n",
        "    SOMAf=0\n",
        "    start_ite = time.time()\n",
        "    delta_time=(start_ite-start_time)/60\n",
        "    print('ite=',i,'time=',delta_time)\n",
        "    pop = np.random.rand(NPAR, dim)\n",
        "    diff=np.zeros(PAR)\n",
        "    for ii in range(PAR):\n",
        "      diff[ii] = MAX[ii]-MIN[ii]\n",
        "    X = MIN + pop * diff\n",
        "    Xf = MIN + pop * diff\n",
        "    \n",
        "    DIo=1e99\n",
        "  \n",
        "    CRo=crossp;Fo=mut;\n",
        "    Fitness = np.asarray([Fun(ind) for ind in X])\n",
        "\n",
        "    XY,BEST_XY,BESTo,FOBESTo=AvaliaX(X,Fitness)\n",
        "    nrow,ncol=X.shape\n",
        "\n",
        "    QUANT=17;MAT_INDo=np.zeros((1,QUANT)); # quantos indices esta fazendo\n",
        "    MAT_INDo[0,5]=nrow  # VALOR NP\n",
        "    MAT_INDo[0,6]=Fo    # VALOR Fo   \n",
        "    MAT_INDo[0,7]=CRo   # VALOR CRo\n",
        "  \n",
        "    MAT_INDo=GeraIndices(X,BESTo,FOBESTo,DIo,MAT_INDo,SOMA,TOTAL,syn0_F,\n",
        "                        syn1_F,X_max_F,X_min_F,syn0_CR,syn1_CR,X_max_CR,\n",
        "                        X_min_CR,Fc,fields,Fun)\n",
        "  \n",
        "    DIo=np.copy(MAT_INDo[0,0])\n",
        "    MAT_INDo[0,15]=Fo    # VALOR Fo   \n",
        "    MAT_INDo[0,16]=CRo   # VALOR CRo\n",
        "    #ind_crossp=ITE-1\n",
        "\n",
        "    \n",
        "    for k in range(ITE):\n",
        "      X,BEST,FOBEST,XY,BEST_XY,SOMA= de_soma_Insight.de(MAX,MIN, mut, crossp,NPAR,its,Fun,X,SOMA,TOTAL)\n",
        "      #Xf,BESTf,FOBESTf,XYf,BEST_XYf,SOMAf= de_soma_Insight.de(MAX,MIN, Fi, CRi, NPAR,its,Fun,Xf,SOMAf,TOTAL)\n",
        "\n",
        "      \n",
        "      MAT_IND=GeraIndices(X,BESTo,FOBESTo,DIo,MAT_INDo,SOMA,TOTAL,syn0_F,\n",
        "                          syn1_F,X_max_F,X_min_F,syn0_CR,syn1_CR,X_max_CR,\n",
        "                          X_min_CR,Fc,fields,Fun)\n",
        "    \n",
        "      BESTo=np.copy(BEST);FOBESTo=np.copy(FOBEST);\n",
        "      MAT.append(MAT_IND.ravel())\n",
        "    \n",
        "      MAT_INDo[0,6]=MAT_IND[0,15]   # VALOR Fo   \n",
        "      MAT_INDo[0,7]=MAT_IND[0,16]   # VALOR CRo\n",
        "      mut=MAT_IND[0,15]\n",
        "      crossp=MAT_IND[0,16]\n",
        "\n",
        "      Fitness = np.asarray([Fun(ind) for ind in X])\n",
        "      #Fitnessf = np.asarray([Fun(ind) for ind in Xf])\n",
        "      Maior=np.argmax(Fitness)\n",
        "      #Maiorf=np.argmax(Fitnessf)\n",
        "      Menor=np.argmin(Fitness)\n",
        "      #Menorf=np.argmin(Fitnessf)\n",
        "\n",
        "      #X[Maior,:]=np.copy(Xf[Menorf,:])\n",
        "      #Xf[Maiorf,:]=np.copy(X[Menor,:])\n",
        "      \n",
        "    BEST_AGENTS.append(BEST_XY)\n",
        "    MAT_stat.append(MAT)\n",
        "    #print(\"GlobalParam e Solucao:\", BEST,\"Funcao=\",FOBEST)\n",
        "    \n",
        "############################## Cálculo dos Parâmetros de Avaliação   \n",
        "TIME = (time.time() - start_time)/RUNS\n",
        "BEST_AGENTS=np.array(BEST_AGENTS)\n",
        "BEST_AGENTS_ST= BEST_AGENTS[BEST_AGENTS[:,-1].argsort()]\n",
        "BEST=BEST_AGENTS_ST[0]\n",
        "WORSE=BEST_AGENTS_ST[-1]\n",
        "MEAN=np.mean(BEST_AGENTS,axis=0)\n",
        "MAXFO=BEST_AGENTS[:,-1].max()\n",
        "MINFO=BEST_AGENTS[:,-1].min()\n",
        "STD=BEST_AGENTS[:,-1].std()\n",
        "\n",
        "print()\n",
        "nome='_ANN_Div3x4_Fo-'+str(Fi)+'_CRo-'+str(CRi)+'_D-'+str(dim)+'_Interv-'+str(ITE)\n",
        "print('DE_POP_VAR_F_CR','TOTAL=',TOTAL,'Iterações=',ITE*its,'Dim=', PAR,\"Min/Max=\",MIN[0],\"/\",MAX[0],'_',Fun.__name__)\n",
        "print(nome, '\\n')\n",
        "print('MÉDIA: ',MEAN[-1])\n",
        "print('MIN __:',MINFO)\n",
        "print('MAX__: ',MAXFO)\n",
        "print('STD __:',STD)\n",
        "print(\"Tempo Médio= %.3f segundos ---\" % (TIME))\n",
        "print(RUNS,'Rodadas') \n",
        "print()\n",
        "print('BEST: ',BEST)"
      ],
      "execution_count": 26,
      "outputs": [
        {
          "output_type": "stream",
          "text": [
            "ite= 0 time= 3.3243497212727865e-05\n",
            "ite= 1 time= 1.8462971647580464\n",
            "ite= 2 time= 3.7235961596171063\n",
            "ite= 3 time= 5.557565180460612\n",
            "ite= 4 time= 7.381312449773152\n",
            "ite= 5 time= 9.224706049760183\n",
            "ite= 6 time= 11.050517268975575\n",
            "ite= 7 time= 12.87812489271164\n",
            "ite= 8 time= 14.704774085680643\n",
            "ite= 9 time= 16.52921196222305\n",
            "ite= 10 time= 18.35817318757375\n",
            "ite= 11 time= 20.19255417585373\n",
            "ite= 12 time= 21.995470237731933\n",
            "ite= 13 time= 23.830328901608784\n",
            "ite= 14 time= 25.732524569829305\n",
            "ite= 15 time= 27.537773994604745\n",
            "ite= 16 time= 29.38660646677017\n",
            "ite= 17 time= 31.2300341963768\n",
            "ite= 18 time= 33.06754068136215\n",
            "ite= 19 time= 34.92118628422419\n",
            "ite= 20 time= 36.82765367031097\n",
            "ite= 21 time= 38.67062830130259\n",
            "ite= 22 time= 40.51226623853048\n",
            "ite= 23 time= 42.34637794494629\n",
            "ite= 24 time= 44.18817437887192\n",
            "ite= 25 time= 46.10995604197184\n",
            "ite= 26 time= 47.94391569693883\n",
            "ite= 27 time= 49.78197151025136\n",
            "ite= 28 time= 51.616571911176045\n",
            "ite= 29 time= 53.44774924119314\n",
            "ite= 30 time= 55.28306696017583\n",
            "ite= 31 time= 57.099957621097566\n",
            "ite= 32 time= 58.94293415943782\n",
            "ite= 33 time= 60.758721220493314\n",
            "ite= 34 time= 62.60136320590973\n",
            "ite= 35 time= 64.44355285962423\n",
            "ite= 36 time= 66.28251731395721\n",
            "ite= 37 time= 68.12398063739141\n",
            "ite= 38 time= 69.96530665159226\n",
            "ite= 39 time= 71.81371663411458\n",
            "ite= 40 time= 73.65505699316661\n",
            "ite= 41 time= 75.49976762533188\n",
            "ite= 42 time= 77.36129982471466\n",
            "ite= 43 time= 79.20333070755005\n",
            "ite= 44 time= 81.1039745092392\n",
            "ite= 45 time= 82.9381047685941\n",
            "ite= 46 time= 84.77406484683355\n",
            "ite= 47 time= 86.60870385567347\n",
            "ite= 48 time= 88.4435557603836\n",
            "ite= 49 time= 90.34966090122859\n",
            "\n",
            "DE_POP_VAR_F_CR TOTAL= 300000 Iterações= 2000 Dim= 30 Min/Max= -100 / 100 _ Schwefel_221\n",
            "_ANN_Div3x4_Fo-0.5_CRo-0.5_D-30_Interv-2000 \n",
            "\n",
            "MÉDIA:  4.838000979790868\n",
            "MIN __: 0.030925918639617817\n",
            "MAX__:  6.3178856057034185\n",
            "STD __: 1.5194197748846647\n",
            "Tempo Médio= 110.619 segundos ---\n",
            "50 Rodadas\n",
            "\n",
            "BEST:  [ 0.00906552 -0.02518959 -0.00196662 -0.03085442  0.01275869 -0.00651904\n",
            "  0.02945561  0.03092592 -0.0041661  -0.00324465 -0.02713884  0.00240678\n",
            " -0.02872175  0.01057083  0.02695245 -0.0248813   0.02475116 -0.010271\n",
            " -0.0175581  -0.00074503 -0.02992977  0.02448511  0.02483075  0.02573125\n",
            " -0.01151317 -0.0305706  -0.00457853 -0.01013113 -0.01831996  0.02897061\n",
            "  0.03092592]\n"
          ],
          "name": "stdout"
        }
      ]
    },
    {
      "cell_type": "code",
      "metadata": {
        "id": "egkWFpw6GiNo",
        "colab_type": "code",
        "colab": {
          "base_uri": "https://localhost:8080/",
          "height": 1000
        },
        "outputId": "3b21106e-1178-43b1-b494-6a399e69e0ca"
      },
      "source": [
        "#DE_ tradicional\n",
        "\n",
        "!git clone https://github.com/ucfilho/Raianars_July_2020 #clonar do Github\n",
        "%cd Raianars_July_2020\n",
        "\n",
        "mut=0.5\n",
        "crossp=0.5\n",
        "\n",
        "SOMA=0\n",
        "start_time = time.time()\n",
        "BEST_AGENTS=[]\n",
        "MAT_stat=[]\n",
        "\n",
        "for i in range(RUNS):\n",
        "\n",
        "    pop = np.random.rand(NPAR, dim)\n",
        "    diff=np.zeros(dim)\n",
        "    for ii in range(dim):\n",
        "      diff[ii] = MAX[ii]-MIN[ii]\n",
        "    X = MIN + pop * diff\n",
        "\n",
        "    SOMA=0\n",
        "\n",
        "    for k in range(ITE):\n",
        "      X,BEST,FOBEST,XY,BEST_XY,SOMA= de_soma_Insight.de(MAX,MIN, mut, crossp,dim,its,Fun,X,SOMA,TOTAL)\n",
        "\n",
        "    start_run = (time.time()-start_time)/60\n",
        "    print('run=',i,'total=50','Fobj=',FOBEST,'Time=',start_run)  \n",
        "    BEST_AGENTS.append(BEST_XY)"
      ],
      "execution_count": 27,
      "outputs": [
        {
          "output_type": "stream",
          "text": [
            "Cloning into 'Raianars_July_2020'...\n",
            "remote: Enumerating objects: 27, done.\u001b[K\n",
            "remote: Counting objects:   3% (1/27)\u001b[K\rremote: Counting objects:   7% (2/27)\u001b[K\rremote: Counting objects:  11% (3/27)\u001b[K\rremote: Counting objects:  14% (4/27)\u001b[K\rremote: Counting objects:  18% (5/27)\u001b[K\rremote: Counting objects:  22% (6/27)\u001b[K\rremote: Counting objects:  25% (7/27)\u001b[K\rremote: Counting objects:  29% (8/27)\u001b[K\rremote: Counting objects:  33% (9/27)\u001b[K\rremote: Counting objects:  37% (10/27)\u001b[K\rremote: Counting objects:  40% (11/27)\u001b[K\rremote: Counting objects:  44% (12/27)\u001b[K\rremote: Counting objects:  48% (13/27)\u001b[K\rremote: Counting objects:  51% (14/27)\u001b[K\rremote: Counting objects:  55% (15/27)\u001b[K\rremote: Counting objects:  59% (16/27)\u001b[K\rremote: Counting objects:  62% (17/27)\u001b[K\rremote: Counting objects:  66% (18/27)\u001b[K\rremote: Counting objects:  70% (19/27)\u001b[K\rremote: Counting objects:  74% (20/27)\u001b[K\rremote: Counting objects:  77% (21/27)\u001b[K\rremote: Counting objects:  81% (22/27)\u001b[K\rremote: Counting objects:  85% (23/27)\u001b[K\rremote: Counting objects:  88% (24/27)\u001b[K\rremote: Counting objects:  92% (25/27)\u001b[K\rremote: Counting objects:  96% (26/27)\u001b[K\rremote: Counting objects: 100% (27/27)\u001b[K\rremote: Counting objects: 100% (27/27), done.\u001b[K\n",
            "remote: Compressing objects:   3% (1/27)\u001b[K\rremote: Compressing objects:   7% (2/27)\u001b[K\rremote: Compressing objects:  11% (3/27)\u001b[K\rremote: Compressing objects:  14% (4/27)\u001b[K\rremote: Compressing objects:  18% (5/27)\u001b[K\rremote: Compressing objects:  22% (6/27)\u001b[K\rremote: Compressing objects:  25% (7/27)\u001b[K\rremote: Compressing objects:  29% (8/27)\u001b[K\rremote: Compressing objects:  33% (9/27)\u001b[K\rremote: Compressing objects:  37% (10/27)\u001b[K\rremote: Compressing objects:  40% (11/27)\u001b[K\rremote: Compressing objects:  44% (12/27)\u001b[K\rremote: Compressing objects:  48% (13/27)\u001b[K\rremote: Compressing objects:  51% (14/27)\u001b[K\rremote: Compressing objects:  55% (15/27)\u001b[K\rremote: Compressing objects:  59% (16/27)\u001b[K\rremote: Compressing objects:  62% (17/27)\u001b[K\rremote: Compressing objects:  66% (18/27)\u001b[K\rremote: Compressing objects:  70% (19/27)\u001b[K\rremote: Compressing objects:  74% (20/27)\u001b[K\rremote: Compressing objects:  77% (21/27)\u001b[K\rremote: Compressing objects:  81% (22/27)\u001b[K\rremote: Compressing objects:  85% (23/27)\u001b[K\rremote: Compressing objects:  88% (24/27)\u001b[K\rremote: Compressing objects:  92% (25/27)\u001b[K\rremote: Compressing objects:  96% (26/27)\u001b[K\rremote: Compressing objects: 100% (27/27)\u001b[K\rremote: Compressing objects: 100% (27/27), done.\u001b[K\n",
            "Receiving objects:   0% (1/150)   \rReceiving objects:   1% (2/150)   \rReceiving objects:   2% (3/150)   \rReceiving objects:   3% (5/150)   \rReceiving objects:   4% (6/150)   \rReceiving objects:   5% (8/150)   \rReceiving objects:   6% (9/150)   \rReceiving objects:   7% (11/150)   \rReceiving objects:   8% (12/150)   \rReceiving objects:   9% (14/150)   \rReceiving objects:  10% (15/150)   \rReceiving objects:  11% (17/150)   \rReceiving objects:  12% (18/150)   \rReceiving objects:  13% (20/150)   \rReceiving objects:  14% (21/150)   \rReceiving objects:  15% (23/150)   \rReceiving objects:  16% (24/150)   \rReceiving objects:  17% (26/150)   \rReceiving objects:  18% (27/150)   \rReceiving objects:  19% (29/150)   \rReceiving objects:  20% (30/150)   \rReceiving objects:  21% (32/150)   \rReceiving objects:  22% (33/150)   \rReceiving objects:  23% (35/150)   \rReceiving objects:  24% (36/150)   \rReceiving objects:  25% (38/150)   \rReceiving objects:  26% (39/150)   \rReceiving objects:  27% (41/150)   \rReceiving objects:  28% (42/150)   \rReceiving objects:  29% (44/150)   \rReceiving objects:  30% (45/150)   \rReceiving objects:  31% (47/150)   \rReceiving objects:  32% (48/150)   \rReceiving objects:  33% (50/150)   \rReceiving objects:  34% (51/150)   \rremote: Total 150 (delta 14), reused 0 (delta 0), pack-reused 123\u001b[K\n",
            "Receiving objects:  35% (53/150)   \rReceiving objects:  36% (54/150)   \rReceiving objects:  37% (56/150)   \rReceiving objects:  38% (57/150)   \rReceiving objects:  39% (59/150)   \rReceiving objects:  40% (60/150)   \rReceiving objects:  41% (62/150)   \rReceiving objects:  42% (63/150)   \rReceiving objects:  43% (65/150)   \rReceiving objects:  44% (66/150)   \rReceiving objects:  45% (68/150)   \rReceiving objects:  46% (69/150)   \rReceiving objects:  47% (71/150)   \rReceiving objects:  48% (72/150)   \rReceiving objects:  49% (74/150)   \rReceiving objects:  50% (75/150)   \rReceiving objects:  51% (77/150)   \rReceiving objects:  52% (78/150)   \rReceiving objects:  53% (80/150)   \rReceiving objects:  54% (81/150)   \rReceiving objects:  55% (83/150)   \rReceiving objects:  56% (84/150)   \rReceiving objects:  57% (86/150)   \rReceiving objects:  58% (87/150)   \rReceiving objects:  59% (89/150)   \rReceiving objects:  60% (90/150)   \rReceiving objects:  61% (92/150)   \rReceiving objects:  62% (93/150)   \rReceiving objects:  63% (95/150)   \rReceiving objects:  64% (96/150)   \rReceiving objects:  65% (98/150)   \rReceiving objects:  66% (99/150)   \rReceiving objects:  67% (101/150)   \rReceiving objects:  68% (102/150)   \rReceiving objects:  69% (104/150)   \rReceiving objects:  70% (105/150)   \rReceiving objects:  71% (107/150)   \rReceiving objects:  72% (108/150)   \rReceiving objects:  73% (110/150)   \rReceiving objects:  74% (111/150)   \rReceiving objects:  75% (113/150)   \rReceiving objects:  76% (114/150)   \rReceiving objects:  77% (116/150)   \rReceiving objects:  78% (117/150)   \rReceiving objects:  79% (119/150)   \rReceiving objects:  80% (120/150)   \rReceiving objects:  81% (122/150)   \rReceiving objects:  82% (123/150)   \rReceiving objects:  83% (125/150)   \rReceiving objects:  84% (126/150)   \rReceiving objects:  85% (128/150)   \rReceiving objects:  86% (129/150)   \rReceiving objects:  87% (131/150)   \rReceiving objects:  88% (132/150)   \rReceiving objects:  89% (134/150)   \rReceiving objects:  90% (135/150)   \rReceiving objects:  91% (137/150)   \rReceiving objects:  92% (138/150)   \rReceiving objects:  93% (140/150)   \rReceiving objects:  94% (141/150)   \rReceiving objects:  95% (143/150)   \rReceiving objects:  96% (144/150)   \rReceiving objects:  97% (146/150)   \rReceiving objects:  98% (147/150)   \rReceiving objects:  99% (149/150)   \rReceiving objects: 100% (150/150)   \rReceiving objects: 100% (150/150), 204.85 KiB | 8.91 MiB/s, done.\n",
            "Resolving deltas:   0% (0/76)   \rResolving deltas:   9% (7/76)   \rResolving deltas:  52% (40/76)   \rResolving deltas:  67% (51/76)   \rResolving deltas:  69% (53/76)   \rResolving deltas:  71% (54/76)   \rResolving deltas:  85% (65/76)   \rResolving deltas:  96% (73/76)   \rResolving deltas:  97% (74/76)   \rResolving deltas:  98% (75/76)   \rResolving deltas: 100% (76/76)   \rResolving deltas: 100% (76/76), done.\n",
            "/content/Raianars_July_2020/ANN_read_matrix/Raianars_July_2020/Raianars_July_2020/ANN_read_matrix/Raianars_July_2020\n",
            "run= 0 total=50 Fobj= 0.00668459430992937 Time= 0.2508038282394409\n",
            "run= 1 total=50 Fobj= 0.9222457465269014 Time= 0.5046930392583211\n",
            "run= 2 total=50 Fobj= 0.005263863455872453 Time= 0.763409451643626\n",
            "run= 3 total=50 Fobj= 0.009211391545565028 Time= 1.012040917078654\n",
            "run= 4 total=50 Fobj= 0.2892616066837804 Time= 1.2607141097386678\n",
            "run= 5 total=50 Fobj= 0.0428327760140404 Time= 1.5086738427480062\n",
            "run= 6 total=50 Fobj= 0.0035331630535922905 Time= 1.757365918159485\n",
            "run= 7 total=50 Fobj= 0.005392477214325722 Time= 2.0048672477404277\n",
            "run= 8 total=50 Fobj= 0.005758358620986355 Time= 2.2528231859207155\n",
            "run= 9 total=50 Fobj= 0.20188564719828664 Time= 2.5021947185198465\n",
            "run= 10 total=50 Fobj= 0.017050487910857906 Time= 2.751713260014852\n",
            "run= 11 total=50 Fobj= 0.009248690630753457 Time= 3.0021371682484945\n",
            "run= 12 total=50 Fobj= 0.009812166484255792 Time= 3.252541438738505\n",
            "run= 13 total=50 Fobj= 0.003715632062054863 Time= 3.5028226733207704\n",
            "run= 14 total=50 Fobj= 0.006378031951561108 Time= 3.752593632539113\n",
            "run= 15 total=50 Fobj= 0.005281333528488055 Time= 4.001012889544169\n",
            "run= 16 total=50 Fobj= 0.006021419903887167 Time= 4.251596097151438\n",
            "run= 17 total=50 Fobj= 0.018499815787224053 Time= 4.5018073439598085\n",
            "run= 18 total=50 Fobj= 0.07769595861633992 Time= 4.752289366722107\n",
            "run= 19 total=50 Fobj= 0.1035967337198059 Time= 5.000786054134369\n",
            "run= 20 total=50 Fobj= 0.00463458210875796 Time= 5.2506086786588035\n",
            "run= 21 total=50 Fobj= 0.004001092061176921 Time= 5.50042249361674\n",
            "run= 22 total=50 Fobj= 0.07972137819605316 Time= 5.751310682296753\n",
            "run= 23 total=50 Fobj= 0.03559619589752678 Time= 6.0082996726036075\n",
            "run= 24 total=50 Fobj= 0.005203786102685659 Time= 6.262398207187653\n",
            "run= 25 total=50 Fobj= 0.01689742619509975 Time= 6.511568081378937\n",
            "run= 26 total=50 Fobj= 0.00932555895508725 Time= 6.760489356517792\n",
            "run= 27 total=50 Fobj= 0.6136198234561606 Time= 7.0079691807429\n",
            "run= 28 total=50 Fobj= 0.006149412846017733 Time= 7.257159562905629\n",
            "run= 29 total=50 Fobj= 1.343005989271035 Time= 7.506034660339355\n",
            "run= 30 total=50 Fobj= 8.061678813975984 Time= 7.756021630764008\n",
            "run= 31 total=50 Fobj= 0.01457051497319585 Time= 8.085270496209462\n",
            "run= 32 total=50 Fobj= 0.00430959368836002 Time= 8.333838232358296\n",
            "run= 33 total=50 Fobj= 0.12905620760436615 Time= 8.584167289733887\n",
            "run= 34 total=50 Fobj= 0.009938234080286894 Time= 8.833519848187764\n",
            "run= 35 total=50 Fobj= 0.026070804375097588 Time= 9.0813294728597\n",
            "run= 36 total=50 Fobj= 0.238412081376074 Time= 9.329604915777843\n",
            "run= 37 total=50 Fobj= 0.0043108269399529005 Time= 9.578775823116302\n",
            "run= 38 total=50 Fobj= 0.005004904825319538 Time= 9.826994911829631\n",
            "run= 39 total=50 Fobj= 0.019458370416543865 Time= 10.075136880079905\n",
            "run= 40 total=50 Fobj= 0.226571868054064 Time= 10.323364210128783\n",
            "run= 41 total=50 Fobj= 0.0100955135748313 Time= 10.572684029738108\n",
            "run= 42 total=50 Fobj= 0.010293797323923163 Time= 10.82315791050593\n",
            "run= 43 total=50 Fobj= 3.638478914591582 Time= 11.07226457198461\n",
            "run= 44 total=50 Fobj= 0.40977227936454874 Time= 11.326967529455821\n",
            "run= 45 total=50 Fobj= 0.5412725121805081 Time= 11.58682822783788\n",
            "run= 46 total=50 Fobj= 0.003952536815753726 Time= 11.83688356479009\n",
            "run= 47 total=50 Fobj= 0.03703594991216385 Time= 12.086384173234304\n",
            "run= 48 total=50 Fobj= 1.103999385937239 Time= 12.33597372372945\n",
            "run= 49 total=50 Fobj= 0.006614712147108215 Time= 12.586850361029308\n"
          ],
          "name": "stdout"
        }
      ]
    },
    {
      "cell_type": "code",
      "metadata": {
        "id": "3W8R6htAHO63",
        "colab_type": "code",
        "colab": {
          "base_uri": "https://localhost:8080/",
          "height": 289
        },
        "outputId": "5f191235-c89f-4e1b-d50d-9fd35ced98f0"
      },
      "source": [
        "############################## Cálculo dos Parâmetros de Avaliação   \n",
        "TIME = (time.time() - start_time)/RUNS\n",
        "BEST_AGENTS=np.array(BEST_AGENTS)\n",
        "BEST_AGENTS_ST= BEST_AGENTS[BEST_AGENTS[:,-1].argsort()]\n",
        "BEST=BEST_AGENTS_ST[0]\n",
        "WORSE=BEST_AGENTS_ST[-1]\n",
        "MEAN=np.mean(BEST_AGENTS,axis=0)\n",
        "MAXFO=BEST_AGENTS[:,-1].max()\n",
        "MINFO=BEST_AGENTS[:,-1].min()\n",
        "STD=BEST_AGENTS[:,-1].std()\n",
        "\n",
        "nome='DE_STAT_Fo-'+str(mut)+'_CRo-'+str(crossp)+'_D-'+str(dim)+'_Interv-'+str(ITE)\n",
        "print('DE_','TOTAL=',TOTAL,'Iterações=',ITE*its,'Dim=', dim,\"Min/Max=\",MIN[0],\"/\",MAX[0],'_',Fun.__name__)\n",
        "print(nome, '\\n')\n",
        "#print('BEST: ',BEST)\n",
        "#print('MÉDIA: ',MEAN)\n",
        "print('MÉDIA: ',MEAN[-1])\n",
        "print('MIN __:',MINFO)\n",
        "print('MAX__: ',MAXFO)\n",
        "print('STD __:',STD)\n",
        "print(\"Tempo Médio= %.3f segundos ---\" % (TIME))\n",
        "print(RUNS,'Rodadas') \n",
        "print()\n",
        "print('BEST: ',BEST)"
      ],
      "execution_count": 28,
      "outputs": [
        {
          "output_type": "stream",
          "text": [
            "DE_ TOTAL= 300000 Iterações= 2000 Dim= 30 Min/Max= -100 / 100 _ Schwefel_221\n",
            "DE_STAT_Fo-0.5_CRo-0.5_D-30_Interv-2000 \n",
            "\n",
            "MÉDIA:  0.3673684592493003\n",
            "MIN __: 0.0035331630535922905\n",
            "MAX__:  8.061678813975984\n",
            "STD __: 1.236704071501153\n",
            "Tempo Médio= 15.105 segundos ---\n",
            "50 Rodadas\n",
            "\n",
            "BEST:  [-0.00061042  0.000513   -0.00301866 -0.00128373  0.00293178  0.00253671\n",
            "  0.00347532 -0.00278233 -0.00353316  0.00210304 -0.00180227  0.00286134\n",
            "  0.0016154   0.00052968 -0.00191007  0.00122611 -0.0012941   0.00350692\n",
            "  0.00267663 -0.00259672 -0.0019682  -0.00196751  0.00034413  0.00313308\n",
            "  0.00158172  0.00307454  0.000439   -0.00058023 -0.00026857  0.0028765\n",
            "  0.00353316]\n"
          ],
          "name": "stdout"
        }
      ]
    }
  ]
}