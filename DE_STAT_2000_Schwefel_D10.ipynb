{
  "nbformat": 4,
  "nbformat_minor": 0,
  "metadata": {
    "accelerator": "GPU",
    "colab": {
      "name": "DE_STAT_2000_Schwefel_D10.ipynb",
      "provenance": [],
      "collapsed_sections": [],
      "include_colab_link": true
    },
    "kernelspec": {
      "display_name": "Python 3",
      "language": "python",
      "name": "python3"
    },
    "language_info": {
      "codemirror_mode": {
        "name": "ipython",
        "version": 3
      },
      "file_extension": ".py",
      "mimetype": "text/x-python",
      "name": "python",
      "nbconvert_exporter": "python",
      "pygments_lexer": "ipython3",
      "version": "3.6.1"
    }
  },
  "cells": [
    {
      "cell_type": "markdown",
      "metadata": {
        "id": "view-in-github",
        "colab_type": "text"
      },
      "source": [
        "<a href=\"https://colab.research.google.com/github/RaianaSeixas/Paper-1-Final-Results/blob/master/DE_STAT_2000_Schwefel_D10.ipynb\" target=\"_parent\"><img src=\"https://colab.research.google.com/assets/colab-badge.svg\" alt=\"Open In Colab\"/></a>"
      ]
    },
    {
      "cell_type": "code",
      "metadata": {
        "colab_type": "code",
        "id": "cG5nOUQ9Eucw",
        "colab": {}
      },
      "source": [
        "# JADE: Adaptive Differential Evolution with Optional External Archive"
      ],
      "execution_count": 13,
      "outputs": []
    },
    {
      "cell_type": "code",
      "metadata": {
        "colab_type": "code",
        "id": "v1OxgXboBKoG",
        "colab": {}
      },
      "source": [
        "import time\n",
        "import matplotlib.pyplot as plt\n",
        "import numpy as np\n",
        "from random import randint"
      ],
      "execution_count": 14,
      "outputs": []
    },
    {
      "cell_type": "code",
      "metadata": {
        "id": "qMRpE0dGULCI",
        "colab_type": "code",
        "colab": {
          "base_uri": "https://localhost:8080/",
          "height": 153
        },
        "outputId": "da8d1cf1-a528-4c42-9006-351a9ad8eebc"
      },
      "source": [
        "!git clone https://github.com/ucfilho/Raianars_July_2020 #clonar do Github\n",
        "%cd Raianars_July_2020"
      ],
      "execution_count": 15,
      "outputs": [
        {
          "output_type": "stream",
          "text": [
            "Cloning into 'Raianars_July_2020'...\n",
            "remote: Enumerating objects: 9, done.\u001b[K\n",
            "remote: Counting objects:  11% (1/9)\u001b[K\rremote: Counting objects:  22% (2/9)\u001b[K\rremote: Counting objects:  33% (3/9)\u001b[K\rremote: Counting objects:  44% (4/9)\u001b[K\rremote: Counting objects:  55% (5/9)\u001b[K\rremote: Counting objects:  66% (6/9)\u001b[K\rremote: Counting objects:  77% (7/9)\u001b[K\rremote: Counting objects:  88% (8/9)\u001b[K\rremote: Counting objects: 100% (9/9)\u001b[K\rremote: Counting objects: 100% (9/9), done.\u001b[K\n",
            "remote: Compressing objects: 100% (9/9), done.\u001b[K\n",
            "remote: Total 132 (delta 3), reused 0 (delta 0), pack-reused 123\u001b[K\n",
            "Receiving objects: 100% (132/132), 200.33 KiB | 814.00 KiB/s, done.\n",
            "Resolving deltas: 100% (65/65), done.\n",
            "/content/Raianars_July_2020/Raianars_July_2020/Raianars_July_2020\n"
          ],
          "name": "stdout"
        }
      ]
    },
    {
      "cell_type": "code",
      "metadata": {
        "colab_type": "code",
        "id": "_E15mKFURR6O",
        "colab": {}
      },
      "source": [
        "import de_soma_Insight\n",
        "import de_bounds_matriz\n",
        "import Function\n",
        "import Go2MinMax\n",
        "from AvaliaX import AvaliaX\n",
        "\n",
        "\n",
        "############################### DADOS DE ENTRADA \n",
        "its=1 #10 # quantas vezes vai usar o NPAR antes de alterar de novo\n",
        "ITE=2000 #10 # PONTOS quantas vezes vai alteral NPAR \n",
        "NPAR=100 # NUMBER OF PARTICLES\n",
        "dim=10\n",
        "RUNS=50\n",
        "fchoice='Schwefel' \n",
        "Fun=Function.Schwefel\n",
        "\n",
        "mut=0.5\n",
        "crossp=0.5\n",
        "\n",
        "\n",
        "MIN,MAX=Go2MinMax.Intervalo(dim,fchoice)\n",
        "\n",
        "TOTAL=10*dim*its*ITE\n",
        "SOMA=0"
      ],
      "execution_count": 16,
      "outputs": []
    },
    {
      "cell_type": "code",
      "metadata": {
        "colab_type": "code",
        "id": "rnX8ttNopd1G",
        "colab": {
          "base_uri": "https://localhost:8080/",
          "height": 867
        },
        "outputId": "ea337311-7ed0-44d3-d169-a78ea3e1edec"
      },
      "source": [
        "start_time = time.time()\n",
        "BEST_AGENTS=[]\n",
        "MAT_stat=[]\n",
        "\n",
        "for i in range(RUNS):\n",
        "\n",
        "    pop = np.random.rand(NPAR, dim)\n",
        "    diff=np.zeros(dim)\n",
        "    for ii in range(dim):\n",
        "      diff[ii] = MAX[ii]-MIN[ii]\n",
        "    X = MIN + pop * diff\n",
        "\n",
        "    SOMA=0\n",
        "\n",
        "    for k in range(ITE):\n",
        "      X,BEST,FOBEST,XY,BEST_XY,SOMA= de_soma_Insight.de(MAX,MIN, mut, crossp,dim,its,Fun,X,SOMA,TOTAL)\n",
        "\n",
        "    start_run = (time.time()-start_time)/60\n",
        "    print('run=',i,'total=50','Fobj=',FOBEST,'Time=',start_run)  \n",
        "    BEST_AGENTS.append(BEST_XY)"
      ],
      "execution_count": 17,
      "outputs": [
        {
          "output_type": "stream",
          "text": [
            "run= 0 total=50 Fobj= 371.9345203754042 Time= 0.06266793012619018\n",
            "run= 1 total=50 Fobj= 433.97744165490576 Time= 0.12562987407048543\n",
            "run= 2 total=50 Fobj= 253.9011722341993 Time= 0.18836906750996907\n",
            "run= 3 total=50 Fobj= 604.5783832656389 Time= 0.25114540656407675\n",
            "run= 4 total=50 Fobj= 467.8343564370721 Time= 0.31433130900065104\n",
            "run= 5 total=50 Fobj= 479.65902241621006 Time= 0.377053697903951\n",
            "run= 6 total=50 Fobj= 540.1115952883802 Time= 0.43985222578048705\n",
            "run= 7 total=50 Fobj= 1072.8763298807266 Time= 0.5022935668627421\n",
            "run= 8 total=50 Fobj= 477.91602407512437 Time= 0.565374231338501\n",
            "run= 9 total=50 Fobj= 526.3516945954852 Time= 0.6283451000849406\n",
            "run= 10 total=50 Fobj= 993.9798852233348 Time= 0.6911779880523682\n",
            "run= 11 total=50 Fobj= 551.9324176420023 Time= 0.7558447202046712\n",
            "run= 12 total=50 Fobj= 508.44454973788606 Time= 0.8178267359733582\n",
            "run= 13 total=50 Fobj= 228.71181928407123 Time= 0.8797227104504903\n",
            "run= 14 total=50 Fobj= 382.4960451928887 Time= 0.9430708249409994\n",
            "run= 15 total=50 Fobj= 237.21019264234474 Time= 1.0067840417226155\n",
            "run= 16 total=50 Fobj= 397.826910026366 Time= 1.0702565709749858\n",
            "run= 17 total=50 Fobj= 550.4149866347275 Time= 1.1328609228134154\n",
            "run= 18 total=50 Fobj= 902.4494203122235 Time= 1.1950900435447693\n",
            "run= 19 total=50 Fobj= 856.5120611103994 Time= 1.2577542702356974\n",
            "run= 20 total=50 Fobj= 405.21138237951527 Time= 1.3203487555185953\n",
            "run= 21 total=50 Fobj= 156.63719403399045 Time= 1.3826942245165508\n",
            "run= 22 total=50 Fobj= 238.57969305188954 Time= 1.4449071208635966\n",
            "run= 23 total=50 Fobj= 593.8333206474304 Time= 1.5068400581677754\n",
            "run= 24 total=50 Fobj= 307.20742139006734 Time= 1.5687348961830139\n",
            "run= 25 total=50 Fobj= 664.729412975918 Time= 1.6316266934076944\n",
            "run= 26 total=50 Fobj= 597.196220657394 Time= 1.6940905332565308\n",
            "run= 27 total=50 Fobj= 433.7992871710899 Time= 1.7590819080670674\n",
            "run= 28 total=50 Fobj= 916.0957355778778 Time= 1.8210442304611205\n",
            "run= 29 total=50 Fobj= 356.8385692016682 Time= 1.8835187037785848\n",
            "run= 30 total=50 Fobj= 580.6464329132591 Time= 1.945606819788615\n",
            "run= 31 total=50 Fobj= 643.2793210885193 Time= 2.007256551583608\n",
            "run= 32 total=50 Fobj= 282.4323770917299 Time= 2.069923977057139\n",
            "run= 33 total=50 Fobj= 593.7094395446607 Time= 2.1324548562367758\n",
            "run= 34 total=50 Fobj= 830.4973382160692 Time= 2.196028304100037\n",
            "run= 35 total=50 Fobj= 658.7625189656237 Time= 2.2598199089368185\n",
            "run= 36 total=50 Fobj= 735.6169133171097 Time= 2.3231004595756533\n",
            "run= 37 total=50 Fobj= 245.33195664630557 Time= 2.3869213581085207\n",
            "run= 38 total=50 Fobj= 245.4351320740975 Time= 2.4491397937138877\n",
            "run= 39 total=50 Fobj= 528.7842295930359 Time= 2.511298882961273\n",
            "run= 40 total=50 Fobj= 420.49811187251044 Time= 2.5731004079182944\n",
            "run= 41 total=50 Fobj= 601.7783580636496 Time= 2.6357007026672363\n",
            "run= 42 total=50 Fobj= 330.23705629704546 Time= 2.6988812685012817\n",
            "run= 43 total=50 Fobj= 847.1009629099417 Time= 2.7650380611419676\n",
            "run= 44 total=50 Fobj= 761.7096421626329 Time= 2.8272122621536253\n",
            "run= 45 total=50 Fobj= 382.1587211571923 Time= 2.889111789067586\n",
            "run= 46 total=50 Fobj= 919.4122579538011 Time= 2.9512069781621295\n",
            "run= 47 total=50 Fobj= 431.1656670659049 Time= 3.0130428314208983\n",
            "run= 48 total=50 Fobj= 665.2161702479561 Time= 3.0755924860636394\n",
            "run= 49 total=50 Fobj= 359.85003879925716 Time= 3.1377119104067486\n"
          ],
          "name": "stdout"
        }
      ]
    },
    {
      "cell_type": "code",
      "metadata": {
        "id": "VAbHty3zbVND",
        "colab_type": "code",
        "colab": {}
      },
      "source": [
        ""
      ],
      "execution_count": 17,
      "outputs": []
    },
    {
      "cell_type": "code",
      "metadata": {
        "colab_type": "code",
        "id": "lNSN5X-wskcx",
        "colab": {
          "base_uri": "https://localhost:8080/",
          "height": 238
        },
        "outputId": "553b796d-3560-41dc-b11e-038f18bef120"
      },
      "source": [
        "############################## Cálculo dos Parâmetros de Avaliação   \n",
        "TIME = (time.time() - start_time)/RUNS\n",
        "BEST_AGENTS=np.array(BEST_AGENTS)\n",
        "BEST_AGENTS_ST= BEST_AGENTS[BEST_AGENTS[:,-1].argsort()]\n",
        "BEST=BEST_AGENTS_ST[0]\n",
        "WORSE=BEST_AGENTS_ST[-1]\n",
        "MEAN=np.mean(BEST_AGENTS,axis=0)\n",
        "MAXFO=BEST_AGENTS[:,-1].max()\n",
        "MINFO=BEST_AGENTS[:,-1].min()\n",
        "STD=BEST_AGENTS[:,-1].std()\n",
        "\n",
        "nome='DE_STAT_Fo-'+str(mut)+'_CRo-'+str(crossp)+'_D-'+str(dim)+'_Interv-'+str(ITE)\n",
        "print('DE_','TOTAL=',TOTAL,'Iterações=',ITE*its,'Dim=', dim,\"Min/Max=\",MIN[0],\"/\",MAX[0],'_',Fun.__name__)\n",
        "print(nome, '\\n')\n",
        "#print('BEST: ',BEST)\n",
        "#print('MÉDIA: ',MEAN)\n",
        "print('MÉDIA: ',MEAN[-1])\n",
        "print('MIN __:',MINFO)\n",
        "print('MAX__: ',MAXFO)\n",
        "print('STD __:',STD)\n",
        "print(\"Tempo Médio= %.3f segundos ---\" % (TIME))\n",
        "print(RUNS,'Rodadas') \n",
        "print()\n",
        "print('BEST: ',BEST)\n",
        "# print('melhor=',BEST_AGENTS[BEST_INDEX])"
      ],
      "execution_count": 18,
      "outputs": [
        {
          "output_type": "stream",
          "text": [
            "DE_ TOTAL= 200000 Iterações= 2000 Dim= 10 Min/Max= -500 / 500 _ Schwefel\n",
            "DE_STAT_Fo-0.5_CRo-0.5_D-10_Interv-2000 \n",
            "\n",
            "MÉDIA:  531.4573942219308\n",
            "MIN __: 156.63719403399045\n",
            "MAX__:  1072.8763298807266\n",
            "STD __: 220.71810403836594\n",
            "Tempo Médio= 3.766 segundos ---\n",
            "50 Rodadas\n",
            "\n",
            "BEST:  [ 410.63506806  420.96874658 -294.49274259  420.96873859  409.38141519\n",
            "  420.95001615  420.96874563  420.9687462   420.96874915  420.96874598\n",
            "  156.63719403]\n"
          ],
          "name": "stdout"
        }
      ]
    }
  ]
}