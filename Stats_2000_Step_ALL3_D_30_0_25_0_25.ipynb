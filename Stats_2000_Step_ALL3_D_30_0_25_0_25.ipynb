{
  "nbformat": 4,
  "nbformat_minor": 0,
  "metadata": {
    "colab": {
      "name": "Stats_2000_Step_ALL3_D_30_0.25_0.25.ipynb",
      "provenance": [],
      "collapsed_sections": [],
      "include_colab_link": true
    },
    "kernelspec": {
      "name": "python3",
      "display_name": "Python 3"
    }
  },
  "cells": [
    {
      "cell_type": "markdown",
      "metadata": {
        "id": "view-in-github",
        "colab_type": "text"
      },
      "source": [
        "<a href=\"https://colab.research.google.com/github/RaianaSeixas/Paper-1-Final-Results/blob/master/Stats_2000_Step_ALL3_D_30_0_25_0_25.ipynb\" target=\"_parent\"><img src=\"https://colab.research.google.com/assets/colab-badge.svg\" alt=\"Open In Colab\"/></a>"
      ]
    },
    {
      "cell_type": "code",
      "metadata": {
        "id": "MC26Bm1UyUR5",
        "colab_type": "code",
        "colab": {
          "base_uri": "https://localhost:8080/",
          "height": 34
        },
        "outputId": "b365370d-e94c-4bee-dc1d-48389cb94fd6"
      },
      "source": [
        "!pip install pyade-python"
      ],
      "execution_count": 13,
      "outputs": [
        {
          "output_type": "stream",
          "text": [
            "Requirement already satisfied: pyade-python in /usr/local/lib/python3.6/dist-packages (1.1)\n"
          ],
          "name": "stdout"
        }
      ]
    },
    {
      "cell_type": "code",
      "metadata": {
        "id": "rRwqrtCmgzdZ",
        "colab_type": "code",
        "colab": {
          "base_uri": "https://localhost:8080/",
          "height": 51
        },
        "outputId": "f33199e0-4c6e-43c0-d8d5-ed038608d036"
      },
      "source": [
        "!pip install PyFDE"
      ],
      "execution_count": 14,
      "outputs": [
        {
          "output_type": "stream",
          "text": [
            "Requirement already satisfied: PyFDE in /usr/local/lib/python3.6/dist-packages (1.3.0)\n",
            "Requirement already satisfied: numpy in /usr/local/lib/python3.6/dist-packages (from PyFDE) (1.18.5)\n"
          ],
          "name": "stdout"
        }
      ]
    },
    {
      "cell_type": "code",
      "metadata": {
        "id": "anFukot-ypn6",
        "colab_type": "code",
        "colab": {}
      },
      "source": [
        "import pyade.ilshade \n",
        "import pyade.sade \n",
        "import pyade.jso\n",
        "import pyade.shade\n",
        "import pyade.jade \n",
        "import pyfde\n",
        "import numpy as np\n",
        "import pandas as pd\n",
        "import time"
      ],
      "execution_count": 15,
      "outputs": []
    },
    {
      "cell_type": "code",
      "metadata": {
        "id": "6Oh714_-z1Ia",
        "colab_type": "code",
        "colab": {
          "base_uri": "https://localhost:8080/",
          "height": 153
        },
        "outputId": "989f030b-17d3-4607-95fa-339c40649bf6"
      },
      "source": [
        "!git clone https://github.com/ucfilho/Raianars_July_2020 #clonar do Github\n",
        "%cd Raianars_July_2020"
      ],
      "execution_count": 16,
      "outputs": [
        {
          "output_type": "stream",
          "text": [
            "Cloning into 'Raianars_July_2020'...\n",
            "remote: Enumerating objects: 24, done.\u001b[K\n",
            "remote: Counting objects: 100% (24/24), done.\u001b[K\n",
            "remote: Compressing objects: 100% (24/24), done.\u001b[K\n",
            "remote: Total 147 (delta 12), reused 0 (delta 0), pack-reused 123\u001b[K\n",
            "Receiving objects: 100% (147/147), 204.22 KiB | 397.00 KiB/s, done.\n",
            "Resolving deltas: 100% (74/74), done.\n",
            "/content/Raianars_July_2020/ANN_read_matrix/Raianars_July_2020\n"
          ],
          "name": "stdout"
        }
      ]
    },
    {
      "cell_type": "code",
      "metadata": {
        "id": "LnzftXkky78A",
        "colab_type": "code",
        "colab": {}
      },
      "source": [
        "import Go2Ann\n",
        "import de_soma_Insight\n",
        "import de_bounds_matriz\n",
        "from AvaliaX import AvaliaX\n",
        "from GeraIndices import GeraIndices"
      ],
      "execution_count": 17,
      "outputs": []
    },
    {
      "cell_type": "code",
      "metadata": {
        "id": "HNW92728z7fR",
        "colab_type": "code",
        "colab": {}
      },
      "source": [
        "import Function\n",
        "import Go2MinMax"
      ],
      "execution_count": 18,
      "outputs": []
    },
    {
      "cell_type": "code",
      "metadata": {
        "id": "T_C-e7aH0CZH",
        "colab_type": "code",
        "colab": {}
      },
      "source": [
        "ITE=2000 #10 # PONTOS quantas vezes vai alteral NPAR \n",
        "NPAR=100 # NUMBER OF PARTICLES\n",
        "dim=30\n",
        "RUNS=50\n",
        "fchoice='Step'  \n",
        "Fun=Function.Step\n",
        "\n",
        "MIN,MAX=Go2MinMax.Intervalo(dim,fchoice)\n",
        "bounds = [(0,0)]*dim\n",
        "\n",
        "for i in range(dim):\n",
        "  bounds[i] = (MIN[i],MAX[i])\n",
        "\n",
        "start_time = time.time() "
      ],
      "execution_count": 19,
      "outputs": []
    },
    {
      "cell_type": "code",
      "metadata": {
        "id": "Nqv5qp9yzQEw",
        "colab_type": "code",
        "colab": {}
      },
      "source": [
        "############################### INPUT INFORMATION (FRANNK)\n",
        "Fc=0.1 # fator de correcao parametros da ANN\n",
        "its=1 #10 # quantas vezes vai usar o NPAR antes de alterar de novo\n",
        "mut=0.25\n",
        "crossp=0.25\n",
        "Fi=mut;CRi=crossp;# para impressão\n",
        "PAR=len(MAX) #NUM DE PARAMETROS A SER OTIMIZADOS"
      ],
      "execution_count": 20,
      "outputs": []
    },
    {
      "cell_type": "code",
      "metadata": {
        "id": "q77YsFa82zFU",
        "colab_type": "code",
        "colab": {
          "base_uri": "https://localhost:8080/",
          "height": 238
        },
        "outputId": "3fddc71d-cf3f-418e-ef7c-2ae78fd4ae82"
      },
      "source": [
        "# JADE\n",
        "algorithm = pyade.jso\n",
        "BEST_AGENTS=[]\n",
        "for i in range(RUNS):\n",
        "  ANSWER_AGENTS=[]\n",
        "  solver = pyfde.JADE(Fun, n_dim=dim, n_pop=NPAR, limits=bounds, minimize=True)\n",
        "  solver.p = 0.05\n",
        "  solver.c = 0.1\n",
        "  solver.cr = 0.5\n",
        "  solver.f = 0.5\n",
        "  best, fit = solver.run(n_it=ITE)\n",
        "  for x in best:\n",
        "    ANSWER_AGENTS.append(x)\n",
        "  ANSWER_AGENTS.append(fit)\n",
        "  BEST_AGENTS.append(ANSWER_AGENTS)\n",
        "BEST_AGENTS=np.array(BEST_AGENTS)\n",
        "TIME = (time.time() - start_time)/RUNS\n",
        "BEST_AGENTS=np.array(BEST_AGENTS)\n",
        "BEST_AGENTS_ST= BEST_AGENTS[BEST_AGENTS[:,-1].argsort()]\n",
        "BEST=BEST_AGENTS_ST[0]\n",
        "WORSE=BEST_AGENTS_ST[-1]\n",
        "MEAN=np.mean(BEST_AGENTS,axis=0)\n",
        "MAXFO=BEST_AGENTS[:,-1].max()\n",
        "MINFO=BEST_AGENTS[:,-1].min()\n",
        "STD=BEST_AGENTS[:,-1].std()\n",
        "nome='JADE_Fo-'+str(0)+'_CRo-'+str(0)\n",
        "print(nome,'NPAR',NPAR,'Iterações=',ITE,'Dim=',dim ,\"Min/Max=\",MIN[0],\"/\",MAX[0],'_',Fun.__name__)\n",
        "print( '\\n')\n",
        "print('MÉDIA: ',MEAN[-1])\n",
        "print('MIN __:',MINFO)\n",
        "print('MAX__: ',MAXFO)\n",
        "print('STD __:',STD)\n",
        "print(\"Tempo Médio= %.3f segundos ---\" % (TIME))\n",
        "print(RUNS,'Rodadas') \n",
        "print()\n",
        "print('BEST: ',BEST)"
      ],
      "execution_count": 21,
      "outputs": [
        {
          "output_type": "stream",
          "text": [
            "JADE_Fo-0_CRo-0 NPAR 100 Iterações= 2000 Dim= 30 Min/Max= -100 / 100 _ Step\n",
            "\n",
            "\n",
            "MÉDIA:  0.0\n",
            "MIN __: -0.0\n",
            "MAX__:  -0.0\n",
            "STD __: 0.0\n",
            "Tempo Médio= 2.241 segundos ---\n",
            "50 Rodadas\n",
            "\n",
            "BEST:  [-0.5 -0.5 -0.5 -0.5 -0.5 -0.5 -0.5 -0.5 -0.5 -0.5 -0.5 -0.5 -0.5 -0.5\n",
            " -0.5 -0.5 -0.5 -0.5 -0.5 -0.5 -0.5 -0.5 -0.5 -0.5 -0.5 -0.5 -0.5 -0.5\n",
            " -0.5 -0.5 -0. ]\n"
          ],
          "name": "stdout"
        }
      ]
    },
    {
      "cell_type": "code",
      "metadata": {
        "id": "gXdUgSStzppX",
        "colab_type": "code",
        "colab": {}
      },
      "source": [
        "# FRANNK START HERE !!!!!"
      ],
      "execution_count": 22,
      "outputs": []
    },
    {
      "cell_type": "code",
      "metadata": {
        "id": "raWOfeJBztuj",
        "colab_type": "code",
        "colab": {
          "base_uri": "https://localhost:8080/",
          "height": 136
        },
        "outputId": "446bcd90-1f98-4051-97a9-d5be7e5434e4"
      },
      "source": [
        "!git clone https://github.com/ucfilho/ANN_read_matrix #clonar do Github\n",
        "%cd ANN_read_matrix"
      ],
      "execution_count": 23,
      "outputs": [
        {
          "output_type": "stream",
          "text": [
            "Cloning into 'ANN_read_matrix'...\n",
            "remote: Enumerating objects: 20, done.\u001b[K\n",
            "remote: Counting objects: 100% (20/20), done.\u001b[K\n",
            "remote: Compressing objects: 100% (18/18), done.\u001b[K\n",
            "remote: Total 20 (delta 5), reused 0 (delta 0), pack-reused 0\u001b[K\n",
            "Unpacking objects: 100% (20/20), done.\n",
            "/content/Raianars_July_2020/ANN_read_matrix/Raianars_July_2020/ANN_read_matrix\n"
          ],
          "name": "stdout"
        }
      ]
    },
    {
      "cell_type": "code",
      "metadata": {
        "id": "N2lyPfivzwGv",
        "colab_type": "code",
        "colab": {
          "base_uri": "https://localhost:8080/",
          "height": 1000
        },
        "outputId": "c73902b6-7fda-4027-e034-d01768ae4faa"
      },
      "source": [
        "ANN_F=pd.read_csv('ANN_INSIGHT_Valor_F.csv')\n",
        "ANN_CR=pd.read_csv('ANN_INSIGHT_CR.csv')\n",
        "syn0_F,syn1_F,X_max_F,X_min_F=Go2Ann.GetMatriz(ANN_F)\n",
        "syn0_CR,syn1_CR,X_max_CR,X_min_CR=Go2Ann.GetMatriz(ANN_CR)\n",
        "fields = ['DI RELATIVO','FRAC Its','Fo','CRo']\n",
        "\n",
        "#TOTAL=7*dim*its*ITE\n",
        "TOTAL=10*dim*its*ITE\n",
        "TOTAL=int(TOTAL/2)   # CONFERIR SE ESTE EH O MELHOR LUGAR\n",
        "\n",
        "dimensions=len(MAX)\n",
        "start_time = time.time() #INICIALIZA CONTAGEM DO TEMPO\n",
        "\n",
        "MAX_P=np.zeros(ITE) # ATENCAO para variar F e Cr MAX_P passa a ser 3 vezes maior\n",
        "MIN_P=np.zeros(ITE) # ATENCAO para variar F e Cr MIN_P passa a ser 3 vezes maior\n",
        "\n",
        "for i in range(dim):\n",
        "  MAX_P[i]=MAX[i] \n",
        "  MIN_P[i]=MIN[i]\n",
        "\n",
        "rodadas=1\n",
        "for i in range(rodadas):\n",
        "  SOMA=0\n",
        "  pop = np.random.rand(NPAR, dimensions)\n",
        "  diff=np.zeros(PAR)\n",
        "  for ii in range(PAR):\n",
        "    diff[ii] = MAX[ii]-MIN[ii]\n",
        "  X = MIN + pop * diff\n",
        "    \n",
        "  PONTOS=ITE # DIVISOES DA POPULACAO\n",
        "start_time = time.time()\n",
        "BEST_AGENTS=[]\n",
        "MAT_stat=[]\n",
        "for i in range(RUNS):\n",
        "    MAT=[] \n",
        "    mut=Fi\n",
        "    crossp=CRi\n",
        "    SOMA=0\n",
        "    SOMAf=0\n",
        "    start_ite = time.time()\n",
        "    delta_time=(start_ite-start_time)/60\n",
        "    print('ite=',i,'time=',delta_time)\n",
        "    pop = np.random.rand(NPAR, dim)\n",
        "    diff=np.zeros(PAR)\n",
        "    for ii in range(PAR):\n",
        "      diff[ii] = MAX[ii]-MIN[ii]\n",
        "    X = MIN + pop * diff\n",
        "    Xf = MIN + pop * diff\n",
        "    \n",
        "    DIo=1e99\n",
        "  \n",
        "    CRo=crossp;Fo=mut;\n",
        "    Fitness = np.asarray([Fun(ind) for ind in X])\n",
        "\n",
        "    XY,BEST_XY,BESTo,FOBESTo=AvaliaX(X,Fitness)\n",
        "    nrow,ncol=X.shape\n",
        "\n",
        "    QUANT=17;MAT_INDo=np.zeros((1,QUANT)); # quantos indices esta fazendo\n",
        "    MAT_INDo[0,5]=nrow  # VALOR NP\n",
        "    MAT_INDo[0,6]=Fo    # VALOR Fo   \n",
        "    MAT_INDo[0,7]=CRo   # VALOR CRo\n",
        "  \n",
        "    MAT_INDo=GeraIndices(X,BESTo,FOBESTo,DIo,MAT_INDo,SOMA,TOTAL,syn0_F,\n",
        "                        syn1_F,X_max_F,X_min_F,syn0_CR,syn1_CR,X_max_CR,\n",
        "                        X_min_CR,Fc,fields,Fun)\n",
        "  \n",
        "    DIo=np.copy(MAT_INDo[0,0])\n",
        "    MAT_INDo[0,15]=Fo    # VALOR Fo   \n",
        "    MAT_INDo[0,16]=CRo   # VALOR CRo\n",
        "    #ind_crossp=ITE-1\n",
        "\n",
        "    \n",
        "    for k in range(ITE):\n",
        "      X,BEST,FOBEST,XY,BEST_XY,SOMA= de_soma_Insight.de(MAX,MIN, mut, crossp,NPAR,its,Fun,X,SOMA,TOTAL)\n",
        "      #Xf,BESTf,FOBESTf,XYf,BEST_XYf,SOMAf= de_soma_Insight.de(MAX,MIN, Fi, CRi, NPAR,its,Fun,Xf,SOMAf,TOTAL)\n",
        "\n",
        "      \n",
        "      MAT_IND=GeraIndices(X,BESTo,FOBESTo,DIo,MAT_INDo,SOMA,TOTAL,syn0_F,\n",
        "                          syn1_F,X_max_F,X_min_F,syn0_CR,syn1_CR,X_max_CR,\n",
        "                          X_min_CR,Fc,fields,Fun)\n",
        "    \n",
        "      BESTo=np.copy(BEST);FOBESTo=np.copy(FOBEST);\n",
        "      MAT.append(MAT_IND.ravel())\n",
        "    \n",
        "      MAT_INDo[0,6]=MAT_IND[0,15]   # VALOR Fo   \n",
        "      MAT_INDo[0,7]=MAT_IND[0,16]   # VALOR CRo\n",
        "      mut=MAT_IND[0,15]\n",
        "      crossp=MAT_IND[0,16]\n",
        "\n",
        "      Fitness = np.asarray([Fun(ind) for ind in X])\n",
        "      #Fitnessf = np.asarray([Fun(ind) for ind in Xf])\n",
        "      Maior=np.argmax(Fitness)\n",
        "      #Maiorf=np.argmax(Fitnessf)\n",
        "      Menor=np.argmin(Fitness)\n",
        "      #Menorf=np.argmin(Fitnessf)\n",
        "\n",
        "      #X[Maior,:]=np.copy(Xf[Menorf,:])\n",
        "      #Xf[Maiorf,:]=np.copy(X[Menor,:])\n",
        "      \n",
        "    BEST_AGENTS.append(BEST_XY)\n",
        "    MAT_stat.append(MAT)\n",
        "    #print(\"GlobalParam e Solucao:\", BEST,\"Funcao=\",FOBEST)\n",
        "    \n",
        "############################## Cálculo dos Parâmetros de Avaliação   \n",
        "TIME = (time.time() - start_time)/RUNS\n",
        "BEST_AGENTS=np.array(BEST_AGENTS)\n",
        "BEST_AGENTS_ST= BEST_AGENTS[BEST_AGENTS[:,-1].argsort()]\n",
        "BEST=BEST_AGENTS_ST[0]\n",
        "WORSE=BEST_AGENTS_ST[-1]\n",
        "MEAN=np.mean(BEST_AGENTS,axis=0)\n",
        "MAXFO=BEST_AGENTS[:,-1].max()\n",
        "MINFO=BEST_AGENTS[:,-1].min()\n",
        "STD=BEST_AGENTS[:,-1].std()\n",
        "\n",
        "print()\n",
        "nome='_ANN_Div3x4_Fo-'+str(Fi)+'_CRo-'+str(CRi)+'_D-'+str(dim)+'_Interv-'+str(ITE)\n",
        "print('DE_POP_VAR_F_CR','TOTAL=',TOTAL,'Iterações=',ITE*its,'Dim=', PAR,\"Min/Max=\",MIN[0],\"/\",MAX[0],'_',Fun.__name__)\n",
        "print(nome, '\\n')\n",
        "print('MÉDIA: ',MEAN[-1])\n",
        "print('MIN __:',MINFO)\n",
        "print('MAX__: ',MAXFO)\n",
        "print('STD __:',STD)\n",
        "print(\"Tempo Médio= %.3f segundos ---\" % (TIME))\n",
        "print(RUNS,'Rodadas') \n",
        "print()\n",
        "print('BEST: ',BEST)"
      ],
      "execution_count": 24,
      "outputs": [
        {
          "output_type": "stream",
          "text": [
            "ite= 0 time= 0.00016983350118001303\n"
          ],
          "name": "stdout"
        },
        {
          "output_type": "stream",
          "text": [
            "/content/Raianars_July_2020/GeraIndices.py:57: RuntimeWarning: invalid value encountered in double_scalars\n",
            "  if abs(MAT_IND[0,8]/MAT_IND[0,8])>1:\n",
            "/content/Raianars_July_2020/GeraIndices.py:60: RuntimeWarning: invalid value encountered in double_scalars\n",
            "  MAT_IND[0,10]=MAT_IND[0,8]/MAT_IND[0,8]\n",
            "/content/Raianars_July_2020/GeraIndices.py:62: RuntimeWarning: invalid value encountered in double_scalars\n",
            "  if abs(MAT_IND[0,9]/MAT_IND[0,9])>1: # tem que pegar primeira\n",
            "/content/Raianars_July_2020/GeraIndices.py:65: RuntimeWarning: invalid value encountered in double_scalars\n",
            "  MAT_IND[0,11]=MAT_IND[0,9]/MAT_IND[0,9] # tem que pegar do anterior\n"
          ],
          "name": "stderr"
        },
        {
          "output_type": "stream",
          "text": [
            "ite= 1 time= 2.349908904234568\n",
            "ite= 2 time= 4.688973450660706\n",
            "ite= 3 time= 7.048907601833344\n",
            "ite= 4 time= 9.382045288880667\n",
            "ite= 5 time= 11.725668370723724\n",
            "ite= 6 time= 14.116401219367981\n",
            "ite= 7 time= 16.507688558101655\n",
            "ite= 8 time= 18.87537502447764\n",
            "ite= 9 time= 21.268607147534688\n",
            "ite= 10 time= 23.65127775669098\n",
            "ite= 11 time= 26.04885079463323\n",
            "ite= 12 time= 28.43492655356725\n",
            "ite= 13 time= 30.80465977191925\n",
            "ite= 14 time= 33.15918777783712\n",
            "ite= 15 time= 35.55995012521744\n",
            "ite= 16 time= 37.91811483303706\n",
            "ite= 17 time= 40.30331554412842\n",
            "ite= 18 time= 42.688700811068216\n",
            "ite= 19 time= 45.08157906134923\n",
            "ite= 20 time= 47.46709367036819\n",
            "ite= 21 time= 49.82454326550166\n",
            "ite= 22 time= 52.21990067958832\n",
            "ite= 23 time= 54.59723608891169\n",
            "ite= 24 time= 56.97707460323969\n",
            "ite= 25 time= 59.36908361514409\n",
            "ite= 26 time= 61.7585194905599\n",
            "ite= 27 time= 64.14752160708109\n",
            "ite= 28 time= 66.54265495141347\n",
            "ite= 29 time= 68.8951118628184\n",
            "ite= 30 time= 71.28721449375152\n",
            "ite= 31 time= 73.67386693159739\n",
            "ite= 32 time= 76.02620161771775\n",
            "ite= 33 time= 78.37730908791224\n",
            "ite= 34 time= 80.76809757947922\n",
            "ite= 35 time= 83.153346935908\n",
            "ite= 36 time= 85.50942105452219\n",
            "ite= 37 time= 87.89210693438848\n",
            "ite= 38 time= 90.23784772555034\n",
            "ite= 39 time= 92.63472093343735\n",
            "ite= 40 time= 94.9918473402659\n",
            "ite= 41 time= 97.3490533788999\n",
            "ite= 42 time= 99.7317886352539\n",
            "ite= 43 time= 102.08900446494421\n",
            "ite= 44 time= 104.44792339404424\n",
            "ite= 45 time= 106.81814334789912\n",
            "ite= 46 time= 109.20612374544143\n",
            "ite= 47 time= 111.5901191631953\n",
            "ite= 48 time= 113.98758487304052\n",
            "ite= 49 time= 116.38033618529637\n",
            "\n",
            "DE_POP_VAR_F_CR TOTAL= 300000 Iterações= 2000 Dim= 30 Min/Max= -100 / 100 _ Step\n",
            "_ANN_Div3x4_Fo-0.25_CRo-0.25_D-30_Interv-2000 \n",
            "\n",
            "MÉDIA:  3.6977854932234927e-34\n",
            "MIN __: 0.0\n",
            "MAX__:  1.5407439555097887e-32\n",
            "STD __: 2.1911090918199742e-33\n",
            "Tempo Médio= 142.530 segundos ---\n",
            "50 Rodadas\n",
            "\n",
            "BEST:  [-0.5 -0.5 -0.5 -0.5 -0.5 -0.5 -0.5 -0.5 -0.5 -0.5 -0.5 -0.5 -0.5 -0.5\n",
            " -0.5 -0.5 -0.5 -0.5 -0.5 -0.5 -0.5 -0.5 -0.5 -0.5 -0.5 -0.5 -0.5 -0.5\n",
            " -0.5 -0.5  0. ]\n"
          ],
          "name": "stdout"
        }
      ]
    },
    {
      "cell_type": "code",
      "metadata": {
        "id": "egkWFpw6GiNo",
        "colab_type": "code",
        "colab": {
          "base_uri": "https://localhost:8080/",
          "height": 1000
        },
        "outputId": "969d132b-3153-4939-fb01-e5ad92745a5d"
      },
      "source": [
        "#DE_ tradicional\n",
        "\n",
        "!git clone https://github.com/ucfilho/Raianars_July_2020 #clonar do Github\n",
        "%cd Raianars_July_2020\n",
        "\n",
        "mut=0.5\n",
        "crossp=0.5\n",
        "\n",
        "SOMA=0\n",
        "start_time = time.time()\n",
        "BEST_AGENTS=[]\n",
        "MAT_stat=[]\n",
        "\n",
        "for i in range(RUNS):\n",
        "\n",
        "    pop = np.random.rand(NPAR, dim)\n",
        "    diff=np.zeros(dim)\n",
        "    for ii in range(dim):\n",
        "      diff[ii] = MAX[ii]-MIN[ii]\n",
        "    X = MIN + pop * diff\n",
        "\n",
        "    SOMA=0\n",
        "\n",
        "    for k in range(ITE):\n",
        "      X,BEST,FOBEST,XY,BEST_XY,SOMA= de_soma_Insight.de(MAX,MIN, mut, crossp,dim,its,Fun,X,SOMA,TOTAL)\n",
        "\n",
        "    start_run = (time.time()-start_time)/60\n",
        "    print('run=',i,'total=50','Fobj=',FOBEST,'Time=',start_run)  \n",
        "    BEST_AGENTS.append(BEST_XY)"
      ],
      "execution_count": 25,
      "outputs": [
        {
          "output_type": "stream",
          "text": [
            "Cloning into 'Raianars_July_2020'...\n",
            "remote: Enumerating objects: 24, done.\u001b[K\n",
            "remote: Counting objects: 100% (24/24), done.\u001b[K\n",
            "remote: Compressing objects: 100% (24/24), done.\u001b[K\n",
            "remote: Total 147 (delta 12), reused 0 (delta 0), pack-reused 123\u001b[K\n",
            "Receiving objects: 100% (147/147), 204.22 KiB | 518.00 KiB/s, done.\n",
            "Resolving deltas: 100% (74/74), done.\n",
            "/content/Raianars_July_2020/ANN_read_matrix/Raianars_July_2020/ANN_read_matrix/Raianars_July_2020\n",
            "run= 0 total=50 Fobj= 1.3399850181068632e-28 Time= 0.34809781710306803\n",
            "run= 1 total=50 Fobj= 7.635927043506513e-30 Time= 0.6974609057108562\n",
            "run= 2 total=50 Fobj= 8.38472860588427e-30 Time= 1.0445255041122437\n",
            "run= 3 total=50 Fobj= 4.767061798347286e-30 Time= 1.3903652985890707\n",
            "run= 4 total=50 Fobj= 1.8495090441939503e-29 Time= 1.7360013008117676\n",
            "run= 5 total=50 Fobj= 3.710111444867571e-30 Time= 2.0845688144365946\n",
            "run= 6 total=50 Fobj= 3.3064365285240065e-30 Time= 2.4369940121968585\n",
            "run= 7 total=50 Fobj= 4.5821725236861115e-30 Time= 2.7850443641344707\n",
            "run= 8 total=50 Fobj= 3.1668451261548197e-29 Time= 3.131447434425354\n",
            "run= 9 total=50 Fobj= 8.422939055980913e-29 Time= 3.478751524289449\n",
            "run= 10 total=50 Fobj= 5.321113324748606e-29 Time= 3.8268691738446554\n",
            "run= 11 total=50 Fobj= 8.086748724888677e-29 Time= 4.174313155810038\n",
            "run= 12 total=50 Fobj= 4.119949337033175e-30 Time= 4.520949840545654\n",
            "run= 13 total=50 Fobj= 2.0833939766403363e-29 Time= 4.874471453825633\n",
            "run= 14 total=50 Fobj= 2.2485617286709856e-29 Time= 5.221610411008199\n",
            "run= 15 total=50 Fobj= 9.404392955640648e-29 Time= 5.569478511810303\n",
            "run= 16 total=50 Fobj= 6.299793885288424e-29 Time= 5.91591297785441\n",
            "run= 17 total=50 Fobj= 4.5331768659009e-29 Time= 6.26401827732722\n",
            "run= 18 total=50 Fobj= 3.009689242692821e-29 Time= 6.611841734250387\n",
            "run= 19 total=50 Fobj= 2.1034236480619635e-29 Time= 6.959821983178457\n",
            "run= 20 total=50 Fobj= 1.2329033131989329e-29 Time= 7.307385981082916\n",
            "run= 21 total=50 Fobj= 2.456254013873705e-29 Time= 7.658739276727041\n",
            "run= 22 total=50 Fobj= 1.0153502666809507e-29 Time= 8.011345628897349\n",
            "run= 23 total=50 Fobj= 1.0732822394081188e-29 Time= 8.359189482529958\n",
            "run= 24 total=50 Fobj= 8.760361982237556e-29 Time= 8.705265247821808\n",
            "run= 25 total=50 Fobj= 2.6368292054594524e-29 Time= 9.051415153344472\n",
            "run= 26 total=50 Fobj= 3.830289473397335e-30 Time= 9.398714248339335\n",
            "run= 27 total=50 Fobj= 9.216730341859556e-30 Time= 9.746232251326242\n",
            "run= 28 total=50 Fobj= 4.81020262910156e-30 Time= 10.09652275244395\n",
            "run= 29 total=50 Fobj= 4.263546673686687e-29 Time= 10.44093877474467\n",
            "run= 30 total=50 Fobj= 1.5379398015107609e-28 Time= 10.784290719032288\n",
            "run= 31 total=50 Fobj= 2.488640451818521e-28 Time= 11.129364256064097\n",
            "run= 32 total=50 Fobj= 4.288506725765946e-29 Time= 11.476368268330893\n",
            "run= 33 total=50 Fobj= 8.356995214685094e-30 Time= 11.82343334754308\n",
            "run= 34 total=50 Fobj= 4.7575091858231255e-29 Time= 12.169500990708668\n",
            "run= 35 total=50 Fobj= 3.4873198689008557e-29 Time= 12.51922804514567\n",
            "run= 36 total=50 Fobj= 3.651563174558199e-29 Time= 12.866917888323465\n",
            "run= 37 total=50 Fobj= 1.289910839552795e-29 Time= 13.215048352877298\n",
            "run= 38 total=50 Fobj= 2.049805758410223e-29 Time= 13.561493082841237\n",
            "run= 39 total=50 Fobj= 1.0982422914873774e-29 Time= 13.909235465526582\n",
            "run= 40 total=50 Fobj= 3.5769911671115254e-29 Time= 14.256880605220795\n",
            "run= 41 total=50 Fobj= 1.0849918934699932e-29 Time= 14.603316620985668\n",
            "run= 42 total=50 Fobj= 2.530209723738175e-29 Time= 14.951354050636292\n",
            "run= 43 total=50 Fobj= 1.641508610200129e-29 Time= 15.302116318543751\n",
            "run= 44 total=50 Fobj= 3.3280069439011436e-29 Time= 15.649205100536346\n",
            "run= 45 total=50 Fobj= 1.0529752340744998e-28 Time= 15.996494603157043\n",
            "run= 46 total=50 Fobj= 1.6510612227242896e-29 Time= 16.34594848950704\n",
            "run= 47 total=50 Fobj= 2.2550328532841267e-29 Time= 16.693842351436615\n",
            "run= 48 total=50 Fobj= 6.567575184756025e-29 Time= 17.040856099128725\n",
            "run= 49 total=50 Fobj= 4.236121431278613e-29 Time= 17.388164301713307\n"
          ],
          "name": "stdout"
        }
      ]
    },
    {
      "cell_type": "code",
      "metadata": {
        "id": "3W8R6htAHO63",
        "colab_type": "code",
        "colab": {
          "base_uri": "https://localhost:8080/",
          "height": 323
        },
        "outputId": "ab0d2347-d38f-46c3-d9bf-8b3973921437"
      },
      "source": [
        "############################## Cálculo dos Parâmetros de Avaliação   \n",
        "TIME = (time.time() - start_time)/RUNS\n",
        "BEST_AGENTS=np.array(BEST_AGENTS)\n",
        "BEST_AGENTS_ST= BEST_AGENTS[BEST_AGENTS[:,-1].argsort()]\n",
        "BEST=BEST_AGENTS_ST[0]\n",
        "WORSE=BEST_AGENTS_ST[-1]\n",
        "MEAN=np.mean(BEST_AGENTS,axis=0)\n",
        "MAXFO=BEST_AGENTS[:,-1].max()\n",
        "MINFO=BEST_AGENTS[:,-1].min()\n",
        "STD=BEST_AGENTS[:,-1].std()\n",
        "\n",
        "nome='DE_STAT_Fo-'+str(mut)+'_CRo-'+str(crossp)+'_D-'+str(dim)+'_Interv-'+str(ITE)\n",
        "print('DE_','TOTAL=',TOTAL,'Iterações=',ITE*its,'Dim=', dim,\"Min/Max=\",MIN[0],\"/\",MAX[0],'_',Fun.__name__)\n",
        "print(nome, '\\n')\n",
        "#print('BEST: ',BEST)\n",
        "#print('MÉDIA: ',MEAN)\n",
        "print('MÉDIA: ',MEAN[-1])\n",
        "print('MIN __:',MINFO)\n",
        "print('MAX__: ',MAXFO)\n",
        "print('STD __:',STD)\n",
        "print(\"Tempo Médio= %.3f segundos ---\" % (TIME))\n",
        "print(RUNS,'Rodadas') \n",
        "print()\n",
        "print('BEST: ',BEST)"
      ],
      "execution_count": 26,
      "outputs": [
        {
          "output_type": "stream",
          "text": [
            "DE_ TOTAL= 300000 Iterações= 2000 Dim= 30 Min/Max= -100 / 100 _ Step\n",
            "DE_STAT_Fo-0.5_CRo-0.5_D-30_Interv-2000 \n",
            "\n",
            "MÉDIA:  3.9185987539513337e-29\n",
            "MIN __: 3.3064365285240065e-30\n",
            "MAX__:  2.488640451818521e-28\n",
            "STD __: 4.517712070956183e-29\n",
            "Tempo Médio= 20.866 segundos ---\n",
            "50 Rodadas\n",
            "\n",
            "BEST:  [-5.00000000e-01 -5.00000000e-01 -5.00000000e-01 -5.00000000e-01\n",
            " -5.00000000e-01 -5.00000000e-01 -5.00000000e-01 -5.00000000e-01\n",
            " -5.00000000e-01 -5.00000000e-01 -5.00000000e-01 -5.00000000e-01\n",
            " -5.00000000e-01 -5.00000000e-01 -5.00000000e-01 -5.00000000e-01\n",
            " -5.00000000e-01 -5.00000000e-01 -5.00000000e-01 -5.00000000e-01\n",
            " -5.00000000e-01 -5.00000000e-01 -5.00000000e-01 -5.00000000e-01\n",
            " -5.00000000e-01 -5.00000000e-01 -5.00000000e-01 -5.00000000e-01\n",
            " -5.00000000e-01 -5.00000000e-01  3.30643653e-30]\n"
          ],
          "name": "stdout"
        }
      ]
    }
  ]
}