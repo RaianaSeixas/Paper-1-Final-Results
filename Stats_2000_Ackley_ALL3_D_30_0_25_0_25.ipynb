{
  "nbformat": 4,
  "nbformat_minor": 0,
  "metadata": {
    "colab": {
      "name": "Stats_2000_Ackley_ALL3_D_30_0.25_0.25.ipynb",
      "provenance": [],
      "collapsed_sections": [],
      "include_colab_link": true
    },
    "kernelspec": {
      "name": "python3",
      "display_name": "Python 3"
    }
  },
  "cells": [
    {
      "cell_type": "markdown",
      "metadata": {
        "id": "view-in-github",
        "colab_type": "text"
      },
      "source": [
        "<a href=\"https://colab.research.google.com/github/RaianaSeixas/Paper-1-Final-Results/blob/master/Stats_2000_Ackley_ALL3_D_30_0_25_0_25.ipynb\" target=\"_parent\"><img src=\"https://colab.research.google.com/assets/colab-badge.svg\" alt=\"Open In Colab\"/></a>"
      ]
    },
    {
      "cell_type": "code",
      "metadata": {
        "id": "MC26Bm1UyUR5",
        "colab_type": "code",
        "colab": {
          "base_uri": "https://localhost:8080/",
          "height": 34
        },
        "outputId": "6f0b0d83-2c9e-42c5-f0f7-02281a35afe5"
      },
      "source": [
        "!pip install pyade-python"
      ],
      "execution_count": 15,
      "outputs": [
        {
          "output_type": "stream",
          "text": [
            "Requirement already satisfied: pyade-python in /usr/local/lib/python3.6/dist-packages (1.1)\n"
          ],
          "name": "stdout"
        }
      ]
    },
    {
      "cell_type": "code",
      "metadata": {
        "id": "rRwqrtCmgzdZ",
        "colab_type": "code",
        "colab": {
          "base_uri": "https://localhost:8080/",
          "height": 51
        },
        "outputId": "cf28e329-7f70-4dad-c8e9-dab1d9c00282"
      },
      "source": [
        "!pip install PyFDE"
      ],
      "execution_count": 16,
      "outputs": [
        {
          "output_type": "stream",
          "text": [
            "Requirement already satisfied: PyFDE in /usr/local/lib/python3.6/dist-packages (1.3.0)\n",
            "Requirement already satisfied: numpy in /usr/local/lib/python3.6/dist-packages (from PyFDE) (1.18.5)\n"
          ],
          "name": "stdout"
        }
      ]
    },
    {
      "cell_type": "code",
      "metadata": {
        "id": "anFukot-ypn6",
        "colab_type": "code",
        "colab": {}
      },
      "source": [
        "import pyade.ilshade \n",
        "import pyade.sade \n",
        "import pyade.jso\n",
        "import pyade.shade\n",
        "import pyade.jade \n",
        "import pyfde\n",
        "import numpy as np\n",
        "import pandas as pd\n",
        "import time"
      ],
      "execution_count": 17,
      "outputs": []
    },
    {
      "cell_type": "code",
      "metadata": {
        "id": "6Oh714_-z1Ia",
        "colab_type": "code",
        "colab": {
          "base_uri": "https://localhost:8080/",
          "height": 153
        },
        "outputId": "0d791150-4e87-40f2-c051-2e731c5c2569"
      },
      "source": [
        "!git clone https://github.com/ucfilho/Raianars_July_2020 #clonar do Github\n",
        "%cd Raianars_July_2020"
      ],
      "execution_count": 18,
      "outputs": [
        {
          "output_type": "stream",
          "text": [
            "Cloning into 'Raianars_July_2020'...\n",
            "remote: Enumerating objects: 15, done.\u001b[K\n",
            "remote: Counting objects:   6% (1/15)\u001b[K\rremote: Counting objects:  13% (2/15)\u001b[K\rremote: Counting objects:  20% (3/15)\u001b[K\rremote: Counting objects:  26% (4/15)\u001b[K\rremote: Counting objects:  33% (5/15)\u001b[K\rremote: Counting objects:  40% (6/15)\u001b[K\rremote: Counting objects:  46% (7/15)\u001b[K\rremote: Counting objects:  53% (8/15)\u001b[K\rremote: Counting objects:  60% (9/15)\u001b[K\rremote: Counting objects:  66% (10/15)\u001b[K\rremote: Counting objects:  73% (11/15)\u001b[K\rremote: Counting objects:  80% (12/15)\u001b[K\rremote: Counting objects:  86% (13/15)\u001b[K\rremote: Counting objects:  93% (14/15)\u001b[K\rremote: Counting objects: 100% (15/15)\u001b[K\rremote: Counting objects: 100% (15/15), done.\u001b[K\n",
            "remote: Compressing objects:   6% (1/15)\u001b[K\rremote: Compressing objects:  13% (2/15)\u001b[K\rremote: Compressing objects:  20% (3/15)\u001b[K\rremote: Compressing objects:  26% (4/15)\u001b[K\rremote: Compressing objects:  33% (5/15)\u001b[K\rremote: Compressing objects:  40% (6/15)\u001b[K\rremote: Compressing objects:  46% (7/15)\u001b[K\rremote: Compressing objects:  53% (8/15)\u001b[K\rremote: Compressing objects:  60% (9/15)\u001b[K\rremote: Compressing objects:  66% (10/15)\u001b[K\rremote: Compressing objects:  73% (11/15)\u001b[K\rremote: Compressing objects:  80% (12/15)\u001b[K\rremote: Compressing objects:  86% (13/15)\u001b[K\rremote: Compressing objects:  93% (14/15)\u001b[K\rremote: Compressing objects: 100% (15/15)\u001b[K\rremote: Compressing objects: 100% (15/15), done.\u001b[K\n",
            "Receiving objects:   0% (1/138)   \rReceiving objects:   1% (2/138)   \rReceiving objects:   2% (3/138)   \rReceiving objects:   3% (5/138)   \rReceiving objects:   4% (6/138)   \rReceiving objects:   5% (7/138)   \rReceiving objects:   6% (9/138)   \rReceiving objects:   7% (10/138)   \rReceiving objects:   8% (12/138)   \rReceiving objects:   9% (13/138)   \rReceiving objects:  10% (14/138)   \rReceiving objects:  11% (16/138)   \rReceiving objects:  12% (17/138)   \rReceiving objects:  13% (18/138)   \rReceiving objects:  14% (20/138)   \rReceiving objects:  15% (21/138)   \rReceiving objects:  16% (23/138)   \rReceiving objects:  17% (24/138)   \rReceiving objects:  18% (25/138)   \rReceiving objects:  19% (27/138)   \rReceiving objects:  20% (28/138)   \rReceiving objects:  21% (29/138)   \rReceiving objects:  22% (31/138)   \rReceiving objects:  23% (32/138)   \rReceiving objects:  24% (34/138)   \rReceiving objects:  25% (35/138)   \rReceiving objects:  26% (36/138)   \rReceiving objects:  27% (38/138)   \rReceiving objects:  28% (39/138)   \rReceiving objects:  29% (41/138)   \rReceiving objects:  30% (42/138)   \rReceiving objects:  31% (43/138)   \rReceiving objects:  32% (45/138)   \rReceiving objects:  33% (46/138)   \rReceiving objects:  34% (47/138)   \rReceiving objects:  35% (49/138)   \rReceiving objects:  36% (50/138)   \rremote: Total 138 (delta 7), reused 0 (delta 0), pack-reused 123\u001b[K\n",
            "Receiving objects:  37% (52/138)   \rReceiving objects:  38% (53/138)   \rReceiving objects:  39% (54/138)   \rReceiving objects:  40% (56/138)   \rReceiving objects:  41% (57/138)   \rReceiving objects:  42% (58/138)   \rReceiving objects:  43% (60/138)   \rReceiving objects:  44% (61/138)   \rReceiving objects:  45% (63/138)   \rReceiving objects:  46% (64/138)   \rReceiving objects:  47% (65/138)   \rReceiving objects:  48% (67/138)   \rReceiving objects:  49% (68/138)   \rReceiving objects:  50% (69/138)   \rReceiving objects:  51% (71/138)   \rReceiving objects:  52% (72/138)   \rReceiving objects:  53% (74/138)   \rReceiving objects:  54% (75/138)   \rReceiving objects:  55% (76/138)   \rReceiving objects:  56% (78/138)   \rReceiving objects:  57% (79/138)   \rReceiving objects:  58% (81/138)   \rReceiving objects:  59% (82/138)   \rReceiving objects:  60% (83/138)   \rReceiving objects:  61% (85/138)   \rReceiving objects:  62% (86/138)   \rReceiving objects:  63% (87/138)   \rReceiving objects:  64% (89/138)   \rReceiving objects:  65% (90/138)   \rReceiving objects:  66% (92/138)   \rReceiving objects:  67% (93/138)   \rReceiving objects:  68% (94/138)   \rReceiving objects:  69% (96/138)   \rReceiving objects:  70% (97/138)   \rReceiving objects:  71% (98/138)   \rReceiving objects:  72% (100/138)   \rReceiving objects:  73% (101/138)   \rReceiving objects:  74% (103/138)   \rReceiving objects:  75% (104/138)   \rReceiving objects:  76% (105/138)   \rReceiving objects:  77% (107/138)   \rReceiving objects:  78% (108/138)   \rReceiving objects:  79% (110/138)   \rReceiving objects:  80% (111/138)   \rReceiving objects:  81% (112/138)   \rReceiving objects:  82% (114/138)   \rReceiving objects:  83% (115/138)   \rReceiving objects:  84% (116/138)   \rReceiving objects:  85% (118/138)   \rReceiving objects:  86% (119/138)   \rReceiving objects:  87% (121/138)   \rReceiving objects:  88% (122/138)   \rReceiving objects:  89% (123/138)   \rReceiving objects:  90% (125/138)   \rReceiving objects:  91% (126/138)   \rReceiving objects:  92% (127/138)   \rReceiving objects:  93% (129/138)   \rReceiving objects:  94% (130/138)   \rReceiving objects:  95% (132/138)   \rReceiving objects:  96% (133/138)   \rReceiving objects:  97% (134/138)   \rReceiving objects:  98% (136/138)   \rReceiving objects:  99% (137/138)   \rReceiving objects: 100% (138/138)   \rReceiving objects: 100% (138/138), 201.58 KiB | 8.06 MiB/s, done.\n",
            "Resolving deltas:   0% (0/69)   \rResolving deltas:  10% (7/69)   \rResolving deltas:  57% (40/69)   \rResolving deltas:  72% (50/69)   \rResolving deltas:  75% (52/69)   \rResolving deltas:  78% (54/69)   \rResolving deltas:  86% (60/69)   \rResolving deltas:  97% (67/69)   \rResolving deltas:  98% (68/69)   \rResolving deltas: 100% (69/69)   \rResolving deltas: 100% (69/69), done.\n",
            "/content/Raianars_July_2020/ANN_read_matrix/Raianars_July_2020/Raianars_July_2020\n"
          ],
          "name": "stdout"
        }
      ]
    },
    {
      "cell_type": "code",
      "metadata": {
        "id": "LnzftXkky78A",
        "colab_type": "code",
        "colab": {}
      },
      "source": [
        "import Go2Ann\n",
        "import de_soma_Insight\n",
        "import de_bounds_matriz\n",
        "from AvaliaX import AvaliaX\n",
        "from GeraIndices import GeraIndices"
      ],
      "execution_count": 19,
      "outputs": []
    },
    {
      "cell_type": "code",
      "metadata": {
        "id": "HNW92728z7fR",
        "colab_type": "code",
        "colab": {}
      },
      "source": [
        "import Function\n",
        "import Go2MinMax"
      ],
      "execution_count": 20,
      "outputs": []
    },
    {
      "cell_type": "code",
      "metadata": {
        "id": "T_C-e7aH0CZH",
        "colab_type": "code",
        "colab": {}
      },
      "source": [
        "ITE=2000 #10 # PONTOS quantas vezes vai alteral NPAR \n",
        "NPAR=100 # NUMBER OF PARTICLES\n",
        "dim=30\n",
        "RUNS=50\n",
        "fchoice='Ackley'  #MS\n",
        "Fun=Function.Ackley\n",
        "\n",
        "MIN,MAX=Go2MinMax.Intervalo(dim,fchoice)\n",
        "bounds = [(0,0)]*dim\n",
        "\n",
        "for i in range(dim):\n",
        "  bounds[i] = (MIN[i],MAX[i])\n",
        "\n",
        "start_time = time.time() "
      ],
      "execution_count": 21,
      "outputs": []
    },
    {
      "cell_type": "code",
      "metadata": {
        "id": "Nqv5qp9yzQEw",
        "colab_type": "code",
        "colab": {}
      },
      "source": [
        "############################### INPUT INFORMATION (FRANNK)\n",
        "Fc=0.1 # fator de correcao parametros da ANN\n",
        "its=1 #10 # quantas vezes vai usar o NPAR antes de alterar de novo\n",
        "mut=0.25\n",
        "crossp=0.25\n",
        "Fi=mut;CRi=crossp;# para impressão\n",
        "PAR=len(MAX) #NUM DE PARAMETROS A SER OTIMIZADOS"
      ],
      "execution_count": 22,
      "outputs": []
    },
    {
      "cell_type": "code",
      "metadata": {
        "id": "q77YsFa82zFU",
        "colab_type": "code",
        "colab": {
          "base_uri": "https://localhost:8080/",
          "height": 323
        },
        "outputId": "f717d5d8-e5a9-4af6-b2de-af63dc668fc2"
      },
      "source": [
        "# JADE\n",
        "algorithm = pyade.jso\n",
        "BEST_AGENTS=[]\n",
        "for i in range(RUNS):\n",
        "  ANSWER_AGENTS=[]\n",
        "  solver = pyfde.JADE(Fun, n_dim=dim, n_pop=NPAR, limits=bounds, minimize=True)\n",
        "  solver.p = 0.05\n",
        "  solver.c = 0.1\n",
        "  solver.cr = 0.5\n",
        "  solver.f = 0.5\n",
        "  best, fit = solver.run(n_it=ITE)\n",
        "  for x in best:\n",
        "    ANSWER_AGENTS.append(x)\n",
        "  ANSWER_AGENTS.append(fit)\n",
        "  BEST_AGENTS.append(ANSWER_AGENTS)\n",
        "BEST_AGENTS=np.array(BEST_AGENTS)\n",
        "TIME = (time.time() - start_time)/RUNS\n",
        "BEST_AGENTS=np.array(BEST_AGENTS)\n",
        "BEST_AGENTS_ST= BEST_AGENTS[BEST_AGENTS[:,-1].argsort()]\n",
        "BEST=BEST_AGENTS_ST[0]\n",
        "WORSE=BEST_AGENTS_ST[-1]\n",
        "MEAN=np.mean(BEST_AGENTS,axis=0)\n",
        "MAXFO=BEST_AGENTS[:,-1].max()\n",
        "MINFO=BEST_AGENTS[:,-1].min()\n",
        "STD=BEST_AGENTS[:,-1].std()\n",
        "nome='JADE_Fo-'+str(0)+'_CRo-'+str(0)\n",
        "print(nome,'NPAR',NPAR,'Iterações=',ITE,'Dim=',dim ,\"Min/Max=\",MIN[0],\"/\",MAX[0],'_',Fun.__name__)\n",
        "print( '\\n')\n",
        "print('MÉDIA: ',MEAN[-1])\n",
        "print('MIN __:',MINFO)\n",
        "print('MAX__: ',MAXFO)\n",
        "print('STD __:',STD)\n",
        "print(\"Tempo Médio= %.3f segundos ---\" % (TIME))\n",
        "print(RUNS,'Rodadas') \n",
        "print()\n",
        "print('BEST: ',BEST)"
      ],
      "execution_count": 23,
      "outputs": [
        {
          "output_type": "stream",
          "text": [
            "JADE_Fo-0_CRo-0 NPAR 100 Iterações= 2000 Dim= 30 Min/Max= -32 / 32 _ Ackley\n",
            "\n",
            "\n",
            "MÉDIA:  -3.9968028886505635e-15\n",
            "MIN __: -3.9968028886505635e-15\n",
            "MAX__:  -3.9968028886505635e-15\n",
            "STD __: 0.0\n",
            "Tempo Médio= 4.680 segundos ---\n",
            "50 Rodadas\n",
            "\n",
            "BEST:  [ 1.29779127e-16 -7.41029896e-16 -1.82094784e-16  6.30666963e-16\n",
            "  4.02222876e-16 -1.58688086e-15  1.48279456e-16  1.08433493e-15\n",
            " -1.73985212e-15 -5.53798002e-16 -4.02306939e-16  8.75601544e-16\n",
            "  4.38468964e-16 -1.42310934e-15 -3.60370188e-15  5.06154292e-16\n",
            "  3.29127110e-16  1.26649874e-16 -1.20350486e-15 -1.57138933e-15\n",
            " -3.92540548e-17  3.15471333e-16  2.11687397e-16  7.45821754e-16\n",
            "  1.33932060e-15 -3.03641299e-15 -4.61774839e-16 -2.13071705e-16\n",
            " -7.14273869e-16  2.26887783e-15 -3.99680289e-15]\n"
          ],
          "name": "stdout"
        }
      ]
    },
    {
      "cell_type": "code",
      "metadata": {
        "id": "gXdUgSStzppX",
        "colab_type": "code",
        "colab": {}
      },
      "source": [
        "# FRANNK START HERE !!!!!"
      ],
      "execution_count": 24,
      "outputs": []
    },
    {
      "cell_type": "code",
      "metadata": {
        "id": "raWOfeJBztuj",
        "colab_type": "code",
        "colab": {
          "base_uri": "https://localhost:8080/",
          "height": 136
        },
        "outputId": "4630d250-ca53-43b2-c968-a543e7ac3543"
      },
      "source": [
        "!git clone https://github.com/ucfilho/ANN_read_matrix #clonar do Github\n",
        "%cd ANN_read_matrix"
      ],
      "execution_count": 25,
      "outputs": [
        {
          "output_type": "stream",
          "text": [
            "Cloning into 'ANN_read_matrix'...\n",
            "remote: Enumerating objects: 20, done.\u001b[K\n",
            "remote: Counting objects:   5% (1/20)\u001b[K\rremote: Counting objects:  10% (2/20)\u001b[K\rremote: Counting objects:  15% (3/20)\u001b[K\rremote: Counting objects:  20% (4/20)\u001b[K\rremote: Counting objects:  25% (5/20)\u001b[K\rremote: Counting objects:  30% (6/20)\u001b[K\rremote: Counting objects:  35% (7/20)\u001b[K\rremote: Counting objects:  40% (8/20)\u001b[K\rremote: Counting objects:  45% (9/20)\u001b[K\rremote: Counting objects:  50% (10/20)\u001b[K\rremote: Counting objects:  55% (11/20)\u001b[K\rremote: Counting objects:  60% (12/20)\u001b[K\rremote: Counting objects:  65% (13/20)\u001b[K\rremote: Counting objects:  70% (14/20)\u001b[K\rremote: Counting objects:  75% (15/20)\u001b[K\rremote: Counting objects:  80% (16/20)\u001b[K\rremote: Counting objects:  85% (17/20)\u001b[K\rremote: Counting objects:  90% (18/20)\u001b[K\rremote: Counting objects:  95% (19/20)\u001b[K\rremote: Counting objects: 100% (20/20)\u001b[K\rremote: Counting objects: 100% (20/20), done.\u001b[K\n",
            "remote: Compressing objects:   5% (1/18)\u001b[K\rremote: Compressing objects:  11% (2/18)\u001b[K\rremote: Compressing objects:  16% (3/18)\u001b[K\rremote: Compressing objects:  22% (4/18)\u001b[K\rremote: Compressing objects:  27% (5/18)\u001b[K\rremote: Compressing objects:  33% (6/18)\u001b[K\rremote: Compressing objects:  38% (7/18)\u001b[K\rremote: Compressing objects:  44% (8/18)\u001b[K\rremote: Compressing objects:  50% (9/18)\u001b[K\rremote: Compressing objects:  55% (10/18)\u001b[K\rremote: Compressing objects:  61% (11/18)\u001b[K\rremote: Compressing objects:  66% (12/18)\u001b[K\rremote: Compressing objects:  72% (13/18)\u001b[K\rremote: Compressing objects:  77% (14/18)\u001b[K\rremote: Compressing objects:  83% (15/18)\u001b[K\rremote: Compressing objects:  88% (16/18)\u001b[K\rremote: Compressing objects:  94% (17/18)\u001b[K\rremote: Compressing objects: 100% (18/18)\u001b[K\rremote: Compressing objects: 100% (18/18), done.\u001b[K\n",
            "remote: Total 20 (delta 5), reused 0 (delta 0), pack-reused 0\u001b[K\n",
            "Unpacking objects:   5% (1/20)   \rUnpacking objects:  10% (2/20)   \rUnpacking objects:  15% (3/20)   \rUnpacking objects:  20% (4/20)   \rUnpacking objects:  25% (5/20)   \rUnpacking objects:  30% (6/20)   \rUnpacking objects:  35% (7/20)   \rUnpacking objects:  40% (8/20)   \rUnpacking objects:  45% (9/20)   \rUnpacking objects:  50% (10/20)   \rUnpacking objects:  55% (11/20)   \rUnpacking objects:  60% (12/20)   \rUnpacking objects:  65% (13/20)   \rUnpacking objects:  70% (14/20)   \rUnpacking objects:  75% (15/20)   \rUnpacking objects:  80% (16/20)   \rUnpacking objects:  85% (17/20)   \rUnpacking objects:  90% (18/20)   \rUnpacking objects:  95% (19/20)   \rUnpacking objects: 100% (20/20)   \rUnpacking objects: 100% (20/20), done.\n",
            "/content/Raianars_July_2020/ANN_read_matrix/Raianars_July_2020/Raianars_July_2020/ANN_read_matrix\n"
          ],
          "name": "stdout"
        }
      ]
    },
    {
      "cell_type": "code",
      "metadata": {
        "id": "N2lyPfivzwGv",
        "colab_type": "code",
        "colab": {
          "base_uri": "https://localhost:8080/",
          "height": 1000
        },
        "outputId": "916b0bc8-c5d6-4874-c318-e24ad3e6b5d6"
      },
      "source": [
        "ANN_F=pd.read_csv('ANN_INSIGHT_Valor_F.csv')\n",
        "ANN_CR=pd.read_csv('ANN_INSIGHT_CR.csv')\n",
        "syn0_F,syn1_F,X_max_F,X_min_F=Go2Ann.GetMatriz(ANN_F)\n",
        "syn0_CR,syn1_CR,X_max_CR,X_min_CR=Go2Ann.GetMatriz(ANN_CR)\n",
        "fields = ['DI RELATIVO','FRAC Its','Fo','CRo']\n",
        "\n",
        "#TOTAL=7*dim*its*ITE\n",
        "TOTAL=10*dim*its*ITE\n",
        "TOTAL=int(TOTAL/2)   # CONFERIR SE ESTE EH O MELHOR LUGAR\n",
        "\n",
        "dimensions=len(MAX)\n",
        "start_time = time.time() #INICIALIZA CONTAGEM DO TEMPO\n",
        "\n",
        "MAX_P=np.zeros(ITE) # ATENCAO para variar F e Cr MAX_P passa a ser 3 vezes maior\n",
        "MIN_P=np.zeros(ITE) # ATENCAO para variar F e Cr MIN_P passa a ser 3 vezes maior\n",
        "\n",
        "for i in range(dim):\n",
        "  MAX_P[i]=MAX[i] \n",
        "  MIN_P[i]=MIN[i]\n",
        "\n",
        "rodadas=1\n",
        "for i in range(rodadas):\n",
        "  SOMA=0\n",
        "  pop = np.random.rand(NPAR, dimensions)\n",
        "  diff=np.zeros(PAR)\n",
        "  for ii in range(PAR):\n",
        "    diff[ii] = MAX[ii]-MIN[ii]\n",
        "  X = MIN + pop * diff\n",
        "    \n",
        "  PONTOS=ITE # DIVISOES DA POPULACAO\n",
        "start_time = time.time()\n",
        "BEST_AGENTS=[]\n",
        "MAT_stat=[]\n",
        "for i in range(RUNS):\n",
        "    MAT=[] \n",
        "    mut=Fi\n",
        "    crossp=CRi\n",
        "    SOMA=0\n",
        "    SOMAf=0\n",
        "    start_ite = time.time()\n",
        "    delta_time=(start_ite-start_time)/60\n",
        "    print('ite=',i,'time=',delta_time)\n",
        "    pop = np.random.rand(NPAR, dim)\n",
        "    diff=np.zeros(PAR)\n",
        "    for ii in range(PAR):\n",
        "      diff[ii] = MAX[ii]-MIN[ii]\n",
        "    X = MIN + pop * diff\n",
        "    Xf = MIN + pop * diff\n",
        "    \n",
        "    DIo=1e99\n",
        "  \n",
        "    CRo=crossp;Fo=mut;\n",
        "    Fitness = np.asarray([Fun(ind) for ind in X])\n",
        "\n",
        "    XY,BEST_XY,BESTo,FOBESTo=AvaliaX(X,Fitness)\n",
        "    nrow,ncol=X.shape\n",
        "\n",
        "    QUANT=17;MAT_INDo=np.zeros((1,QUANT)); # quantos indices esta fazendo\n",
        "    MAT_INDo[0,5]=nrow  # VALOR NP\n",
        "    MAT_INDo[0,6]=Fo    # VALOR Fo   \n",
        "    MAT_INDo[0,7]=CRo   # VALOR CRo\n",
        "  \n",
        "    MAT_INDo=GeraIndices(X,BESTo,FOBESTo,DIo,MAT_INDo,SOMA,TOTAL,syn0_F,\n",
        "                        syn1_F,X_max_F,X_min_F,syn0_CR,syn1_CR,X_max_CR,\n",
        "                        X_min_CR,Fc,fields,Fun)\n",
        "  \n",
        "    DIo=np.copy(MAT_INDo[0,0])\n",
        "    MAT_INDo[0,15]=Fo    # VALOR Fo   \n",
        "    MAT_INDo[0,16]=CRo   # VALOR CRo\n",
        "    #ind_crossp=ITE-1\n",
        "\n",
        "    \n",
        "    for k in range(ITE):\n",
        "      X,BEST,FOBEST,XY,BEST_XY,SOMA= de_soma_Insight.de(MAX,MIN, mut, crossp,NPAR,its,Fun,X,SOMA,TOTAL)\n",
        "      #Xf,BESTf,FOBESTf,XYf,BEST_XYf,SOMAf= de_soma_Insight.de(MAX,MIN, Fi, CRi, NPAR,its,Fun,Xf,SOMAf,TOTAL)\n",
        "\n",
        "      \n",
        "      MAT_IND=GeraIndices(X,BESTo,FOBESTo,DIo,MAT_INDo,SOMA,TOTAL,syn0_F,\n",
        "                          syn1_F,X_max_F,X_min_F,syn0_CR,syn1_CR,X_max_CR,\n",
        "                          X_min_CR,Fc,fields,Fun)\n",
        "    \n",
        "      BESTo=np.copy(BEST);FOBESTo=np.copy(FOBEST);\n",
        "      MAT.append(MAT_IND.ravel())\n",
        "    \n",
        "      MAT_INDo[0,6]=MAT_IND[0,15]   # VALOR Fo   \n",
        "      MAT_INDo[0,7]=MAT_IND[0,16]   # VALOR CRo\n",
        "      mut=MAT_IND[0,15]\n",
        "      crossp=MAT_IND[0,16]\n",
        "\n",
        "      Fitness = np.asarray([Fun(ind) for ind in X])\n",
        "      #Fitnessf = np.asarray([Fun(ind) for ind in Xf])\n",
        "      Maior=np.argmax(Fitness)\n",
        "      #Maiorf=np.argmax(Fitnessf)\n",
        "      Menor=np.argmin(Fitness)\n",
        "      #Menorf=np.argmin(Fitnessf)\n",
        "\n",
        "      #X[Maior,:]=np.copy(Xf[Menorf,:])\n",
        "      #Xf[Maiorf,:]=np.copy(X[Menor,:])\n",
        "      \n",
        "    BEST_AGENTS.append(BEST_XY)\n",
        "    MAT_stat.append(MAT)\n",
        "    #print(\"GlobalParam e Solucao:\", BEST,\"Funcao=\",FOBEST)\n",
        "    \n",
        "############################## Cálculo dos Parâmetros de Avaliação   \n",
        "TIME = (time.time() - start_time)/RUNS\n",
        "BEST_AGENTS=np.array(BEST_AGENTS)\n",
        "BEST_AGENTS_ST= BEST_AGENTS[BEST_AGENTS[:,-1].argsort()]\n",
        "BEST=BEST_AGENTS_ST[0]\n",
        "WORSE=BEST_AGENTS_ST[-1]\n",
        "MEAN=np.mean(BEST_AGENTS,axis=0)\n",
        "MAXFO=BEST_AGENTS[:,-1].max()\n",
        "MINFO=BEST_AGENTS[:,-1].min()\n",
        "STD=BEST_AGENTS[:,-1].std()\n",
        "\n",
        "print()\n",
        "nome='_ANN_Div3x4_Fo-'+str(Fi)+'_CRo-'+str(CRi)+'_D-'+str(dim)+'_Interv-'+str(ITE)\n",
        "print('DE_POP_VAR_F_CR','TOTAL=',TOTAL,'Iterações=',ITE*its,'Dim=', PAR,\"Min/Max=\",MIN[0],\"/\",MAX[0],'_',Fun.__name__)\n",
        "print(nome, '\\n')\n",
        "print('MÉDIA: ',MEAN[-1])\n",
        "print('MIN __:',MINFO)\n",
        "print('MAX__: ',MAXFO)\n",
        "print('STD __:',STD)\n",
        "print(\"Tempo Médio= %.3f segundos ---\" % (TIME))\n",
        "print(RUNS,'Rodadas') \n",
        "print()\n",
        "print('BEST: ',BEST)"
      ],
      "execution_count": 26,
      "outputs": [
        {
          "output_type": "stream",
          "text": [
            "ite= 0 time= 5.90364138285319e-05\n",
            "ite= 1 time= 2.3141153971354167\n",
            "ite= 2 time= 4.532396137714386\n",
            "ite= 3 time= 6.742680251598358\n",
            "ite= 4 time= 8.958232017358144\n",
            "ite= 5 time= 11.26270794471105\n",
            "ite= 6 time= 13.482753018538157\n",
            "ite= 7 time= 15.696233836809794\n",
            "ite= 8 time= 17.9098761677742\n",
            "ite= 9 time= 20.14231533606847\n",
            "ite= 10 time= 22.45433786312739\n",
            "ite= 11 time= 24.668286565939585\n",
            "ite= 12 time= 26.877018185456595\n",
            "ite= 13 time= 29.115821544329325\n",
            "ite= 14 time= 31.359406757354737\n",
            "ite= 15 time= 33.63491214116414\n",
            "ite= 16 time= 35.87442415555318\n",
            "ite= 17 time= 38.11058115164439\n",
            "ite= 18 time= 40.35241032441457\n",
            "ite= 19 time= 42.604307091236116\n",
            "ite= 20 time= 44.83827023903529\n",
            "ite= 21 time= 47.07543325821559\n",
            "ite= 22 time= 49.32482570409775\n",
            "ite= 23 time= 51.57849791049957\n",
            "ite= 24 time= 53.81320072809855\n",
            "ite= 25 time= 56.05956899722417\n",
            "ite= 26 time= 58.29471553961436\n",
            "ite= 27 time= 60.540140104293826\n",
            "ite= 28 time= 62.76628430684408\n",
            "ite= 29 time= 65.0120910167694\n",
            "ite= 30 time= 67.24425939718883\n",
            "ite= 31 time= 69.48973201115926\n",
            "ite= 32 time= 71.71625239849091\n",
            "ite= 33 time= 73.95957986116409\n",
            "ite= 34 time= 76.19415508508682\n",
            "ite= 35 time= 78.45114901860555\n",
            "ite= 36 time= 80.67726293007533\n",
            "ite= 37 time= 83.00843043327332\n",
            "ite= 38 time= 85.23349721034369\n",
            "ite= 39 time= 87.48353364467621\n",
            "ite= 40 time= 89.71994951963424\n",
            "ite= 41 time= 91.95007937749227\n",
            "ite= 42 time= 94.2591410199801\n",
            "ite= 43 time= 96.51109814246496\n",
            "ite= 44 time= 98.74218754768371\n",
            "ite= 45 time= 100.97186135053634\n",
            "ite= 46 time= 103.27396341164906\n",
            "ite= 47 time= 105.52233370145161\n",
            "ite= 48 time= 107.75076358318329\n",
            "ite= 49 time= 109.97892291545868\n",
            "\n",
            "DE_POP_VAR_F_CR TOTAL= 300000 Iterações= 2000 Dim= 30 Min/Max= -32 / 32 _ Ackley\n",
            "_ANN_Div3x4_Fo-0.25_CRo-0.25_D-30_Interv-2000 \n",
            "\n",
            "MÉDIA:  1.2096990076315705e-14\n",
            "MIN __: 7.549516567451064e-15\n",
            "MAX__:  3.241851231905457e-14\n",
            "STD __: 8.102679936512478e-15\n",
            "Tempo Médio= 134.688 segundos ---\n",
            "50 Rodadas\n",
            "\n",
            "BEST:  [-2.38610415e-15  2.69573156e-15  1.08663348e-15  4.72538990e-16\n",
            "  2.36170247e-15 -2.13617082e-15  3.92471833e-15  2.25907217e-15\n",
            " -1.49725727e-15  1.77285960e-15 -1.15503804e-15 -5.12041533e-16\n",
            "  7.55865942e-17  3.33842072e-15 -2.34202062e-15 -1.10126289e-15\n",
            "  6.28269556e-16 -2.23746002e-15  1.62178049e-15 -2.60758447e-15\n",
            "  2.91545846e-15  2.68253712e-15  4.60944318e-15  3.32371340e-15\n",
            " -2.95174448e-15 -1.14999638e-15 -3.38086239e-15  2.79298975e-15\n",
            "  2.97001401e-16  7.26990470e-16  7.54951657e-15]\n"
          ],
          "name": "stdout"
        }
      ]
    },
    {
      "cell_type": "code",
      "metadata": {
        "id": "egkWFpw6GiNo",
        "colab_type": "code",
        "colab": {
          "base_uri": "https://localhost:8080/",
          "height": 1000
        },
        "outputId": "e7148f5d-4aea-4cb7-c7db-f664e7504d1b"
      },
      "source": [
        "#DE_ tradicional\n",
        "\n",
        "!git clone https://github.com/ucfilho/Raianars_July_2020 #clonar do Github\n",
        "%cd Raianars_July_2020\n",
        "\n",
        "mut=0.5\n",
        "crossp=0.5\n",
        "\n",
        "SOMA=0\n",
        "start_time = time.time()\n",
        "BEST_AGENTS=[]\n",
        "MAT_stat=[]\n",
        "\n",
        "for i in range(RUNS):\n",
        "\n",
        "    pop = np.random.rand(NPAR, dim)\n",
        "    diff=np.zeros(dim)\n",
        "    for ii in range(dim):\n",
        "      diff[ii] = MAX[ii]-MIN[ii]\n",
        "    X = MIN + pop * diff\n",
        "\n",
        "    SOMA=0\n",
        "\n",
        "    for k in range(ITE):\n",
        "      X,BEST,FOBEST,XY,BEST_XY,SOMA= de_soma_Insight.de(MAX,MIN, mut, crossp,dim,its,Fun,X,SOMA,TOTAL)\n",
        "\n",
        "    start_run = (time.time()-start_time)/60\n",
        "    print('run=',i,'total=50','Fobj=',FOBEST,'Time=',start_run)  \n",
        "    BEST_AGENTS.append(BEST_XY)"
      ],
      "execution_count": 27,
      "outputs": [
        {
          "output_type": "stream",
          "text": [
            "Cloning into 'Raianars_July_2020'...\n",
            "remote: Enumerating objects: 15, done.\u001b[K\n",
            "remote: Counting objects:   6% (1/15)\u001b[K\rremote: Counting objects:  13% (2/15)\u001b[K\rremote: Counting objects:  20% (3/15)\u001b[K\rremote: Counting objects:  26% (4/15)\u001b[K\rremote: Counting objects:  33% (5/15)\u001b[K\rremote: Counting objects:  40% (6/15)\u001b[K\rremote: Counting objects:  46% (7/15)\u001b[K\rremote: Counting objects:  53% (8/15)\u001b[K\rremote: Counting objects:  60% (9/15)\u001b[K\rremote: Counting objects:  66% (10/15)\u001b[K\rremote: Counting objects:  73% (11/15)\u001b[K\rremote: Counting objects:  80% (12/15)\u001b[K\rremote: Counting objects:  86% (13/15)\u001b[K\rremote: Counting objects:  93% (14/15)\u001b[K\rremote: Counting objects: 100% (15/15)\u001b[K\rremote: Counting objects: 100% (15/15), done.\u001b[K\n",
            "remote: Compressing objects:   6% (1/15)\u001b[K\rremote: Compressing objects:  13% (2/15)\u001b[K\rremote: Compressing objects:  20% (3/15)\u001b[K\rremote: Compressing objects:  26% (4/15)\u001b[K\rremote: Compressing objects:  33% (5/15)\u001b[K\rremote: Compressing objects:  40% (6/15)\u001b[K\rremote: Compressing objects:  46% (7/15)\u001b[K\rremote: Compressing objects:  53% (8/15)\u001b[K\rremote: Compressing objects:  60% (9/15)\u001b[K\rremote: Compressing objects:  66% (10/15)\u001b[K\rremote: Compressing objects:  73% (11/15)\u001b[K\rremote: Compressing objects:  80% (12/15)\u001b[K\rremote: Compressing objects:  86% (13/15)\u001b[K\rremote: Compressing objects:  93% (14/15)\u001b[K\rremote: Compressing objects: 100% (15/15)\u001b[K\rremote: Compressing objects: 100% (15/15), done.\u001b[K\n",
            "Receiving objects:   0% (1/138)   \rReceiving objects:   1% (2/138)   \rReceiving objects:   2% (3/138)   \rReceiving objects:   3% (5/138)   \rReceiving objects:   4% (6/138)   \rReceiving objects:   5% (7/138)   \rReceiving objects:   6% (9/138)   \rReceiving objects:   7% (10/138)   \rReceiving objects:   8% (12/138)   \rReceiving objects:   9% (13/138)   \rReceiving objects:  10% (14/138)   \rReceiving objects:  11% (16/138)   \rReceiving objects:  12% (17/138)   \rReceiving objects:  13% (18/138)   \rReceiving objects:  14% (20/138)   \rReceiving objects:  15% (21/138)   \rReceiving objects:  16% (23/138)   \rReceiving objects:  17% (24/138)   \rReceiving objects:  18% (25/138)   \rReceiving objects:  19% (27/138)   \rReceiving objects:  20% (28/138)   \rReceiving objects:  21% (29/138)   \rReceiving objects:  22% (31/138)   \rReceiving objects:  23% (32/138)   \rReceiving objects:  24% (34/138)   \rReceiving objects:  25% (35/138)   \rReceiving objects:  26% (36/138)   \rReceiving objects:  27% (38/138)   \rReceiving objects:  28% (39/138)   \rReceiving objects:  29% (41/138)   \rReceiving objects:  30% (42/138)   \rReceiving objects:  31% (43/138)   \rReceiving objects:  32% (45/138)   \rReceiving objects:  33% (46/138)   \rReceiving objects:  34% (47/138)   \rReceiving objects:  35% (49/138)   \rReceiving objects:  36% (50/138)   \rReceiving objects:  37% (52/138)   \rremote: Total 138 (delta 7), reused 0 (delta 0), pack-reused 123\u001b[K\n",
            "Receiving objects:  38% (53/138)   \rReceiving objects:  39% (54/138)   \rReceiving objects:  40% (56/138)   \rReceiving objects:  41% (57/138)   \rReceiving objects:  42% (58/138)   \rReceiving objects:  43% (60/138)   \rReceiving objects:  44% (61/138)   \rReceiving objects:  45% (63/138)   \rReceiving objects:  46% (64/138)   \rReceiving objects:  47% (65/138)   \rReceiving objects:  48% (67/138)   \rReceiving objects:  49% (68/138)   \rReceiving objects:  50% (69/138)   \rReceiving objects:  51% (71/138)   \rReceiving objects:  52% (72/138)   \rReceiving objects:  53% (74/138)   \rReceiving objects:  54% (75/138)   \rReceiving objects:  55% (76/138)   \rReceiving objects:  56% (78/138)   \rReceiving objects:  57% (79/138)   \rReceiving objects:  58% (81/138)   \rReceiving objects:  59% (82/138)   \rReceiving objects:  60% (83/138)   \rReceiving objects:  61% (85/138)   \rReceiving objects:  62% (86/138)   \rReceiving objects:  63% (87/138)   \rReceiving objects:  64% (89/138)   \rReceiving objects:  65% (90/138)   \rReceiving objects:  66% (92/138)   \rReceiving objects:  67% (93/138)   \rReceiving objects:  68% (94/138)   \rReceiving objects:  69% (96/138)   \rReceiving objects:  70% (97/138)   \rReceiving objects:  71% (98/138)   \rReceiving objects:  72% (100/138)   \rReceiving objects:  73% (101/138)   \rReceiving objects:  74% (103/138)   \rReceiving objects:  75% (104/138)   \rReceiving objects:  76% (105/138)   \rReceiving objects:  77% (107/138)   \rReceiving objects:  78% (108/138)   \rReceiving objects:  79% (110/138)   \rReceiving objects:  80% (111/138)   \rReceiving objects:  81% (112/138)   \rReceiving objects:  82% (114/138)   \rReceiving objects:  83% (115/138)   \rReceiving objects:  84% (116/138)   \rReceiving objects:  85% (118/138)   \rReceiving objects:  86% (119/138)   \rReceiving objects:  87% (121/138)   \rReceiving objects:  88% (122/138)   \rReceiving objects:  89% (123/138)   \rReceiving objects:  90% (125/138)   \rReceiving objects:  91% (126/138)   \rReceiving objects:  92% (127/138)   \rReceiving objects:  93% (129/138)   \rReceiving objects:  94% (130/138)   \rReceiving objects:  95% (132/138)   \rReceiving objects:  96% (133/138)   \rReceiving objects:  97% (134/138)   \rReceiving objects:  98% (136/138)   \rReceiving objects:  99% (137/138)   \rReceiving objects: 100% (138/138)   \rReceiving objects: 100% (138/138), 201.58 KiB | 6.72 MiB/s, done.\n",
            "Resolving deltas:   0% (0/69)   \rResolving deltas:  10% (7/69)   \rResolving deltas:  57% (40/69)   \rResolving deltas:  72% (50/69)   \rResolving deltas:  76% (53/69)   \rResolving deltas:  78% (54/69)   \rResolving deltas:  86% (60/69)   \rResolving deltas:  97% (67/69)   \rResolving deltas:  98% (68/69)   \rResolving deltas: 100% (69/69)   \rResolving deltas: 100% (69/69), done.\n",
            "/content/Raianars_July_2020/ANN_read_matrix/Raianars_July_2020/Raianars_July_2020/ANN_read_matrix/Raianars_July_2020\n",
            "run= 0 total=50 Fobj= 7.549516567451064e-15 Time= 0.3365307609240214\n",
            "run= 1 total=50 Fobj= 1.4654943925052066e-14 Time= 0.7497688810030619\n",
            "run= 2 total=50 Fobj= 1.4654943925052066e-14 Time= 1.0854292154312133\n",
            "run= 3 total=50 Fobj= 1.1102230246251565e-14 Time= 1.4256054719289144\n",
            "run= 4 total=50 Fobj= 7.549516567451064e-15 Time= 1.7623560905456543\n",
            "run= 5 total=50 Fobj= 1.1102230246251565e-14 Time= 2.09786639213562\n",
            "run= 6 total=50 Fobj= 7.549516567451064e-15 Time= 2.4330771803855895\n",
            "run= 7 total=50 Fobj= 7.549516567451064e-15 Time= 2.767526431878408\n",
            "run= 8 total=50 Fobj= 7.549516567451064e-15 Time= 3.1047122836112977\n",
            "run= 9 total=50 Fobj= 1.1102230246251565e-14 Time= 3.439347592989604\n",
            "run= 10 total=50 Fobj= 1.1102230246251565e-14 Time= 3.7739634195963543\n",
            "run= 11 total=50 Fobj= 1.1102230246251565e-14 Time= 4.110762969652812\n",
            "run= 12 total=50 Fobj= 1.1102230246251565e-14 Time= 4.447049486637115\n",
            "run= 13 total=50 Fobj= 7.549516567451064e-15 Time= 4.781801418463389\n",
            "run= 14 total=50 Fobj= 7.549516567451064e-15 Time= 5.116421588261923\n",
            "run= 15 total=50 Fobj= 7.549516567451064e-15 Time= 5.451125804583231\n",
            "run= 16 total=50 Fobj= 7.549516567451064e-15 Time= 5.785351399580637\n",
            "run= 17 total=50 Fobj= 1.1102230246251565e-14 Time= 6.12087592681249\n",
            "run= 18 total=50 Fobj= 1.1102230246251565e-14 Time= 6.4560553431510925\n",
            "run= 19 total=50 Fobj= 7.549516567451064e-15 Time= 6.796595259507497\n",
            "run= 20 total=50 Fobj= 1.1102230246251565e-14 Time= 7.134156457583109\n",
            "run= 21 total=50 Fobj= 1.1102230246251565e-14 Time= 7.470273665587107\n",
            "run= 22 total=50 Fobj= 1.1102230246251565e-14 Time= 7.804684591293335\n",
            "run= 23 total=50 Fobj= 1.1102230246251565e-14 Time= 8.141173760096232\n",
            "run= 24 total=50 Fobj= 1.1102230246251565e-14 Time= 8.47650404771169\n",
            "run= 25 total=50 Fobj= 7.549516567451064e-15 Time= 8.81198673248291\n",
            "run= 26 total=50 Fobj= 7.549516567451064e-15 Time= 9.146668950716654\n",
            "run= 27 total=50 Fobj= 1.1102230246251565e-14 Time= 9.483643877506257\n",
            "run= 28 total=50 Fobj= 7.549516567451064e-15 Time= 9.819100761413575\n",
            "run= 29 total=50 Fobj= 7.549516567451064e-15 Time= 10.159738898277283\n",
            "run= 30 total=50 Fobj= 7.549516567451064e-15 Time= 10.494970405101776\n",
            "run= 31 total=50 Fobj= 7.549516567451064e-15 Time= 10.830363623301189\n",
            "run= 32 total=50 Fobj= 1.1102230246251565e-14 Time= 11.167027815183003\n",
            "run= 33 total=50 Fobj= 7.549516567451064e-15 Time= 11.502951232592265\n",
            "run= 34 total=50 Fobj= 7.549516567451064e-15 Time= 11.839313085873922\n",
            "run= 35 total=50 Fobj= 1.1102230246251565e-14 Time= 12.178803022702535\n",
            "run= 36 total=50 Fobj= 1.1102230246251565e-14 Time= 12.514064705371856\n",
            "run= 37 total=50 Fobj= 7.549516567451064e-15 Time= 12.848457765579223\n",
            "run= 38 total=50 Fobj= 7.549516567451064e-15 Time= 13.184767019748687\n",
            "run= 39 total=50 Fobj= 1.1102230246251565e-14 Time= 13.522153878211975\n",
            "run= 40 total=50 Fobj= 7.549516567451064e-15 Time= 13.858265046278635\n",
            "run= 41 total=50 Fobj= 7.549516567451064e-15 Time= 14.19275891383489\n",
            "run= 42 total=50 Fobj= 1.1102230246251565e-14 Time= 14.527612241109212\n",
            "run= 43 total=50 Fobj= 7.549516567451064e-15 Time= 14.86368669271469\n",
            "run= 44 total=50 Fobj= 1.1102230246251565e-14 Time= 15.19970251719157\n",
            "run= 45 total=50 Fobj= 7.549516567451064e-15 Time= 15.53573360045751\n",
            "run= 46 total=50 Fobj= 7.549516567451064e-15 Time= 15.872185230255127\n",
            "run= 47 total=50 Fobj= 7.549516567451064e-15 Time= 16.209234766165416\n",
            "run= 48 total=50 Fobj= 7.549516567451064e-15 Time= 16.5454368074735\n",
            "run= 49 total=50 Fobj= 7.549516567451064e-15 Time= 16.881170129776002\n"
          ],
          "name": "stdout"
        }
      ]
    },
    {
      "cell_type": "code",
      "metadata": {
        "id": "3W8R6htAHO63",
        "colab_type": "code",
        "colab": {
          "base_uri": "https://localhost:8080/",
          "height": 323
        },
        "outputId": "948a358d-2a4c-418a-c21b-4ab3b613b986"
      },
      "source": [
        "############################## Cálculo dos Parâmetros de Avaliação   \n",
        "TIME = (time.time() - start_time)/RUNS\n",
        "BEST_AGENTS=np.array(BEST_AGENTS)\n",
        "BEST_AGENTS_ST= BEST_AGENTS[BEST_AGENTS[:,-1].argsort()]\n",
        "BEST=BEST_AGENTS_ST[0]\n",
        "WORSE=BEST_AGENTS_ST[-1]\n",
        "MEAN=np.mean(BEST_AGENTS,axis=0)\n",
        "MAXFO=BEST_AGENTS[:,-1].max()\n",
        "MINFO=BEST_AGENTS[:,-1].min()\n",
        "STD=BEST_AGENTS[:,-1].std()\n",
        "\n",
        "nome='DE_STAT_Fo-'+str(mut)+'_CRo-'+str(crossp)+'_D-'+str(dim)+'_Interv-'+str(ITE)\n",
        "print('DE_','TOTAL=',TOTAL,'Iterações=',ITE*its,'Dim=', dim,\"Min/Max=\",MIN[0],\"/\",MAX[0],'_',Fun.__name__)\n",
        "print(nome, '\\n')\n",
        "#print('BEST: ',BEST)\n",
        "#print('MÉDIA: ',MEAN)\n",
        "print('MÉDIA: ',MEAN[-1])\n",
        "print('MIN __:',MINFO)\n",
        "print('MAX__: ',MAXFO)\n",
        "print('STD __:',STD)\n",
        "print(\"Tempo Médio= %.3f segundos ---\" % (TIME))\n",
        "print(RUNS,'Rodadas') \n",
        "print()\n",
        "print('BEST: ',BEST)"
      ],
      "execution_count": 28,
      "outputs": [
        {
          "output_type": "stream",
          "text": [
            "DE_ TOTAL= 300000 Iterações= 2000 Dim= 30 Min/Max= -32 / 32 _ Ackley\n",
            "DE_STAT_Fo-0.5_CRo-0.5_D-30_Interv-2000 \n",
            "\n",
            "MÉDIA:  9.254819133275305e-15\n",
            "MIN __: 7.549516567451064e-15\n",
            "MAX__:  1.4654943925052066e-14\n",
            "STD __: 2.0396413581248854e-15\n",
            "Tempo Médio= 20.258 segundos ---\n",
            "50 Rodadas\n",
            "\n",
            "BEST:  [ 1.38909150e-15 -1.20522783e-15 -9.79586302e-17 -3.53359565e-15\n",
            " -1.01718393e-15 -2.38146875e-15 -1.36387770e-15 -3.82303488e-15\n",
            "  3.20580459e-17 -1.63570460e-15  4.15690706e-16 -4.32065665e-16\n",
            "  1.80025676e-15 -8.02451351e-16  2.46062967e-15 -1.72176814e-16\n",
            "  2.11556891e-15 -2.83232315e-15  3.63711435e-15  1.67330331e-15\n",
            "  1.33706337e-15  4.28588010e-15 -4.19249263e-15 -2.99282973e-15\n",
            "  7.43806194e-16 -5.74359484e-16 -2.43600707e-15 -1.47264059e-15\n",
            "  6.43879145e-15  2.16944632e-15  7.54951657e-15]\n"
          ],
          "name": "stdout"
        }
      ]
    }
  ]
}