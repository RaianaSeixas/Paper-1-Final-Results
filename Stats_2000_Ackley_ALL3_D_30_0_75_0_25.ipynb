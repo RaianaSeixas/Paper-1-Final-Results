{
  "nbformat": 4,
  "nbformat_minor": 0,
  "metadata": {
    "colab": {
      "name": "Stats_2000_Ackley_ALL3_D_30_0.75_0.25.ipynb",
      "provenance": [],
      "collapsed_sections": [],
      "include_colab_link": true
    },
    "kernelspec": {
      "name": "python3",
      "display_name": "Python 3"
    }
  },
  "cells": [
    {
      "cell_type": "markdown",
      "metadata": {
        "id": "view-in-github",
        "colab_type": "text"
      },
      "source": [
        "<a href=\"https://colab.research.google.com/github/RaianaSeixas/Paper-1-Final-Results/blob/master/Stats_2000_Ackley_ALL3_D_30_0_75_0_25.ipynb\" target=\"_parent\"><img src=\"https://colab.research.google.com/assets/colab-badge.svg\" alt=\"Open In Colab\"/></a>"
      ]
    },
    {
      "cell_type": "code",
      "metadata": {
        "id": "MC26Bm1UyUR5",
        "colab_type": "code",
        "colab": {
          "base_uri": "https://localhost:8080/",
          "height": 105
        },
        "outputId": "f6a0a8de-775b-406e-f96f-4723de492f17"
      },
      "source": [
        "!pip install pyade-python"
      ],
      "execution_count": 1,
      "outputs": [
        {
          "output_type": "stream",
          "text": [
            "Collecting pyade-python\n",
            "  Downloading https://files.pythonhosted.org/packages/02/e7/aefff90c8de0ad3ff151d51507ec65a2988b7cce9126c342746f77615d9f/pyade_python-1.1-py3-none-any.whl\n",
            "Installing collected packages: pyade-python\n",
            "Successfully installed pyade-python-1.1\n"
          ],
          "name": "stdout"
        }
      ]
    },
    {
      "cell_type": "code",
      "metadata": {
        "id": "rRwqrtCmgzdZ",
        "colab_type": "code",
        "colab": {
          "base_uri": "https://localhost:8080/",
          "height": 224
        },
        "outputId": "ff20a4f3-78e4-4b43-dbde-e945bff368e3"
      },
      "source": [
        "!pip install PyFDE"
      ],
      "execution_count": 2,
      "outputs": [
        {
          "output_type": "stream",
          "text": [
            "Collecting PyFDE\n",
            "\u001b[?25l  Downloading https://files.pythonhosted.org/packages/72/f9/87f7279554d2682e3827d39c3d3a565b2fd42f7114a779e34a601c6c5079/PyFDE-1.3.0.tar.gz (397kB)\n",
            "\r\u001b[K     |▉                               | 10kB 17.9MB/s eta 0:00:01\r\u001b[K     |█▋                              | 20kB 5.8MB/s eta 0:00:01\r\u001b[K     |██▌                             | 30kB 7.7MB/s eta 0:00:01\r\u001b[K     |███▎                            | 40kB 8.3MB/s eta 0:00:01\r\u001b[K     |████▏                           | 51kB 6.6MB/s eta 0:00:01\r\u001b[K     |█████                           | 61kB 6.9MB/s eta 0:00:01\r\u001b[K     |█████▊                          | 71kB 7.5MB/s eta 0:00:01\r\u001b[K     |██████▋                         | 81kB 8.1MB/s eta 0:00:01\r\u001b[K     |███████▍                        | 92kB 8.2MB/s eta 0:00:01\r\u001b[K     |████████▎                       | 102kB 8.7MB/s eta 0:00:01\r\u001b[K     |█████████                       | 112kB 8.7MB/s eta 0:00:01\r\u001b[K     |██████████                      | 122kB 8.7MB/s eta 0:00:01\r\u001b[K     |██████████▊                     | 133kB 8.7MB/s eta 0:00:01\r\u001b[K     |███████████▌                    | 143kB 8.7MB/s eta 0:00:01\r\u001b[K     |████████████▍                   | 153kB 8.7MB/s eta 0:00:01\r\u001b[K     |█████████████▏                  | 163kB 8.7MB/s eta 0:00:01\r\u001b[K     |██████████████                  | 174kB 8.7MB/s eta 0:00:01\r\u001b[K     |██████████████▉                 | 184kB 8.7MB/s eta 0:00:01\r\u001b[K     |███████████████▊                | 194kB 8.7MB/s eta 0:00:01\r\u001b[K     |████████████████▌               | 204kB 8.7MB/s eta 0:00:01\r\u001b[K     |█████████████████▎              | 215kB 8.7MB/s eta 0:00:01\r\u001b[K     |██████████████████▏             | 225kB 8.7MB/s eta 0:00:01\r\u001b[K     |███████████████████             | 235kB 8.7MB/s eta 0:00:01\r\u001b[K     |███████████████████▉            | 245kB 8.7MB/s eta 0:00:01\r\u001b[K     |████████████████████▋           | 256kB 8.7MB/s eta 0:00:01\r\u001b[K     |█████████████████████▌          | 266kB 8.7MB/s eta 0:00:01\r\u001b[K     |██████████████████████▎         | 276kB 8.7MB/s eta 0:00:01\r\u001b[K     |███████████████████████         | 286kB 8.7MB/s eta 0:00:01\r\u001b[K     |████████████████████████        | 296kB 8.7MB/s eta 0:00:01\r\u001b[K     |████████████████████████▊       | 307kB 8.7MB/s eta 0:00:01\r\u001b[K     |█████████████████████████▋      | 317kB 8.7MB/s eta 0:00:01\r\u001b[K     |██████████████████████████▍     | 327kB 8.7MB/s eta 0:00:01\r\u001b[K     |███████████████████████████▎    | 337kB 8.7MB/s eta 0:00:01\r\u001b[K     |████████████████████████████    | 348kB 8.7MB/s eta 0:00:01\r\u001b[K     |████████████████████████████▉   | 358kB 8.7MB/s eta 0:00:01\r\u001b[K     |█████████████████████████████▊  | 368kB 8.7MB/s eta 0:00:01\r\u001b[K     |██████████████████████████████▌ | 378kB 8.7MB/s eta 0:00:01\r\u001b[K     |███████████████████████████████▍| 389kB 8.7MB/s eta 0:00:01\r\u001b[K     |████████████████████████████████| 399kB 8.7MB/s \n",
            "\u001b[?25hRequirement already satisfied: numpy in /usr/local/lib/python3.6/dist-packages (from PyFDE) (1.18.5)\n",
            "Building wheels for collected packages: PyFDE\n",
            "  Building wheel for PyFDE (setup.py) ... \u001b[?25l\u001b[?25hdone\n",
            "  Created wheel for PyFDE: filename=PyFDE-1.3.0-cp36-cp36m-linux_x86_64.whl size=969301 sha256=ace53ccc06c3e5661d04d67b47c0dfa26fc954e0b7b8bd7b4bfa01244f1ff640\n",
            "  Stored in directory: /root/.cache/pip/wheels/7d/42/ba/abf21db37934e576c74fc2c9504b5cd97eb6a99e3dec1743c0\n",
            "Successfully built PyFDE\n",
            "Installing collected packages: PyFDE\n",
            "Successfully installed PyFDE-1.3.0\n"
          ],
          "name": "stdout"
        }
      ]
    },
    {
      "cell_type": "code",
      "metadata": {
        "id": "anFukot-ypn6",
        "colab_type": "code",
        "colab": {}
      },
      "source": [
        "import pyade.ilshade \n",
        "import pyade.sade \n",
        "import pyade.jso\n",
        "import pyade.shade\n",
        "import pyade.jade \n",
        "import pyfde\n",
        "import numpy as np\n",
        "import pandas as pd\n",
        "import time"
      ],
      "execution_count": 3,
      "outputs": []
    },
    {
      "cell_type": "code",
      "metadata": {
        "id": "6Oh714_-z1Ia",
        "colab_type": "code",
        "colab": {
          "base_uri": "https://localhost:8080/",
          "height": 153
        },
        "outputId": "8b25f3c5-085a-4c50-c7a8-01706ed39940"
      },
      "source": [
        "!git clone https://github.com/ucfilho/Raianars_July_2020 #clonar do Github\n",
        "%cd Raianars_July_2020"
      ],
      "execution_count": 4,
      "outputs": [
        {
          "output_type": "stream",
          "text": [
            "Cloning into 'Raianars_July_2020'...\n",
            "remote: Enumerating objects: 24, done.\u001b[K\n",
            "remote: Counting objects: 100% (24/24), done.\u001b[K\n",
            "remote: Compressing objects: 100% (24/24), done.\u001b[K\n",
            "remote: Total 147 (delta 12), reused 0 (delta 0), pack-reused 123\u001b[K\n",
            "Receiving objects: 100% (147/147), 204.22 KiB | 954.00 KiB/s, done.\n",
            "Resolving deltas: 100% (74/74), done.\n",
            "/content/Raianars_July_2020\n"
          ],
          "name": "stdout"
        }
      ]
    },
    {
      "cell_type": "code",
      "metadata": {
        "id": "LnzftXkky78A",
        "colab_type": "code",
        "colab": {}
      },
      "source": [
        "import Go2Ann\n",
        "import de_soma_Insight\n",
        "import de_bounds_matriz\n",
        "from AvaliaX import AvaliaX\n",
        "from GeraIndices import GeraIndices"
      ],
      "execution_count": 5,
      "outputs": []
    },
    {
      "cell_type": "code",
      "metadata": {
        "id": "HNW92728z7fR",
        "colab_type": "code",
        "colab": {}
      },
      "source": [
        "import Function\n",
        "import Go2MinMax"
      ],
      "execution_count": 6,
      "outputs": []
    },
    {
      "cell_type": "code",
      "metadata": {
        "id": "T_C-e7aH0CZH",
        "colab_type": "code",
        "colab": {}
      },
      "source": [
        "ITE=2000 #10 # PONTOS quantas vezes vai alteral NPAR \n",
        "NPAR=100 # NUMBER OF PARTICLES\n",
        "dim=30\n",
        "RUNS=50\n",
        "fchoice='Styblinskitank'  #MS\n",
        "Fun=Function.Styblinskitank\n",
        "\n",
        "MIN,MAX=Go2MinMax.Intervalo(dim,fchoice)\n",
        "bounds = [(0,0)]*dim\n",
        "\n",
        "for i in range(dim):\n",
        "  bounds[i] = (MIN[i],MAX[i])\n",
        "\n",
        "start_time = time.time() "
      ],
      "execution_count": 7,
      "outputs": []
    },
    {
      "cell_type": "code",
      "metadata": {
        "id": "Nqv5qp9yzQEw",
        "colab_type": "code",
        "colab": {}
      },
      "source": [
        "############################### INPUT INFORMATION (FRANNK)\n",
        "Fc=0.1 # fator de correcao parametros da ANN\n",
        "its=1 #10 # quantas vezes vai usar o NPAR antes de alterar de novo\n",
        "mut=0.75\n",
        "crossp=0.25\n",
        "Fi=mut;CRi=crossp;# para impressão\n",
        "PAR=len(MAX) #NUM DE PARAMETROS A SER OTIMIZADOS"
      ],
      "execution_count": 8,
      "outputs": []
    },
    {
      "cell_type": "code",
      "metadata": {
        "id": "q77YsFa82zFU",
        "colab_type": "code",
        "colab": {
          "base_uri": "https://localhost:8080/",
          "height": 306
        },
        "outputId": "c47a7eb3-4f6f-40f4-b71e-f46f1d3fdf83"
      },
      "source": [
        "# JADE\n",
        "algorithm = pyade.jso\n",
        "BEST_AGENTS=[]\n",
        "for i in range(RUNS):\n",
        "  ANSWER_AGENTS=[]\n",
        "  solver = pyfde.JADE(Fun, n_dim=dim, n_pop=NPAR, limits=bounds, minimize=True)\n",
        "  solver.p = 0.05\n",
        "  solver.c = 0.1\n",
        "  solver.cr = 0.5\n",
        "  solver.f = 0.5\n",
        "  best, fit = solver.run(n_it=ITE)\n",
        "  for x in best:\n",
        "    ANSWER_AGENTS.append(x)\n",
        "  ANSWER_AGENTS.append(fit)\n",
        "  BEST_AGENTS.append(ANSWER_AGENTS)\n",
        "BEST_AGENTS=np.array(BEST_AGENTS)\n",
        "TIME = (time.time() - start_time)/RUNS\n",
        "BEST_AGENTS=np.array(BEST_AGENTS)\n",
        "BEST_AGENTS_ST= BEST_AGENTS[BEST_AGENTS[:,-1].argsort()]\n",
        "BEST=BEST_AGENTS_ST[0]\n",
        "WORSE=BEST_AGENTS_ST[-1]\n",
        "MEAN=np.mean(BEST_AGENTS,axis=0)\n",
        "MAXFO=BEST_AGENTS[:,-1].max()\n",
        "MINFO=BEST_AGENTS[:,-1].min()\n",
        "STD=BEST_AGENTS[:,-1].std()\n",
        "nome='JADE_Fo-'+str(0)+'_CRo-'+str(0)\n",
        "print(nome,'NPAR',NPAR,'Iterações=',ITE,'Dim=',dim ,\"Min/Max=\",MIN[0],\"/\",MAX[0],'_',Fun.__name__)\n",
        "print( '\\n')\n",
        "print('MÉDIA: ',MEAN[-1])\n",
        "print('MIN __:',MINFO)\n",
        "print('MAX__: ',MAXFO)\n",
        "print('STD __:',STD)\n",
        "print(\"Tempo Médio= %.3f segundos ---\" % (TIME))\n",
        "print(RUNS,'Rodadas') \n",
        "print()\n",
        "print('BEST: ',BEST)"
      ],
      "execution_count": 9,
      "outputs": [
        {
          "output_type": "stream",
          "text": [
            "JADE_Fo-0_CRo-0 NPAR 100 Iterações= 2000 Dim= 30 Min/Max= -5 / 5 _ Styblinskitank\n",
            "\n",
            "\n",
            "MÉDIA:  2346.0116608927133\n",
            "MIN __: 2293.423066032338\n",
            "MAX__:  2349.9699422262884\n",
            "STD __: 11.323503133416112\n",
            "Tempo Médio= 3.649 segundos ---\n",
            "50 Rodadas\n",
            "\n",
            "BEST:  [  -2.90353406   -2.90353403   -2.90353404   -2.90353402   -2.90353401\n",
            "    2.74680277   -2.903534     -2.90353404   -2.90353405   -2.90353407\n",
            "   -2.90353405    2.74680276   -2.90353397   -2.90353401   -2.90353404\n",
            "   -2.903534     -2.90353401   -2.90353399   -2.90353402   -2.903534\n",
            "   -2.90353396   -2.90353406   -2.90353408   -2.90353399   -2.90353405\n",
            "   -2.90353403   -2.903534     -2.90353405   -2.90353407   -2.90353402\n",
            " 2293.42306603]\n"
          ],
          "name": "stdout"
        }
      ]
    },
    {
      "cell_type": "code",
      "metadata": {
        "id": "gXdUgSStzppX",
        "colab_type": "code",
        "colab": {}
      },
      "source": [
        "# FRANNK START HERE !!!!!"
      ],
      "execution_count": 10,
      "outputs": []
    },
    {
      "cell_type": "code",
      "metadata": {
        "id": "raWOfeJBztuj",
        "colab_type": "code",
        "colab": {
          "base_uri": "https://localhost:8080/",
          "height": 136
        },
        "outputId": "d53c7f1e-029e-4f2c-dafa-facca6af3ddd"
      },
      "source": [
        "!git clone https://github.com/ucfilho/ANN_read_matrix #clonar do Github\n",
        "%cd ANN_read_matrix"
      ],
      "execution_count": 11,
      "outputs": [
        {
          "output_type": "stream",
          "text": [
            "Cloning into 'ANN_read_matrix'...\n",
            "remote: Enumerating objects: 20, done.\u001b[K\n",
            "remote: Counting objects:   5% (1/20)\u001b[K\rremote: Counting objects:  10% (2/20)\u001b[K\rremote: Counting objects:  15% (3/20)\u001b[K\rremote: Counting objects:  20% (4/20)\u001b[K\rremote: Counting objects:  25% (5/20)\u001b[K\rremote: Counting objects:  30% (6/20)\u001b[K\rremote: Counting objects:  35% (7/20)\u001b[K\rremote: Counting objects:  40% (8/20)\u001b[K\rremote: Counting objects:  45% (9/20)\u001b[K\rremote: Counting objects:  50% (10/20)\u001b[K\rremote: Counting objects:  55% (11/20)\u001b[K\rremote: Counting objects:  60% (12/20)\u001b[K\rremote: Counting objects:  65% (13/20)\u001b[K\rremote: Counting objects:  70% (14/20)\u001b[K\rremote: Counting objects:  75% (15/20)\u001b[K\rremote: Counting objects:  80% (16/20)\u001b[K\rremote: Counting objects:  85% (17/20)\u001b[K\rremote: Counting objects:  90% (18/20)\u001b[K\rremote: Counting objects:  95% (19/20)\u001b[K\rremote: Counting objects: 100% (20/20)\u001b[K\rremote: Counting objects: 100% (20/20), done.\u001b[K\n",
            "remote: Compressing objects:   5% (1/18)\u001b[K\rremote: Compressing objects:  11% (2/18)\u001b[K\rremote: Compressing objects:  16% (3/18)\u001b[K\rremote: Compressing objects:  22% (4/18)\u001b[K\rremote: Compressing objects:  27% (5/18)\u001b[K\rremote: Compressing objects:  33% (6/18)\u001b[K\rremote: Compressing objects:  38% (7/18)\u001b[K\rremote: Compressing objects:  44% (8/18)\u001b[K\rremote: Compressing objects:  50% (9/18)\u001b[K\rremote: Compressing objects:  55% (10/18)\u001b[K\rremote: Compressing objects:  61% (11/18)\u001b[K\rremote: Compressing objects:  66% (12/18)\u001b[K\rremote: Compressing objects:  72% (13/18)\u001b[K\rremote: Compressing objects:  77% (14/18)\u001b[K\rremote: Compressing objects:  83% (15/18)\u001b[K\rremote: Compressing objects:  88% (16/18)\u001b[K\rremote: Compressing objects:  94% (17/18)\u001b[K\rremote: Compressing objects: 100% (18/18)\u001b[K\rremote: Compressing objects: 100% (18/18), done.\u001b[K\n",
            "remote: Total 20 (delta 5), reused 0 (delta 0), pack-reused 0\u001b[K\n",
            "Unpacking objects:   5% (1/20)   \rUnpacking objects:  10% (2/20)   \rUnpacking objects:  15% (3/20)   \rUnpacking objects:  20% (4/20)   \rUnpacking objects:  25% (5/20)   \rUnpacking objects:  30% (6/20)   \rUnpacking objects:  35% (7/20)   \rUnpacking objects:  40% (8/20)   \rUnpacking objects:  45% (9/20)   \rUnpacking objects:  50% (10/20)   \rUnpacking objects:  55% (11/20)   \rUnpacking objects:  60% (12/20)   \rUnpacking objects:  65% (13/20)   \rUnpacking objects:  70% (14/20)   \rUnpacking objects:  75% (15/20)   \rUnpacking objects:  80% (16/20)   \rUnpacking objects:  85% (17/20)   \rUnpacking objects:  90% (18/20)   \rUnpacking objects:  95% (19/20)   \rUnpacking objects: 100% (20/20)   \rUnpacking objects: 100% (20/20), done.\n",
            "/content/Raianars_July_2020/ANN_read_matrix\n"
          ],
          "name": "stdout"
        }
      ]
    },
    {
      "cell_type": "code",
      "metadata": {
        "id": "N2lyPfivzwGv",
        "colab_type": "code",
        "colab": {
          "base_uri": "https://localhost:8080/",
          "height": 1000
        },
        "outputId": "72864186-0de4-4409-ceb8-aa4f84e92335"
      },
      "source": [
        "ANN_F=pd.read_csv('ANN_INSIGHT_Valor_F.csv')\n",
        "ANN_CR=pd.read_csv('ANN_INSIGHT_CR.csv')\n",
        "syn0_F,syn1_F,X_max_F,X_min_F=Go2Ann.GetMatriz(ANN_F)\n",
        "syn0_CR,syn1_CR,X_max_CR,X_min_CR=Go2Ann.GetMatriz(ANN_CR)\n",
        "fields = ['DI RELATIVO','FRAC Its','Fo','CRo']\n",
        "\n",
        "#TOTAL=7*dim*its*ITE\n",
        "TOTAL=10*dim*its*ITE\n",
        "TOTAL=int(TOTAL/2)   # CONFERIR SE ESTE EH O MELHOR LUGAR\n",
        "\n",
        "dimensions=len(MAX)\n",
        "start_time = time.time() #INICIALIZA CONTAGEM DO TEMPO\n",
        "\n",
        "MAX_P=np.zeros(ITE) # ATENCAO para variar F e Cr MAX_P passa a ser 3 vezes maior\n",
        "MIN_P=np.zeros(ITE) # ATENCAO para variar F e Cr MIN_P passa a ser 3 vezes maior\n",
        "\n",
        "for i in range(dim):\n",
        "  MAX_P[i]=MAX[i] \n",
        "  MIN_P[i]=MIN[i]\n",
        "\n",
        "rodadas=1\n",
        "for i in range(rodadas):\n",
        "  SOMA=0\n",
        "  pop = np.random.rand(NPAR, dimensions)\n",
        "  diff=np.zeros(PAR)\n",
        "  for ii in range(PAR):\n",
        "    diff[ii] = MAX[ii]-MIN[ii]\n",
        "  X = MIN + pop * diff\n",
        "    \n",
        "  PONTOS=ITE # DIVISOES DA POPULACAO\n",
        "start_time = time.time()\n",
        "BEST_AGENTS=[]\n",
        "MAT_stat=[]\n",
        "for i in range(RUNS):\n",
        "    MAT=[] \n",
        "    mut=Fi\n",
        "    crossp=CRi\n",
        "    SOMA=0\n",
        "    SOMAf=0\n",
        "    start_ite = time.time()\n",
        "    delta_time=(start_ite-start_time)/60\n",
        "    print('ite=',i,'time=',delta_time)\n",
        "    pop = np.random.rand(NPAR, dim)\n",
        "    diff=np.zeros(PAR)\n",
        "    for ii in range(PAR):\n",
        "      diff[ii] = MAX[ii]-MIN[ii]\n",
        "    X = MIN + pop * diff\n",
        "    Xf = MIN + pop * diff\n",
        "    \n",
        "    DIo=1e99\n",
        "  \n",
        "    CRo=crossp;Fo=mut;\n",
        "    Fitness = np.asarray([Fun(ind) for ind in X])\n",
        "\n",
        "    XY,BEST_XY,BESTo,FOBESTo=AvaliaX(X,Fitness)\n",
        "    nrow,ncol=X.shape\n",
        "\n",
        "    QUANT=17;MAT_INDo=np.zeros((1,QUANT)); # quantos indices esta fazendo\n",
        "    MAT_INDo[0,5]=nrow  # VALOR NP\n",
        "    MAT_INDo[0,6]=Fo    # VALOR Fo   \n",
        "    MAT_INDo[0,7]=CRo   # VALOR CRo\n",
        "  \n",
        "    MAT_INDo=GeraIndices(X,BESTo,FOBESTo,DIo,MAT_INDo,SOMA,TOTAL,syn0_F,\n",
        "                        syn1_F,X_max_F,X_min_F,syn0_CR,syn1_CR,X_max_CR,\n",
        "                        X_min_CR,Fc,fields,Fun)\n",
        "  \n",
        "    DIo=np.copy(MAT_INDo[0,0])\n",
        "    MAT_INDo[0,15]=Fo    # VALOR Fo   \n",
        "    MAT_INDo[0,16]=CRo   # VALOR CRo\n",
        "    #ind_crossp=ITE-1\n",
        "\n",
        "    \n",
        "    for k in range(ITE):\n",
        "      X,BEST,FOBEST,XY,BEST_XY,SOMA= de_soma_Insight.de(MAX,MIN, mut, crossp,NPAR,its,Fun,X,SOMA,TOTAL)\n",
        "      #Xf,BESTf,FOBESTf,XYf,BEST_XYf,SOMAf= de_soma_Insight.de(MAX,MIN, Fi, CRi, NPAR,its,Fun,Xf,SOMAf,TOTAL)\n",
        "\n",
        "      \n",
        "      MAT_IND=GeraIndices(X,BESTo,FOBESTo,DIo,MAT_INDo,SOMA,TOTAL,syn0_F,\n",
        "                          syn1_F,X_max_F,X_min_F,syn0_CR,syn1_CR,X_max_CR,\n",
        "                          X_min_CR,Fc,fields,Fun)\n",
        "    \n",
        "      BESTo=np.copy(BEST);FOBESTo=np.copy(FOBEST);\n",
        "      MAT.append(MAT_IND.ravel())\n",
        "    \n",
        "      MAT_INDo[0,6]=MAT_IND[0,15]   # VALOR Fo   \n",
        "      MAT_INDo[0,7]=MAT_IND[0,16]   # VALOR CRo\n",
        "      mut=MAT_IND[0,15]\n",
        "      crossp=MAT_IND[0,16]\n",
        "\n",
        "      Fitness = np.asarray([Fun(ind) for ind in X])\n",
        "      #Fitnessf = np.asarray([Fun(ind) for ind in Xf])\n",
        "      Maior=np.argmax(Fitness)\n",
        "      #Maiorf=np.argmax(Fitnessf)\n",
        "      Menor=np.argmin(Fitness)\n",
        "      #Menorf=np.argmin(Fitnessf)\n",
        "\n",
        "      #X[Maior,:]=np.copy(Xf[Menorf,:])\n",
        "      #Xf[Maiorf,:]=np.copy(X[Menor,:])\n",
        "      \n",
        "    BEST_AGENTS.append(BEST_XY)\n",
        "    MAT_stat.append(MAT)\n",
        "    #print(\"GlobalParam e Solucao:\", BEST,\"Funcao=\",FOBEST)\n",
        "    \n",
        "############################## Cálculo dos Parâmetros de Avaliação   \n",
        "TIME = (time.time() - start_time)/RUNS\n",
        "BEST_AGENTS=np.array(BEST_AGENTS)\n",
        "BEST_AGENTS_ST= BEST_AGENTS[BEST_AGENTS[:,-1].argsort()]\n",
        "BEST=BEST_AGENTS_ST[0]\n",
        "WORSE=BEST_AGENTS_ST[-1]\n",
        "MEAN=np.mean(BEST_AGENTS,axis=0)\n",
        "MAXFO=BEST_AGENTS[:,-1].max()\n",
        "MINFO=BEST_AGENTS[:,-1].min()\n",
        "STD=BEST_AGENTS[:,-1].std()\n",
        "\n",
        "print()\n",
        "nome='_ANN_Div3x4_Fo-'+str(Fi)+'_CRo-'+str(CRi)+'_D-'+str(dim)+'_Interv-'+str(ITE)\n",
        "print('DE_POP_VAR_F_CR','TOTAL=',TOTAL,'Iterações=',ITE*its,'Dim=', PAR,\"Min/Max=\",MIN[0],\"/\",MAX[0],'_',Fun.__name__)\n",
        "print(nome, '\\n')\n",
        "print('MÉDIA: ',MEAN[-1])\n",
        "print('MIN __:',MINFO)\n",
        "print('MAX__: ',MAXFO)\n",
        "print('STD __:',STD)\n",
        "print(\"Tempo Médio= %.3f segundos ---\" % (TIME))\n",
        "print(RUNS,'Rodadas') \n",
        "print()\n",
        "print('BEST: ',BEST)"
      ],
      "execution_count": 12,
      "outputs": [
        {
          "output_type": "stream",
          "text": [
            "ite= 0 time= 7.387002309163412e-06\n",
            "ite= 1 time= 3.022773818174998\n",
            "ite= 2 time= 6.024676585197449\n",
            "ite= 3 time= 9.010120471318563\n",
            "ite= 4 time= 12.018209787209829\n",
            "ite= 5 time= 15.033452073733011\n",
            "ite= 6 time= 18.089429545402528\n",
            "ite= 7 time= 21.09969885746638\n",
            "ite= 8 time= 24.094700141747794\n",
            "ite= 9 time= 27.151707184314727\n",
            "ite= 10 time= 30.157419248421988\n",
            "ite= 11 time= 33.18647459745407\n",
            "ite= 12 time= 36.20641587177912\n",
            "ite= 13 time= 39.24428902864456\n",
            "ite= 14 time= 42.257218197981516\n",
            "ite= 15 time= 45.23704792261124\n",
            "ite= 16 time= 48.27555141448975\n",
            "ite= 17 time= 51.25165436665217\n",
            "ite= 18 time= 54.244474267959596\n",
            "ite= 19 time= 57.22878158092499\n",
            "ite= 20 time= 60.21443175077438\n",
            "ite= 21 time= 63.24111137390137\n",
            "ite= 22 time= 66.24648489952088\n",
            "ite= 23 time= 69.25045441389084\n",
            "ite= 24 time= 72.26976003249486\n",
            "ite= 25 time= 75.3033058643341\n",
            "ite= 26 time= 78.28167551755905\n",
            "ite= 27 time= 81.2887431383133\n",
            "ite= 28 time= 84.35716300010681\n",
            "ite= 29 time= 87.3552381237348\n",
            "ite= 30 time= 90.37264062166214\n",
            "ite= 31 time= 93.39355678160986\n",
            "ite= 32 time= 96.42936544418335\n",
            "ite= 33 time= 99.44267028570175\n",
            "ite= 34 time= 102.45020646651587\n",
            "ite= 35 time= 105.4809498945872\n",
            "ite= 36 time= 108.48922063906987\n",
            "ite= 37 time= 111.50708696047465\n",
            "ite= 38 time= 114.49462991158167\n",
            "ite= 39 time= 117.47229900757472\n",
            "ite= 40 time= 120.4967316587766\n",
            "ite= 41 time= 123.51101674636205\n",
            "ite= 42 time= 126.48815542856852\n",
            "ite= 43 time= 129.49828990300497\n",
            "ite= 44 time= 132.49813412030537\n",
            "ite= 45 time= 135.5259912053744\n",
            "ite= 46 time= 138.50901780525842\n",
            "ite= 47 time= 141.51882336537042\n",
            "ite= 48 time= 144.56206437746684\n",
            "ite= 49 time= 147.5419793009758\n",
            "\n",
            "DE_POP_VAR_F_CR TOTAL= 300000 Iterações= 2000 Dim= 30 Min/Max= -5 / 5 _ Styblinskitank\n",
            "_ANN_Div3x4_Fo-0.75_CRo-0.25_D-30_Interv-2000 \n",
            "\n",
            "MÉDIA:  -2349.9699422262893\n",
            "MIN __: -2349.9699422262884\n",
            "MAX__:  -2349.9699422262865\n",
            "STD __: 5.532240293449121e-13\n",
            "Tempo Médio= 180.677 segundos ---\n",
            "50 Rodadas\n",
            "\n",
            "BEST:  [   -2.90353404    -2.90353404    -2.90353405    -2.90353401\n",
            "    -2.90353398    -2.90353402    -2.90353402    -2.90353401\n",
            "    -2.90353401    -2.903534      -2.90353402    -2.903534\n",
            "    -2.90353402    -2.90353405    -2.90353403    -2.90353403\n",
            "    -2.90353402    -2.90353407    -2.90353401    -2.90353403\n",
            "    -2.90353401    -2.90353403    -2.90353397    -2.903534\n",
            "    -2.90353404    -2.90353399    -2.90353403    -2.90353401\n",
            "    -2.90353398    -2.903534   -2349.96994223]\n"
          ],
          "name": "stdout"
        }
      ]
    },
    {
      "cell_type": "code",
      "metadata": {
        "id": "egkWFpw6GiNo",
        "colab_type": "code",
        "colab": {
          "base_uri": "https://localhost:8080/",
          "height": 1000
        },
        "outputId": "62bc26e6-c6fc-40cc-ce78-3c9ad3220aa3"
      },
      "source": [
        "#DE_ tradicional\n",
        "\n",
        "!git clone https://github.com/ucfilho/Raianars_July_2020 #clonar do Github\n",
        "%cd Raianars_July_2020\n",
        "\n",
        "mut=0.5\n",
        "crossp=0.5\n",
        "\n",
        "SOMA=0\n",
        "start_time = time.time()\n",
        "BEST_AGENTS=[]\n",
        "MAT_stat=[]\n",
        "\n",
        "for i in range(RUNS):\n",
        "\n",
        "    pop = np.random.rand(NPAR, dim)\n",
        "    diff=np.zeros(dim)\n",
        "    for ii in range(dim):\n",
        "      diff[ii] = MAX[ii]-MIN[ii]\n",
        "    X = MIN + pop * diff\n",
        "\n",
        "    SOMA=0\n",
        "\n",
        "    for k in range(ITE):\n",
        "      X,BEST,FOBEST,XY,BEST_XY,SOMA= de_soma_Insight.de(MAX,MIN, mut, crossp,dim,its,Fun,X,SOMA,TOTAL)\n",
        "\n",
        "    start_run = (time.time()-start_time)/60\n",
        "    print('run=',i,'total=50','Fobj=',FOBEST,'Time=',start_run)  \n",
        "    BEST_AGENTS.append(BEST_XY)"
      ],
      "execution_count": 13,
      "outputs": [
        {
          "output_type": "stream",
          "text": [
            "Cloning into 'Raianars_July_2020'...\n",
            "remote: Enumerating objects: 24, done.\u001b[K\n",
            "remote: Counting objects: 100% (24/24), done.\u001b[K\n",
            "remote: Compressing objects: 100% (24/24), done.\u001b[K\n",
            "remote: Total 147 (delta 12), reused 0 (delta 0), pack-reused 123\u001b[K\n",
            "Receiving objects: 100% (147/147), 204.22 KiB | 850.00 KiB/s, done.\n",
            "Resolving deltas: 100% (74/74), done.\n",
            "/content/Raianars_July_2020/ANN_read_matrix/Raianars_July_2020\n",
            "run= 0 total=50 Fobj= -2349.969942226287 Time= 0.4690619905789693\n",
            "run= 1 total=50 Fobj= -2349.9699422262875 Time= 0.9343045751253763\n",
            "run= 2 total=50 Fobj= -2349.9699422262875 Time= 1.3997442166010539\n",
            "run= 3 total=50 Fobj= -2321.696504129312 Time= 1.8659056464831034\n",
            "run= 4 total=50 Fobj= -2349.9699422262875 Time= 2.333302148183187\n",
            "run= 5 total=50 Fobj= -2349.9699422262875 Time= 2.8587422291437785\n",
            "run= 6 total=50 Fobj= -2349.969942226287 Time= 3.325311303138733\n",
            "run= 7 total=50 Fobj= -2349.969942226287 Time= 3.792246067523956\n",
            "run= 8 total=50 Fobj= -2349.969942226287 Time= 4.2588689605395\n",
            "run= 9 total=50 Fobj= -2349.9699422262865 Time= 4.727490425109863\n",
            "run= 10 total=50 Fobj= -2321.696504129312 Time= 5.196585285663605\n",
            "run= 11 total=50 Fobj= -2349.9699422262875 Time= 5.666735045115153\n",
            "run= 12 total=50 Fobj= -2349.9699422262865 Time= 6.136371382077535\n",
            "run= 13 total=50 Fobj= -2349.969942226287 Time= 6.605323592821757\n",
            "run= 14 total=50 Fobj= -2349.969942226287 Time= 7.07525159517924\n",
            "run= 15 total=50 Fobj= -2349.969942226287 Time= 7.54327278137207\n",
            "run= 16 total=50 Fobj= -2349.9699422262865 Time= 8.009951893488566\n",
            "run= 17 total=50 Fobj= -2349.9699422262865 Time= 8.475538265705108\n",
            "run= 18 total=50 Fobj= -2321.6965041293124 Time= 8.941965810457866\n",
            "run= 19 total=50 Fobj= -2349.969942226287 Time= 9.40924503405889\n",
            "run= 20 total=50 Fobj= -2349.969942226287 Time= 9.87624439795812\n",
            "run= 21 total=50 Fobj= -2349.969942226287 Time= 10.348471534252166\n",
            "run= 22 total=50 Fobj= -2349.9699422262865 Time= 10.816478411356607\n",
            "run= 23 total=50 Fobj= -2349.969942226287 Time= 11.282287816206614\n",
            "run= 24 total=50 Fobj= -2349.969942226287 Time= 11.748265643914541\n",
            "run= 25 total=50 Fobj= -2349.969942226287 Time= 12.215027554829915\n",
            "run= 26 total=50 Fobj= -2349.9699422262875 Time= 12.684586004416149\n",
            "run= 27 total=50 Fobj= -2321.6965041293124 Time= 13.15388491153717\n",
            "run= 28 total=50 Fobj= -2349.9699422262875 Time= 13.62315075000127\n",
            "run= 29 total=50 Fobj= -2349.969942226287 Time= 14.093142795562745\n",
            "run= 30 total=50 Fobj= -2349.9699422262875 Time= 14.561877405643463\n",
            "run= 31 total=50 Fobj= -2349.969942226287 Time= 15.031921541690826\n",
            "run= 32 total=50 Fobj= -2349.9699422262875 Time= 15.50007293621699\n",
            "run= 33 total=50 Fobj= -2349.9699422262875 Time= 15.966529421011607\n",
            "run= 34 total=50 Fobj= -2349.969942226287 Time= 16.432772386074067\n",
            "run= 35 total=50 Fobj= -2349.969942226287 Time= 16.899894018967945\n",
            "run= 36 total=50 Fobj= -2349.969942226287 Time= 17.367690857251485\n",
            "run= 37 total=50 Fobj= -2321.696504129312 Time= 17.833196556568147\n",
            "run= 38 total=50 Fobj= -2349.969942226287 Time= 18.300058368841807\n",
            "run= 39 total=50 Fobj= -2349.969942226287 Time= 18.818982736269632\n",
            "run= 40 total=50 Fobj= -2349.969942226287 Time= 19.28636557261149\n",
            "run= 41 total=50 Fobj= -2349.969942226287 Time= 19.752505600452423\n",
            "run= 42 total=50 Fobj= -2349.969942226287 Time= 20.22121963898341\n",
            "run= 43 total=50 Fobj= -2349.969942226287 Time= 20.691034587224326\n",
            "run= 44 total=50 Fobj= -2349.9699422262865 Time= 21.161333858966827\n",
            "run= 45 total=50 Fobj= -2349.969942226287 Time= 21.630120281378428\n",
            "run= 46 total=50 Fobj= -2349.9699422262875 Time= 22.09991757074992\n",
            "run= 47 total=50 Fobj= -2349.969942226287 Time= 22.569293411572776\n",
            "run= 48 total=50 Fobj= -2349.969942226287 Time= 23.035893444220225\n",
            "run= 49 total=50 Fobj= -2349.9699422262875 Time= 23.504576897621156\n"
          ],
          "name": "stdout"
        }
      ]
    },
    {
      "cell_type": "code",
      "metadata": {
        "id": "3W8R6htAHO63",
        "colab_type": "code",
        "colab": {
          "base_uri": "https://localhost:8080/",
          "height": 323
        },
        "outputId": "05a12f12-e8ac-4370-894b-e7226216a50d"
      },
      "source": [
        "############################## Cálculo dos Parâmetros de Avaliação   \n",
        "TIME = (time.time() - start_time)/RUNS\n",
        "BEST_AGENTS=np.array(BEST_AGENTS)\n",
        "BEST_AGENTS_ST= BEST_AGENTS[BEST_AGENTS[:,-1].argsort()]\n",
        "BEST=BEST_AGENTS_ST[0]\n",
        "WORSE=BEST_AGENTS_ST[-1]\n",
        "MEAN=np.mean(BEST_AGENTS,axis=0)\n",
        "MAXFO=BEST_AGENTS[:,-1].max()\n",
        "MINFO=BEST_AGENTS[:,-1].min()\n",
        "STD=BEST_AGENTS[:,-1].std()\n",
        "\n",
        "nome='DE_STAT_Fo-'+str(mut)+'_CRo-'+str(crossp)+'_D-'+str(dim)+'_Interv-'+str(ITE)\n",
        "print('DE_','TOTAL=',TOTAL,'Iterações=',ITE*its,'Dim=', dim,\"Min/Max=\",MIN[0],\"/\",MAX[0],'_',Fun.__name__)\n",
        "print(nome, '\\n')\n",
        "#print('BEST: ',BEST)\n",
        "#print('MÉDIA: ',MEAN)\n",
        "print('MÉDIA: ',MEAN[-1])\n",
        "print('MIN __:',MINFO)\n",
        "print('MAX__: ',MAXFO)\n",
        "print('STD __:',STD)\n",
        "print(\"Tempo Médio= %.3f segundos ---\" % (TIME))\n",
        "print(RUNS,'Rodadas') \n",
        "print()\n",
        "print('BEST: ',BEST)"
      ],
      "execution_count": 14,
      "outputs": [
        {
          "output_type": "stream",
          "text": [
            "DE_ TOTAL= 300000 Iterações= 2000 Dim= 30 Min/Max= -5 / 5 _ Styblinskitank\n",
            "DE_STAT_Fo-0.5_CRo-0.5_D-30_Interv-2000 \n",
            "\n",
            "MÉDIA:  -2347.1425984165917\n",
            "MIN __: -2349.9699422262875\n",
            "MAX__:  -2321.696504129312\n",
            "STD __: 8.482031429092476\n",
            "Tempo Médio= 28.206 segundos ---\n",
            "50 Rodadas\n",
            "\n",
            "BEST:  [   -2.90353404    -2.90353404    -2.90353403    -2.90353401\n",
            "    -2.90353403    -2.90353407    -2.90353399    -2.90353401\n",
            "    -2.90353405    -2.90353401    -2.90353402    -2.90353401\n",
            "    -2.90353403    -2.90353404    -2.90353406    -2.90353402\n",
            "    -2.90353409    -2.90353404    -2.90353403    -2.903534\n",
            "    -2.903534      -2.90353402    -2.90353408    -2.90353405\n",
            "    -2.90353402    -2.90353407    -2.903534      -2.90353405\n",
            "    -2.90353402    -2.90353405 -2349.96994223]\n"
          ],
          "name": "stdout"
        }
      ]
    }
  ]
}