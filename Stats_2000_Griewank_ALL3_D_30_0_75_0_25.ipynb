{
  "nbformat": 4,
  "nbformat_minor": 0,
  "metadata": {
    "colab": {
      "name": "Stats_2000_Griewank_ALL3_D_30_0.75_0.25.ipynb",
      "provenance": [],
      "collapsed_sections": [],
      "include_colab_link": true
    },
    "kernelspec": {
      "name": "python3",
      "display_name": "Python 3"
    }
  },
  "cells": [
    {
      "cell_type": "markdown",
      "metadata": {
        "id": "view-in-github",
        "colab_type": "text"
      },
      "source": [
        "<a href=\"https://colab.research.google.com/github/RaianaSeixas/Paper-1-Final-Results/blob/master/Stats_2000_Griewank_ALL3_D_30_0_75_0_25.ipynb\" target=\"_parent\"><img src=\"https://colab.research.google.com/assets/colab-badge.svg\" alt=\"Open In Colab\"/></a>"
      ]
    },
    {
      "cell_type": "code",
      "metadata": {
        "id": "MC26Bm1UyUR5",
        "colab_type": "code",
        "colab": {
          "base_uri": "https://localhost:8080/",
          "height": 34
        },
        "outputId": "a5924fa1-ec4e-4e6a-b8b1-e40c0260cb6f"
      },
      "source": [
        "!pip install pyade-python"
      ],
      "execution_count": 43,
      "outputs": [
        {
          "output_type": "stream",
          "text": [
            "Requirement already satisfied: pyade-python in /usr/local/lib/python3.6/dist-packages (1.1)\n"
          ],
          "name": "stdout"
        }
      ]
    },
    {
      "cell_type": "code",
      "metadata": {
        "id": "rRwqrtCmgzdZ",
        "colab_type": "code",
        "colab": {
          "base_uri": "https://localhost:8080/",
          "height": 51
        },
        "outputId": "15ab37cd-e1ee-4c1f-b1f7-a93138f9a848"
      },
      "source": [
        "!pip install PyFDE"
      ],
      "execution_count": 44,
      "outputs": [
        {
          "output_type": "stream",
          "text": [
            "Requirement already satisfied: PyFDE in /usr/local/lib/python3.6/dist-packages (1.3.0)\n",
            "Requirement already satisfied: numpy in /usr/local/lib/python3.6/dist-packages (from PyFDE) (1.18.5)\n"
          ],
          "name": "stdout"
        }
      ]
    },
    {
      "cell_type": "code",
      "metadata": {
        "id": "anFukot-ypn6",
        "colab_type": "code",
        "colab": {}
      },
      "source": [
        "import pyade.ilshade \n",
        "import pyade.sade \n",
        "import pyade.jso\n",
        "import pyade.shade\n",
        "import pyade.jade \n",
        "import pyfde\n",
        "import numpy as np\n",
        "import pandas as pd\n",
        "import time"
      ],
      "execution_count": 45,
      "outputs": []
    },
    {
      "cell_type": "code",
      "metadata": {
        "id": "6Oh714_-z1Ia",
        "colab_type": "code",
        "colab": {
          "base_uri": "https://localhost:8080/",
          "height": 173
        },
        "outputId": "795410d7-d6b6-4e0d-f967-82ff2a3ea9f5"
      },
      "source": [
        "!git clone https://github.com/ucfilho/Raianars_July_2020 #clonar do Github\n",
        "%cd Raianars_July_2020"
      ],
      "execution_count": 46,
      "outputs": [
        {
          "output_type": "stream",
          "text": [
            "Cloning into 'Raianars_July_2020'...\n",
            "remote: Enumerating objects: 15, done.\u001b[K\n",
            "remote: Counting objects:   6% (1/15)\u001b[K\rremote: Counting objects:  13% (2/15)\u001b[K\rremote: Counting objects:  20% (3/15)\u001b[K\rremote: Counting objects:  26% (4/15)\u001b[K\rremote: Counting objects:  33% (5/15)\u001b[K\rremote: Counting objects:  40% (6/15)\u001b[K\rremote: Counting objects:  46% (7/15)\u001b[K\rremote: Counting objects:  53% (8/15)\u001b[K\rremote: Counting objects:  60% (9/15)\u001b[K\rremote: Counting objects:  66% (10/15)\u001b[K\rremote: Counting objects:  73% (11/15)\u001b[K\rremote: Counting objects:  80% (12/15)\u001b[K\rremote: Counting objects:  86% (13/15)\u001b[K\rremote: Counting objects:  93% (14/15)\u001b[K\rremote: Counting objects: 100% (15/15)\u001b[K\rremote: Counting objects: 100% (15/15), done.\u001b[K\n",
            "remote: Compressing objects:   6% (1/15)\u001b[K\rremote: Compressing objects:  13% (2/15)\u001b[K\rremote: Compressing objects:  20% (3/15)\u001b[K\rremote: Compressing objects:  26% (4/15)\u001b[K\rremote: Compressing objects:  33% (5/15)\u001b[K\rremote: Compressing objects:  40% (6/15)\u001b[K\rremote: Compressing objects:  46% (7/15)\u001b[K\rremote: Compressing objects:  53% (8/15)\u001b[K\rremote: Compressing objects:  60% (9/15)\u001b[K\rremote: Compressing objects:  66% (10/15)\u001b[K\rremote: Compressing objects:  73% (11/15)\u001b[K\rremote: Compressing objects:  80% (12/15)\u001b[K\rremote: Compressing objects:  86% (13/15)\u001b[K\rremote: Compressing objects:  93% (14/15)\u001b[K\rremote: Compressing objects: 100% (15/15)\u001b[K\rremote: Compressing objects: 100% (15/15), done.\u001b[K\n",
            "Receiving objects:   0% (1/138)   \rReceiving objects:   1% (2/138)   \rReceiving objects:   2% (3/138)   \rReceiving objects:   3% (5/138)   \rReceiving objects:   4% (6/138)   \rReceiving objects:   5% (7/138)   \rReceiving objects:   6% (9/138)   \rReceiving objects:   7% (10/138)   \rReceiving objects:   8% (12/138)   \rReceiving objects:   9% (13/138)   \rReceiving objects:  10% (14/138)   \rReceiving objects:  11% (16/138)   \rReceiving objects:  12% (17/138)   \rReceiving objects:  13% (18/138)   \rReceiving objects:  14% (20/138)   \rReceiving objects:  15% (21/138)   \rReceiving objects:  16% (23/138)   \rReceiving objects:  17% (24/138)   \rReceiving objects:  18% (25/138)   \rReceiving objects:  19% (27/138)   \rReceiving objects:  20% (28/138)   \rReceiving objects:  21% (29/138)   \rReceiving objects:  22% (31/138)   \rReceiving objects:  23% (32/138)   \rReceiving objects:  24% (34/138)   \rReceiving objects:  25% (35/138)   \rReceiving objects:  26% (36/138)   \rReceiving objects:  27% (38/138)   \rReceiving objects:  28% (39/138)   \rReceiving objects:  29% (41/138)   \rReceiving objects:  30% (42/138)   \rReceiving objects:  31% (43/138)   \rReceiving objects:  32% (45/138)   \rReceiving objects:  33% (46/138)   \rReceiving objects:  34% (47/138)   \rReceiving objects:  35% (49/138)   \rReceiving objects:  36% (50/138)   \rremote: Total 138 (delta 7), reused 0 (delta 0), pack-reused 123\u001b[K\n",
            "Receiving objects:  37% (52/138)   \rReceiving objects:  38% (53/138)   \rReceiving objects:  39% (54/138)   \rReceiving objects:  40% (56/138)   \rReceiving objects:  41% (57/138)   \rReceiving objects:  42% (58/138)   \rReceiving objects:  43% (60/138)   \rReceiving objects:  44% (61/138)   \rReceiving objects:  45% (63/138)   \rReceiving objects:  46% (64/138)   \rReceiving objects:  47% (65/138)   \rReceiving objects:  48% (67/138)   \rReceiving objects:  49% (68/138)   \rReceiving objects:  50% (69/138)   \rReceiving objects:  51% (71/138)   \rReceiving objects:  52% (72/138)   \rReceiving objects:  53% (74/138)   \rReceiving objects:  54% (75/138)   \rReceiving objects:  55% (76/138)   \rReceiving objects:  56% (78/138)   \rReceiving objects:  57% (79/138)   \rReceiving objects:  58% (81/138)   \rReceiving objects:  59% (82/138)   \rReceiving objects:  60% (83/138)   \rReceiving objects:  61% (85/138)   \rReceiving objects:  62% (86/138)   \rReceiving objects:  63% (87/138)   \rReceiving objects:  64% (89/138)   \rReceiving objects:  65% (90/138)   \rReceiving objects:  66% (92/138)   \rReceiving objects:  67% (93/138)   \rReceiving objects:  68% (94/138)   \rReceiving objects:  69% (96/138)   \rReceiving objects:  70% (97/138)   \rReceiving objects:  71% (98/138)   \rReceiving objects:  72% (100/138)   \rReceiving objects:  73% (101/138)   \rReceiving objects:  74% (103/138)   \rReceiving objects:  75% (104/138)   \rReceiving objects:  76% (105/138)   \rReceiving objects:  77% (107/138)   \rReceiving objects:  78% (108/138)   \rReceiving objects:  79% (110/138)   \rReceiving objects:  80% (111/138)   \rReceiving objects:  81% (112/138)   \rReceiving objects:  82% (114/138)   \rReceiving objects:  83% (115/138)   \rReceiving objects:  84% (116/138)   \rReceiving objects:  85% (118/138)   \rReceiving objects:  86% (119/138)   \rReceiving objects:  87% (121/138)   \rReceiving objects:  88% (122/138)   \rReceiving objects:  89% (123/138)   \rReceiving objects:  90% (125/138)   \rReceiving objects:  91% (126/138)   \rReceiving objects:  92% (127/138)   \rReceiving objects:  93% (129/138)   \rReceiving objects:  94% (130/138)   \rReceiving objects:  95% (132/138)   \rReceiving objects:  96% (133/138)   \rReceiving objects:  97% (134/138)   \rReceiving objects:  98% (136/138)   \rReceiving objects:  99% (137/138)   \rReceiving objects: 100% (138/138)   \rReceiving objects: 100% (138/138), 201.58 KiB | 12.60 MiB/s, done.\n",
            "Resolving deltas:   0% (0/69)   \rResolving deltas:   8% (6/69)   \rResolving deltas:  57% (40/69)   \rResolving deltas:  71% (49/69)   \rResolving deltas:  75% (52/69)   \rResolving deltas:  78% (54/69)   \rResolving deltas:  89% (62/69)   \rResolving deltas:  97% (67/69)   \rResolving deltas:  98% (68/69)   \rResolving deltas: 100% (69/69)   \rResolving deltas: 100% (69/69), done.\n",
            "/content/Raianars_July_2020/ANN_read_matrix/Raianars_July_2020/Raianars_July_2020/ANN_read_matrix/Raianars_July_2020/Raianars_July_2020/ANN_read_matrix/Raianars_July_2020/Raianars_July_2020\n"
          ],
          "name": "stdout"
        }
      ]
    },
    {
      "cell_type": "code",
      "metadata": {
        "id": "LnzftXkky78A",
        "colab_type": "code",
        "colab": {}
      },
      "source": [
        "import Go2Ann\n",
        "import de_soma_Insight\n",
        "import de_bounds_matriz\n",
        "from AvaliaX import AvaliaX\n",
        "from GeraIndices import GeraIndices"
      ],
      "execution_count": 47,
      "outputs": []
    },
    {
      "cell_type": "code",
      "metadata": {
        "id": "HNW92728z7fR",
        "colab_type": "code",
        "colab": {}
      },
      "source": [
        "import Function\n",
        "import Go2MinMax"
      ],
      "execution_count": 48,
      "outputs": []
    },
    {
      "cell_type": "code",
      "metadata": {
        "id": "T_C-e7aH0CZH",
        "colab_type": "code",
        "colab": {}
      },
      "source": [
        "ITE=2000 #10 # PONTOS quantas vezes vai alteral NPAR \n",
        "NPAR=100 # NUMBER OF PARTICLES\n",
        "dim=30\n",
        "RUNS=50\n",
        "fchoice='Griewank'  #US\n",
        "Fun=Function.Griewank\n",
        "\n",
        "MIN,MAX=Go2MinMax.Intervalo(dim,fchoice)\n",
        "bounds = [(0,0)]*dim\n",
        "\n",
        "for i in range(dim):\n",
        "  bounds[i] = (MIN[i],MAX[i])\n",
        "\n",
        "start_time = time.time() "
      ],
      "execution_count": 49,
      "outputs": []
    },
    {
      "cell_type": "code",
      "metadata": {
        "id": "Nqv5qp9yzQEw",
        "colab_type": "code",
        "colab": {}
      },
      "source": [
        "############################### INPUT INFORMATION (FRANNK)\n",
        "Fc=0.1 # fator de correcao parametros da ANN\n",
        "its=1 #10 # quantas vezes vai usar o NPAR antes de alterar de novo\n",
        "mut=0.75\n",
        "crossp=0.25\n",
        "Fi=mut;CRi=crossp;# para impressão\n",
        "PAR=len(MAX) #NUM DE PARAMETROS A SER OTIMIZADOS"
      ],
      "execution_count": 50,
      "outputs": []
    },
    {
      "cell_type": "code",
      "metadata": {
        "id": "q77YsFa82zFU",
        "colab_type": "code",
        "colab": {
          "base_uri": "https://localhost:8080/",
          "height": 323
        },
        "outputId": "8537eb64-0444-4787-b3b7-b07b4740284e"
      },
      "source": [
        "# JADE\n",
        "algorithm = pyade.jso\n",
        "BEST_AGENTS=[]\n",
        "for i in range(RUNS):\n",
        "  ANSWER_AGENTS=[]\n",
        "  solver = pyfde.JADE(Fun, n_dim=dim, n_pop=NPAR, limits=bounds, minimize=True)\n",
        "  solver.p = 0.05\n",
        "  solver.c = 0.1\n",
        "  solver.cr = 0.5\n",
        "  solver.f = 0.5\n",
        "  best, fit = solver.run(n_it=ITE)\n",
        "  for x in best:\n",
        "    ANSWER_AGENTS.append(x)\n",
        "  ANSWER_AGENTS.append(fit)\n",
        "  BEST_AGENTS.append(ANSWER_AGENTS)\n",
        "BEST_AGENTS=np.array(BEST_AGENTS)\n",
        "TIME = (time.time() - start_time)/RUNS\n",
        "BEST_AGENTS=np.array(BEST_AGENTS)\n",
        "BEST_AGENTS_ST= BEST_AGENTS[BEST_AGENTS[:,-1].argsort()]\n",
        "BEST=BEST_AGENTS_ST[0]\n",
        "WORSE=BEST_AGENTS_ST[-1]\n",
        "MEAN=np.mean(BEST_AGENTS,axis=0)\n",
        "MAXFO=BEST_AGENTS[:,-1].max()\n",
        "MINFO=BEST_AGENTS[:,-1].min()\n",
        "STD=BEST_AGENTS[:,-1].std()\n",
        "nome='JADE_Fo-'+str(0)+'_CRo-'+str(0)\n",
        "print(nome,'NPAR',NPAR,'Iterações=',ITE,'Dim=',dim ,\"Min/Max=\",MIN[0],\"/\",MAX[0],'_',Fun.__name__)\n",
        "print( '\\n')\n",
        "print('MÉDIA: ',MEAN[-1])\n",
        "print('MIN __:',MINFO)\n",
        "print('MAX__: ',MAXFO)\n",
        "print('STD __:',STD)\n",
        "print(\"Tempo Médio= %.3f segundos ---\" % (TIME))\n",
        "print(RUNS,'Rodadas') \n",
        "print()\n",
        "print('BEST: ',BEST)"
      ],
      "execution_count": 51,
      "outputs": [
        {
          "output_type": "stream",
          "text": [
            "JADE_Fo-0_CRo-0 NPAR 100 Iterações= 2000 Dim= 30 Min/Max= -600 / 600 _ Griewank\n",
            "\n",
            "\n",
            "MÉDIA:  -0.0001479208066822979\n",
            "MIN __: -0.007396040334114895\n",
            "MAX__:  -0.0\n",
            "STD __: 0.0010354456467760852\n",
            "Tempo Médio= 10.694 segundos ---\n",
            "50 Rodadas\n",
            "\n",
            "BEST:  [ 3.14002263e+00  4.43844448e+00 -6.56108361e-09 -6.85473724e-09\n",
            " -8.61140094e-09  2.41975867e-08 -5.03576349e-09  2.32001752e-09\n",
            " -1.99424433e-08  2.62736276e-08  2.15880234e-08  3.52633557e-08\n",
            " -1.54777716e-08  1.20625403e-08 -2.03075835e-09  2.14297753e-08\n",
            "  1.56901312e-08  2.37219683e-08 -1.38108203e-08 -1.36832331e-08\n",
            " -1.87256602e-08  4.06710369e-08 -1.95339204e-09  1.91839749e-09\n",
            " -1.98859302e-08  3.23959051e-08 -5.42837046e-08  3.10487793e-08\n",
            "  1.94571172e-08  1.77119134e-08 -7.39604033e-03]\n"
          ],
          "name": "stdout"
        }
      ]
    },
    {
      "cell_type": "code",
      "metadata": {
        "id": "gXdUgSStzppX",
        "colab_type": "code",
        "colab": {}
      },
      "source": [
        "# FRANNK START HERE !!!!!"
      ],
      "execution_count": 52,
      "outputs": []
    },
    {
      "cell_type": "code",
      "metadata": {
        "id": "raWOfeJBztuj",
        "colab_type": "code",
        "colab": {
          "base_uri": "https://localhost:8080/",
          "height": 156
        },
        "outputId": "96438624-739f-4aee-f204-283f0b39c660"
      },
      "source": [
        "!git clone https://github.com/ucfilho/ANN_read_matrix #clonar do Github\n",
        "%cd ANN_read_matrix"
      ],
      "execution_count": 53,
      "outputs": [
        {
          "output_type": "stream",
          "text": [
            "Cloning into 'ANN_read_matrix'...\n",
            "remote: Enumerating objects: 20, done.\u001b[K\n",
            "remote: Counting objects:   5% (1/20)\u001b[K\rremote: Counting objects:  10% (2/20)\u001b[K\rremote: Counting objects:  15% (3/20)\u001b[K\rremote: Counting objects:  20% (4/20)\u001b[K\rremote: Counting objects:  25% (5/20)\u001b[K\rremote: Counting objects:  30% (6/20)\u001b[K\rremote: Counting objects:  35% (7/20)\u001b[K\rremote: Counting objects:  40% (8/20)\u001b[K\rremote: Counting objects:  45% (9/20)\u001b[K\rremote: Counting objects:  50% (10/20)\u001b[K\rremote: Counting objects:  55% (11/20)\u001b[K\rremote: Counting objects:  60% (12/20)\u001b[K\rremote: Counting objects:  65% (13/20)\u001b[K\rremote: Counting objects:  70% (14/20)\u001b[K\rremote: Counting objects:  75% (15/20)\u001b[K\rremote: Counting objects:  80% (16/20)\u001b[K\rremote: Counting objects:  85% (17/20)\u001b[K\rremote: Counting objects:  90% (18/20)\u001b[K\rremote: Counting objects:  95% (19/20)\u001b[K\rremote: Counting objects: 100% (20/20)\u001b[K\rremote: Counting objects: 100% (20/20), done.\u001b[K\n",
            "remote: Compressing objects:   5% (1/18)\u001b[K\rremote: Compressing objects:  11% (2/18)\u001b[K\rremote: Compressing objects:  16% (3/18)\u001b[K\rremote: Compressing objects:  22% (4/18)\u001b[K\rremote: Compressing objects:  27% (5/18)\u001b[K\rremote: Compressing objects:  33% (6/18)\u001b[K\rremote: Compressing objects:  38% (7/18)\u001b[K\rremote: Compressing objects:  44% (8/18)\u001b[K\rremote: Compressing objects:  50% (9/18)\u001b[K\rremote: Compressing objects:  55% (10/18)\u001b[K\rremote: Compressing objects:  61% (11/18)\u001b[K\rremote: Compressing objects:  66% (12/18)\u001b[K\rremote: Compressing objects:  72% (13/18)\u001b[K\rremote: Compressing objects:  77% (14/18)\u001b[K\rremote: Compressing objects:  83% (15/18)\u001b[K\rremote: Compressing objects:  88% (16/18)\u001b[K\rremote: Compressing objects:  94% (17/18)\u001b[K\rremote: Compressing objects: 100% (18/18)\u001b[K\rremote: Compressing objects: 100% (18/18), done.\u001b[K\n",
            "remote: Total 20 (delta 5), reused 0 (delta 0), pack-reused 0\u001b[K\n",
            "Unpacking objects:   5% (1/20)   \rUnpacking objects:  10% (2/20)   \rUnpacking objects:  15% (3/20)   \rUnpacking objects:  20% (4/20)   \rUnpacking objects:  25% (5/20)   \rUnpacking objects:  30% (6/20)   \rUnpacking objects:  35% (7/20)   \rUnpacking objects:  40% (8/20)   \rUnpacking objects:  45% (9/20)   \rUnpacking objects:  50% (10/20)   \rUnpacking objects:  55% (11/20)   \rUnpacking objects:  60% (12/20)   \rUnpacking objects:  65% (13/20)   \rUnpacking objects:  70% (14/20)   \rUnpacking objects:  75% (15/20)   \rUnpacking objects:  80% (16/20)   \rUnpacking objects:  85% (17/20)   \rUnpacking objects:  90% (18/20)   \rUnpacking objects:  95% (19/20)   \rUnpacking objects: 100% (20/20)   \rUnpacking objects: 100% (20/20), done.\n",
            "/content/Raianars_July_2020/ANN_read_matrix/Raianars_July_2020/Raianars_July_2020/ANN_read_matrix/Raianars_July_2020/Raianars_July_2020/ANN_read_matrix/Raianars_July_2020/Raianars_July_2020/ANN_read_matrix\n"
          ],
          "name": "stdout"
        }
      ]
    },
    {
      "cell_type": "code",
      "metadata": {
        "id": "N2lyPfivzwGv",
        "colab_type": "code",
        "colab": {
          "base_uri": "https://localhost:8080/",
          "height": 1000
        },
        "outputId": "46df315f-6257-4f9d-a44a-86aab0bbe825"
      },
      "source": [
        "ANN_F=pd.read_csv('ANN_INSIGHT_Valor_F.csv')\n",
        "ANN_CR=pd.read_csv('ANN_INSIGHT_CR.csv')\n",
        "syn0_F,syn1_F,X_max_F,X_min_F=Go2Ann.GetMatriz(ANN_F)\n",
        "syn0_CR,syn1_CR,X_max_CR,X_min_CR=Go2Ann.GetMatriz(ANN_CR)\n",
        "fields = ['DI RELATIVO','FRAC Its','Fo','CRo']\n",
        "\n",
        "#TOTAL=7*dim*its*ITE\n",
        "TOTAL=10*dim*its*ITE\n",
        "TOTAL=int(TOTAL/2)   # CONFERIR SE ESTE EH O MELHOR LUGAR\n",
        "\n",
        "dimensions=len(MAX)\n",
        "start_time = time.time() #INICIALIZA CONTAGEM DO TEMPO\n",
        "\n",
        "MAX_P=np.zeros(ITE) # ATENCAO para variar F e Cr MAX_P passa a ser 3 vezes maior\n",
        "MIN_P=np.zeros(ITE) # ATENCAO para variar F e Cr MIN_P passa a ser 3 vezes maior\n",
        "\n",
        "for i in range(dim):\n",
        "  MAX_P[i]=MAX[i] \n",
        "  MIN_P[i]=MIN[i]\n",
        "\n",
        "rodadas=1\n",
        "for i in range(rodadas):\n",
        "  SOMA=0\n",
        "  pop = np.random.rand(NPAR, dimensions)\n",
        "  diff=np.zeros(PAR)\n",
        "  for ii in range(PAR):\n",
        "    diff[ii] = MAX[ii]-MIN[ii]\n",
        "  X = MIN + pop * diff\n",
        "    \n",
        "  PONTOS=ITE # DIVISOES DA POPULACAO\n",
        "start_time = time.time()\n",
        "BEST_AGENTS=[]\n",
        "MAT_stat=[]\n",
        "for i in range(RUNS):\n",
        "    MAT=[] \n",
        "    mut=Fi\n",
        "    crossp=CRi\n",
        "    SOMA=0\n",
        "    SOMAf=0\n",
        "    start_ite = time.time()\n",
        "    delta_time=(start_ite-start_time)/60\n",
        "    print('ite=',i,'time=',delta_time)\n",
        "    pop = np.random.rand(NPAR, dim)\n",
        "    diff=np.zeros(PAR)\n",
        "    for ii in range(PAR):\n",
        "      diff[ii] = MAX[ii]-MIN[ii]\n",
        "    X = MIN + pop * diff\n",
        "    Xf = MIN + pop * diff\n",
        "    \n",
        "    DIo=1e99\n",
        "  \n",
        "    CRo=crossp;Fo=mut;\n",
        "    Fitness = np.asarray([Fun(ind) for ind in X])\n",
        "\n",
        "    XY,BEST_XY,BESTo,FOBESTo=AvaliaX(X,Fitness)\n",
        "    nrow,ncol=X.shape\n",
        "\n",
        "    QUANT=17;MAT_INDo=np.zeros((1,QUANT)); # quantos indices esta fazendo\n",
        "    MAT_INDo[0,5]=nrow  # VALOR NP\n",
        "    MAT_INDo[0,6]=Fo    # VALOR Fo   \n",
        "    MAT_INDo[0,7]=CRo   # VALOR CRo\n",
        "  \n",
        "    MAT_INDo=GeraIndices(X,BESTo,FOBESTo,DIo,MAT_INDo,SOMA,TOTAL,syn0_F,\n",
        "                        syn1_F,X_max_F,X_min_F,syn0_CR,syn1_CR,X_max_CR,\n",
        "                        X_min_CR,Fc,fields,Fun)\n",
        "  \n",
        "    DIo=np.copy(MAT_INDo[0,0])\n",
        "    MAT_INDo[0,15]=Fo    # VALOR Fo   \n",
        "    MAT_INDo[0,16]=CRo   # VALOR CRo\n",
        "    #ind_crossp=ITE-1\n",
        "\n",
        "    \n",
        "    for k in range(ITE):\n",
        "      X,BEST,FOBEST,XY,BEST_XY,SOMA= de_soma_Insight.de(MAX,MIN, mut, crossp,NPAR,its,Fun,X,SOMA,TOTAL)\n",
        "      #Xf,BESTf,FOBESTf,XYf,BEST_XYf,SOMAf= de_soma_Insight.de(MAX,MIN, Fi, CRi, NPAR,its,Fun,Xf,SOMAf,TOTAL)\n",
        "\n",
        "      \n",
        "      MAT_IND=GeraIndices(X,BESTo,FOBESTo,DIo,MAT_INDo,SOMA,TOTAL,syn0_F,\n",
        "                          syn1_F,X_max_F,X_min_F,syn0_CR,syn1_CR,X_max_CR,\n",
        "                          X_min_CR,Fc,fields,Fun)\n",
        "    \n",
        "      BESTo=np.copy(BEST);FOBESTo=np.copy(FOBEST);\n",
        "      MAT.append(MAT_IND.ravel())\n",
        "    \n",
        "      MAT_INDo[0,6]=MAT_IND[0,15]   # VALOR Fo   \n",
        "      MAT_INDo[0,7]=MAT_IND[0,16]   # VALOR CRo\n",
        "      mut=MAT_IND[0,15]\n",
        "      crossp=MAT_IND[0,16]\n",
        "\n",
        "      Fitness = np.asarray([Fun(ind) for ind in X])\n",
        "      #Fitnessf = np.asarray([Fun(ind) for ind in Xf])\n",
        "      Maior=np.argmax(Fitness)\n",
        "      #Maiorf=np.argmax(Fitnessf)\n",
        "      Menor=np.argmin(Fitness)\n",
        "      #Menorf=np.argmin(Fitnessf)\n",
        "\n",
        "      #X[Maior,:]=np.copy(Xf[Menorf,:])\n",
        "      #Xf[Maiorf,:]=np.copy(X[Menor,:])\n",
        "      \n",
        "    BEST_AGENTS.append(BEST_XY)\n",
        "    MAT_stat.append(MAT)\n",
        "    #print(\"GlobalParam e Solucao:\", BEST,\"Funcao=\",FOBEST)\n",
        "    \n",
        "############################## Cálculo dos Parâmetros de Avaliação   \n",
        "TIME = (time.time() - start_time)/RUNS\n",
        "BEST_AGENTS=np.array(BEST_AGENTS)\n",
        "BEST_AGENTS_ST= BEST_AGENTS[BEST_AGENTS[:,-1].argsort()]\n",
        "BEST=BEST_AGENTS_ST[0]\n",
        "WORSE=BEST_AGENTS_ST[-1]\n",
        "MEAN=np.mean(BEST_AGENTS,axis=0)\n",
        "MAXFO=BEST_AGENTS[:,-1].max()\n",
        "MINFO=BEST_AGENTS[:,-1].min()\n",
        "STD=BEST_AGENTS[:,-1].std()\n",
        "\n",
        "print()\n",
        "nome='_ANN_Div3x4_Fo-'+str(Fi)+'_CRo-'+str(CRi)+'_D-'+str(dim)+'_Interv-'+str(ITE)\n",
        "print('DE_POP_VAR_F_CR','TOTAL=',TOTAL,'Iterações=',ITE*its,'Dim=', PAR,\"Min/Max=\",MIN[0],\"/\",MAX[0],'_',Fun.__name__)\n",
        "print(nome, '\\n')\n",
        "print('MÉDIA: ',MEAN[-1])\n",
        "print('MIN __:',MINFO)\n",
        "print('MAX__: ',MAXFO)\n",
        "print('STD __:',STD)\n",
        "print(\"Tempo Médio= %.3f segundos ---\" % (TIME))\n",
        "print(RUNS,'Rodadas') \n",
        "print()\n",
        "print('BEST: ',BEST)"
      ],
      "execution_count": 54,
      "outputs": [
        {
          "output_type": "stream",
          "text": [
            "ite= 0 time= 2.4318695068359375e-05\n"
          ],
          "name": "stdout"
        },
        {
          "output_type": "stream",
          "text": [
            "/content/Raianars_July_2020/GeraIndices.py:57: RuntimeWarning: invalid value encountered in double_scalars\n",
            "  if abs(MAT_IND[0,8]/MAT_IND[0,8])>1:\n",
            "/content/Raianars_July_2020/GeraIndices.py:60: RuntimeWarning: invalid value encountered in double_scalars\n",
            "  MAT_IND[0,10]=MAT_IND[0,8]/MAT_IND[0,8]\n",
            "/content/Raianars_July_2020/GeraIndices.py:62: RuntimeWarning: invalid value encountered in double_scalars\n",
            "  if abs(MAT_IND[0,9]/MAT_IND[0,9])>1: # tem que pegar primeira\n",
            "/content/Raianars_July_2020/GeraIndices.py:65: RuntimeWarning: invalid value encountered in double_scalars\n",
            "  MAT_IND[0,11]=MAT_IND[0,9]/MAT_IND[0,9] # tem que pegar do anterior\n"
          ],
          "name": "stderr"
        },
        {
          "output_type": "stream",
          "text": [
            "ite= 1 time= 3.2351966460545856\n",
            "ite= 2 time= 6.479159212112426\n",
            "ite= 3 time= 9.73569431702296\n",
            "ite= 4 time= 12.99666694800059\n",
            "ite= 5 time= 16.251009039084117\n",
            "ite= 6 time= 19.485776352882386\n",
            "ite= 7 time= 22.73595569531123\n",
            "ite= 8 time= 25.96281404097875\n",
            "ite= 9 time= 29.19718395471573\n",
            "ite= 10 time= 32.435258034865065\n",
            "ite= 11 time= 35.67548406124115\n",
            "ite= 12 time= 38.91640698115031\n",
            "ite= 13 time= 42.15572536786397\n",
            "ite= 14 time= 45.38564261992772\n",
            "ite= 15 time= 48.639033285776776\n",
            "ite= 16 time= 51.88305070002874\n",
            "ite= 17 time= 55.10682032108307\n",
            "ite= 18 time= 58.351180696487425\n",
            "ite= 19 time= 61.58493911425273\n",
            "ite= 20 time= 64.82112348477045\n",
            "ite= 21 time= 68.049378768603\n",
            "ite= 22 time= 71.2715029835701\n",
            "ite= 23 time= 74.51994206905366\n",
            "ite= 24 time= 77.77433705329895\n",
            "ite= 25 time= 81.05459738969803\n",
            "ite= 26 time= 84.31743900378545\n",
            "ite= 27 time= 87.56958660682042\n",
            "ite= 28 time= 90.83304432233174\n",
            "ite= 29 time= 94.1087166984876\n",
            "ite= 30 time= 97.3716230392456\n",
            "ite= 31 time= 100.62237015565236\n",
            "ite= 32 time= 103.87849964698155\n",
            "ite= 33 time= 107.14530996084213\n",
            "ite= 34 time= 110.41053921381632\n",
            "ite= 35 time= 113.6681375225385\n",
            "ite= 36 time= 116.92779970169067\n",
            "ite= 37 time= 120.20963894526163\n",
            "ite= 38 time= 123.46616472005844\n",
            "ite= 39 time= 126.73853727579117\n",
            "ite= 40 time= 129.99833561579388\n",
            "ite= 41 time= 133.28961614370346\n",
            "ite= 42 time= 136.54489466746648\n",
            "ite= 43 time= 139.79976355632147\n",
            "ite= 44 time= 143.04731648365657\n",
            "ite= 45 time= 146.33647733926773\n",
            "ite= 46 time= 149.58773491779962\n",
            "ite= 47 time= 152.84539180199306\n",
            "ite= 48 time= 156.08835830688477\n",
            "ite= 49 time= 159.36901332537334\n",
            "\n",
            "DE_POP_VAR_F_CR TOTAL= 300000 Iterações= 2000 Dim= 30 Min/Max= -600 / 600 _ Griewank\n",
            "_ANN_Div3x4_Fo-0.75_CRo-0.25_D-30_Interv-2000 \n",
            "\n",
            "MÉDIA:  0.0\n",
            "MIN __: 0.0\n",
            "MAX__:  0.0\n",
            "STD __: 0.0\n",
            "Tempo Médio= 195.165 segundos ---\n",
            "50 Rodadas\n",
            "\n",
            "BEST:  [-4.98119225e-09 -9.04534690e-09 -3.60845253e-09 -1.96396078e-09\n",
            "  2.84457708e-09 -1.87231642e-08  1.20437709e-09  7.39410768e-09\n",
            " -2.37763051e-08 -1.76022108e-08  2.03678390e-08 -2.89468568e-08\n",
            " -2.11883808e-08  2.38007708e-08  2.56171577e-08  1.49444262e-08\n",
            "  9.62088602e-09  3.00767252e-08 -2.73159343e-08 -3.34496618e-08\n",
            "  2.96790036e-08  2.24184866e-08 -7.53848419e-09  4.62096692e-08\n",
            "  2.49761715e-08 -6.71364814e-09  1.37109422e-08  2.24199223e-08\n",
            "  3.45837605e-10  8.28567597e-09  0.00000000e+00]\n"
          ],
          "name": "stdout"
        }
      ]
    },
    {
      "cell_type": "code",
      "metadata": {
        "id": "egkWFpw6GiNo",
        "colab_type": "code",
        "colab": {
          "base_uri": "https://localhost:8080/",
          "height": 1000
        },
        "outputId": "bd3846dd-55c3-4f94-b868-69faf01aa0bc"
      },
      "source": [
        "#DE_ tradicional\n",
        "\n",
        "!git clone https://github.com/ucfilho/Raianars_July_2020 #clonar do Github\n",
        "%cd Raianars_July_2020\n",
        "\n",
        "mut=0.5\n",
        "crossp=0.5\n",
        "\n",
        "SOMA=0\n",
        "start_time = time.time()\n",
        "BEST_AGENTS=[]\n",
        "MAT_stat=[]\n",
        "\n",
        "for i in range(RUNS):\n",
        "\n",
        "    pop = np.random.rand(NPAR, dim)\n",
        "    diff=np.zeros(dim)\n",
        "    for ii in range(dim):\n",
        "      diff[ii] = MAX[ii]-MIN[ii]\n",
        "    X = MIN + pop * diff\n",
        "\n",
        "    SOMA=0\n",
        "\n",
        "    for k in range(ITE):\n",
        "      X,BEST,FOBEST,XY,BEST_XY,SOMA= de_soma_Insight.de(MAX,MIN, mut, crossp,dim,its,Fun,X,SOMA,TOTAL)\n",
        "\n",
        "    start_run = (time.time()-start_time)/60\n",
        "    print('run=',i,'total=50','Fobj=',FOBEST,'Time=',start_run)  \n",
        "    BEST_AGENTS.append(BEST_XY)"
      ],
      "execution_count": 55,
      "outputs": [
        {
          "output_type": "stream",
          "text": [
            "Cloning into 'Raianars_July_2020'...\n",
            "remote: Enumerating objects: 15, done.\u001b[K\n",
            "remote: Counting objects:   6% (1/15)\u001b[K\rremote: Counting objects:  13% (2/15)\u001b[K\rremote: Counting objects:  20% (3/15)\u001b[K\rremote: Counting objects:  26% (4/15)\u001b[K\rremote: Counting objects:  33% (5/15)\u001b[K\rremote: Counting objects:  40% (6/15)\u001b[K\rremote: Counting objects:  46% (7/15)\u001b[K\rremote: Counting objects:  53% (8/15)\u001b[K\rremote: Counting objects:  60% (9/15)\u001b[K\rremote: Counting objects:  66% (10/15)\u001b[K\rremote: Counting objects:  73% (11/15)\u001b[K\rremote: Counting objects:  80% (12/15)\u001b[K\rremote: Counting objects:  86% (13/15)\u001b[K\rremote: Counting objects:  93% (14/15)\u001b[K\rremote: Counting objects: 100% (15/15)\u001b[K\rremote: Counting objects: 100% (15/15), done.\u001b[K\n",
            "remote: Compressing objects:   6% (1/15)\u001b[K\rremote: Compressing objects:  13% (2/15)\u001b[K\rremote: Compressing objects:  20% (3/15)\u001b[K\rremote: Compressing objects:  26% (4/15)\u001b[K\rremote: Compressing objects:  33% (5/15)\u001b[K\rremote: Compressing objects:  40% (6/15)\u001b[K\rremote: Compressing objects:  46% (7/15)\u001b[K\rremote: Compressing objects:  53% (8/15)\u001b[K\rremote: Compressing objects:  60% (9/15)\u001b[K\rremote: Compressing objects:  66% (10/15)\u001b[K\rremote: Compressing objects:  73% (11/15)\u001b[K\rremote: Compressing objects:  80% (12/15)\u001b[K\rremote: Compressing objects:  86% (13/15)\u001b[K\rremote: Compressing objects:  93% (14/15)\u001b[K\rremote: Compressing objects: 100% (15/15)\u001b[K\rremote: Compressing objects: 100% (15/15), done.\u001b[K\n",
            "Receiving objects:   0% (1/138)   \rReceiving objects:   1% (2/138)   \rReceiving objects:   2% (3/138)   \rReceiving objects:   3% (5/138)   \rReceiving objects:   4% (6/138)   \rReceiving objects:   5% (7/138)   \rReceiving objects:   6% (9/138)   \rReceiving objects:   7% (10/138)   \rReceiving objects:   8% (12/138)   \rReceiving objects:   9% (13/138)   \rReceiving objects:  10% (14/138)   \rReceiving objects:  11% (16/138)   \rReceiving objects:  12% (17/138)   \rReceiving objects:  13% (18/138)   \rReceiving objects:  14% (20/138)   \rReceiving objects:  15% (21/138)   \rReceiving objects:  16% (23/138)   \rReceiving objects:  17% (24/138)   \rReceiving objects:  18% (25/138)   \rReceiving objects:  19% (27/138)   \rReceiving objects:  20% (28/138)   \rReceiving objects:  21% (29/138)   \rReceiving objects:  22% (31/138)   \rReceiving objects:  23% (32/138)   \rReceiving objects:  24% (34/138)   \rReceiving objects:  25% (35/138)   \rReceiving objects:  26% (36/138)   \rReceiving objects:  27% (38/138)   \rReceiving objects:  28% (39/138)   \rReceiving objects:  29% (41/138)   \rReceiving objects:  30% (42/138)   \rReceiving objects:  31% (43/138)   \rReceiving objects:  32% (45/138)   \rReceiving objects:  33% (46/138)   \rReceiving objects:  34% (47/138)   \rReceiving objects:  35% (49/138)   \rReceiving objects:  36% (50/138)   \rReceiving objects:  37% (52/138)   \rReceiving objects:  38% (53/138)   \rremote: Total 138 (delta 7), reused 0 (delta 0), pack-reused 123\u001b[K\n",
            "Receiving objects:  39% (54/138)   \rReceiving objects:  40% (56/138)   \rReceiving objects:  41% (57/138)   \rReceiving objects:  42% (58/138)   \rReceiving objects:  43% (60/138)   \rReceiving objects:  44% (61/138)   \rReceiving objects:  45% (63/138)   \rReceiving objects:  46% (64/138)   \rReceiving objects:  47% (65/138)   \rReceiving objects:  48% (67/138)   \rReceiving objects:  49% (68/138)   \rReceiving objects:  50% (69/138)   \rReceiving objects:  51% (71/138)   \rReceiving objects:  52% (72/138)   \rReceiving objects:  53% (74/138)   \rReceiving objects:  54% (75/138)   \rReceiving objects:  55% (76/138)   \rReceiving objects:  56% (78/138)   \rReceiving objects:  57% (79/138)   \rReceiving objects:  58% (81/138)   \rReceiving objects:  59% (82/138)   \rReceiving objects:  60% (83/138)   \rReceiving objects:  61% (85/138)   \rReceiving objects:  62% (86/138)   \rReceiving objects:  63% (87/138)   \rReceiving objects:  64% (89/138)   \rReceiving objects:  65% (90/138)   \rReceiving objects:  66% (92/138)   \rReceiving objects:  67% (93/138)   \rReceiving objects:  68% (94/138)   \rReceiving objects:  69% (96/138)   \rReceiving objects:  70% (97/138)   \rReceiving objects:  71% (98/138)   \rReceiving objects:  72% (100/138)   \rReceiving objects:  73% (101/138)   \rReceiving objects:  74% (103/138)   \rReceiving objects:  75% (104/138)   \rReceiving objects:  76% (105/138)   \rReceiving objects:  77% (107/138)   \rReceiving objects:  78% (108/138)   \rReceiving objects:  79% (110/138)   \rReceiving objects:  80% (111/138)   \rReceiving objects:  81% (112/138)   \rReceiving objects:  82% (114/138)   \rReceiving objects:  83% (115/138)   \rReceiving objects:  84% (116/138)   \rReceiving objects:  85% (118/138)   \rReceiving objects:  86% (119/138)   \rReceiving objects:  87% (121/138)   \rReceiving objects:  88% (122/138)   \rReceiving objects:  89% (123/138)   \rReceiving objects:  90% (125/138)   \rReceiving objects:  91% (126/138)   \rReceiving objects:  92% (127/138)   \rReceiving objects:  93% (129/138)   \rReceiving objects:  94% (130/138)   \rReceiving objects:  95% (132/138)   \rReceiving objects:  96% (133/138)   \rReceiving objects:  97% (134/138)   \rReceiving objects:  98% (136/138)   \rReceiving objects:  99% (137/138)   \rReceiving objects: 100% (138/138)   \rReceiving objects: 100% (138/138), 201.58 KiB | 12.60 MiB/s, done.\n",
            "Resolving deltas:   0% (0/69)   \rResolving deltas:  10% (7/69)   \rResolving deltas:  57% (40/69)   \rResolving deltas:  73% (51/69)   \rResolving deltas:  75% (52/69)   \rResolving deltas:  86% (60/69)   \rResolving deltas:  92% (64/69)   \rResolving deltas:  95% (66/69)   \rResolving deltas:  97% (67/69)   \rResolving deltas: 100% (69/69)   \rResolving deltas: 100% (69/69), done.\n",
            "/content/Raianars_July_2020/ANN_read_matrix/Raianars_July_2020/Raianars_July_2020/ANN_read_matrix/Raianars_July_2020/Raianars_July_2020/ANN_read_matrix/Raianars_July_2020/Raianars_July_2020/ANN_read_matrix/Raianars_July_2020\n",
            "run= 0 total=50 Fobj= 0.0 Time= 0.5450423836708069\n",
            "run= 1 total=50 Fobj= 0.0 Time= 1.082580836613973\n",
            "run= 2 total=50 Fobj= 0.0 Time= 1.6245495557785035\n",
            "run= 3 total=50 Fobj= 0.0 Time= 2.163944923877716\n",
            "run= 4 total=50 Fobj= 0.0 Time= 2.7071361780166625\n",
            "run= 5 total=50 Fobj= 0.0 Time= 3.2550429264704386\n",
            "run= 6 total=50 Fobj= 0.0 Time= 3.8070306221644086\n",
            "run= 7 total=50 Fobj= 0.0 Time= 4.3530420660972595\n",
            "run= 8 total=50 Fobj= 0.0 Time= 4.894247821966807\n",
            "run= 9 total=50 Fobj= 0.0 Time= 5.433739976088206\n",
            "run= 10 total=50 Fobj= 0.0 Time= 5.981751302878062\n",
            "run= 11 total=50 Fobj= 0.0 Time= 6.524228807290395\n",
            "run= 12 total=50 Fobj= 0.0 Time= 7.068706476688385\n",
            "run= 13 total=50 Fobj= 0.0 Time= 7.609238739808401\n",
            "run= 14 total=50 Fobj= 0.0 Time= 8.15503808259964\n",
            "run= 15 total=50 Fobj= 0.0 Time= 8.696104915936788\n",
            "run= 16 total=50 Fobj= 0.0 Time= 9.241418155034383\n",
            "run= 17 total=50 Fobj= 0.0 Time= 9.787550024191539\n",
            "run= 18 total=50 Fobj= 0.0 Time= 10.332447425524395\n",
            "run= 19 total=50 Fobj= 0.0 Time= 10.872967565059662\n",
            "run= 20 total=50 Fobj= 0.0 Time= 11.412616964181264\n",
            "run= 21 total=50 Fobj= 0.0 Time= 11.965746970971425\n",
            "run= 22 total=50 Fobj= 0.0 Time= 12.505850819746653\n",
            "run= 23 total=50 Fobj= 0.0 Time= 13.049418119589488\n",
            "run= 24 total=50 Fobj= 0.0 Time= 13.593595937887828\n",
            "run= 25 total=50 Fobj= 0.0 Time= 14.141368059317271\n",
            "run= 26 total=50 Fobj= 0.0 Time= 14.685453820228577\n",
            "run= 27 total=50 Fobj= 0.0 Time= 15.228280635674794\n",
            "run= 28 total=50 Fobj= 0.0 Time= 15.781819383303324\n",
            "run= 29 total=50 Fobj= 0.0 Time= 16.325958240032197\n",
            "run= 30 total=50 Fobj= 0.0 Time= 16.872250167528787\n",
            "run= 31 total=50 Fobj= 0.0 Time= 17.41742205619812\n",
            "run= 32 total=50 Fobj= 0.0 Time= 17.959658964474997\n",
            "run= 33 total=50 Fobj= 0.0 Time= 18.505143253008523\n",
            "run= 34 total=50 Fobj= 0.0 Time= 19.045294376214347\n",
            "run= 35 total=50 Fobj= 0.0 Time= 19.591511968771616\n",
            "run= 36 total=50 Fobj= 0.0 Time= 20.136969721317293\n",
            "run= 37 total=50 Fobj= 0.0 Time= 20.680615417162578\n",
            "run= 38 total=50 Fobj= 0.0 Time= 21.221720818678538\n",
            "run= 39 total=50 Fobj= 0.0 Time= 21.775736316045126\n",
            "run= 40 total=50 Fobj= 0.0 Time= 22.320077109336854\n",
            "run= 41 total=50 Fobj= 0.0 Time= 22.870533939202627\n",
            "run= 42 total=50 Fobj= 0.0 Time= 23.416853809356688\n",
            "run= 43 total=50 Fobj= 0.0 Time= 23.96197977463404\n",
            "run= 44 total=50 Fobj= 0.0 Time= 24.505653023719788\n",
            "run= 45 total=50 Fobj= 0.0 Time= 25.050122793515524\n",
            "run= 46 total=50 Fobj= 0.0 Time= 25.59399799903234\n",
            "run= 47 total=50 Fobj= 0.0 Time= 26.139878344535827\n",
            "run= 48 total=50 Fobj= 0.0 Time= 26.68093636830648\n",
            "run= 49 total=50 Fobj= 0.0 Time= 27.224639705816905\n"
          ],
          "name": "stdout"
        }
      ]
    },
    {
      "cell_type": "code",
      "metadata": {
        "id": "3W8R6htAHO63",
        "colab_type": "code",
        "colab": {
          "base_uri": "https://localhost:8080/",
          "height": 323
        },
        "outputId": "a975db73-a68c-41ef-96b8-d6038919f11d"
      },
      "source": [
        "############################## Cálculo dos Parâmetros de Avaliação   \n",
        "TIME = (time.time() - start_time)/RUNS\n",
        "BEST_AGENTS=np.array(BEST_AGENTS)\n",
        "BEST_AGENTS_ST= BEST_AGENTS[BEST_AGENTS[:,-1].argsort()]\n",
        "BEST=BEST_AGENTS_ST[0]\n",
        "WORSE=BEST_AGENTS_ST[-1]\n",
        "MEAN=np.mean(BEST_AGENTS,axis=0)\n",
        "MAXFO=BEST_AGENTS[:,-1].max()\n",
        "MINFO=BEST_AGENTS[:,-1].min()\n",
        "STD=BEST_AGENTS[:,-1].std()\n",
        "\n",
        "nome='DE_STAT_Fo-'+str(mut)+'_CRo-'+str(crossp)+'_D-'+str(dim)+'_Interv-'+str(ITE)\n",
        "print('DE_','TOTAL=',TOTAL,'Iterações=',ITE*its,'Dim=', dim,\"Min/Max=\",MIN[0],\"/\",MAX[0],'_',Fun.__name__)\n",
        "print(nome, '\\n')\n",
        "#print('BEST: ',BEST)\n",
        "#print('MÉDIA: ',MEAN)\n",
        "print('MÉDIA: ',MEAN[-1])\n",
        "print('MIN __:',MINFO)\n",
        "print('MAX__: ',MAXFO)\n",
        "print('STD __:',STD)\n",
        "print(\"Tempo Médio= %.3f segundos ---\" % (TIME))\n",
        "print(RUNS,'Rodadas') \n",
        "print()\n",
        "print('BEST: ',BEST)"
      ],
      "execution_count": 56,
      "outputs": [
        {
          "output_type": "stream",
          "text": [
            "DE_ TOTAL= 300000 Iterações= 2000 Dim= 30 Min/Max= -600 / 600 _ Griewank\n",
            "DE_STAT_Fo-0.5_CRo-0.5_D-30_Interv-2000 \n",
            "\n",
            "MÉDIA:  0.0\n",
            "MIN __: 0.0\n",
            "MAX__:  0.0\n",
            "STD __: 0.0\n",
            "Tempo Médio= 32.670 segundos ---\n",
            "50 Rodadas\n",
            "\n",
            "BEST:  [-8.63066440e-09 -9.38738381e-09 -1.43159018e-08 -1.91221959e-08\n",
            "  3.84224092e-09 -1.87466624e-08 -4.37817964e-09  4.49217203e-09\n",
            " -1.86105974e-08  1.76384591e-09  2.19887712e-08 -1.91333527e-08\n",
            " -1.12243771e-08  3.80121897e-08  1.52465820e-08  1.40103637e-08\n",
            "  1.78962321e-08 -2.61641099e-08  4.14450227e-09 -1.80701477e-08\n",
            " -2.00193879e-08  2.15567207e-08 -1.55967112e-08  3.65870763e-08\n",
            " -5.02125549e-08 -2.23346779e-08 -5.26332266e-09 -3.09198031e-08\n",
            "  2.85989540e-08  4.72570888e-08  0.00000000e+00]\n"
          ],
          "name": "stdout"
        }
      ]
    }
  ]
}