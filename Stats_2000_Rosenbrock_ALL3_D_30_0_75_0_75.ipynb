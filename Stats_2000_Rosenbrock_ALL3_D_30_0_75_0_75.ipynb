{
  "nbformat": 4,
  "nbformat_minor": 0,
  "metadata": {
    "colab": {
      "name": "Stats_2000_Rosenbrock_ALL3_D_30_0.75_0.75.ipynb",
      "provenance": [],
      "collapsed_sections": [],
      "include_colab_link": true
    },
    "kernelspec": {
      "name": "python3",
      "display_name": "Python 3"
    }
  },
  "cells": [
    {
      "cell_type": "markdown",
      "metadata": {
        "id": "view-in-github",
        "colab_type": "text"
      },
      "source": [
        "<a href=\"https://colab.research.google.com/github/RaianaSeixas/Paper-1-Final-Results/blob/master/Stats_2000_Rosenbrock_ALL3_D_30_0_75_0_75.ipynb\" target=\"_parent\"><img src=\"https://colab.research.google.com/assets/colab-badge.svg\" alt=\"Open In Colab\"/></a>"
      ]
    },
    {
      "cell_type": "code",
      "metadata": {
        "id": "MC26Bm1UyUR5",
        "colab_type": "code",
        "colab": {
          "base_uri": "https://localhost:8080/",
          "height": 34
        },
        "outputId": "c0ba5075-72e0-4b31-9429-5c579ff49e2b"
      },
      "source": [
        "!pip install pyade-python"
      ],
      "execution_count": 23,
      "outputs": [
        {
          "output_type": "stream",
          "text": [
            "Requirement already satisfied: pyade-python in /usr/local/lib/python3.6/dist-packages (1.1)\n"
          ],
          "name": "stdout"
        }
      ]
    },
    {
      "cell_type": "code",
      "metadata": {
        "id": "rRwqrtCmgzdZ",
        "colab_type": "code",
        "colab": {
          "base_uri": "https://localhost:8080/",
          "height": 51
        },
        "outputId": "5a7ed9cb-94f5-4ad8-ccc7-c379997883ca"
      },
      "source": [
        "!pip install PyFDE"
      ],
      "execution_count": 24,
      "outputs": [
        {
          "output_type": "stream",
          "text": [
            "Requirement already satisfied: PyFDE in /usr/local/lib/python3.6/dist-packages (1.3.0)\n",
            "Requirement already satisfied: numpy in /usr/local/lib/python3.6/dist-packages (from PyFDE) (1.18.5)\n"
          ],
          "name": "stdout"
        }
      ]
    },
    {
      "cell_type": "code",
      "metadata": {
        "id": "anFukot-ypn6",
        "colab_type": "code",
        "colab": {}
      },
      "source": [
        "import pyade.ilshade \n",
        "import pyade.sade \n",
        "import pyade.jso\n",
        "import pyade.shade\n",
        "import pyade.jade \n",
        "import pyfde\n",
        "import numpy as np\n",
        "import pandas as pd\n",
        "import time"
      ],
      "execution_count": 25,
      "outputs": []
    },
    {
      "cell_type": "code",
      "metadata": {
        "id": "6Oh714_-z1Ia",
        "colab_type": "code",
        "colab": {
          "base_uri": "https://localhost:8080/",
          "height": 153
        },
        "outputId": "05e6a32f-d98c-4d10-90d8-c843240d17a3"
      },
      "source": [
        "!git clone https://github.com/ucfilho/Raianars_July_2020 #clonar do Github\n",
        "%cd Raianars_July_2020"
      ],
      "execution_count": 26,
      "outputs": [
        {
          "output_type": "stream",
          "text": [
            "Cloning into 'Raianars_July_2020'...\n",
            "remote: Enumerating objects: 15, done.\u001b[K\n",
            "remote: Counting objects:   6% (1/15)\u001b[K\rremote: Counting objects:  13% (2/15)\u001b[K\rremote: Counting objects:  20% (3/15)\u001b[K\rremote: Counting objects:  26% (4/15)\u001b[K\rremote: Counting objects:  33% (5/15)\u001b[K\rremote: Counting objects:  40% (6/15)\u001b[K\rremote: Counting objects:  46% (7/15)\u001b[K\rremote: Counting objects:  53% (8/15)\u001b[K\rremote: Counting objects:  60% (9/15)\u001b[K\rremote: Counting objects:  66% (10/15)\u001b[K\rremote: Counting objects:  73% (11/15)\u001b[K\rremote: Counting objects:  80% (12/15)\u001b[K\rremote: Counting objects:  86% (13/15)\u001b[K\rremote: Counting objects:  93% (14/15)\u001b[K\rremote: Counting objects: 100% (15/15)\u001b[K\rremote: Counting objects: 100% (15/15), done.\u001b[K\n",
            "remote: Compressing objects:   6% (1/15)\u001b[K\rremote: Compressing objects:  13% (2/15)\u001b[K\rremote: Compressing objects:  20% (3/15)\u001b[K\rremote: Compressing objects:  26% (4/15)\u001b[K\rremote: Compressing objects:  33% (5/15)\u001b[K\rremote: Compressing objects:  40% (6/15)\u001b[K\rremote: Compressing objects:  46% (7/15)\u001b[K\rremote: Compressing objects:  53% (8/15)\u001b[K\rremote: Compressing objects:  60% (9/15)\u001b[K\rremote: Compressing objects:  66% (10/15)\u001b[K\rremote: Compressing objects:  73% (11/15)\u001b[K\rremote: Compressing objects:  80% (12/15)\u001b[K\rremote: Compressing objects:  86% (13/15)\u001b[K\rremote: Compressing objects:  93% (14/15)\u001b[K\rremote: Compressing objects: 100% (15/15)\u001b[K\rremote: Compressing objects: 100% (15/15), done.\u001b[K\n",
            "Receiving objects:   0% (1/138)   \rReceiving objects:   1% (2/138)   \rReceiving objects:   2% (3/138)   \rReceiving objects:   3% (5/138)   \rReceiving objects:   4% (6/138)   \rReceiving objects:   5% (7/138)   \rReceiving objects:   6% (9/138)   \rReceiving objects:   7% (10/138)   \rReceiving objects:   8% (12/138)   \rReceiving objects:   9% (13/138)   \rReceiving objects:  10% (14/138)   \rReceiving objects:  11% (16/138)   \rReceiving objects:  12% (17/138)   \rReceiving objects:  13% (18/138)   \rReceiving objects:  14% (20/138)   \rReceiving objects:  15% (21/138)   \rReceiving objects:  16% (23/138)   \rReceiving objects:  17% (24/138)   \rReceiving objects:  18% (25/138)   \rReceiving objects:  19% (27/138)   \rReceiving objects:  20% (28/138)   \rReceiving objects:  21% (29/138)   \rReceiving objects:  22% (31/138)   \rReceiving objects:  23% (32/138)   \rReceiving objects:  24% (34/138)   \rReceiving objects:  25% (35/138)   \rReceiving objects:  26% (36/138)   \rReceiving objects:  27% (38/138)   \rReceiving objects:  28% (39/138)   \rReceiving objects:  29% (41/138)   \rReceiving objects:  30% (42/138)   \rReceiving objects:  31% (43/138)   \rReceiving objects:  32% (45/138)   \rReceiving objects:  33% (46/138)   \rReceiving objects:  34% (47/138)   \rReceiving objects:  35% (49/138)   \rReceiving objects:  36% (50/138)   \rReceiving objects:  37% (52/138)   \rremote: Total 138 (delta 7), reused 0 (delta 0), pack-reused 123\u001b[K\n",
            "Receiving objects:  38% (53/138)   \rReceiving objects:  39% (54/138)   \rReceiving objects:  40% (56/138)   \rReceiving objects:  41% (57/138)   \rReceiving objects:  42% (58/138)   \rReceiving objects:  43% (60/138)   \rReceiving objects:  44% (61/138)   \rReceiving objects:  45% (63/138)   \rReceiving objects:  46% (64/138)   \rReceiving objects:  47% (65/138)   \rReceiving objects:  48% (67/138)   \rReceiving objects:  49% (68/138)   \rReceiving objects:  50% (69/138)   \rReceiving objects:  51% (71/138)   \rReceiving objects:  52% (72/138)   \rReceiving objects:  53% (74/138)   \rReceiving objects:  54% (75/138)   \rReceiving objects:  55% (76/138)   \rReceiving objects:  56% (78/138)   \rReceiving objects:  57% (79/138)   \rReceiving objects:  58% (81/138)   \rReceiving objects:  59% (82/138)   \rReceiving objects:  60% (83/138)   \rReceiving objects:  61% (85/138)   \rReceiving objects:  62% (86/138)   \rReceiving objects:  63% (87/138)   \rReceiving objects:  64% (89/138)   \rReceiving objects:  65% (90/138)   \rReceiving objects:  66% (92/138)   \rReceiving objects:  67% (93/138)   \rReceiving objects:  68% (94/138)   \rReceiving objects:  69% (96/138)   \rReceiving objects:  70% (97/138)   \rReceiving objects:  71% (98/138)   \rReceiving objects:  72% (100/138)   \rReceiving objects:  73% (101/138)   \rReceiving objects:  74% (103/138)   \rReceiving objects:  75% (104/138)   \rReceiving objects:  76% (105/138)   \rReceiving objects:  77% (107/138)   \rReceiving objects:  78% (108/138)   \rReceiving objects:  79% (110/138)   \rReceiving objects:  80% (111/138)   \rReceiving objects:  81% (112/138)   \rReceiving objects:  82% (114/138)   \rReceiving objects:  83% (115/138)   \rReceiving objects:  84% (116/138)   \rReceiving objects:  85% (118/138)   \rReceiving objects:  86% (119/138)   \rReceiving objects:  87% (121/138)   \rReceiving objects:  88% (122/138)   \rReceiving objects:  89% (123/138)   \rReceiving objects:  90% (125/138)   \rReceiving objects:  91% (126/138)   \rReceiving objects:  92% (127/138)   \rReceiving objects:  93% (129/138)   \rReceiving objects:  94% (130/138)   \rReceiving objects:  95% (132/138)   \rReceiving objects:  96% (133/138)   \rReceiving objects:  97% (134/138)   \rReceiving objects:  98% (136/138)   \rReceiving objects:  99% (137/138)   \rReceiving objects: 100% (138/138)   \rReceiving objects: 100% (138/138), 201.58 KiB | 7.75 MiB/s, done.\n",
            "Resolving deltas:   0% (0/69)   \rResolving deltas:  10% (7/69)   \rResolving deltas:  57% (40/69)   \rResolving deltas:  69% (48/69)   \rResolving deltas:  73% (51/69)   \rResolving deltas:  81% (56/69)   \rResolving deltas:  89% (62/69)   \rResolving deltas:  97% (67/69)   \rResolving deltas:  98% (68/69)   \rResolving deltas: 100% (69/69)   \rResolving deltas: 100% (69/69), done.\n",
            "/content/Raianars_July_2020/ANN_read_matrix/Raianars_July_2020/Raianars_July_2020/Raianars_July_2020\n"
          ],
          "name": "stdout"
        }
      ]
    },
    {
      "cell_type": "code",
      "metadata": {
        "id": "LnzftXkky78A",
        "colab_type": "code",
        "colab": {}
      },
      "source": [
        "import Go2Ann\n",
        "import de_soma_Insight\n",
        "import de_bounds_matriz\n",
        "from AvaliaX import AvaliaX\n",
        "from GeraIndices import GeraIndices"
      ],
      "execution_count": 27,
      "outputs": []
    },
    {
      "cell_type": "code",
      "metadata": {
        "id": "HNW92728z7fR",
        "colab_type": "code",
        "colab": {}
      },
      "source": [
        "import Function\n",
        "import Go2MinMax"
      ],
      "execution_count": 28,
      "outputs": []
    },
    {
      "cell_type": "code",
      "metadata": {
        "id": "T_C-e7aH0CZH",
        "colab_type": "code",
        "colab": {}
      },
      "source": [
        "ITE=2000 #10 # PONTOS quantas vezes vai alteral NPAR \n",
        "NPAR=100 # NUMBER OF PARTICLES\n",
        "dim=30\n",
        "RUNS=50\n",
        "fchoice='Rosenbrock'  \n",
        "Fun=Function.Rosenbrock\n",
        "\n",
        "MIN,MAX=Go2MinMax.Intervalo(dim,fchoice)\n",
        "bounds = [(0,0)]*dim\n",
        "\n",
        "for i in range(dim):\n",
        "  bounds[i] = (MIN[i],MAX[i])\n",
        "\n",
        "start_time = time.time() "
      ],
      "execution_count": 29,
      "outputs": []
    },
    {
      "cell_type": "code",
      "metadata": {
        "id": "Nqv5qp9yzQEw",
        "colab_type": "code",
        "colab": {}
      },
      "source": [
        "############################### INPUT INFORMATION (FRANNK)\n",
        "Fc=0.1 # fator de correcao parametros da ANN\n",
        "its=1 #10 # quantas vezes vai usar o NPAR antes de alterar de novo\n",
        "mut=0.75\n",
        "crossp=0.75\n",
        "Fi=mut;CRi=crossp;# para impressão\n",
        "PAR=len(MAX) #NUM DE PARAMETROS A SER OTIMIZADOS"
      ],
      "execution_count": 30,
      "outputs": []
    },
    {
      "cell_type": "code",
      "metadata": {
        "id": "q77YsFa82zFU",
        "colab_type": "code",
        "colab": {
          "base_uri": "https://localhost:8080/",
          "height": 289
        },
        "outputId": "faf3d0f2-b0c4-47d7-81f0-61c6d5b03933"
      },
      "source": [
        "# JADE\n",
        "algorithm = pyade.jso\n",
        "BEST_AGENTS=[]\n",
        "for i in range(RUNS):\n",
        "  ANSWER_AGENTS=[]\n",
        "  solver = pyfde.JADE(Fun, n_dim=dim, n_pop=NPAR, limits=bounds, minimize=True)\n",
        "  solver.p = 0.05\n",
        "  solver.c = 0.1\n",
        "  solver.cr = 0.5\n",
        "  solver.f = 0.5\n",
        "  best, fit = solver.run(n_it=ITE)\n",
        "  for x in best:\n",
        "    ANSWER_AGENTS.append(x)\n",
        "  ANSWER_AGENTS.append(fit)\n",
        "  BEST_AGENTS.append(ANSWER_AGENTS)\n",
        "BEST_AGENTS=np.array(BEST_AGENTS)\n",
        "TIME = (time.time() - start_time)/RUNS\n",
        "BEST_AGENTS=np.array(BEST_AGENTS)\n",
        "BEST_AGENTS_ST= BEST_AGENTS[BEST_AGENTS[:,-1].argsort()]\n",
        "BEST=BEST_AGENTS_ST[0]\n",
        "WORSE=BEST_AGENTS_ST[-1]\n",
        "MEAN=np.mean(BEST_AGENTS,axis=0)\n",
        "MAXFO=BEST_AGENTS[:,-1].max()\n",
        "MINFO=BEST_AGENTS[:,-1].min()\n",
        "STD=BEST_AGENTS[:,-1].std()\n",
        "nome='JADE_Fo-'+str(0)+'_CRo-'+str(0)\n",
        "print(nome,'NPAR',NPAR,'Iterações=',ITE,'Dim=',dim ,\"Min/Max=\",MIN[0],\"/\",MAX[0],'_',Fun.__name__)\n",
        "print( '\\n')\n",
        "print('MÉDIA: ',MEAN[-1])\n",
        "print('MIN __:',MINFO)\n",
        "print('MAX__: ',MAXFO)\n",
        "print('STD __:',STD)\n",
        "print(\"Tempo Médio= %.3f segundos ---\" % (TIME))\n",
        "print(RUNS,'Rodadas') \n",
        "print()\n",
        "print('BEST: ',BEST)"
      ],
      "execution_count": 31,
      "outputs": [
        {
          "output_type": "stream",
          "text": [
            "JADE_Fo-0_CRo-0 NPAR 100 Iterações= 2000 Dim= 30 Min/Max= -10 / 10 _ Rosenbrock\n",
            "\n",
            "\n",
            "MÉDIA:  -0.07973247708601859\n",
            "MIN __: -3.98662385430093\n",
            "MAX__:  -1.055166751298962e-24\n",
            "STD __: 0.5581273396021301\n",
            "Tempo Médio= 5.329 segundos ---\n",
            "50 Rodadas\n",
            "\n",
            "BEST:  [-0.9932861   0.99665107  0.99833032  0.99916774  0.9995852   0.99979328\n",
            "  0.99989698  0.99994866  0.99997442  0.99998725  0.99999365  0.99999683\n",
            "  0.99999842  0.99999921  0.99999961  0.9999998   0.9999999   0.99999995\n",
            "  0.99999998  0.99999999  0.99999999  1.          1.          1.\n",
            "  1.          1.          1.          1.          0.99999999  0.99999998\n",
            " -3.98662385]\n"
          ],
          "name": "stdout"
        }
      ]
    },
    {
      "cell_type": "code",
      "metadata": {
        "id": "gXdUgSStzppX",
        "colab_type": "code",
        "colab": {}
      },
      "source": [
        "# FRANNK START HERE !!!!!"
      ],
      "execution_count": 32,
      "outputs": []
    },
    {
      "cell_type": "code",
      "metadata": {
        "id": "raWOfeJBztuj",
        "colab_type": "code",
        "colab": {
          "base_uri": "https://localhost:8080/",
          "height": 136
        },
        "outputId": "ecea03d9-b705-4702-ae90-60df7cd24296"
      },
      "source": [
        "!git clone https://github.com/ucfilho/ANN_read_matrix #clonar do Github\n",
        "%cd ANN_read_matrix"
      ],
      "execution_count": 33,
      "outputs": [
        {
          "output_type": "stream",
          "text": [
            "Cloning into 'ANN_read_matrix'...\n",
            "remote: Enumerating objects: 20, done.\u001b[K\n",
            "remote: Counting objects:   5% (1/20)\u001b[K\rremote: Counting objects:  10% (2/20)\u001b[K\rremote: Counting objects:  15% (3/20)\u001b[K\rremote: Counting objects:  20% (4/20)\u001b[K\rremote: Counting objects:  25% (5/20)\u001b[K\rremote: Counting objects:  30% (6/20)\u001b[K\rremote: Counting objects:  35% (7/20)\u001b[K\rremote: Counting objects:  40% (8/20)\u001b[K\rremote: Counting objects:  45% (9/20)\u001b[K\rremote: Counting objects:  50% (10/20)\u001b[K\rremote: Counting objects:  55% (11/20)\u001b[K\rremote: Counting objects:  60% (12/20)\u001b[K\rremote: Counting objects:  65% (13/20)\u001b[K\rremote: Counting objects:  70% (14/20)\u001b[K\rremote: Counting objects:  75% (15/20)\u001b[K\rremote: Counting objects:  80% (16/20)\u001b[K\rremote: Counting objects:  85% (17/20)\u001b[K\rremote: Counting objects:  90% (18/20)\u001b[K\rremote: Counting objects:  95% (19/20)\u001b[K\rremote: Counting objects: 100% (20/20)\u001b[K\rremote: Counting objects: 100% (20/20), done.\u001b[K\n",
            "remote: Compressing objects:   5% (1/18)\u001b[K\rremote: Compressing objects:  11% (2/18)\u001b[K\rremote: Compressing objects:  16% (3/18)\u001b[K\rremote: Compressing objects:  22% (4/18)\u001b[K\rremote: Compressing objects:  27% (5/18)\u001b[K\rremote: Compressing objects:  33% (6/18)\u001b[K\rremote: Compressing objects:  38% (7/18)\u001b[K\rremote: Compressing objects:  44% (8/18)\u001b[K\rremote: Compressing objects:  50% (9/18)\u001b[K\rremote: Compressing objects:  55% (10/18)\u001b[K\rremote: Compressing objects:  61% (11/18)\u001b[K\rremote: Compressing objects:  66% (12/18)\u001b[K\rremote: Compressing objects:  72% (13/18)\u001b[K\rremote: Compressing objects:  77% (14/18)\u001b[K\rremote: Compressing objects:  83% (15/18)\u001b[K\rremote: Compressing objects:  88% (16/18)\u001b[K\rremote: Compressing objects:  94% (17/18)\u001b[K\rremote: Compressing objects: 100% (18/18)\u001b[K\rremote: Compressing objects: 100% (18/18), done.\u001b[K\n",
            "remote: Total 20 (delta 5), reused 0 (delta 0), pack-reused 0\u001b[K\n",
            "Unpacking objects:   5% (1/20)   \rUnpacking objects:  10% (2/20)   \rUnpacking objects:  15% (3/20)   \rUnpacking objects:  20% (4/20)   \rUnpacking objects:  25% (5/20)   \rUnpacking objects:  30% (6/20)   \rUnpacking objects:  35% (7/20)   \rUnpacking objects:  40% (8/20)   \rUnpacking objects:  45% (9/20)   \rUnpacking objects:  50% (10/20)   \rUnpacking objects:  55% (11/20)   \rUnpacking objects:  60% (12/20)   \rUnpacking objects:  65% (13/20)   \rUnpacking objects:  70% (14/20)   \rUnpacking objects:  75% (15/20)   \rUnpacking objects:  80% (16/20)   \rUnpacking objects:  85% (17/20)   \rUnpacking objects:  90% (18/20)   \rUnpacking objects:  95% (19/20)   \rUnpacking objects: 100% (20/20)   \rUnpacking objects: 100% (20/20), done.\n",
            "/content/Raianars_July_2020/ANN_read_matrix/Raianars_July_2020/Raianars_July_2020/Raianars_July_2020/ANN_read_matrix\n"
          ],
          "name": "stdout"
        }
      ]
    },
    {
      "cell_type": "code",
      "metadata": {
        "id": "N2lyPfivzwGv",
        "colab_type": "code",
        "colab": {
          "base_uri": "https://localhost:8080/",
          "height": 1000
        },
        "outputId": "341b0f3a-0c80-4ff0-9814-a114ac043faf"
      },
      "source": [
        "ANN_F=pd.read_csv('ANN_INSIGHT_Valor_F.csv')\n",
        "ANN_CR=pd.read_csv('ANN_INSIGHT_CR.csv')\n",
        "syn0_F,syn1_F,X_max_F,X_min_F=Go2Ann.GetMatriz(ANN_F)\n",
        "syn0_CR,syn1_CR,X_max_CR,X_min_CR=Go2Ann.GetMatriz(ANN_CR)\n",
        "fields = ['DI RELATIVO','FRAC Its','Fo','CRo']\n",
        "\n",
        "#TOTAL=7*dim*its*ITE\n",
        "TOTAL=10*dim*its*ITE\n",
        "TOTAL=int(TOTAL/2)   # CONFERIR SE ESTE EH O MELHOR LUGAR\n",
        "\n",
        "dimensions=len(MAX)\n",
        "start_time = time.time() #INICIALIZA CONTAGEM DO TEMPO\n",
        "\n",
        "MAX_P=np.zeros(ITE) # ATENCAO para variar F e Cr MAX_P passa a ser 3 vezes maior\n",
        "MIN_P=np.zeros(ITE) # ATENCAO para variar F e Cr MIN_P passa a ser 3 vezes maior\n",
        "\n",
        "for i in range(dim):\n",
        "  MAX_P[i]=MAX[i] \n",
        "  MIN_P[i]=MIN[i]\n",
        "\n",
        "rodadas=1\n",
        "for i in range(rodadas):\n",
        "  SOMA=0\n",
        "  pop = np.random.rand(NPAR, dimensions)\n",
        "  diff=np.zeros(PAR)\n",
        "  for ii in range(PAR):\n",
        "    diff[ii] = MAX[ii]-MIN[ii]\n",
        "  X = MIN + pop * diff\n",
        "    \n",
        "  PONTOS=ITE # DIVISOES DA POPULACAO\n",
        "start_time = time.time()\n",
        "BEST_AGENTS=[]\n",
        "MAT_stat=[]\n",
        "for i in range(RUNS):\n",
        "    MAT=[] \n",
        "    mut=Fi\n",
        "    crossp=CRi\n",
        "    SOMA=0\n",
        "    SOMAf=0\n",
        "    start_ite = time.time()\n",
        "    delta_time=(start_ite-start_time)/60\n",
        "    print('ite=',i,'time=',delta_time)\n",
        "    pop = np.random.rand(NPAR, dim)\n",
        "    diff=np.zeros(PAR)\n",
        "    for ii in range(PAR):\n",
        "      diff[ii] = MAX[ii]-MIN[ii]\n",
        "    X = MIN + pop * diff\n",
        "    Xf = MIN + pop * diff\n",
        "    \n",
        "    DIo=1e99\n",
        "  \n",
        "    CRo=crossp;Fo=mut;\n",
        "    Fitness = np.asarray([Fun(ind) for ind in X])\n",
        "\n",
        "    XY,BEST_XY,BESTo,FOBESTo=AvaliaX(X,Fitness)\n",
        "    nrow,ncol=X.shape\n",
        "\n",
        "    QUANT=17;MAT_INDo=np.zeros((1,QUANT)); # quantos indices esta fazendo\n",
        "    MAT_INDo[0,5]=nrow  # VALOR NP\n",
        "    MAT_INDo[0,6]=Fo    # VALOR Fo   \n",
        "    MAT_INDo[0,7]=CRo   # VALOR CRo\n",
        "  \n",
        "    MAT_INDo=GeraIndices(X,BESTo,FOBESTo,DIo,MAT_INDo,SOMA,TOTAL,syn0_F,\n",
        "                        syn1_F,X_max_F,X_min_F,syn0_CR,syn1_CR,X_max_CR,\n",
        "                        X_min_CR,Fc,fields,Fun)\n",
        "  \n",
        "    DIo=np.copy(MAT_INDo[0,0])\n",
        "    MAT_INDo[0,15]=Fo    # VALOR Fo   \n",
        "    MAT_INDo[0,16]=CRo   # VALOR CRo\n",
        "    #ind_crossp=ITE-1\n",
        "\n",
        "    \n",
        "    for k in range(ITE):\n",
        "      X,BEST,FOBEST,XY,BEST_XY,SOMA= de_soma_Insight.de(MAX,MIN, mut, crossp,NPAR,its,Fun,X,SOMA,TOTAL)\n",
        "      #Xf,BESTf,FOBESTf,XYf,BEST_XYf,SOMAf= de_soma_Insight.de(MAX,MIN, Fi, CRi, NPAR,its,Fun,Xf,SOMAf,TOTAL)\n",
        "\n",
        "      \n",
        "      MAT_IND=GeraIndices(X,BESTo,FOBESTo,DIo,MAT_INDo,SOMA,TOTAL,syn0_F,\n",
        "                          syn1_F,X_max_F,X_min_F,syn0_CR,syn1_CR,X_max_CR,\n",
        "                          X_min_CR,Fc,fields,Fun)\n",
        "    \n",
        "      BESTo=np.copy(BEST);FOBESTo=np.copy(FOBEST);\n",
        "      MAT.append(MAT_IND.ravel())\n",
        "    \n",
        "      MAT_INDo[0,6]=MAT_IND[0,15]   # VALOR Fo   \n",
        "      MAT_INDo[0,7]=MAT_IND[0,16]   # VALOR CRo\n",
        "      mut=MAT_IND[0,15]\n",
        "      crossp=MAT_IND[0,16]\n",
        "\n",
        "      Fitness = np.asarray([Fun(ind) for ind in X])\n",
        "      #Fitnessf = np.asarray([Fun(ind) for ind in Xf])\n",
        "      Maior=np.argmax(Fitness)\n",
        "      #Maiorf=np.argmax(Fitnessf)\n",
        "      Menor=np.argmin(Fitness)\n",
        "      #Menorf=np.argmin(Fitnessf)\n",
        "\n",
        "      #X[Maior,:]=np.copy(Xf[Menorf,:])\n",
        "      #Xf[Maiorf,:]=np.copy(X[Menor,:])\n",
        "      \n",
        "    BEST_AGENTS.append(BEST_XY)\n",
        "    MAT_stat.append(MAT)\n",
        "    #print(\"GlobalParam e Solucao:\", BEST,\"Funcao=\",FOBEST)\n",
        "    \n",
        "############################## Cálculo dos Parâmetros de Avaliação   \n",
        "TIME = (time.time() - start_time)/RUNS\n",
        "BEST_AGENTS=np.array(BEST_AGENTS)\n",
        "BEST_AGENTS_ST= BEST_AGENTS[BEST_AGENTS[:,-1].argsort()]\n",
        "BEST=BEST_AGENTS_ST[0]\n",
        "WORSE=BEST_AGENTS_ST[-1]\n",
        "MEAN=np.mean(BEST_AGENTS,axis=0)\n",
        "MAXFO=BEST_AGENTS[:,-1].max()\n",
        "MINFO=BEST_AGENTS[:,-1].min()\n",
        "STD=BEST_AGENTS[:,-1].std()\n",
        "\n",
        "print()\n",
        "nome='_ANN_Div3x4_Fo-'+str(Fi)+'_CRo-'+str(CRi)+'_D-'+str(dim)+'_Interv-'+str(ITE)\n",
        "print('DE_POP_VAR_F_CR','TOTAL=',TOTAL,'Iterações=',ITE*its,'Dim=', PAR,\"Min/Max=\",MIN[0],\"/\",MAX[0],'_',Fun.__name__)\n",
        "print(nome, '\\n')\n",
        "print('MÉDIA: ',MEAN[-1])\n",
        "print('MIN __:',MINFO)\n",
        "print('MAX__: ',MAXFO)\n",
        "print('STD __:',STD)\n",
        "print(\"Tempo Médio= %.3f segundos ---\" % (TIME))\n",
        "print(RUNS,'Rodadas') \n",
        "print()\n",
        "print('BEST: ',BEST)"
      ],
      "execution_count": 34,
      "outputs": [
        {
          "output_type": "stream",
          "text": [
            "ite= 0 time= 2.509752909342448e-05\n",
            "ite= 1 time= 3.017078502972921\n",
            "ite= 2 time= 6.022419528166453\n",
            "ite= 3 time= 9.035946317513783\n",
            "ite= 4 time= 12.044674722353617\n",
            "ite= 5 time= 15.058904739220937\n",
            "ite= 6 time= 18.07715051571528\n",
            "ite= 7 time= 21.099872799714408\n",
            "ite= 8 time= 24.10721247990926\n",
            "ite= 9 time= 27.11824411948522\n",
            "ite= 10 time= 30.128573489189147\n",
            "ite= 11 time= 33.13190060853958\n",
            "ite= 12 time= 36.13570831219355\n",
            "ite= 13 time= 39.14671000242233\n",
            "ite= 14 time= 42.15052237113317\n",
            "ite= 15 time= 45.158575518925986\n",
            "ite= 16 time= 48.16979146798452\n",
            "ite= 17 time= 51.17775307099024\n",
            "ite= 18 time= 54.18911195596059\n",
            "ite= 19 time= 57.19633116324743\n",
            "ite= 20 time= 60.20716214974721\n",
            "ite= 21 time= 63.221540892124175\n",
            "ite= 22 time= 66.22716236511866\n",
            "ite= 23 time= 69.24121053218842\n",
            "ite= 24 time= 72.25469896793365\n",
            "ite= 25 time= 75.26498067378998\n",
            "ite= 26 time= 78.27722640434901\n",
            "ite= 27 time= 81.29277667204539\n",
            "ite= 28 time= 84.30183914105098\n",
            "ite= 29 time= 87.32263786395391\n",
            "ite= 30 time= 90.34063846667608\n",
            "ite= 31 time= 93.37562989791235\n",
            "ite= 32 time= 96.38781424760819\n",
            "ite= 33 time= 99.40355645815531\n",
            "ite= 34 time= 102.41481908957164\n",
            "ite= 35 time= 105.43530073960622\n",
            "ite= 36 time= 108.44477892319361\n",
            "ite= 37 time= 111.45501656929652\n",
            "ite= 38 time= 114.45875614881516\n",
            "ite= 39 time= 117.47353007396062\n",
            "ite= 40 time= 120.47463692824046\n",
            "ite= 41 time= 123.4938654700915\n",
            "ite= 42 time= 126.50249381860097\n",
            "ite= 43 time= 129.51717836062113\n",
            "ite= 44 time= 132.535502799352\n",
            "ite= 45 time= 135.55760449965794\n",
            "ite= 46 time= 138.59124594132106\n",
            "ite= 47 time= 141.6215270201365\n",
            "ite= 48 time= 144.6358450770378\n",
            "ite= 49 time= 147.65767021576565\n",
            "\n",
            "DE_POP_VAR_F_CR TOTAL= 300000 Iterações= 2000 Dim= 30 Min/Max= -10 / 10 _ Rosenbrock\n",
            "_ANN_Div3x4_Fo-0.75_CRo-0.75_D-30_Interv-2000 \n",
            "\n",
            "MÉDIA:  23.758069584266238\n",
            "MIN __: 0.08653498989721004\n",
            "MAX__:  80.57864532929922\n",
            "STD __: 17.863277129945015\n",
            "Tempo Médio= 180.818 segundos ---\n",
            "50 Rodadas\n",
            "\n",
            "BEST:  [0.99824903 0.99897375 0.9990603  1.00186708 0.99979257 0.99864829\n",
            " 0.99714382 0.99883428 0.9986221  0.99965442 0.99857321 0.99763072\n",
            " 0.99763195 0.99809654 0.99809244 0.99497363 0.99556274 0.99364555\n",
            " 0.99428069 0.99396506 0.99461911 0.99744974 0.9993986  0.99959766\n",
            " 1.00108469 1.01585353 1.03099243 1.05740296 1.12382659 1.25414712\n",
            " 0.08653499]\n"
          ],
          "name": "stdout"
        }
      ]
    },
    {
      "cell_type": "code",
      "metadata": {
        "id": "egkWFpw6GiNo",
        "colab_type": "code",
        "colab": {
          "base_uri": "https://localhost:8080/",
          "height": 1000
        },
        "outputId": "6dd73ee4-5515-46d6-8cc7-98eb8bf8f99e"
      },
      "source": [
        "#DE_ tradicional\n",
        "\n",
        "!git clone https://github.com/ucfilho/Raianars_July_2020 #clonar do Github\n",
        "%cd Raianars_July_2020\n",
        "\n",
        "mut=0.5\n",
        "crossp=0.5\n",
        "\n",
        "SOMA=0\n",
        "start_time = time.time()\n",
        "BEST_AGENTS=[]\n",
        "MAT_stat=[]\n",
        "\n",
        "for i in range(RUNS):\n",
        "\n",
        "    pop = np.random.rand(NPAR, dim)\n",
        "    diff=np.zeros(dim)\n",
        "    for ii in range(dim):\n",
        "      diff[ii] = MAX[ii]-MIN[ii]\n",
        "    X = MIN + pop * diff\n",
        "\n",
        "    SOMA=0\n",
        "\n",
        "    for k in range(ITE):\n",
        "      X,BEST,FOBEST,XY,BEST_XY,SOMA= de_soma_Insight.de(MAX,MIN, mut, crossp,dim,its,Fun,X,SOMA,TOTAL)\n",
        "\n",
        "    start_run = (time.time()-start_time)/60\n",
        "    print('run=',i,'total=50','Fobj=',FOBEST,'Time=',start_run)  \n",
        "    BEST_AGENTS.append(BEST_XY)"
      ],
      "execution_count": 35,
      "outputs": [
        {
          "output_type": "stream",
          "text": [
            "Cloning into 'Raianars_July_2020'...\n",
            "remote: Enumerating objects: 15, done.\u001b[K\n",
            "remote: Counting objects:   6% (1/15)\u001b[K\rremote: Counting objects:  13% (2/15)\u001b[K\rremote: Counting objects:  20% (3/15)\u001b[K\rremote: Counting objects:  26% (4/15)\u001b[K\rremote: Counting objects:  33% (5/15)\u001b[K\rremote: Counting objects:  40% (6/15)\u001b[K\rremote: Counting objects:  46% (7/15)\u001b[K\rremote: Counting objects:  53% (8/15)\u001b[K\rremote: Counting objects:  60% (9/15)\u001b[K\rremote: Counting objects:  66% (10/15)\u001b[K\rremote: Counting objects:  73% (11/15)\u001b[K\rremote: Counting objects:  80% (12/15)\u001b[K\rremote: Counting objects:  86% (13/15)\u001b[K\rremote: Counting objects:  93% (14/15)\u001b[K\rremote: Counting objects: 100% (15/15)\u001b[K\rremote: Counting objects: 100% (15/15), done.\u001b[K\n",
            "remote: Compressing objects:   6% (1/15)\u001b[K\rremote: Compressing objects:  13% (2/15)\u001b[K\rremote: Compressing objects:  20% (3/15)\u001b[K\rremote: Compressing objects:  26% (4/15)\u001b[K\rremote: Compressing objects:  33% (5/15)\u001b[K\rremote: Compressing objects:  40% (6/15)\u001b[K\rremote: Compressing objects:  46% (7/15)\u001b[K\rremote: Compressing objects:  53% (8/15)\u001b[K\rremote: Compressing objects:  60% (9/15)\u001b[K\rremote: Compressing objects:  66% (10/15)\u001b[K\rremote: Compressing objects:  73% (11/15)\u001b[K\rremote: Compressing objects:  80% (12/15)\u001b[K\rremote: Compressing objects:  86% (13/15)\u001b[K\rremote: Compressing objects:  93% (14/15)\u001b[K\rremote: Compressing objects: 100% (15/15)\u001b[K\rremote: Compressing objects: 100% (15/15), done.\u001b[K\n",
            "Receiving objects:   0% (1/138)   \rReceiving objects:   1% (2/138)   \rReceiving objects:   2% (3/138)   \rReceiving objects:   3% (5/138)   \rReceiving objects:   4% (6/138)   \rReceiving objects:   5% (7/138)   \rReceiving objects:   6% (9/138)   \rReceiving objects:   7% (10/138)   \rReceiving objects:   8% (12/138)   \rReceiving objects:   9% (13/138)   \rReceiving objects:  10% (14/138)   \rReceiving objects:  11% (16/138)   \rReceiving objects:  12% (17/138)   \rReceiving objects:  13% (18/138)   \rReceiving objects:  14% (20/138)   \rReceiving objects:  15% (21/138)   \rReceiving objects:  16% (23/138)   \rReceiving objects:  17% (24/138)   \rReceiving objects:  18% (25/138)   \rReceiving objects:  19% (27/138)   \rReceiving objects:  20% (28/138)   \rReceiving objects:  21% (29/138)   \rReceiving objects:  22% (31/138)   \rReceiving objects:  23% (32/138)   \rReceiving objects:  24% (34/138)   \rReceiving objects:  25% (35/138)   \rReceiving objects:  26% (36/138)   \rReceiving objects:  27% (38/138)   \rReceiving objects:  28% (39/138)   \rReceiving objects:  29% (41/138)   \rReceiving objects:  30% (42/138)   \rReceiving objects:  31% (43/138)   \rReceiving objects:  32% (45/138)   \rReceiving objects:  33% (46/138)   \rReceiving objects:  34% (47/138)   \rReceiving objects:  35% (49/138)   \rReceiving objects:  36% (50/138)   \rReceiving objects:  37% (52/138)   \rremote: Total 138 (delta 7), reused 0 (delta 0), pack-reused 123\u001b[K\n",
            "Receiving objects:  38% (53/138)   \rReceiving objects:  39% (54/138)   \rReceiving objects:  40% (56/138)   \rReceiving objects:  41% (57/138)   \rReceiving objects:  42% (58/138)   \rReceiving objects:  43% (60/138)   \rReceiving objects:  44% (61/138)   \rReceiving objects:  45% (63/138)   \rReceiving objects:  46% (64/138)   \rReceiving objects:  47% (65/138)   \rReceiving objects:  48% (67/138)   \rReceiving objects:  49% (68/138)   \rReceiving objects:  50% (69/138)   \rReceiving objects:  51% (71/138)   \rReceiving objects:  52% (72/138)   \rReceiving objects:  53% (74/138)   \rReceiving objects:  54% (75/138)   \rReceiving objects:  55% (76/138)   \rReceiving objects:  56% (78/138)   \rReceiving objects:  57% (79/138)   \rReceiving objects:  58% (81/138)   \rReceiving objects:  59% (82/138)   \rReceiving objects:  60% (83/138)   \rReceiving objects:  61% (85/138)   \rReceiving objects:  62% (86/138)   \rReceiving objects:  63% (87/138)   \rReceiving objects:  64% (89/138)   \rReceiving objects:  65% (90/138)   \rReceiving objects:  66% (92/138)   \rReceiving objects:  67% (93/138)   \rReceiving objects:  68% (94/138)   \rReceiving objects:  69% (96/138)   \rReceiving objects:  70% (97/138)   \rReceiving objects:  71% (98/138)   \rReceiving objects:  72% (100/138)   \rReceiving objects:  73% (101/138)   \rReceiving objects:  74% (103/138)   \rReceiving objects:  75% (104/138)   \rReceiving objects:  76% (105/138)   \rReceiving objects:  77% (107/138)   \rReceiving objects:  78% (108/138)   \rReceiving objects:  79% (110/138)   \rReceiving objects:  80% (111/138)   \rReceiving objects:  81% (112/138)   \rReceiving objects:  82% (114/138)   \rReceiving objects:  83% (115/138)   \rReceiving objects:  84% (116/138)   \rReceiving objects:  85% (118/138)   \rReceiving objects:  86% (119/138)   \rReceiving objects:  87% (121/138)   \rReceiving objects:  88% (122/138)   \rReceiving objects:  89% (123/138)   \rReceiving objects:  90% (125/138)   \rReceiving objects:  91% (126/138)   \rReceiving objects:  92% (127/138)   \rReceiving objects:  93% (129/138)   \rReceiving objects:  94% (130/138)   \rReceiving objects:  95% (132/138)   \rReceiving objects:  96% (133/138)   \rReceiving objects:  97% (134/138)   \rReceiving objects:  98% (136/138)   \rReceiving objects:  99% (137/138)   \rReceiving objects: 100% (138/138)   \rReceiving objects: 100% (138/138), 201.58 KiB | 6.11 MiB/s, done.\n",
            "Resolving deltas:   0% (0/69)   \rResolving deltas:   8% (6/69)   \rResolving deltas:  57% (40/69)   \rResolving deltas:  76% (53/69)   \rResolving deltas:  78% (54/69)   \rResolving deltas:  86% (60/69)   \rResolving deltas:  97% (67/69)   \rResolving deltas:  98% (68/69)   \rResolving deltas: 100% (69/69)   \rResolving deltas: 100% (69/69), done.\n",
            "/content/Raianars_July_2020/ANN_read_matrix/Raianars_July_2020/Raianars_July_2020/Raianars_July_2020/ANN_read_matrix/Raianars_July_2020\n",
            "run= 0 total=50 Fobj= 25.329153609141095 Time= 0.4981286644935608\n",
            "run= 1 total=50 Fobj= 25.108251824817422 Time= 0.995913028717041\n",
            "run= 2 total=50 Fobj= 23.598944229475165 Time= 1.4924718777338664\n",
            "run= 3 total=50 Fobj= 24.5136296803202 Time= 1.989747707049052\n",
            "run= 4 total=50 Fobj= 25.477430060727123 Time= 2.4994517167409263\n",
            "run= 5 total=50 Fobj= 24.504972018165677 Time= 2.9959537823994955\n",
            "run= 6 total=50 Fobj= 25.693300826682837 Time= 3.4937187989552814\n",
            "run= 7 total=50 Fobj= 24.914617970295243 Time= 3.9904160141944884\n",
            "run= 8 total=50 Fobj= 25.12727411734303 Time= 4.486366323630015\n",
            "run= 9 total=50 Fobj= 24.76212881589934 Time= 4.988149539629618\n",
            "run= 10 total=50 Fobj= 24.543288830414607 Time= 5.4859350005785625\n",
            "run= 11 total=50 Fobj= 24.830901481342636 Time= 5.983904492855072\n",
            "run= 12 total=50 Fobj= 24.920174640862886 Time= 6.4826560894648235\n",
            "run= 13 total=50 Fobj= 24.805115111238777 Time= 6.980357817808787\n",
            "run= 14 total=50 Fobj= 23.798403155825277 Time= 7.480854916572571\n",
            "run= 15 total=50 Fobj= 25.30230827751537 Time= 7.978189953168234\n",
            "run= 16 total=50 Fobj= 19.843287582438638 Time= 8.476309363047282\n",
            "run= 17 total=50 Fobj= 24.99405280330592 Time= 8.973406585057576\n",
            "run= 18 total=50 Fobj= 24.924474059284275 Time= 9.469694308439891\n",
            "run= 19 total=50 Fobj= 24.262964283770888 Time= 9.965969049930573\n",
            "run= 20 total=50 Fobj= 24.884265568467747 Time= 10.466071407000223\n",
            "run= 21 total=50 Fobj= 25.521353081547012 Time= 10.962460045019785\n",
            "run= 22 total=50 Fobj= 25.299585147859265 Time= 11.460689787069956\n",
            "run= 23 total=50 Fobj= 24.09661269672286 Time= 11.95746914545695\n",
            "run= 24 total=50 Fobj= 25.66815861592313 Time= 12.453546174367268\n",
            "run= 25 total=50 Fobj= 25.542704401863983 Time= 12.954231266180674\n",
            "run= 26 total=50 Fobj= 25.396455976412796 Time= 13.451835827032726\n",
            "run= 27 total=50 Fobj= 23.780505032409696 Time= 13.948538315296172\n",
            "run= 28 total=50 Fobj= 24.433313521625635 Time= 14.446580505371093\n",
            "run= 29 total=50 Fobj= 24.46699991894484 Time= 14.943813161055248\n",
            "run= 30 total=50 Fobj= 24.77179065096326 Time= 15.442740976810455\n",
            "run= 31 total=50 Fobj= 25.476924226641977 Time= 15.939147261778514\n",
            "run= 32 total=50 Fobj= 24.690338331341295 Time= 16.43573222955068\n",
            "run= 33 total=50 Fobj= 24.829333288690698 Time= 16.929391288757323\n",
            "run= 34 total=50 Fobj= 24.700683272314183 Time= 17.434252162774403\n",
            "run= 35 total=50 Fobj= 24.942298186152275 Time= 17.930427674452464\n",
            "run= 36 total=50 Fobj= 23.591666857035946 Time= 18.42821720043818\n",
            "run= 37 total=50 Fobj= 25.098288654355986 Time= 18.924759701887766\n",
            "run= 38 total=50 Fobj= 24.883024614521293 Time= 19.421691926320396\n",
            "run= 39 total=50 Fobj= 24.344964517947407 Time= 19.919390126069388\n",
            "run= 40 total=50 Fobj= 25.542635976690686 Time= 20.414633297920226\n",
            "run= 41 total=50 Fobj= 24.276690279530193 Time= 20.914052379131316\n",
            "run= 42 total=50 Fobj= 23.34830030903119 Time= 21.40894148349762\n",
            "run= 43 total=50 Fobj= 25.03638136962868 Time= 21.904408915837607\n",
            "run= 44 total=50 Fobj= 24.681825130239417 Time= 22.399374095598855\n",
            "run= 45 total=50 Fobj= 25.493024075238573 Time= 22.89811190764109\n",
            "run= 46 total=50 Fobj= 24.21773072293472 Time= 23.39311057726542\n",
            "run= 47 total=50 Fobj= 25.247928780397924 Time= 23.88764118353526\n",
            "run= 48 total=50 Fobj= 25.312639945861427 Time= 24.38326686223348\n",
            "run= 49 total=50 Fobj= 24.004736633123795 Time= 24.87997334798177\n"
          ],
          "name": "stdout"
        }
      ]
    },
    {
      "cell_type": "code",
      "metadata": {
        "id": "3W8R6htAHO63",
        "colab_type": "code",
        "colab": {
          "base_uri": "https://localhost:8080/",
          "height": 323
        },
        "outputId": "4c620838-4002-4afc-f1b1-60e46e52ee1a"
      },
      "source": [
        "############################## Cálculo dos Parâmetros de Avaliação   \n",
        "TIME = (time.time() - start_time)/RUNS\n",
        "BEST_AGENTS=np.array(BEST_AGENTS)\n",
        "BEST_AGENTS_ST= BEST_AGENTS[BEST_AGENTS[:,-1].argsort()]\n",
        "BEST=BEST_AGENTS_ST[0]\n",
        "WORSE=BEST_AGENTS_ST[-1]\n",
        "MEAN=np.mean(BEST_AGENTS,axis=0)\n",
        "MAXFO=BEST_AGENTS[:,-1].max()\n",
        "MINFO=BEST_AGENTS[:,-1].min()\n",
        "STD=BEST_AGENTS[:,-1].std()\n",
        "\n",
        "nome='DE_STAT_Fo-'+str(mut)+'_CRo-'+str(crossp)+'_D-'+str(dim)+'_Interv-'+str(ITE)\n",
        "print('DE_','TOTAL=',TOTAL,'Iterações=',ITE*its,'Dim=', dim,\"Min/Max=\",MIN[0],\"/\",MAX[0],'_',Fun.__name__)\n",
        "print(nome, '\\n')\n",
        "#print('BEST: ',BEST)\n",
        "#print('MÉDIA: ',MEAN)\n",
        "print('MÉDIA: ',MEAN[-1])\n",
        "print('MIN __:',MINFO)\n",
        "print('MAX__: ',MAXFO)\n",
        "print('STD __:',STD)\n",
        "print(\"Tempo Médio= %.3f segundos ---\" % (TIME))\n",
        "print(RUNS,'Rodadas') \n",
        "print()\n",
        "print('BEST: ',BEST)"
      ],
      "execution_count": 36,
      "outputs": [
        {
          "output_type": "stream",
          "text": [
            "DE_ TOTAL= 300000 Iterações= 2000 Dim= 30 Min/Max= -10 / 10 _ Rosenbrock\n",
            "DE_STAT_Fo-0.5_CRo-0.5_D-30_Interv-2000 \n",
            "\n",
            "MÉDIA:  24.696716663265683\n",
            "MIN __: 19.843287582438638\n",
            "MAX__:  25.693300826682837\n",
            "STD __: 0.8997736738859742\n",
            "Tempo Médio= 29.857 segundos ---\n",
            "50 Rodadas\n",
            "\n",
            "BEST:  [9.96652265e-01 9.93657181e-01 9.84831873e-01 9.72111207e-01\n",
            " 9.46592698e-01 8.96317656e-01 8.11086035e-01 6.62289909e-01\n",
            " 4.46605317e-01 2.09756335e-01 5.18728107e-02 1.12780690e-02\n",
            " 9.07011431e-03 1.04924616e-02 1.15498897e-02 1.06242577e-02\n",
            " 1.08946238e-02 1.22683334e-02 9.76384966e-03 8.41972936e-03\n",
            " 7.36265152e-03 1.02700679e-02 7.51984804e-03 9.80062421e-03\n",
            " 1.22808231e-02 1.08835200e-02 9.61769751e-03 9.12941271e-03\n",
            " 1.12618521e-02 1.46705207e-03 1.98432876e+01]\n"
          ],
          "name": "stdout"
        }
      ]
    }
  ]
}