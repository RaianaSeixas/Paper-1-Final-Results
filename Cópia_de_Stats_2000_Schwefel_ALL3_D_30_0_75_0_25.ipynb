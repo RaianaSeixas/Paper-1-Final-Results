{
  "nbformat": 4,
  "nbformat_minor": 0,
  "metadata": {
    "colab": {
      "name": "Cópia de Stats_2000_Schwefel_ALL3_D_30_0.75_0.25.ipynb",
      "provenance": [],
      "collapsed_sections": [],
      "include_colab_link": true
    },
    "kernelspec": {
      "name": "python3",
      "display_name": "Python 3"
    }
  },
  "cells": [
    {
      "cell_type": "markdown",
      "metadata": {
        "id": "view-in-github",
        "colab_type": "text"
      },
      "source": [
        "<a href=\"https://colab.research.google.com/github/RaianaSeixas/Paper-1-Final-Results/blob/master/C%C3%B3pia_de_Stats_2000_Schwefel_ALL3_D_30_0_75_0_25.ipynb\" target=\"_parent\"><img src=\"https://colab.research.google.com/assets/colab-badge.svg\" alt=\"Open In Colab\"/></a>"
      ]
    },
    {
      "cell_type": "code",
      "metadata": {
        "id": "MC26Bm1UyUR5",
        "colab_type": "code",
        "colab": {
          "base_uri": "https://localhost:8080/",
          "height": 105
        },
        "outputId": "61f37f80-6de5-4a53-b379-d2822cf8c3a3"
      },
      "source": [
        "!pip install pyade-python"
      ],
      "execution_count": 1,
      "outputs": [
        {
          "output_type": "stream",
          "text": [
            "Collecting pyade-python\n",
            "  Downloading https://files.pythonhosted.org/packages/02/e7/aefff90c8de0ad3ff151d51507ec65a2988b7cce9126c342746f77615d9f/pyade_python-1.1-py3-none-any.whl\n",
            "Installing collected packages: pyade-python\n",
            "Successfully installed pyade-python-1.1\n"
          ],
          "name": "stdout"
        }
      ]
    },
    {
      "cell_type": "code",
      "metadata": {
        "id": "rRwqrtCmgzdZ",
        "colab_type": "code",
        "colab": {
          "base_uri": "https://localhost:8080/",
          "height": 224
        },
        "outputId": "924e0a23-d7b6-4378-ef78-1b0935137f6f"
      },
      "source": [
        "!pip install PyFDE"
      ],
      "execution_count": 2,
      "outputs": [
        {
          "output_type": "stream",
          "text": [
            "Collecting PyFDE\n",
            "\u001b[?25l  Downloading https://files.pythonhosted.org/packages/72/f9/87f7279554d2682e3827d39c3d3a565b2fd42f7114a779e34a601c6c5079/PyFDE-1.3.0.tar.gz (397kB)\n",
            "\r\u001b[K     |▉                               | 10kB 22.2MB/s eta 0:00:01\r\u001b[K     |█▋                              | 20kB 6.6MB/s eta 0:00:01\r\u001b[K     |██▌                             | 30kB 7.3MB/s eta 0:00:01\r\u001b[K     |███▎                            | 40kB 8.3MB/s eta 0:00:01\r\u001b[K     |████▏                           | 51kB 6.9MB/s eta 0:00:01\r\u001b[K     |█████                           | 61kB 7.4MB/s eta 0:00:01\r\u001b[K     |█████▊                          | 71kB 8.0MB/s eta 0:00:01\r\u001b[K     |██████▋                         | 81kB 8.4MB/s eta 0:00:01\r\u001b[K     |███████▍                        | 92kB 8.3MB/s eta 0:00:01\r\u001b[K     |████████▎                       | 102kB 8.5MB/s eta 0:00:01\r\u001b[K     |█████████                       | 112kB 8.5MB/s eta 0:00:01\r\u001b[K     |██████████                      | 122kB 8.5MB/s eta 0:00:01\r\u001b[K     |██████████▊                     | 133kB 8.5MB/s eta 0:00:01\r\u001b[K     |███████████▌                    | 143kB 8.5MB/s eta 0:00:01\r\u001b[K     |████████████▍                   | 153kB 8.5MB/s eta 0:00:01\r\u001b[K     |█████████████▏                  | 163kB 8.5MB/s eta 0:00:01\r\u001b[K     |██████████████                  | 174kB 8.5MB/s eta 0:00:01\r\u001b[K     |██████████████▉                 | 184kB 8.5MB/s eta 0:00:01\r\u001b[K     |███████████████▊                | 194kB 8.5MB/s eta 0:00:01\r\u001b[K     |████████████████▌               | 204kB 8.5MB/s eta 0:00:01\r\u001b[K     |█████████████████▎              | 215kB 8.5MB/s eta 0:00:01\r\u001b[K     |██████████████████▏             | 225kB 8.5MB/s eta 0:00:01\r\u001b[K     |███████████████████             | 235kB 8.5MB/s eta 0:00:01\r\u001b[K     |███████████████████▉            | 245kB 8.5MB/s eta 0:00:01\r\u001b[K     |████████████████████▋           | 256kB 8.5MB/s eta 0:00:01\r\u001b[K     |█████████████████████▌          | 266kB 8.5MB/s eta 0:00:01\r\u001b[K     |██████████████████████▎         | 276kB 8.5MB/s eta 0:00:01\r\u001b[K     |███████████████████████         | 286kB 8.5MB/s eta 0:00:01\r\u001b[K     |████████████████████████        | 296kB 8.5MB/s eta 0:00:01\r\u001b[K     |████████████████████████▊       | 307kB 8.5MB/s eta 0:00:01\r\u001b[K     |█████████████████████████▋      | 317kB 8.5MB/s eta 0:00:01\r\u001b[K     |██████████████████████████▍     | 327kB 8.5MB/s eta 0:00:01\r\u001b[K     |███████████████████████████▎    | 337kB 8.5MB/s eta 0:00:01\r\u001b[K     |████████████████████████████    | 348kB 8.5MB/s eta 0:00:01\r\u001b[K     |████████████████████████████▉   | 358kB 8.5MB/s eta 0:00:01\r\u001b[K     |█████████████████████████████▊  | 368kB 8.5MB/s eta 0:00:01\r\u001b[K     |██████████████████████████████▌ | 378kB 8.5MB/s eta 0:00:01\r\u001b[K     |███████████████████████████████▍| 389kB 8.5MB/s eta 0:00:01\r\u001b[K     |████████████████████████████████| 399kB 8.5MB/s \n",
            "\u001b[?25hRequirement already satisfied: numpy in /usr/local/lib/python3.6/dist-packages (from PyFDE) (1.18.5)\n",
            "Building wheels for collected packages: PyFDE\n",
            "  Building wheel for PyFDE (setup.py) ... \u001b[?25l\u001b[?25hdone\n",
            "  Created wheel for PyFDE: filename=PyFDE-1.3.0-cp36-cp36m-linux_x86_64.whl size=969295 sha256=cdee5782cb52c4290a13506dd96a482526e22e50dc06fefac22e5cc4ecead385\n",
            "  Stored in directory: /root/.cache/pip/wheels/7d/42/ba/abf21db37934e576c74fc2c9504b5cd97eb6a99e3dec1743c0\n",
            "Successfully built PyFDE\n",
            "Installing collected packages: PyFDE\n",
            "Successfully installed PyFDE-1.3.0\n"
          ],
          "name": "stdout"
        }
      ]
    },
    {
      "cell_type": "code",
      "metadata": {
        "id": "anFukot-ypn6",
        "colab_type": "code",
        "colab": {}
      },
      "source": [
        "import pyade.ilshade \n",
        "import pyade.sade \n",
        "import pyade.jso\n",
        "import pyade.shade\n",
        "import pyade.jade \n",
        "import pyfde\n",
        "import numpy as np\n",
        "import pandas as pd\n",
        "import time"
      ],
      "execution_count": 3,
      "outputs": []
    },
    {
      "cell_type": "code",
      "metadata": {
        "id": "6Oh714_-z1Ia",
        "colab_type": "code",
        "colab": {
          "base_uri": "https://localhost:8080/",
          "height": 153
        },
        "outputId": "3479095e-0a89-495e-a890-d28ce8f24e88"
      },
      "source": [
        "!git clone https://github.com/ucfilho/Raianars_July_2020 #clonar do Github\n",
        "%cd Raianars_July_2020"
      ],
      "execution_count": 4,
      "outputs": [
        {
          "output_type": "stream",
          "text": [
            "Cloning into 'Raianars_July_2020'...\n",
            "remote: Enumerating objects: 27, done.\u001b[K\n",
            "remote: Counting objects: 100% (27/27), done.\u001b[K\n",
            "remote: Compressing objects: 100% (27/27), done.\u001b[K\n",
            "remote: Total 150 (delta 14), reused 0 (delta 0), pack-reused 123\u001b[K\n",
            "Receiving objects: 100% (150/150), 204.85 KiB | 953.00 KiB/s, done.\n",
            "Resolving deltas: 100% (76/76), done.\n",
            "/content/Raianars_July_2020\n"
          ],
          "name": "stdout"
        }
      ]
    },
    {
      "cell_type": "code",
      "metadata": {
        "id": "LnzftXkky78A",
        "colab_type": "code",
        "colab": {}
      },
      "source": [
        "import Go2Ann\n",
        "import de_soma_Insight\n",
        "import de_bounds_matriz\n",
        "from AvaliaX import AvaliaX\n",
        "from GeraIndices import GeraIndices"
      ],
      "execution_count": 5,
      "outputs": []
    },
    {
      "cell_type": "code",
      "metadata": {
        "id": "HNW92728z7fR",
        "colab_type": "code",
        "colab": {}
      },
      "source": [
        "import Function\n",
        "import Go2MinMax"
      ],
      "execution_count": 6,
      "outputs": []
    },
    {
      "cell_type": "code",
      "metadata": {
        "id": "T_C-e7aH0CZH",
        "colab_type": "code",
        "colab": {}
      },
      "source": [
        "ITE=2000 #10 # PONTOS quantas vezes vai alteral NPAR \n",
        "NPAR=100 # NUMBER OF PARTICLES\n",
        "dim=30\n",
        "RUNS=50\n",
        "fchoice='Schwefel' \n",
        "Fun=Function.Schwefel\n",
        "\n",
        "MIN,MAX=Go2MinMax.Intervalo(dim,fchoice)\n",
        "bounds = [(0,0)]*dim\n",
        "\n",
        "for i in range(dim):\n",
        "  bounds[i] = (MIN[i],MAX[i])\n",
        "\n",
        "start_time = time.time() "
      ],
      "execution_count": 7,
      "outputs": []
    },
    {
      "cell_type": "code",
      "metadata": {
        "id": "Nqv5qp9yzQEw",
        "colab_type": "code",
        "colab": {}
      },
      "source": [
        "############################### INPUT INFORMATION (FRANNK)\n",
        "Fc=0.1 # fator de correcao parametros da ANN\n",
        "its=1 #10 # quantas vezes vai usar o NPAR antes de alterar de novo\n",
        "mut=0.75\n",
        "crossp=0.25\n",
        "Fi=mut;CRi=crossp;# para impressão\n",
        "PAR=len(MAX) #NUM DE PARAMETROS A SER OTIMIZADOS"
      ],
      "execution_count": 8,
      "outputs": []
    },
    {
      "cell_type": "code",
      "metadata": {
        "id": "q77YsFa82zFU",
        "colab_type": "code",
        "colab": {
          "base_uri": "https://localhost:8080/",
          "height": 306
        },
        "outputId": "a62d1f2d-0460-49ec-c443-37d13b21732a"
      },
      "source": [
        "# JADE\n",
        "algorithm = pyade.jso\n",
        "BEST_AGENTS=[]\n",
        "for i in range(RUNS):\n",
        "  ANSWER_AGENTS=[]\n",
        "  solver = pyfde.JADE(Fun, n_dim=dim, n_pop=NPAR, limits=bounds, minimize=True)\n",
        "  solver.p = 0.05\n",
        "  solver.c = 0.1\n",
        "  solver.cr = 0.5\n",
        "  solver.f = 0.5\n",
        "  best, fit = solver.run(n_it=ITE)\n",
        "  for x in best:\n",
        "    ANSWER_AGENTS.append(x)\n",
        "  ANSWER_AGENTS.append(fit)\n",
        "  BEST_AGENTS.append(ANSWER_AGENTS)\n",
        "BEST_AGENTS=np.array(BEST_AGENTS)\n",
        "TIME = (time.time() - start_time)/RUNS\n",
        "BEST_AGENTS=np.array(BEST_AGENTS)\n",
        "BEST_AGENTS_ST= BEST_AGENTS[BEST_AGENTS[:,-1].argsort()]\n",
        "BEST=BEST_AGENTS_ST[0]\n",
        "WORSE=BEST_AGENTS_ST[-1]\n",
        "MEAN=np.mean(BEST_AGENTS,axis=0)\n",
        "MAXFO=BEST_AGENTS[:,-1].max()\n",
        "MINFO=BEST_AGENTS[:,-1].min()\n",
        "STD=BEST_AGENTS[:,-1].std()\n",
        "nome='JADE_Fo-'+str(0)+'_CRo-'+str(0)\n",
        "print(nome,'NPAR',NPAR,'Iterações=',ITE,'Dim=',dim ,\"Min/Max=\",MIN[0],\"/\",MAX[0],'_',Fun.__name__)\n",
        "print( '\\n')\n",
        "print('MÉDIA: ',MEAN[-1])\n",
        "print('MIN __:',MINFO)\n",
        "print('MAX__: ',MAXFO)\n",
        "print('STD __:',STD)\n",
        "print(\"Tempo Médio= %.3f segundos ---\" % (TIME))\n",
        "print(RUNS,'Rodadas') \n",
        "print()\n",
        "print('BEST: ',BEST)"
      ],
      "execution_count": 9,
      "outputs": [
        {
          "output_type": "stream",
          "text": [
            "JADE_Fo-0_CRo-0 NPAR 100 Iterações= 2000 Dim= 30 Min/Max= -500 / 500 _ Schwefel\n",
            "\n",
            "\n",
            "MÉDIA:  -2.368766692288773\n",
            "MIN __: -118.43833461443865\n",
            "MAX__:  -0.0\n",
            "STD __: 16.58136684602141\n",
            "Tempo Médio= 11.203 segundos ---\n",
            "50 Rodadas\n",
            "\n",
            "BEST:  [ 420.96874664  420.96874705 -302.52493471  420.96874753  420.96874673\n",
            "  420.96874667  420.96874653  420.96874613  420.96874629  420.96874684\n",
            "  420.96874638  420.96874745  420.96874626  420.96874742  420.96874529\n",
            "  420.96874492  420.96874591  420.96874726  420.96874712  420.96874718\n",
            "  420.96874418  420.96874729  420.96874805  420.96874418  420.96874693\n",
            "  420.96874763  420.96874739  420.96874691  420.96874618  420.9687463\n",
            " -118.43833461]\n"
          ],
          "name": "stdout"
        }
      ]
    },
    {
      "cell_type": "code",
      "metadata": {
        "id": "gXdUgSStzppX",
        "colab_type": "code",
        "colab": {}
      },
      "source": [
        "# FRANNK START HERE !!!!!"
      ],
      "execution_count": 10,
      "outputs": []
    },
    {
      "cell_type": "code",
      "metadata": {
        "id": "raWOfeJBztuj",
        "colab_type": "code",
        "colab": {
          "base_uri": "https://localhost:8080/",
          "height": 136
        },
        "outputId": "55f77d0d-65f2-428d-a622-f7e80a1ca0ff"
      },
      "source": [
        "!git clone https://github.com/ucfilho/ANN_read_matrix #clonar do Github\n",
        "%cd ANN_read_matrix"
      ],
      "execution_count": 11,
      "outputs": [
        {
          "output_type": "stream",
          "text": [
            "Cloning into 'ANN_read_matrix'...\n",
            "remote: Enumerating objects: 20, done.\u001b[K\n",
            "remote: Counting objects:   5% (1/20)\u001b[K\rremote: Counting objects:  10% (2/20)\u001b[K\rremote: Counting objects:  15% (3/20)\u001b[K\rremote: Counting objects:  20% (4/20)\u001b[K\rremote: Counting objects:  25% (5/20)\u001b[K\rremote: Counting objects:  30% (6/20)\u001b[K\rremote: Counting objects:  35% (7/20)\u001b[K\rremote: Counting objects:  40% (8/20)\u001b[K\rremote: Counting objects:  45% (9/20)\u001b[K\rremote: Counting objects:  50% (10/20)\u001b[K\rremote: Counting objects:  55% (11/20)\u001b[K\rremote: Counting objects:  60% (12/20)\u001b[K\rremote: Counting objects:  65% (13/20)\u001b[K\rremote: Counting objects:  70% (14/20)\u001b[K\rremote: Counting objects:  75% (15/20)\u001b[K\rremote: Counting objects:  80% (16/20)\u001b[K\rremote: Counting objects:  85% (17/20)\u001b[K\rremote: Counting objects:  90% (18/20)\u001b[K\rremote: Counting objects:  95% (19/20)\u001b[K\rremote: Counting objects: 100% (20/20)\u001b[K\rremote: Counting objects: 100% (20/20), done.\u001b[K\n",
            "remote: Compressing objects:   5% (1/18)\u001b[K\rremote: Compressing objects:  11% (2/18)\u001b[K\rremote: Compressing objects:  16% (3/18)\u001b[K\rremote: Compressing objects:  22% (4/18)\u001b[K\rremote: Compressing objects:  27% (5/18)\u001b[K\rremote: Compressing objects:  33% (6/18)\u001b[K\rremote: Compressing objects:  38% (7/18)\u001b[K\rremote: Compressing objects:  44% (8/18)\u001b[K\rremote: Compressing objects:  50% (9/18)\u001b[K\rremote: Compressing objects:  55% (10/18)\u001b[K\rremote: Compressing objects:  61% (11/18)\u001b[K\rremote: Compressing objects:  66% (12/18)\u001b[K\rremote: Compressing objects:  72% (13/18)\u001b[K\rremote: Compressing objects:  77% (14/18)\u001b[K\rremote: Compressing objects:  83% (15/18)\u001b[K\rremote: Compressing objects:  88% (16/18)\u001b[K\rremote: Compressing objects:  94% (17/18)\u001b[K\rremote: Compressing objects: 100% (18/18)\u001b[K\rremote: Compressing objects: 100% (18/18), done.\u001b[K\n",
            "remote: Total 20 (delta 5), reused 0 (delta 0), pack-reused 0\u001b[K\n",
            "Unpacking objects:   5% (1/20)   \rUnpacking objects:  10% (2/20)   \rUnpacking objects:  15% (3/20)   \rUnpacking objects:  20% (4/20)   \rUnpacking objects:  25% (5/20)   \rUnpacking objects:  30% (6/20)   \rUnpacking objects:  35% (7/20)   \rUnpacking objects:  40% (8/20)   \rUnpacking objects:  45% (9/20)   \rUnpacking objects:  50% (10/20)   \rUnpacking objects:  55% (11/20)   \rUnpacking objects:  60% (12/20)   \rUnpacking objects:  65% (13/20)   \rUnpacking objects:  70% (14/20)   \rUnpacking objects:  75% (15/20)   \rUnpacking objects:  80% (16/20)   \rUnpacking objects:  85% (17/20)   \rUnpacking objects:  90% (18/20)   \rUnpacking objects:  95% (19/20)   \rUnpacking objects: 100% (20/20)   \rUnpacking objects: 100% (20/20), done.\n",
            "/content/Raianars_July_2020/ANN_read_matrix\n"
          ],
          "name": "stdout"
        }
      ]
    },
    {
      "cell_type": "code",
      "metadata": {
        "id": "N2lyPfivzwGv",
        "colab_type": "code",
        "colab": {
          "base_uri": "https://localhost:8080/",
          "height": 1000
        },
        "outputId": "2e77fed6-46ac-45fd-dca6-b2f99ed7d333"
      },
      "source": [
        "ANN_F=pd.read_csv('ANN_INSIGHT_Valor_F.csv')\n",
        "ANN_CR=pd.read_csv('ANN_INSIGHT_CR.csv')\n",
        "syn0_F,syn1_F,X_max_F,X_min_F=Go2Ann.GetMatriz(ANN_F)\n",
        "syn0_CR,syn1_CR,X_max_CR,X_min_CR=Go2Ann.GetMatriz(ANN_CR)\n",
        "fields = ['DI RELATIVO','FRAC Its','Fo','CRo']\n",
        "\n",
        "#TOTAL=7*dim*its*ITE\n",
        "TOTAL=10*dim*its*ITE\n",
        "TOTAL=int(TOTAL/2)   # CONFERIR SE ESTE EH O MELHOR LUGAR\n",
        "\n",
        "dimensions=len(MAX)\n",
        "start_time = time.time() #INICIALIZA CONTAGEM DO TEMPO\n",
        "\n",
        "MAX_P=np.zeros(ITE) # ATENCAO para variar F e Cr MAX_P passa a ser 3 vezes maior\n",
        "MIN_P=np.zeros(ITE) # ATENCAO para variar F e Cr MIN_P passa a ser 3 vezes maior\n",
        "\n",
        "for i in range(dim):\n",
        "  MAX_P[i]=MAX[i] \n",
        "  MIN_P[i]=MIN[i]\n",
        "\n",
        "rodadas=1\n",
        "for i in range(rodadas):\n",
        "  SOMA=0\n",
        "  pop = np.random.rand(NPAR, dimensions)\n",
        "  diff=np.zeros(PAR)\n",
        "  for ii in range(PAR):\n",
        "    diff[ii] = MAX[ii]-MIN[ii]\n",
        "  X = MIN + pop * diff\n",
        "    \n",
        "  PONTOS=ITE # DIVISOES DA POPULACAO\n",
        "start_time = time.time()\n",
        "BEST_AGENTS=[]\n",
        "MAT_stat=[]\n",
        "for i in range(RUNS):\n",
        "    MAT=[] \n",
        "    mut=Fi\n",
        "    crossp=CRi\n",
        "    SOMA=0\n",
        "    SOMAf=0\n",
        "    start_ite = time.time()\n",
        "    delta_time=(start_ite-start_time)/60\n",
        "    print('ite=',i,'time=',delta_time)\n",
        "    pop = np.random.rand(NPAR, dim)\n",
        "    diff=np.zeros(PAR)\n",
        "    for ii in range(PAR):\n",
        "      diff[ii] = MAX[ii]-MIN[ii]\n",
        "    X = MIN + pop * diff\n",
        "    Xf = MIN + pop * diff\n",
        "    \n",
        "    DIo=1e99\n",
        "  \n",
        "    CRo=crossp;Fo=mut;\n",
        "    Fitness = np.asarray([Fun(ind) for ind in X])\n",
        "\n",
        "    XY,BEST_XY,BESTo,FOBESTo=AvaliaX(X,Fitness)\n",
        "    nrow,ncol=X.shape\n",
        "\n",
        "    QUANT=17;MAT_INDo=np.zeros((1,QUANT)); # quantos indices esta fazendo\n",
        "    MAT_INDo[0,5]=nrow  # VALOR NP\n",
        "    MAT_INDo[0,6]=Fo    # VALOR Fo   \n",
        "    MAT_INDo[0,7]=CRo   # VALOR CRo\n",
        "  \n",
        "    MAT_INDo=GeraIndices(X,BESTo,FOBESTo,DIo,MAT_INDo,SOMA,TOTAL,syn0_F,\n",
        "                        syn1_F,X_max_F,X_min_F,syn0_CR,syn1_CR,X_max_CR,\n",
        "                        X_min_CR,Fc,fields,Fun)\n",
        "  \n",
        "    DIo=np.copy(MAT_INDo[0,0])\n",
        "    MAT_INDo[0,15]=Fo    # VALOR Fo   \n",
        "    MAT_INDo[0,16]=CRo   # VALOR CRo\n",
        "    #ind_crossp=ITE-1\n",
        "\n",
        "    \n",
        "    for k in range(ITE):\n",
        "      X,BEST,FOBEST,XY,BEST_XY,SOMA= de_soma_Insight.de(MAX,MIN, mut, crossp,NPAR,its,Fun,X,SOMA,TOTAL)\n",
        "      #Xf,BESTf,FOBESTf,XYf,BEST_XYf,SOMAf= de_soma_Insight.de(MAX,MIN, Fi, CRi, NPAR,its,Fun,Xf,SOMAf,TOTAL)\n",
        "\n",
        "      \n",
        "      MAT_IND=GeraIndices(X,BESTo,FOBESTo,DIo,MAT_INDo,SOMA,TOTAL,syn0_F,\n",
        "                          syn1_F,X_max_F,X_min_F,syn0_CR,syn1_CR,X_max_CR,\n",
        "                          X_min_CR,Fc,fields,Fun)\n",
        "    \n",
        "      BESTo=np.copy(BEST);FOBESTo=np.copy(FOBEST);\n",
        "      MAT.append(MAT_IND.ravel())\n",
        "    \n",
        "      MAT_INDo[0,6]=MAT_IND[0,15]   # VALOR Fo   \n",
        "      MAT_INDo[0,7]=MAT_IND[0,16]   # VALOR CRo\n",
        "      mut=MAT_IND[0,15]\n",
        "      crossp=MAT_IND[0,16]\n",
        "\n",
        "      Fitness = np.asarray([Fun(ind) for ind in X])\n",
        "      #Fitnessf = np.asarray([Fun(ind) for ind in Xf])\n",
        "      Maior=np.argmax(Fitness)\n",
        "      #Maiorf=np.argmax(Fitnessf)\n",
        "      Menor=np.argmin(Fitness)\n",
        "      #Menorf=np.argmin(Fitnessf)\n",
        "\n",
        "      #X[Maior,:]=np.copy(Xf[Menorf,:])\n",
        "      #Xf[Maiorf,:]=np.copy(X[Menor,:])\n",
        "      \n",
        "    BEST_AGENTS.append(BEST_XY)\n",
        "    MAT_stat.append(MAT)\n",
        "    #print(\"GlobalParam e Solucao:\", BEST,\"Funcao=\",FOBEST)\n",
        "    \n",
        "############################## Cálculo dos Parâmetros de Avaliação   \n",
        "TIME = (time.time() - start_time)/RUNS\n",
        "BEST_AGENTS=np.array(BEST_AGENTS)\n",
        "BEST_AGENTS_ST= BEST_AGENTS[BEST_AGENTS[:,-1].argsort()]\n",
        "BEST=BEST_AGENTS_ST[0]\n",
        "WORSE=BEST_AGENTS_ST[-1]\n",
        "MEAN=np.mean(BEST_AGENTS,axis=0)\n",
        "MAXFO=BEST_AGENTS[:,-1].max()\n",
        "MINFO=BEST_AGENTS[:,-1].min()\n",
        "STD=BEST_AGENTS[:,-1].std()\n",
        "\n",
        "print()\n",
        "nome='_ANN_Div3x4_Fo-'+str(Fi)+'_CRo-'+str(CRi)+'_D-'+str(dim)+'_Interv-'+str(ITE)\n",
        "print('DE_POP_VAR_F_CR','TOTAL=',TOTAL,'Iterações=',ITE*its,'Dim=', PAR,\"Min/Max=\",MIN[0],\"/\",MAX[0],'_',Fun.__name__)\n",
        "print(nome, '\\n')\n",
        "print('MÉDIA: ',MEAN[-1])\n",
        "print('MIN __:',MINFO)\n",
        "print('MAX__: ',MAXFO)\n",
        "print('STD __:',STD)\n",
        "print(\"Tempo Médio= %.3f segundos ---\" % (TIME))\n",
        "print(RUNS,'Rodadas') \n",
        "print()\n",
        "print('BEST: ',BEST)"
      ],
      "execution_count": 12,
      "outputs": [
        {
          "output_type": "stream",
          "text": [
            "ite= 0 time= 7.367134094238281e-06\n",
            "ite= 1 time= 3.1578583041826884\n",
            "ite= 2 time= 6.337467932701111\n",
            "ite= 3 time= 9.589113851388296\n",
            "ite= 4 time= 12.767692033449809\n",
            "ite= 5 time= 15.939009622732799\n",
            "ite= 6 time= 19.201346198717754\n",
            "ite= 7 time= 22.39238208134969\n",
            "ite= 8 time= 25.60714513460795\n"
          ],
          "name": "stdout"
        },
        {
          "output_type": "stream",
          "text": [
            "/content/Raianars_July_2020/GeraIndices.py:57: RuntimeWarning: invalid value encountered in double_scalars\n",
            "  if abs(MAT_IND[0,8]/MAT_IND[0,8])>1:\n",
            "/content/Raianars_July_2020/GeraIndices.py:60: RuntimeWarning: invalid value encountered in double_scalars\n",
            "  MAT_IND[0,10]=MAT_IND[0,8]/MAT_IND[0,8]\n"
          ],
          "name": "stderr"
        },
        {
          "output_type": "stream",
          "text": [
            "ite= 9 time= 28.881453386942546\n",
            "ite= 10 time= 32.060355591773984\n",
            "ite= 11 time= 35.240980883439384\n",
            "ite= 12 time= 38.40943961938222\n",
            "ite= 13 time= 41.593271776040396\n",
            "ite= 14 time= 44.8443266749382\n",
            "ite= 15 time= 48.001054827372236\n",
            "ite= 16 time= 51.18378556172053\n",
            "ite= 17 time= 54.44253673553467\n",
            "ite= 18 time= 57.606404268741606\n",
            "ite= 19 time= 60.76058183908462\n",
            "ite= 20 time= 63.99927589098613\n",
            "ite= 21 time= 67.16465246280035\n",
            "ite= 22 time= 70.30366780757905\n",
            "ite= 23 time= 73.47670530478159\n",
            "ite= 24 time= 76.64590251048406\n",
            "ite= 25 time= 79.8045822262764\n",
            "ite= 26 time= 82.97685636679331\n",
            "ite= 27 time= 86.18182014624277\n",
            "ite= 28 time= 89.38789869944254\n",
            "ite= 29 time= 92.56675709486008\n",
            "ite= 30 time= 95.73121764262517\n",
            "ite= 31 time= 98.90490472714106\n",
            "ite= 32 time= 102.16136802434922\n",
            "ite= 33 time= 105.35436721245448\n",
            "ite= 34 time= 108.5374505718549\n",
            "ite= 35 time= 111.80002683401108\n",
            "ite= 36 time= 114.95692974726359\n",
            "ite= 37 time= 118.104725197951\n",
            "ite= 38 time= 121.28843915859858\n",
            "ite= 39 time= 124.32589208682379\n",
            "ite= 40 time= 127.47674147288005\n",
            "ite= 41 time= 130.65084195137024\n",
            "ite= 42 time= 133.84081997474036\n",
            "ite= 43 time= 137.01943579117457\n",
            "ite= 44 time= 140.19225323994954\n",
            "ite= 45 time= 143.34750850200652\n",
            "ite= 46 time= 146.5049901564916\n",
            "ite= 47 time= 149.66727372805278\n",
            "ite= 48 time= 152.81026531855267\n",
            "ite= 49 time= 155.9776172320048\n",
            "\n",
            "DE_POP_VAR_F_CR TOTAL= 300000 Iterações= 2000 Dim= 30 Min/Max= -500 / 500 _ Schwefel\n",
            "_ANN_Div3x4_Fo-0.75_CRo-0.25_D-30_Interv-2000 \n",
            "\n",
            "MÉDIA:  1.6370904631912709e-12\n",
            "MIN __: 0.0\n",
            "MAX__:  1.8189894035458565e-12\n",
            "STD __: 5.456968210637569e-13\n",
            "Tempo Médio= 190.963 segundos ---\n",
            "50 Rodadas\n",
            "\n",
            "BEST:  [420.9687463  420.96874659 420.96874666 420.96874771 420.96874533\n",
            " 420.96874679 420.96874746 420.968747   420.96874675 420.96874575\n",
            " 420.96874718 420.96874693 420.96874509 420.96874535 420.96874703\n",
            " 420.9687453  420.96874563 420.96874692 420.96874769 420.9687466\n",
            " 420.96874831 420.96874543 420.9687458  420.96874717 420.96874735\n",
            " 420.96874815 420.96874552 420.96874554 420.96874799 420.96874634\n",
            "   0.        ]\n"
          ],
          "name": "stdout"
        }
      ]
    },
    {
      "cell_type": "code",
      "metadata": {
        "id": "egkWFpw6GiNo",
        "colab_type": "code",
        "colab": {
          "base_uri": "https://localhost:8080/",
          "height": 1000
        },
        "outputId": "87742952-e1ed-455c-f745-5ac8bfd13bb0"
      },
      "source": [
        "#DE_ tradicional\n",
        "\n",
        "!git clone https://github.com/ucfilho/Raianars_July_2020 #clonar do Github\n",
        "%cd Raianars_July_2020\n",
        "\n",
        "mut=0.5\n",
        "crossp=0.5\n",
        "\n",
        "SOMA=0\n",
        "start_time = time.time()\n",
        "BEST_AGENTS=[]\n",
        "MAT_stat=[]\n",
        "\n",
        "for i in range(RUNS):\n",
        "\n",
        "    pop = np.random.rand(NPAR, dim)\n",
        "    diff=np.zeros(dim)\n",
        "    for ii in range(dim):\n",
        "      diff[ii] = MAX[ii]-MIN[ii]\n",
        "    X = MIN + pop * diff\n",
        "\n",
        "    SOMA=0\n",
        "\n",
        "    for k in range(ITE):\n",
        "      X,BEST,FOBEST,XY,BEST_XY,SOMA= de_soma_Insight.de(MAX,MIN, mut, crossp,dim,its,Fun,X,SOMA,TOTAL)\n",
        "\n",
        "    start_run = (time.time()-start_time)/60\n",
        "    print('run=',i,'total=50','Fobj=',FOBEST,'Time=',start_run)  \n",
        "    BEST_AGENTS.append(BEST_XY)"
      ],
      "execution_count": 13,
      "outputs": [
        {
          "output_type": "stream",
          "text": [
            "Cloning into 'Raianars_July_2020'...\n",
            "remote: Enumerating objects: 27, done.\u001b[K\n",
            "remote: Counting objects:   3% (1/27)\u001b[K\rremote: Counting objects:   7% (2/27)\u001b[K\rremote: Counting objects:  11% (3/27)\u001b[K\rremote: Counting objects:  14% (4/27)\u001b[K\rremote: Counting objects:  18% (5/27)\u001b[K\rremote: Counting objects:  22% (6/27)\u001b[K\rremote: Counting objects:  25% (7/27)\u001b[K\rremote: Counting objects:  29% (8/27)\u001b[K\rremote: Counting objects:  33% (9/27)\u001b[K\rremote: Counting objects:  37% (10/27)\u001b[K\rremote: Counting objects:  40% (11/27)\u001b[K\rremote: Counting objects:  44% (12/27)\u001b[K\rremote: Counting objects:  48% (13/27)\u001b[K\rremote: Counting objects:  51% (14/27)\u001b[K\rremote: Counting objects:  55% (15/27)\u001b[K\rremote: Counting objects:  59% (16/27)\u001b[K\rremote: Counting objects:  62% (17/27)\u001b[K\rremote: Counting objects:  66% (18/27)\u001b[K\rremote: Counting objects:  70% (19/27)\u001b[K\rremote: Counting objects:  74% (20/27)\u001b[K\rremote: Counting objects:  77% (21/27)\u001b[K\rremote: Counting objects:  81% (22/27)\u001b[K\rremote: Counting objects:  85% (23/27)\u001b[K\rremote: Counting objects:  88% (24/27)\u001b[K\rremote: Counting objects:  92% (25/27)\u001b[K\rremote: Counting objects:  96% (26/27)\u001b[K\rremote: Counting objects: 100% (27/27)\u001b[K\rremote: Counting objects: 100% (27/27), done.\u001b[K\n",
            "remote: Compressing objects:   3% (1/27)\u001b[K\rremote: Compressing objects:   7% (2/27)\u001b[K\rremote: Compressing objects:  11% (3/27)\u001b[K\rremote: Compressing objects:  14% (4/27)\u001b[K\rremote: Compressing objects:  18% (5/27)\u001b[K\rremote: Compressing objects:  22% (6/27)\u001b[K\rremote: Compressing objects:  25% (7/27)\u001b[K\rremote: Compressing objects:  29% (8/27)\u001b[K\rremote: Compressing objects:  33% (9/27)\u001b[K\rremote: Compressing objects:  37% (10/27)\u001b[K\rremote: Compressing objects:  40% (11/27)\u001b[K\rremote: Compressing objects:  44% (12/27)\u001b[K\rremote: Compressing objects:  48% (13/27)\u001b[K\rremote: Compressing objects:  51% (14/27)\u001b[K\rremote: Compressing objects:  55% (15/27)\u001b[K\rremote: Compressing objects:  59% (16/27)\u001b[K\rremote: Compressing objects:  62% (17/27)\u001b[K\rremote: Compressing objects:  66% (18/27)\u001b[K\rremote: Compressing objects:  70% (19/27)\u001b[K\rremote: Compressing objects:  74% (20/27)\u001b[K\rremote: Compressing objects:  77% (21/27)\u001b[K\rremote: Compressing objects:  81% (22/27)\u001b[K\rremote: Compressing objects:  85% (23/27)\u001b[K\rremote: Compressing objects:  88% (24/27)\u001b[K\rremote: Compressing objects:  92% (25/27)\u001b[K\rremote: Compressing objects:  96% (26/27)\u001b[K\rremote: Compressing objects: 100% (27/27)\u001b[K\rremote: Compressing objects: 100% (27/27), done.\u001b[K\n",
            "Receiving objects:   0% (1/150)   \rReceiving objects:   1% (2/150)   \rReceiving objects:   2% (3/150)   \rReceiving objects:   3% (5/150)   \rReceiving objects:   4% (6/150)   \rReceiving objects:   5% (8/150)   \rReceiving objects:   6% (9/150)   \rReceiving objects:   7% (11/150)   \rReceiving objects:   8% (12/150)   \rReceiving objects:   9% (14/150)   \rReceiving objects:  10% (15/150)   \rReceiving objects:  11% (17/150)   \rReceiving objects:  12% (18/150)   \rReceiving objects:  13% (20/150)   \rReceiving objects:  14% (21/150)   \rReceiving objects:  15% (23/150)   \rReceiving objects:  16% (24/150)   \rReceiving objects:  17% (26/150)   \rReceiving objects:  18% (27/150)   \rReceiving objects:  19% (29/150)   \rReceiving objects:  20% (30/150)   \rReceiving objects:  21% (32/150)   \rReceiving objects:  22% (33/150)   \rReceiving objects:  23% (35/150)   \rReceiving objects:  24% (36/150)   \rReceiving objects:  25% (38/150)   \rReceiving objects:  26% (39/150)   \rReceiving objects:  27% (41/150)   \rReceiving objects:  28% (42/150)   \rReceiving objects:  29% (44/150)   \rReceiving objects:  30% (45/150)   \rReceiving objects:  31% (47/150)   \rReceiving objects:  32% (48/150)   \rReceiving objects:  33% (50/150)   \rReceiving objects:  34% (51/150)   \rReceiving objects:  35% (53/150)   \rReceiving objects:  36% (54/150)   \rReceiving objects:  37% (56/150)   \rReceiving objects:  38% (57/150)   \rReceiving objects:  39% (59/150)   \rReceiving objects:  40% (60/150)   \rReceiving objects:  41% (62/150)   \rReceiving objects:  42% (63/150)   \rReceiving objects:  43% (65/150)   \rReceiving objects:  44% (66/150)   \rReceiving objects:  45% (68/150)   \rReceiving objects:  46% (69/150)   \rReceiving objects:  47% (71/150)   \rReceiving objects:  48% (72/150)   \rReceiving objects:  49% (74/150)   \rReceiving objects:  50% (75/150)   \rReceiving objects:  51% (77/150)   \rReceiving objects:  52% (78/150)   \rReceiving objects:  53% (80/150)   \rReceiving objects:  54% (81/150)   \rReceiving objects:  55% (83/150)   \rReceiving objects:  56% (84/150)   \rReceiving objects:  57% (86/150)   \rReceiving objects:  58% (87/150)   \rReceiving objects:  59% (89/150)   \rReceiving objects:  60% (90/150)   \rReceiving objects:  61% (92/150)   \rReceiving objects:  62% (93/150)   \rReceiving objects:  63% (95/150)   \rReceiving objects:  64% (96/150)   \rremote: Total 150 (delta 14), reused 0 (delta 0), pack-reused 123\u001b[K\n",
            "Receiving objects:  65% (98/150)   \rReceiving objects:  66% (99/150)   \rReceiving objects:  67% (101/150)   \rReceiving objects:  68% (102/150)   \rReceiving objects:  69% (104/150)   \rReceiving objects:  70% (105/150)   \rReceiving objects:  71% (107/150)   \rReceiving objects:  72% (108/150)   \rReceiving objects:  73% (110/150)   \rReceiving objects:  74% (111/150)   \rReceiving objects:  75% (113/150)   \rReceiving objects:  76% (114/150)   \rReceiving objects:  77% (116/150)   \rReceiving objects:  78% (117/150)   \rReceiving objects:  79% (119/150)   \rReceiving objects:  80% (120/150)   \rReceiving objects:  81% (122/150)   \rReceiving objects:  82% (123/150)   \rReceiving objects:  83% (125/150)   \rReceiving objects:  84% (126/150)   \rReceiving objects:  85% (128/150)   \rReceiving objects:  86% (129/150)   \rReceiving objects:  87% (131/150)   \rReceiving objects:  88% (132/150)   \rReceiving objects:  89% (134/150)   \rReceiving objects:  90% (135/150)   \rReceiving objects:  91% (137/150)   \rReceiving objects:  92% (138/150)   \rReceiving objects:  93% (140/150)   \rReceiving objects:  94% (141/150)   \rReceiving objects:  95% (143/150)   \rReceiving objects:  96% (144/150)   \rReceiving objects:  97% (146/150)   \rReceiving objects:  98% (147/150)   \rReceiving objects:  99% (149/150)   \rReceiving objects: 100% (150/150)   \rReceiving objects: 100% (150/150), 204.85 KiB | 1018.00 KiB/s, done.\n",
            "Resolving deltas:   0% (0/76)   \rResolving deltas:   6% (5/76)   \rResolving deltas:  52% (40/76)   \rResolving deltas:  65% (50/76)   \rResolving deltas:  69% (53/76)   \rResolving deltas:  71% (54/76)   \rResolving deltas:  85% (65/76)   \rResolving deltas:  93% (71/76)   \rResolving deltas:  97% (74/76)   \rResolving deltas:  98% (75/76)   \rResolving deltas: 100% (76/76)   \rResolving deltas: 100% (76/76), done.\n",
            "/content/Raianars_July_2020/ANN_read_matrix/Raianars_July_2020\n",
            "run= 0 total=50 Fobj= 1242.6168714574378 Time= 0.5201474865277608\n",
            "run= 1 total=50 Fobj= 887.7044724371317 Time= 1.0405489524205527\n",
            "run= 2 total=50 Fobj= 1859.543693949001 Time= 1.5657533288002015\n",
            "run= 3 total=50 Fobj= 2414.723240637588 Time= 2.0934608141581217\n",
            "run= 4 total=50 Fobj= 3950.628042382159 Time= 2.614124270280202\n",
            "run= 5 total=50 Fobj= 3189.8922214709673 Time= 3.144587751229604\n",
            "run= 6 total=50 Fobj= 2357.419683064436 Time= 3.7406225562095643\n",
            "run= 7 total=50 Fobj= 4021.9886538518294 Time= 4.267412885030111\n",
            "run= 8 total=50 Fobj= 1128.321995512717 Time= 4.7909346461296085\n",
            "run= 9 total=50 Fobj= 2932.3612751842866 Time= 5.314074556032817\n",
            "run= 10 total=50 Fobj= 1738.9404837257316 Time= 5.84525324900945\n",
            "run= 11 total=50 Fobj= 3000.9583495993647 Time= 6.371562127272288\n",
            "run= 12 total=50 Fobj= 3962.1494918623503 Time= 6.8965441902478535\n",
            "run= 13 total=50 Fobj= 3837.318776276099 Time= 7.426073304812113\n",
            "run= 14 total=50 Fobj= 2427.0262892819173 Time= 7.948713481426239\n",
            "run= 15 total=50 Fobj= 1702.831150008642 Time= 8.4717138727506\n",
            "run= 16 total=50 Fobj= 4181.415887688378 Time= 8.992733546098073\n",
            "run= 17 total=50 Fobj= 2903.0833472972226 Time= 9.519863680998485\n",
            "run= 18 total=50 Fobj= 487.50582020609363 Time= 10.036058282852172\n",
            "run= 19 total=50 Fobj= 3602.921196645326 Time= 10.55954517920812\n",
            "run= 20 total=50 Fobj= 2159.4323193773325 Time= 11.086174456278483\n",
            "run= 21 total=50 Fobj= 3469.404778916012 Time= 11.6059028784434\n",
            "run= 22 total=50 Fobj= 3282.5599461303264 Time= 12.133347709973654\n",
            "run= 23 total=50 Fobj= 3101.853533760417 Time= 12.663414374987285\n",
            "run= 24 total=50 Fobj= 2840.3381595440533 Time= 13.194370937347411\n",
            "run= 25 total=50 Fobj= 1641.4213626683559 Time= 13.804991964499155\n",
            "run= 26 total=50 Fobj= 2285.086583454342 Time= 14.32702043056488\n",
            "run= 27 total=50 Fobj= 2882.8052387992466 Time= 14.856027332941691\n",
            "run= 28 total=50 Fobj= 2043.7843684729796 Time= 15.383252370357514\n",
            "run= 29 total=50 Fobj= 3268.6206004245632 Time= 15.907929730415344\n",
            "run= 30 total=50 Fobj= 486.9231516017571 Time= 16.434252846240998\n",
            "run= 31 total=50 Fobj= 2519.8640410397275 Time= 16.955879882971445\n",
            "run= 32 total=50 Fobj= 4163.034093746664 Time= 17.477173046271005\n",
            "run= 33 total=50 Fobj= 4469.528349458008 Time= 18.002555652459463\n",
            "run= 34 total=50 Fobj= 3650.1071137952877 Time= 18.533292039235434\n",
            "run= 35 total=50 Fobj= 3849.8304520836173 Time= 19.055253076553345\n",
            "run= 36 total=50 Fobj= 2848.1961335905326 Time= 19.575874547163647\n",
            "run= 37 total=50 Fobj= 3499.4021581268134 Time= 20.09572765429815\n",
            "run= 38 total=50 Fobj= 593.7087638587182 Time= 20.619634250799816\n",
            "run= 39 total=50 Fobj= 4104.744906580421 Time= 21.149701956907908\n",
            "run= 40 total=50 Fobj= 1923.172314573354 Time= 21.677143800258637\n",
            "run= 41 total=50 Fobj= 3804.7350606925884 Time= 22.20184643268585\n",
            "run= 42 total=50 Fobj= 1804.3462329086888 Time= 22.727995630105337\n",
            "run= 43 total=50 Fobj= 2964.094411101578 Time= 23.255166614055632\n",
            "run= 44 total=50 Fobj= 3052.8335727592184 Time= 23.86446491877238\n",
            "run= 45 total=50 Fobj= 4672.468354591459 Time= 24.387223406632742\n",
            "run= 46 total=50 Fobj= 3355.827839421003 Time= 24.910428440570833\n",
            "run= 47 total=50 Fobj= 4362.179678722552 Time= 25.439900314807893\n",
            "run= 48 total=50 Fobj= 2384.4286853648446 Time= 25.96415648063024\n",
            "run= 49 total=50 Fobj= 1946.356917234587 Time= 26.492290552457174\n"
          ],
          "name": "stdout"
        }
      ]
    },
    {
      "cell_type": "code",
      "metadata": {
        "id": "3W8R6htAHO63",
        "colab_type": "code",
        "colab": {
          "base_uri": "https://localhost:8080/",
          "height": 306
        },
        "outputId": "0192ff70-1e5b-40bc-b648-07ef8cc9aaf9"
      },
      "source": [
        "############################## Cálculo dos Parâmetros de Avaliação   \n",
        "TIME = (time.time() - start_time)/RUNS\n",
        "BEST_AGENTS=np.array(BEST_AGENTS)\n",
        "BEST_AGENTS_ST= BEST_AGENTS[BEST_AGENTS[:,-1].argsort()]\n",
        "BEST=BEST_AGENTS_ST[0]\n",
        "WORSE=BEST_AGENTS_ST[-1]\n",
        "MEAN=np.mean(BEST_AGENTS,axis=0)\n",
        "MAXFO=BEST_AGENTS[:,-1].max()\n",
        "MINFO=BEST_AGENTS[:,-1].min()\n",
        "STD=BEST_AGENTS[:,-1].std()\n",
        "\n",
        "nome='DE_STAT_Fo-'+str(mut)+'_CRo-'+str(crossp)+'_D-'+str(dim)+'_Interv-'+str(ITE)\n",
        "print('DE_','TOTAL=',TOTAL,'Iterações=',ITE*its,'Dim=', dim,\"Min/Max=\",MIN[0],\"/\",MAX[0],'_',Fun.__name__)\n",
        "print(nome, '\\n')\n",
        "#print('BEST: ',BEST)\n",
        "#print('MÉDIA: ',MEAN)\n",
        "print('MÉDIA: ',MEAN[-1])\n",
        "print('MIN __:',MINFO)\n",
        "print('MAX__: ',MAXFO)\n",
        "print('STD __:',STD)\n",
        "print(\"Tempo Médio= %.3f segundos ---\" % (TIME))\n",
        "print(RUNS,'Rodadas') \n",
        "print()\n",
        "print('BEST: ',BEST)"
      ],
      "execution_count": 14,
      "outputs": [
        {
          "output_type": "stream",
          "text": [
            "DE_ TOTAL= 300000 Iterações= 2000 Dim= 30 Min/Max= -500 / 500 _ Schwefel\n",
            "DE_STAT_Fo-0.5_CRo-0.5_D-30_Interv-2000 \n",
            "\n",
            "MÉDIA:  2785.2088013067546\n",
            "MIN __: 486.9231516017571\n",
            "MAX__:  4672.468354591459\n",
            "STD __: 1081.628005821117\n",
            "Tempo Médio= 31.791 segundos ---\n",
            "50 Rodadas\n",
            "\n",
            "BEST:  [ 420.55645215 -302.16535731  420.55365814  420.98113287  421.12360679\n",
            "  421.20276467  421.13578978  421.22272141  420.43509995  421.10530685\n",
            "  410.99213143 -302.53685986  421.05766645  421.17791933  421.47225179\n",
            "  421.02402418  421.23852035 -302.43696047  420.85397491  419.03571742\n",
            "  420.96357956  420.54583375  421.04509553  421.05591907 -302.2556795\n",
            "  421.16755408  420.71690641  420.88393169  421.44725956  421.15098515\n",
            "  486.9231516 ]\n"
          ],
          "name": "stdout"
        }
      ]
    }
  ]
}