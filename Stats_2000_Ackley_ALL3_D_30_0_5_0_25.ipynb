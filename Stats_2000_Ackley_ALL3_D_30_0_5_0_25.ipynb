{
  "nbformat": 4,
  "nbformat_minor": 0,
  "metadata": {
    "colab": {
      "name": "Stats_2000_Ackley_ALL3_D_30_0.5_0.25.ipynb",
      "provenance": [],
      "collapsed_sections": [],
      "include_colab_link": true
    },
    "kernelspec": {
      "name": "python3",
      "display_name": "Python 3"
    }
  },
  "cells": [
    {
      "cell_type": "markdown",
      "metadata": {
        "id": "view-in-github",
        "colab_type": "text"
      },
      "source": [
        "<a href=\"https://colab.research.google.com/github/RaianaSeixas/Paper-1-Final-Results/blob/master/Stats_2000_Ackley_ALL3_D_30_0_5_0_25.ipynb\" target=\"_parent\"><img src=\"https://colab.research.google.com/assets/colab-badge.svg\" alt=\"Open In Colab\"/></a>"
      ]
    },
    {
      "cell_type": "code",
      "metadata": {
        "id": "MC26Bm1UyUR5",
        "colab_type": "code",
        "colab": {
          "base_uri": "https://localhost:8080/",
          "height": 105
        },
        "outputId": "f18fb76d-f0ef-4cf8-a36f-1a51c3ebf1f8"
      },
      "source": [
        "!pip install pyade-python"
      ],
      "execution_count": 1,
      "outputs": [
        {
          "output_type": "stream",
          "text": [
            "Collecting pyade-python\n",
            "  Downloading https://files.pythonhosted.org/packages/02/e7/aefff90c8de0ad3ff151d51507ec65a2988b7cce9126c342746f77615d9f/pyade_python-1.1-py3-none-any.whl\n",
            "Installing collected packages: pyade-python\n",
            "Successfully installed pyade-python-1.1\n"
          ],
          "name": "stdout"
        }
      ]
    },
    {
      "cell_type": "code",
      "metadata": {
        "id": "rRwqrtCmgzdZ",
        "colab_type": "code",
        "colab": {
          "base_uri": "https://localhost:8080/",
          "height": 224
        },
        "outputId": "553face2-3065-4ad2-c01f-25eb0f48a643"
      },
      "source": [
        "!pip install PyFDE"
      ],
      "execution_count": 2,
      "outputs": [
        {
          "output_type": "stream",
          "text": [
            "Collecting PyFDE\n",
            "\u001b[?25l  Downloading https://files.pythonhosted.org/packages/72/f9/87f7279554d2682e3827d39c3d3a565b2fd42f7114a779e34a601c6c5079/PyFDE-1.3.0.tar.gz (397kB)\n",
            "\u001b[K     |████████████████████████████████| 399kB 2.6MB/s \n",
            "\u001b[?25hRequirement already satisfied: numpy in /usr/local/lib/python3.6/dist-packages (from PyFDE) (1.18.5)\n",
            "Building wheels for collected packages: PyFDE\n",
            "  Building wheel for PyFDE (setup.py) ... \u001b[?25l\u001b[?25hdone\n",
            "  Created wheel for PyFDE: filename=PyFDE-1.3.0-cp36-cp36m-linux_x86_64.whl size=969296 sha256=deb90d8111c7050570f3f7e8693936124fcb37ec23dde1222181804663face16\n",
            "  Stored in directory: /root/.cache/pip/wheels/7d/42/ba/abf21db37934e576c74fc2c9504b5cd97eb6a99e3dec1743c0\n",
            "Successfully built PyFDE\n",
            "Installing collected packages: PyFDE\n",
            "Successfully installed PyFDE-1.3.0\n"
          ],
          "name": "stdout"
        }
      ]
    },
    {
      "cell_type": "code",
      "metadata": {
        "id": "anFukot-ypn6",
        "colab_type": "code",
        "colab": {}
      },
      "source": [
        "import pyade.ilshade \n",
        "import pyade.sade \n",
        "import pyade.jso\n",
        "import pyade.shade\n",
        "import pyade.jade \n",
        "import pyfde\n",
        "import numpy as np\n",
        "import pandas as pd\n",
        "import time"
      ],
      "execution_count": 3,
      "outputs": []
    },
    {
      "cell_type": "code",
      "metadata": {
        "id": "6Oh714_-z1Ia",
        "colab_type": "code",
        "colab": {
          "base_uri": "https://localhost:8080/",
          "height": 153
        },
        "outputId": "80741b96-78d1-4c0e-ea2f-ede29f290e66"
      },
      "source": [
        "!git clone https://github.com/ucfilho/Raianars_July_2020 #clonar do Github\n",
        "%cd Raianars_July_2020"
      ],
      "execution_count": 4,
      "outputs": [
        {
          "output_type": "stream",
          "text": [
            "Cloning into 'Raianars_July_2020'...\n",
            "remote: Enumerating objects: 15, done.\u001b[K\n",
            "remote: Counting objects: 100% (15/15), done.\u001b[K\n",
            "remote: Compressing objects: 100% (15/15), done.\u001b[K\n",
            "remote: Total 138 (delta 7), reused 0 (delta 0), pack-reused 123\u001b[K\n",
            "Receiving objects: 100% (138/138), 201.58 KiB | 576.00 KiB/s, done.\n",
            "Resolving deltas: 100% (69/69), done.\n",
            "/content/Raianars_July_2020\n"
          ],
          "name": "stdout"
        }
      ]
    },
    {
      "cell_type": "code",
      "metadata": {
        "id": "LnzftXkky78A",
        "colab_type": "code",
        "colab": {}
      },
      "source": [
        "import Go2Ann\n",
        "import de_soma_Insight\n",
        "import de_bounds_matriz\n",
        "from AvaliaX import AvaliaX\n",
        "from GeraIndices import GeraIndices"
      ],
      "execution_count": 5,
      "outputs": []
    },
    {
      "cell_type": "code",
      "metadata": {
        "id": "HNW92728z7fR",
        "colab_type": "code",
        "colab": {}
      },
      "source": [
        "import Function\n",
        "import Go2MinMax"
      ],
      "execution_count": 6,
      "outputs": []
    },
    {
      "cell_type": "code",
      "metadata": {
        "id": "T_C-e7aH0CZH",
        "colab_type": "code",
        "colab": {}
      },
      "source": [
        "ITE=2000 #10 # PONTOS quantas vezes vai alteral NPAR \n",
        "NPAR=100 # NUMBER OF PARTICLES\n",
        "dim=30\n",
        "RUNS=50\n",
        "fchoice='Ackley'  #MS\n",
        "Fun=Function.Ackley\n",
        "\n",
        "MIN,MAX=Go2MinMax.Intervalo(dim,fchoice)\n",
        "bounds = [(0,0)]*dim\n",
        "\n",
        "for i in range(dim):\n",
        "  bounds[i] = (MIN[i],MAX[i])\n",
        "\n",
        "start_time = time.time() "
      ],
      "execution_count": 7,
      "outputs": []
    },
    {
      "cell_type": "code",
      "metadata": {
        "id": "Nqv5qp9yzQEw",
        "colab_type": "code",
        "colab": {}
      },
      "source": [
        "############################### INPUT INFORMATION (FRANNK)\n",
        "Fc=0.1 # fator de correcao parametros da ANN\n",
        "its=1 #10 # quantas vezes vai usar o NPAR antes de alterar de novo\n",
        "mut=0.5\n",
        "crossp=0.25\n",
        "Fi=mut;CRi=crossp;# para impressão\n",
        "PAR=len(MAX) #NUM DE PARAMETROS A SER OTIMIZADOS"
      ],
      "execution_count": 8,
      "outputs": []
    },
    {
      "cell_type": "code",
      "metadata": {
        "id": "q77YsFa82zFU",
        "colab_type": "code",
        "colab": {
          "base_uri": "https://localhost:8080/",
          "height": 323
        },
        "outputId": "97d281cc-c44a-4729-f311-c0102ec09586"
      },
      "source": [
        "# JADE\n",
        "algorithm = pyade.jso\n",
        "BEST_AGENTS=[]\n",
        "for i in range(RUNS):\n",
        "  ANSWER_AGENTS=[]\n",
        "  solver = pyfde.JADE(Fun, n_dim=dim, n_pop=NPAR, limits=bounds, minimize=True)\n",
        "  solver.p = 0.05\n",
        "  solver.c = 0.1\n",
        "  solver.cr = 0.5\n",
        "  solver.f = 0.5\n",
        "  best, fit = solver.run(n_it=ITE)\n",
        "  for x in best:\n",
        "    ANSWER_AGENTS.append(x)\n",
        "  ANSWER_AGENTS.append(fit)\n",
        "  BEST_AGENTS.append(ANSWER_AGENTS)\n",
        "BEST_AGENTS=np.array(BEST_AGENTS)\n",
        "TIME = (time.time() - start_time)/RUNS\n",
        "BEST_AGENTS=np.array(BEST_AGENTS)\n",
        "BEST_AGENTS_ST= BEST_AGENTS[BEST_AGENTS[:,-1].argsort()]\n",
        "BEST=BEST_AGENTS_ST[0]\n",
        "WORSE=BEST_AGENTS_ST[-1]\n",
        "MEAN=np.mean(BEST_AGENTS,axis=0)\n",
        "MAXFO=BEST_AGENTS[:,-1].max()\n",
        "MINFO=BEST_AGENTS[:,-1].min()\n",
        "STD=BEST_AGENTS[:,-1].std()\n",
        "nome='JADE_Fo-'+str(0)+'_CRo-'+str(0)\n",
        "print(nome,'NPAR',NPAR,'Iterações=',ITE,'Dim=',dim ,\"Min/Max=\",MIN[0],\"/\",MAX[0],'_',Fun.__name__)\n",
        "print( '\\n')\n",
        "print('MÉDIA: ',MEAN[-1])\n",
        "print('MIN __:',MINFO)\n",
        "print('MAX__: ',MAXFO)\n",
        "print('STD __:',STD)\n",
        "print(\"Tempo Médio= %.3f segundos ---\" % (TIME))\n",
        "print(RUNS,'Rodadas') \n",
        "print()\n",
        "print('BEST: ',BEST)"
      ],
      "execution_count": 9,
      "outputs": [
        {
          "output_type": "stream",
          "text": [
            "JADE_Fo-0_CRo-0 NPAR 100 Iterações= 2000 Dim= 30 Min/Max= -32 / 32 _ Ackley\n",
            "\n",
            "\n",
            "MÉDIA:  -3.9968028886505635e-15\n",
            "MIN __: -3.9968028886505635e-15\n",
            "MAX__:  -3.9968028886505635e-15\n",
            "STD __: 0.0\n",
            "Tempo Médio= 4.641 segundos ---\n",
            "50 Rodadas\n",
            "\n",
            "BEST:  [-1.57548678e-15 -1.69476348e-15  4.49672405e-16 -4.80099013e-16\n",
            " -1.33397889e-16 -8.96531934e-16 -8.63362325e-16  2.49775495e-15\n",
            "  2.88559700e-16  2.23739411e-15  1.10041370e-15  3.31715918e-16\n",
            " -1.95362542e-15 -1.09984464e-15 -8.10129847e-16 -2.76808792e-15\n",
            " -1.62231291e-15  1.19399650e-17 -2.76165206e-15  2.46318151e-16\n",
            " -2.06202443e-15 -9.38772679e-16 -9.01494767e-16 -1.00619751e-15\n",
            " -2.88816832e-16 -2.10113330e-15  9.33095291e-16 -1.19084232e-15\n",
            " -3.51703534e-16 -3.14820590e-16 -3.99680289e-15]\n"
          ],
          "name": "stdout"
        }
      ]
    },
    {
      "cell_type": "code",
      "metadata": {
        "id": "gXdUgSStzppX",
        "colab_type": "code",
        "colab": {}
      },
      "source": [
        "# FRANNK START HERE !!!!!"
      ],
      "execution_count": 10,
      "outputs": []
    },
    {
      "cell_type": "code",
      "metadata": {
        "id": "raWOfeJBztuj",
        "colab_type": "code",
        "colab": {
          "base_uri": "https://localhost:8080/",
          "height": 136
        },
        "outputId": "134c6516-a027-4863-e784-9d717fc09282"
      },
      "source": [
        "!git clone https://github.com/ucfilho/ANN_read_matrix #clonar do Github\n",
        "%cd ANN_read_matrix"
      ],
      "execution_count": 11,
      "outputs": [
        {
          "output_type": "stream",
          "text": [
            "Cloning into 'ANN_read_matrix'...\n",
            "remote: Enumerating objects: 20, done.\u001b[K\n",
            "remote: Counting objects: 100% (20/20), done.\u001b[K\n",
            "remote: Compressing objects: 100% (18/18), done.\u001b[K\n",
            "remote: Total 20 (delta 5), reused 0 (delta 0), pack-reused 0\u001b[K\n",
            "Unpacking objects: 100% (20/20), done.\n",
            "/content/Raianars_July_2020/ANN_read_matrix\n"
          ],
          "name": "stdout"
        }
      ]
    },
    {
      "cell_type": "code",
      "metadata": {
        "id": "N2lyPfivzwGv",
        "colab_type": "code",
        "colab": {
          "base_uri": "https://localhost:8080/",
          "height": 1000
        },
        "outputId": "68570d85-1d59-4357-860f-bd554bb79eda"
      },
      "source": [
        "ANN_F=pd.read_csv('ANN_INSIGHT_Valor_F.csv')\n",
        "ANN_CR=pd.read_csv('ANN_INSIGHT_CR.csv')\n",
        "syn0_F,syn1_F,X_max_F,X_min_F=Go2Ann.GetMatriz(ANN_F)\n",
        "syn0_CR,syn1_CR,X_max_CR,X_min_CR=Go2Ann.GetMatriz(ANN_CR)\n",
        "fields = ['DI RELATIVO','FRAC Its','Fo','CRo']\n",
        "\n",
        "#TOTAL=7*dim*its*ITE\n",
        "TOTAL=10*dim*its*ITE\n",
        "TOTAL=int(TOTAL/2)   # CONFERIR SE ESTE EH O MELHOR LUGAR\n",
        "\n",
        "dimensions=len(MAX)\n",
        "start_time = time.time() #INICIALIZA CONTAGEM DO TEMPO\n",
        "\n",
        "MAX_P=np.zeros(ITE) # ATENCAO para variar F e Cr MAX_P passa a ser 3 vezes maior\n",
        "MIN_P=np.zeros(ITE) # ATENCAO para variar F e Cr MIN_P passa a ser 3 vezes maior\n",
        "\n",
        "for i in range(dim):\n",
        "  MAX_P[i]=MAX[i] \n",
        "  MIN_P[i]=MIN[i]\n",
        "\n",
        "rodadas=1\n",
        "for i in range(rodadas):\n",
        "  SOMA=0\n",
        "  pop = np.random.rand(NPAR, dimensions)\n",
        "  diff=np.zeros(PAR)\n",
        "  for ii in range(PAR):\n",
        "    diff[ii] = MAX[ii]-MIN[ii]\n",
        "  X = MIN + pop * diff\n",
        "    \n",
        "  PONTOS=ITE # DIVISOES DA POPULACAO\n",
        "start_time = time.time()\n",
        "BEST_AGENTS=[]\n",
        "MAT_stat=[]\n",
        "for i in range(RUNS):\n",
        "    MAT=[] \n",
        "    mut=Fi\n",
        "    crossp=CRi\n",
        "    SOMA=0\n",
        "    SOMAf=0\n",
        "    start_ite = time.time()\n",
        "    delta_time=(start_ite-start_time)/60\n",
        "    print('ite=',i,'time=',delta_time)\n",
        "    pop = np.random.rand(NPAR, dim)\n",
        "    diff=np.zeros(PAR)\n",
        "    for ii in range(PAR):\n",
        "      diff[ii] = MAX[ii]-MIN[ii]\n",
        "    X = MIN + pop * diff\n",
        "    Xf = MIN + pop * diff\n",
        "    \n",
        "    DIo=1e99\n",
        "  \n",
        "    CRo=crossp;Fo=mut;\n",
        "    Fitness = np.asarray([Fun(ind) for ind in X])\n",
        "\n",
        "    XY,BEST_XY,BESTo,FOBESTo=AvaliaX(X,Fitness)\n",
        "    nrow,ncol=X.shape\n",
        "\n",
        "    QUANT=17;MAT_INDo=np.zeros((1,QUANT)); # quantos indices esta fazendo\n",
        "    MAT_INDo[0,5]=nrow  # VALOR NP\n",
        "    MAT_INDo[0,6]=Fo    # VALOR Fo   \n",
        "    MAT_INDo[0,7]=CRo   # VALOR CRo\n",
        "  \n",
        "    MAT_INDo=GeraIndices(X,BESTo,FOBESTo,DIo,MAT_INDo,SOMA,TOTAL,syn0_F,\n",
        "                        syn1_F,X_max_F,X_min_F,syn0_CR,syn1_CR,X_max_CR,\n",
        "                        X_min_CR,Fc,fields,Fun)\n",
        "  \n",
        "    DIo=np.copy(MAT_INDo[0,0])\n",
        "    MAT_INDo[0,15]=Fo    # VALOR Fo   \n",
        "    MAT_INDo[0,16]=CRo   # VALOR CRo\n",
        "    #ind_crossp=ITE-1\n",
        "\n",
        "    \n",
        "    for k in range(ITE):\n",
        "      X,BEST,FOBEST,XY,BEST_XY,SOMA= de_soma_Insight.de(MAX,MIN, mut, crossp,NPAR,its,Fun,X,SOMA,TOTAL)\n",
        "      #Xf,BESTf,FOBESTf,XYf,BEST_XYf,SOMAf= de_soma_Insight.de(MAX,MIN, Fi, CRi, NPAR,its,Fun,Xf,SOMAf,TOTAL)\n",
        "\n",
        "      \n",
        "      MAT_IND=GeraIndices(X,BESTo,FOBESTo,DIo,MAT_INDo,SOMA,TOTAL,syn0_F,\n",
        "                          syn1_F,X_max_F,X_min_F,syn0_CR,syn1_CR,X_max_CR,\n",
        "                          X_min_CR,Fc,fields,Fun)\n",
        "    \n",
        "      BESTo=np.copy(BEST);FOBESTo=np.copy(FOBEST);\n",
        "      MAT.append(MAT_IND.ravel())\n",
        "    \n",
        "      MAT_INDo[0,6]=MAT_IND[0,15]   # VALOR Fo   \n",
        "      MAT_INDo[0,7]=MAT_IND[0,16]   # VALOR CRo\n",
        "      mut=MAT_IND[0,15]\n",
        "      crossp=MAT_IND[0,16]\n",
        "\n",
        "      Fitness = np.asarray([Fun(ind) for ind in X])\n",
        "      #Fitnessf = np.asarray([Fun(ind) for ind in Xf])\n",
        "      Maior=np.argmax(Fitness)\n",
        "      #Maiorf=np.argmax(Fitnessf)\n",
        "      Menor=np.argmin(Fitness)\n",
        "      #Menorf=np.argmin(Fitnessf)\n",
        "\n",
        "      #X[Maior,:]=np.copy(Xf[Menorf,:])\n",
        "      #Xf[Maiorf,:]=np.copy(X[Menor,:])\n",
        "      \n",
        "    BEST_AGENTS.append(BEST_XY)\n",
        "    MAT_stat.append(MAT)\n",
        "    #print(\"GlobalParam e Solucao:\", BEST,\"Funcao=\",FOBEST)\n",
        "    \n",
        "############################## Cálculo dos Parâmetros de Avaliação   \n",
        "TIME = (time.time() - start_time)/RUNS\n",
        "BEST_AGENTS=np.array(BEST_AGENTS)\n",
        "BEST_AGENTS_ST= BEST_AGENTS[BEST_AGENTS[:,-1].argsort()]\n",
        "BEST=BEST_AGENTS_ST[0]\n",
        "WORSE=BEST_AGENTS_ST[-1]\n",
        "MEAN=np.mean(BEST_AGENTS,axis=0)\n",
        "MAXFO=BEST_AGENTS[:,-1].max()\n",
        "MINFO=BEST_AGENTS[:,-1].min()\n",
        "STD=BEST_AGENTS[:,-1].std()\n",
        "\n",
        "print()\n",
        "nome='_ANN_Div3x4_Fo-'+str(Fi)+'_CRo-'+str(CRi)+'_D-'+str(dim)+'_Interv-'+str(ITE)\n",
        "print('DE_POP_VAR_F_CR','TOTAL=',TOTAL,'Iterações=',ITE*its,'Dim=', PAR,\"Min/Max=\",MIN[0],\"/\",MAX[0],'_',Fun.__name__)\n",
        "print(nome, '\\n')\n",
        "print('MÉDIA: ',MEAN[-1])\n",
        "print('MIN __:',MINFO)\n",
        "print('MAX__: ',MAXFO)\n",
        "print('STD __:',STD)\n",
        "print(\"Tempo Médio= %.3f segundos ---\" % (TIME))\n",
        "print(RUNS,'Rodadas') \n",
        "print()\n",
        "print('BEST: ',BEST)"
      ],
      "execution_count": 12,
      "outputs": [
        {
          "output_type": "stream",
          "text": [
            "ite= 0 time= 8.31286112467448e-06\n",
            "ite= 1 time= 2.548175660769145\n",
            "ite= 2 time= 5.098776662349701\n",
            "ite= 3 time= 7.6717175801595054\n",
            "ite= 4 time= 10.238590915997824\n",
            "ite= 5 time= 12.775306141376495\n",
            "ite= 6 time= 15.360379286607106\n",
            "ite= 7 time= 17.945693000157675\n",
            "ite= 8 time= 20.481572977701823\n",
            "ite= 9 time= 23.04538298845291\n",
            "ite= 10 time= 25.62991464138031\n",
            "ite= 11 time= 28.1819873491923\n",
            "ite= 12 time= 30.769527932008106\n",
            "ite= 13 time= 33.311917479832964\n",
            "ite= 14 time= 35.89183481534322\n",
            "ite= 15 time= 38.42531018257141\n",
            "ite= 16 time= 40.96781479120254\n",
            "ite= 17 time= 43.511834939320885\n",
            "ite= 18 time= 46.054565878709155\n",
            "ite= 19 time= 48.59156435728073\n",
            "ite= 20 time= 51.17607838710149\n",
            "ite= 21 time= 53.71534086465836\n",
            "ite= 22 time= 56.25478069782257\n",
            "ite= 23 time= 58.84842308759689\n",
            "ite= 24 time= 61.388583894570665\n",
            "ite= 25 time= 63.9715571920077\n",
            "ite= 26 time= 66.56745335658391\n",
            "ite= 27 time= 69.15665015379588\n",
            "ite= 28 time= 71.74278173049291\n",
            "ite= 29 time= 74.3236673951149\n",
            "ite= 30 time= 76.87331550916036\n",
            "ite= 31 time= 79.41828710238138\n",
            "ite= 32 time= 82.0086722612381\n",
            "ite= 33 time= 84.5505371371905\n",
            "ite= 34 time= 87.1028048992157\n",
            "ite= 35 time= 89.65718694527943\n",
            "ite= 36 time= 92.20939910014471\n",
            "ite= 37 time= 94.75742981036504\n",
            "ite= 38 time= 97.30361466010412\n",
            "ite= 39 time= 99.85129262606303\n",
            "ite= 40 time= 102.44339779615402\n",
            "ite= 41 time= 104.98577833175659\n",
            "ite= 42 time= 107.53001168966293\n",
            "ite= 43 time= 110.07484426895778\n",
            "ite= 44 time= 112.66447759866715\n",
            "ite= 45 time= 115.21113258600235\n",
            "ite= 46 time= 117.80531736214955\n",
            "ite= 47 time= 120.35273551940918\n",
            "ite= 48 time= 122.89607305526734\n",
            "ite= 49 time= 125.43344968557358\n",
            "\n",
            "DE_POP_VAR_F_CR TOTAL= 300000 Iterações= 2000 Dim= 30 Min/Max= -32 / 32 _ Ackley\n",
            "_ANN_Div3x4_Fo-0.5_CRo-0.25_D-30_Interv-2000 \n",
            "\n",
            "MÉDIA:  1.7070789226636406e-14\n",
            "MIN __: 7.549516567451064e-15\n",
            "MAX__:  3.241851231905457e-14\n",
            "STD __: 1.0644869308892171e-14\n",
            "Tempo Médio= 153.573 segundos ---\n",
            "50 Rodadas\n",
            "\n",
            "BEST:  [ 1.14236641e-15  3.60061454e-15 -1.07072097e-15 -8.90615746e-17\n",
            " -4.41426893e-15 -1.70895283e-15 -4.84192298e-16 -9.80609908e-16\n",
            "  1.77606871e-15 -5.19015740e-15 -1.16354834e-15 -4.04400423e-16\n",
            "  4.86839812e-17  2.22606124e-15 -3.35549809e-15  1.80108205e-15\n",
            "  4.22256215e-15  2.27430961e-16 -1.25977606e-16  2.27483050e-15\n",
            " -4.83139429e-15  1.75051665e-16 -9.29671343e-16  7.68111850e-16\n",
            "  2.89736881e-15  2.25900235e-15 -2.90282800e-16  1.57523710e-15\n",
            "  1.19589039e-16  3.76793042e-16  7.54951657e-15]\n"
          ],
          "name": "stdout"
        }
      ]
    },
    {
      "cell_type": "code",
      "metadata": {
        "id": "egkWFpw6GiNo",
        "colab_type": "code",
        "colab": {
          "base_uri": "https://localhost:8080/",
          "height": 1000
        },
        "outputId": "3a7bc1e7-70c1-4fa6-bbca-263b6cd6842c"
      },
      "source": [
        "#DE_ tradicional\n",
        "\n",
        "!git clone https://github.com/ucfilho/Raianars_July_2020 #clonar do Github\n",
        "%cd Raianars_July_2020\n",
        "\n",
        "mut=0.5\n",
        "crossp=0.5\n",
        "\n",
        "SOMA=0\n",
        "start_time = time.time()\n",
        "BEST_AGENTS=[]\n",
        "MAT_stat=[]\n",
        "\n",
        "for i in range(RUNS):\n",
        "\n",
        "    pop = np.random.rand(NPAR, dim)\n",
        "    diff=np.zeros(dim)\n",
        "    for ii in range(dim):\n",
        "      diff[ii] = MAX[ii]-MIN[ii]\n",
        "    X = MIN + pop * diff\n",
        "\n",
        "    SOMA=0\n",
        "\n",
        "    for k in range(ITE):\n",
        "      X,BEST,FOBEST,XY,BEST_XY,SOMA= de_soma_Insight.de(MAX,MIN, mut, crossp,dim,its,Fun,X,SOMA,TOTAL)\n",
        "\n",
        "    start_run = (time.time()-start_time)/60\n",
        "    print('run=',i,'total=50','Fobj=',FOBEST,'Time=',start_run)  \n",
        "    BEST_AGENTS.append(BEST_XY)"
      ],
      "execution_count": 13,
      "outputs": [
        {
          "output_type": "stream",
          "text": [
            "Cloning into 'Raianars_July_2020'...\n",
            "remote: Enumerating objects: 18, done.\u001b[K\n",
            "remote: Counting objects: 100% (18/18), done.\u001b[K\n",
            "remote: Compressing objects: 100% (18/18), done.\u001b[K\n",
            "remote: Total 141 (delta 8), reused 0 (delta 0), pack-reused 123\u001b[K\n",
            "Receiving objects: 100% (141/141), 202.97 KiB | 580.00 KiB/s, done.\n",
            "Resolving deltas: 100% (70/70), done.\n",
            "/content/Raianars_July_2020/ANN_read_matrix/Raianars_July_2020\n",
            "run= 0 total=50 Fobj= 7.549516567451064e-15 Time= 0.378632394472758\n",
            "run= 1 total=50 Fobj= 7.549516567451064e-15 Time= 0.7574680924415589\n",
            "run= 2 total=50 Fobj= 1.1102230246251565e-14 Time= 1.1364277521769206\n",
            "run= 3 total=50 Fobj= 1.1102230246251565e-14 Time= 1.5132239659627278\n",
            "run= 4 total=50 Fobj= 1.1102230246251565e-14 Time= 1.890041208267212\n",
            "run= 5 total=50 Fobj= 7.549516567451064e-15 Time= 2.2693251450856526\n",
            "run= 6 total=50 Fobj= 1.1102230246251565e-14 Time= 2.6473101298014323\n",
            "run= 7 total=50 Fobj= 7.549516567451064e-15 Time= 3.0261905431747436\n",
            "run= 8 total=50 Fobj= 7.549516567451064e-15 Time= 3.405614991982778\n",
            "run= 9 total=50 Fobj= 7.549516567451064e-15 Time= 3.7892120083173118\n",
            "run= 10 total=50 Fobj= 7.549516567451064e-15 Time= 4.167575629552205\n",
            "run= 11 total=50 Fobj= 7.549516567451064e-15 Time= 4.547475322087606\n",
            "run= 12 total=50 Fobj= 1.1102230246251565e-14 Time= 4.93639304637909\n",
            "run= 13 total=50 Fobj= 7.549516567451064e-15 Time= 5.3157530148824055\n",
            "run= 14 total=50 Fobj= 7.549516567451064e-15 Time= 5.695483215649923\n",
            "run= 15 total=50 Fobj= 7.549516567451064e-15 Time= 6.074566841125488\n",
            "run= 16 total=50 Fobj= 1.1102230246251565e-14 Time= 6.451902270317078\n",
            "run= 17 total=50 Fobj= 7.549516567451064e-15 Time= 6.830317775408427\n",
            "run= 18 total=50 Fobj= 7.549516567451064e-15 Time= 7.208689184983571\n",
            "run= 19 total=50 Fobj= 7.549516567451064e-15 Time= 7.586452651023865\n",
            "run= 20 total=50 Fobj= 7.549516567451064e-15 Time= 7.964321362972259\n",
            "run= 21 total=50 Fobj= 1.1102230246251565e-14 Time= 8.344108331203461\n",
            "run= 22 total=50 Fobj= 1.1102230246251565e-14 Time= 8.723857216040294\n",
            "run= 23 total=50 Fobj= 7.549516567451064e-15 Time= 9.107711152235668\n",
            "run= 24 total=50 Fobj= 1.1102230246251565e-14 Time= 9.484432721138\n",
            "run= 25 total=50 Fobj= 7.549516567451064e-15 Time= 9.86238298813502\n",
            "run= 26 total=50 Fobj= 7.549516567451064e-15 Time= 10.239724020163218\n",
            "run= 27 total=50 Fobj= 7.549516567451064e-15 Time= 10.615973643461864\n",
            "run= 28 total=50 Fobj= 7.549516567451064e-15 Time= 10.996896549065907\n",
            "run= 29 total=50 Fobj= 7.549516567451064e-15 Time= 11.374879157543182\n",
            "run= 30 total=50 Fobj= 7.549516567451064e-15 Time= 11.751472783088683\n",
            "run= 31 total=50 Fobj= 1.1102230246251565e-14 Time= 12.128427986303965\n",
            "run= 32 total=50 Fobj= 7.549516567451064e-15 Time= 12.505396219094594\n",
            "run= 33 total=50 Fobj= 1.1102230246251565e-14 Time= 12.882487710316976\n",
            "run= 34 total=50 Fobj= 1.1102230246251565e-14 Time= 13.257847229639689\n",
            "run= 35 total=50 Fobj= 7.549516567451064e-15 Time= 13.634077751636505\n",
            "run= 36 total=50 Fobj= 1.1102230246251565e-14 Time= 14.01196247736613\n",
            "run= 37 total=50 Fobj= 1.1102230246251565e-14 Time= 14.3919934908549\n",
            "run= 38 total=50 Fobj= 7.549516567451064e-15 Time= 14.768814567724863\n",
            "run= 39 total=50 Fobj= 7.549516567451064e-15 Time= 15.144685745239258\n",
            "run= 40 total=50 Fobj= 7.549516567451064e-15 Time= 15.519628934065501\n",
            "run= 41 total=50 Fobj= 1.1102230246251565e-14 Time= 15.895154587427776\n",
            "run= 42 total=50 Fobj= 7.549516567451064e-15 Time= 16.271542644500734\n",
            "run= 43 total=50 Fobj= 7.549516567451064e-15 Time= 16.647922225793202\n",
            "run= 44 total=50 Fobj= 7.549516567451064e-15 Time= 17.02445770104726\n",
            "run= 45 total=50 Fobj= 7.549516567451064e-15 Time= 17.399612732728322\n",
            "run= 46 total=50 Fobj= 1.1102230246251565e-14 Time= 17.774758354822794\n",
            "run= 47 total=50 Fobj= 1.1102230246251565e-14 Time= 18.150160392125446\n",
            "run= 48 total=50 Fobj= 1.1102230246251565e-14 Time= 18.526610044638314\n",
            "run= 49 total=50 Fobj= 7.549516567451064e-15 Time= 18.9034778992335\n"
          ],
          "name": "stdout"
        }
      ]
    },
    {
      "cell_type": "code",
      "metadata": {
        "id": "3W8R6htAHO63",
        "colab_type": "code",
        "colab": {
          "base_uri": "https://localhost:8080/",
          "height": 323
        },
        "outputId": "5d9b1744-b5c4-47d7-e070-c8718e49ee33"
      },
      "source": [
        "############################## Cálculo dos Parâmetros de Avaliação   \n",
        "TIME = (time.time() - start_time)/RUNS\n",
        "BEST_AGENTS=np.array(BEST_AGENTS)\n",
        "BEST_AGENTS_ST= BEST_AGENTS[BEST_AGENTS[:,-1].argsort()]\n",
        "BEST=BEST_AGENTS_ST[0]\n",
        "WORSE=BEST_AGENTS_ST[-1]\n",
        "MEAN=np.mean(BEST_AGENTS,axis=0)\n",
        "MAXFO=BEST_AGENTS[:,-1].max()\n",
        "MINFO=BEST_AGENTS[:,-1].min()\n",
        "STD=BEST_AGENTS[:,-1].std()\n",
        "\n",
        "nome='DE_STAT_Fo-'+str(mut)+'_CRo-'+str(crossp)+'_D-'+str(dim)+'_Interv-'+str(ITE)\n",
        "print('DE_','TOTAL=',TOTAL,'Iterações=',ITE*its,'Dim=', dim,\"Min/Max=\",MIN[0],\"/\",MAX[0],'_',Fun.__name__)\n",
        "print(nome, '\\n')\n",
        "#print('BEST: ',BEST)\n",
        "#print('MÉDIA: ',MEAN)\n",
        "print('MÉDIA: ',MEAN[-1])\n",
        "print('MIN __:',MINFO)\n",
        "print('MAX__: ',MAXFO)\n",
        "print('STD __:',STD)\n",
        "print(\"Tempo Médio= %.3f segundos ---\" % (TIME))\n",
        "print(RUNS,'Rodadas') \n",
        "print()\n",
        "print('BEST: ',BEST)"
      ],
      "execution_count": 14,
      "outputs": [
        {
          "output_type": "stream",
          "text": [
            "DE_ TOTAL= 300000 Iterações= 2000 Dim= 30 Min/Max= -32 / 32 _ Ackley\n",
            "DE_STAT_Fo-0.5_CRo-0.5_D-30_Interv-2000 \n",
            "\n",
            "MÉDIA:  8.828493491819244e-15\n",
            "MIN __: 7.549516567451064e-15\n",
            "MAX__:  1.1102230246251565e-14\n",
            "STD __: 1.7053025658242406e-15\n",
            "Tempo Médio= 22.685 segundos ---\n",
            "50 Rodadas\n",
            "\n",
            "BEST:  [-1.78404086e-15 -2.08201862e-15 -1.22517274e-15 -3.64950090e-15\n",
            " -6.75050894e-16 -1.93570532e-16  2.73927702e-15  1.85813428e-15\n",
            "  2.15622063e-15  1.28923861e-15 -1.46954912e-15 -1.48896348e-15\n",
            " -1.28818861e-15  4.58452811e-15 -1.95456662e-15  4.80294276e-16\n",
            "  2.32038925e-15 -1.12367850e-15  2.89562893e-15 -1.69258079e-15\n",
            "  1.78043487e-15  1.98951811e-15  2.94536055e-15 -6.56291004e-15\n",
            "  8.62990951e-16  6.15972654e-16  2.36131680e-15  4.25292215e-16\n",
            " -4.49808990e-15 -5.88788967e-16  7.54951657e-15]\n"
          ],
          "name": "stdout"
        }
      ]
    }
  ]
}