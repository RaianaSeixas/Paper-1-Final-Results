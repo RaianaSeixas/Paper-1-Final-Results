{
  "nbformat": 4,
  "nbformat_minor": 0,
  "metadata": {
    "colab": {
      "name": "Stats_2000_Bent_Cigar_ALL3_D_30_0.25_0.25.ipynb",
      "provenance": [],
      "collapsed_sections": [],
      "include_colab_link": true
    },
    "kernelspec": {
      "name": "python3",
      "display_name": "Python 3"
    }
  },
  "cells": [
    {
      "cell_type": "markdown",
      "metadata": {
        "id": "view-in-github",
        "colab_type": "text"
      },
      "source": [
        "<a href=\"https://colab.research.google.com/github/RaianaSeixas/Paper-1-Final-Results/blob/master/Stats_2000_Bent_Cigar_ALL3_D_30_0_25_0_25.ipynb\" target=\"_parent\"><img src=\"https://colab.research.google.com/assets/colab-badge.svg\" alt=\"Open In Colab\"/></a>"
      ]
    },
    {
      "cell_type": "code",
      "metadata": {
        "id": "MC26Bm1UyUR5",
        "colab_type": "code",
        "colab": {
          "base_uri": "https://localhost:8080/",
          "height": 105
        },
        "outputId": "d74a9ed4-bf01-4a66-994e-ccd4ba426888"
      },
      "source": [
        "!pip install pyade-python"
      ],
      "execution_count": 1,
      "outputs": [
        {
          "output_type": "stream",
          "text": [
            "Collecting pyade-python\n",
            "  Downloading https://files.pythonhosted.org/packages/02/e7/aefff90c8de0ad3ff151d51507ec65a2988b7cce9126c342746f77615d9f/pyade_python-1.1-py3-none-any.whl\n",
            "Installing collected packages: pyade-python\n",
            "Successfully installed pyade-python-1.1\n"
          ],
          "name": "stdout"
        }
      ]
    },
    {
      "cell_type": "code",
      "metadata": {
        "id": "rRwqrtCmgzdZ",
        "colab_type": "code",
        "colab": {
          "base_uri": "https://localhost:8080/",
          "height": 224
        },
        "outputId": "03e46790-7302-4eab-8e66-c764e0979201"
      },
      "source": [
        "!pip install PyFDE"
      ],
      "execution_count": 2,
      "outputs": [
        {
          "output_type": "stream",
          "text": [
            "Collecting PyFDE\n",
            "\u001b[?25l  Downloading https://files.pythonhosted.org/packages/72/f9/87f7279554d2682e3827d39c3d3a565b2fd42f7114a779e34a601c6c5079/PyFDE-1.3.0.tar.gz (397kB)\n",
            "\r\u001b[K     |▉                               | 10kB 16.9MB/s eta 0:00:01\r\u001b[K     |█▋                              | 20kB 3.0MB/s eta 0:00:01\r\u001b[K     |██▌                             | 30kB 3.7MB/s eta 0:00:01\r\u001b[K     |███▎                            | 40kB 3.9MB/s eta 0:00:01\r\u001b[K     |████▏                           | 51kB 3.4MB/s eta 0:00:01\r\u001b[K     |█████                           | 61kB 3.7MB/s eta 0:00:01\r\u001b[K     |█████▊                          | 71kB 4.0MB/s eta 0:00:01\r\u001b[K     |██████▋                         | 81kB 4.4MB/s eta 0:00:01\r\u001b[K     |███████▍                        | 92kB 4.5MB/s eta 0:00:01\r\u001b[K     |████████▎                       | 102kB 4.5MB/s eta 0:00:01\r\u001b[K     |█████████                       | 112kB 4.5MB/s eta 0:00:01\r\u001b[K     |██████████                      | 122kB 4.5MB/s eta 0:00:01\r\u001b[K     |██████████▊                     | 133kB 4.5MB/s eta 0:00:01\r\u001b[K     |███████████▌                    | 143kB 4.5MB/s eta 0:00:01\r\u001b[K     |████████████▍                   | 153kB 4.5MB/s eta 0:00:01\r\u001b[K     |█████████████▏                  | 163kB 4.5MB/s eta 0:00:01\r\u001b[K     |██████████████                  | 174kB 4.5MB/s eta 0:00:01\r\u001b[K     |██████████████▉                 | 184kB 4.5MB/s eta 0:00:01\r\u001b[K     |███████████████▊                | 194kB 4.5MB/s eta 0:00:01\r\u001b[K     |████████████████▌               | 204kB 4.5MB/s eta 0:00:01\r\u001b[K     |█████████████████▎              | 215kB 4.5MB/s eta 0:00:01\r\u001b[K     |██████████████████▏             | 225kB 4.5MB/s eta 0:00:01\r\u001b[K     |███████████████████             | 235kB 4.5MB/s eta 0:00:01\r\u001b[K     |███████████████████▉            | 245kB 4.5MB/s eta 0:00:01\r\u001b[K     |████████████████████▋           | 256kB 4.5MB/s eta 0:00:01\r\u001b[K     |█████████████████████▌          | 266kB 4.5MB/s eta 0:00:01\r\u001b[K     |██████████████████████▎         | 276kB 4.5MB/s eta 0:00:01\r\u001b[K     |███████████████████████         | 286kB 4.5MB/s eta 0:00:01\r\u001b[K     |████████████████████████        | 296kB 4.5MB/s eta 0:00:01\r\u001b[K     |████████████████████████▊       | 307kB 4.5MB/s eta 0:00:01\r\u001b[K     |█████████████████████████▋      | 317kB 4.5MB/s eta 0:00:01\r\u001b[K     |██████████████████████████▍     | 327kB 4.5MB/s eta 0:00:01\r\u001b[K     |███████████████████████████▎    | 337kB 4.5MB/s eta 0:00:01\r\u001b[K     |████████████████████████████    | 348kB 4.5MB/s eta 0:00:01\r\u001b[K     |████████████████████████████▉   | 358kB 4.5MB/s eta 0:00:01\r\u001b[K     |█████████████████████████████▊  | 368kB 4.5MB/s eta 0:00:01\r\u001b[K     |██████████████████████████████▌ | 378kB 4.5MB/s eta 0:00:01\r\u001b[K     |███████████████████████████████▍| 389kB 4.5MB/s eta 0:00:01\r\u001b[K     |████████████████████████████████| 399kB 4.5MB/s \n",
            "\u001b[?25hRequirement already satisfied: numpy in /usr/local/lib/python3.6/dist-packages (from PyFDE) (1.18.5)\n",
            "Building wheels for collected packages: PyFDE\n",
            "  Building wheel for PyFDE (setup.py) ... \u001b[?25l\u001b[?25hdone\n",
            "  Created wheel for PyFDE: filename=PyFDE-1.3.0-cp36-cp36m-linux_x86_64.whl size=969298 sha256=fad7c870a56fae2a84b2c508709c4febeea7bb6746aa694a0c4ef3a8fae8398c\n",
            "  Stored in directory: /root/.cache/pip/wheels/7d/42/ba/abf21db37934e576c74fc2c9504b5cd97eb6a99e3dec1743c0\n",
            "Successfully built PyFDE\n",
            "Installing collected packages: PyFDE\n",
            "Successfully installed PyFDE-1.3.0\n"
          ],
          "name": "stdout"
        }
      ]
    },
    {
      "cell_type": "code",
      "metadata": {
        "id": "anFukot-ypn6",
        "colab_type": "code",
        "colab": {}
      },
      "source": [
        "import pyade.ilshade \n",
        "import pyade.sade \n",
        "import pyade.jso\n",
        "import pyade.shade\n",
        "import pyade.jade \n",
        "import pyfde\n",
        "import numpy as np\n",
        "import pandas as pd\n",
        "import time"
      ],
      "execution_count": 3,
      "outputs": []
    },
    {
      "cell_type": "code",
      "metadata": {
        "id": "6Oh714_-z1Ia",
        "colab_type": "code",
        "colab": {
          "base_uri": "https://localhost:8080/",
          "height": 153
        },
        "outputId": "7cf8a972-2966-46fb-b7ee-ab298f0fba52"
      },
      "source": [
        "!git clone https://github.com/ucfilho/Raianars_July_2020 #clonar do Github\n",
        "%cd Raianars_July_2020"
      ],
      "execution_count": 4,
      "outputs": [
        {
          "output_type": "stream",
          "text": [
            "Cloning into 'Raianars_July_2020'...\n",
            "remote: Enumerating objects: 24, done.\u001b[K\n",
            "remote: Counting objects: 100% (24/24), done.\u001b[K\n",
            "remote: Compressing objects: 100% (24/24), done.\u001b[K\n",
            "remote: Total 147 (delta 12), reused 0 (delta 0), pack-reused 123\u001b[K\n",
            "Receiving objects: 100% (147/147), 204.22 KiB | 1.21 MiB/s, done.\n",
            "Resolving deltas: 100% (74/74), done.\n",
            "/content/Raianars_July_2020\n"
          ],
          "name": "stdout"
        }
      ]
    },
    {
      "cell_type": "code",
      "metadata": {
        "id": "LnzftXkky78A",
        "colab_type": "code",
        "colab": {}
      },
      "source": [
        "import Go2Ann\n",
        "import de_soma_Insight\n",
        "import de_bounds_matriz\n",
        "from AvaliaX import AvaliaX\n",
        "from GeraIndices import GeraIndices"
      ],
      "execution_count": 5,
      "outputs": []
    },
    {
      "cell_type": "code",
      "metadata": {
        "id": "HNW92728z7fR",
        "colab_type": "code",
        "colab": {}
      },
      "source": [
        "import Function\n",
        "import Go2MinMax"
      ],
      "execution_count": 6,
      "outputs": []
    },
    {
      "cell_type": "code",
      "metadata": {
        "id": "T_C-e7aH0CZH",
        "colab_type": "code",
        "colab": {}
      },
      "source": [
        "ITE=2000 #10 # PONTOS quantas vezes vai alteral NPAR \n",
        "NPAR=100 # NUMBER OF PARTICLES\n",
        "dim=30\n",
        "RUNS=50\n",
        "fchoice='Bent_Cigar'  \n",
        "Fun=Function.Bent_Cigar\n",
        "\n",
        "MIN,MAX=Go2MinMax.Intervalo(dim,fchoice)\n",
        "bounds = [(0,0)]*dim\n",
        "\n",
        "for i in range(dim):\n",
        "  bounds[i] = (MIN[i],MAX[i])\n",
        "\n",
        "start_time = time.time() "
      ],
      "execution_count": 7,
      "outputs": []
    },
    {
      "cell_type": "code",
      "metadata": {
        "id": "Nqv5qp9yzQEw",
        "colab_type": "code",
        "colab": {}
      },
      "source": [
        "############################### INPUT INFORMATION (FRANNK)\n",
        "Fc=0.1 # fator de correcao parametros da ANN\n",
        "its=1 #10 # quantas vezes vai usar o NPAR antes de alterar de novo\n",
        "mut=0.25\n",
        "crossp=0.25\n",
        "Fi=mut;CRi=crossp;# para impressão\n",
        "PAR=len(MAX) #NUM DE PARAMETROS A SER OTIMIZADOS"
      ],
      "execution_count": 8,
      "outputs": []
    },
    {
      "cell_type": "code",
      "metadata": {
        "id": "q77YsFa82zFU",
        "colab_type": "code",
        "colab": {
          "base_uri": "https://localhost:8080/",
          "height": 323
        },
        "outputId": "8b84d8ca-c2e3-448f-cdfe-1515f705dd12"
      },
      "source": [
        "# JADE\n",
        "algorithm = pyade.jso\n",
        "BEST_AGENTS=[]\n",
        "for i in range(RUNS):\n",
        "  ANSWER_AGENTS=[]\n",
        "  solver = pyfde.JADE(Fun, n_dim=dim, n_pop=NPAR, limits=bounds, minimize=True)\n",
        "  solver.p = 0.05\n",
        "  solver.c = 0.1\n",
        "  solver.cr = 0.5\n",
        "  solver.f = 0.5\n",
        "  best, fit = solver.run(n_it=ITE)\n",
        "  for x in best:\n",
        "    ANSWER_AGENTS.append(x)\n",
        "  ANSWER_AGENTS.append(fit)\n",
        "  BEST_AGENTS.append(ANSWER_AGENTS)\n",
        "BEST_AGENTS=np.array(BEST_AGENTS)\n",
        "TIME = (time.time() - start_time)/RUNS\n",
        "BEST_AGENTS=np.array(BEST_AGENTS)\n",
        "BEST_AGENTS_ST= BEST_AGENTS[BEST_AGENTS[:,-1].argsort()]\n",
        "BEST=BEST_AGENTS_ST[0]\n",
        "WORSE=BEST_AGENTS_ST[-1]\n",
        "MEAN=np.mean(BEST_AGENTS,axis=0)\n",
        "MAXFO=BEST_AGENTS[:,-1].max()\n",
        "MINFO=BEST_AGENTS[:,-1].min()\n",
        "STD=BEST_AGENTS[:,-1].std()\n",
        "nome='JADE_Fo-'+str(0)+'_CRo-'+str(0)\n",
        "print(nome,'NPAR',NPAR,'Iterações=',ITE,'Dim=',dim ,\"Min/Max=\",MIN[0],\"/\",MAX[0],'_',Fun.__name__)\n",
        "print( '\\n')\n",
        "print('MÉDIA: ',MEAN[-1])\n",
        "print('MIN __:',MINFO)\n",
        "print('MAX__: ',MAXFO)\n",
        "print('STD __:',STD)\n",
        "print(\"Tempo Médio= %.3f segundos ---\" % (TIME))\n",
        "print(RUNS,'Rodadas') \n",
        "print()\n",
        "print('BEST: ',BEST)"
      ],
      "execution_count": 9,
      "outputs": [
        {
          "output_type": "stream",
          "text": [
            "JADE_Fo-0_CRo-0 NPAR 100 Iterações= 2000 Dim= 30 Min/Max= -100 / 100 _ Bent_Cigar\n",
            "\n",
            "\n",
            "MÉDIA:  -6.777380550425216e-72\n",
            "MIN __: -3.388683617364176e-70\n",
            "MAX__:  -3.5290010791491835e-91\n",
            "STD __: 4.744156874089176e-71\n",
            "Tempo Médio= 1.863 segundos ---\n",
            "50 Rodadas\n",
            "\n",
            "BEST:  [-5.08787986e-36  5.69044489e-39  3.47875419e-39 -5.76693630e-39\n",
            "  4.01661112e-39  1.06080498e-39 -3.40563377e-39 -2.60870781e-39\n",
            " -2.90382410e-39 -3.05001516e-39 -1.17758330e-39  1.45224273e-40\n",
            "  3.05741744e-39 -4.76260207e-40  6.84528543e-39 -1.61076452e-39\n",
            "  4.41008099e-39  2.20274830e-39  1.84860417e-39 -4.90437946e-39\n",
            " -1.43416310e-40  4.47199664e-40 -1.80153821e-40  6.76418117e-40\n",
            "  3.91518776e-39 -5.09709476e-40  8.82293485e-40 -3.04067501e-39\n",
            "  6.24521524e-39  2.07663716e-39 -3.38868362e-70]\n"
          ],
          "name": "stdout"
        }
      ]
    },
    {
      "cell_type": "code",
      "metadata": {
        "id": "gXdUgSStzppX",
        "colab_type": "code",
        "colab": {}
      },
      "source": [
        "# FRANNK START HERE !!!!!"
      ],
      "execution_count": 10,
      "outputs": []
    },
    {
      "cell_type": "code",
      "metadata": {
        "id": "raWOfeJBztuj",
        "colab_type": "code",
        "colab": {
          "base_uri": "https://localhost:8080/",
          "height": 136
        },
        "outputId": "d16c039b-c94f-4f4f-dee5-3d1132cc6249"
      },
      "source": [
        "!git clone https://github.com/ucfilho/ANN_read_matrix #clonar do Github\n",
        "%cd ANN_read_matrix"
      ],
      "execution_count": 11,
      "outputs": [
        {
          "output_type": "stream",
          "text": [
            "Cloning into 'ANN_read_matrix'...\n",
            "remote: Enumerating objects: 20, done.\u001b[K\n",
            "remote: Counting objects: 100% (20/20), done.\u001b[K\n",
            "remote: Compressing objects: 100% (18/18), done.\u001b[K\n",
            "remote: Total 20 (delta 5), reused 0 (delta 0), pack-reused 0\u001b[K\n",
            "Unpacking objects: 100% (20/20), done.\n",
            "/content/Raianars_July_2020/ANN_read_matrix\n"
          ],
          "name": "stdout"
        }
      ]
    },
    {
      "cell_type": "code",
      "metadata": {
        "id": "N2lyPfivzwGv",
        "colab_type": "code",
        "colab": {
          "base_uri": "https://localhost:8080/",
          "height": 1000
        },
        "outputId": "db62717c-b0f2-4a61-e2a3-2967d14b4fa2"
      },
      "source": [
        "ANN_F=pd.read_csv('ANN_INSIGHT_Valor_F.csv')\n",
        "ANN_CR=pd.read_csv('ANN_INSIGHT_CR.csv')\n",
        "syn0_F,syn1_F,X_max_F,X_min_F=Go2Ann.GetMatriz(ANN_F)\n",
        "syn0_CR,syn1_CR,X_max_CR,X_min_CR=Go2Ann.GetMatriz(ANN_CR)\n",
        "fields = ['DI RELATIVO','FRAC Its','Fo','CRo']\n",
        "\n",
        "#TOTAL=7*dim*its*ITE\n",
        "TOTAL=10*dim*its*ITE\n",
        "TOTAL=int(TOTAL/2)   # CONFERIR SE ESTE EH O MELHOR LUGAR\n",
        "\n",
        "dimensions=len(MAX)\n",
        "start_time = time.time() #INICIALIZA CONTAGEM DO TEMPO\n",
        "\n",
        "MAX_P=np.zeros(ITE) # ATENCAO para variar F e Cr MAX_P passa a ser 3 vezes maior\n",
        "MIN_P=np.zeros(ITE) # ATENCAO para variar F e Cr MIN_P passa a ser 3 vezes maior\n",
        "\n",
        "for i in range(dim):\n",
        "  MAX_P[i]=MAX[i] \n",
        "  MIN_P[i]=MIN[i]\n",
        "\n",
        "rodadas=1\n",
        "for i in range(rodadas):\n",
        "  SOMA=0\n",
        "  pop = np.random.rand(NPAR, dimensions)\n",
        "  diff=np.zeros(PAR)\n",
        "  for ii in range(PAR):\n",
        "    diff[ii] = MAX[ii]-MIN[ii]\n",
        "  X = MIN + pop * diff\n",
        "    \n",
        "  PONTOS=ITE # DIVISOES DA POPULACAO\n",
        "start_time = time.time()\n",
        "BEST_AGENTS=[]\n",
        "MAT_stat=[]\n",
        "for i in range(RUNS):\n",
        "    MAT=[] \n",
        "    mut=Fi\n",
        "    crossp=CRi\n",
        "    SOMA=0\n",
        "    SOMAf=0\n",
        "    start_ite = time.time()\n",
        "    delta_time=(start_ite-start_time)/60\n",
        "    print('ite=',i,'time=',delta_time)\n",
        "    pop = np.random.rand(NPAR, dim)\n",
        "    diff=np.zeros(PAR)\n",
        "    for ii in range(PAR):\n",
        "      diff[ii] = MAX[ii]-MIN[ii]\n",
        "    X = MIN + pop * diff\n",
        "    Xf = MIN + pop * diff\n",
        "    \n",
        "    DIo=1e99\n",
        "  \n",
        "    CRo=crossp;Fo=mut;\n",
        "    Fitness = np.asarray([Fun(ind) for ind in X])\n",
        "\n",
        "    XY,BEST_XY,BESTo,FOBESTo=AvaliaX(X,Fitness)\n",
        "    nrow,ncol=X.shape\n",
        "\n",
        "    QUANT=17;MAT_INDo=np.zeros((1,QUANT)); # quantos indices esta fazendo\n",
        "    MAT_INDo[0,5]=nrow  # VALOR NP\n",
        "    MAT_INDo[0,6]=Fo    # VALOR Fo   \n",
        "    MAT_INDo[0,7]=CRo   # VALOR CRo\n",
        "  \n",
        "    MAT_INDo=GeraIndices(X,BESTo,FOBESTo,DIo,MAT_INDo,SOMA,TOTAL,syn0_F,\n",
        "                        syn1_F,X_max_F,X_min_F,syn0_CR,syn1_CR,X_max_CR,\n",
        "                        X_min_CR,Fc,fields,Fun)\n",
        "  \n",
        "    DIo=np.copy(MAT_INDo[0,0])\n",
        "    MAT_INDo[0,15]=Fo    # VALOR Fo   \n",
        "    MAT_INDo[0,16]=CRo   # VALOR CRo\n",
        "    #ind_crossp=ITE-1\n",
        "\n",
        "    \n",
        "    for k in range(ITE):\n",
        "      X,BEST,FOBEST,XY,BEST_XY,SOMA= de_soma_Insight.de(MAX,MIN, mut, crossp,NPAR,its,Fun,X,SOMA,TOTAL)\n",
        "      #Xf,BESTf,FOBESTf,XYf,BEST_XYf,SOMAf= de_soma_Insight.de(MAX,MIN, Fi, CRi, NPAR,its,Fun,Xf,SOMAf,TOTAL)\n",
        "\n",
        "      \n",
        "      MAT_IND=GeraIndices(X,BESTo,FOBESTo,DIo,MAT_INDo,SOMA,TOTAL,syn0_F,\n",
        "                          syn1_F,X_max_F,X_min_F,syn0_CR,syn1_CR,X_max_CR,\n",
        "                          X_min_CR,Fc,fields,Fun)\n",
        "    \n",
        "      BESTo=np.copy(BEST);FOBESTo=np.copy(FOBEST);\n",
        "      MAT.append(MAT_IND.ravel())\n",
        "    \n",
        "      MAT_INDo[0,6]=MAT_IND[0,15]   # VALOR Fo   \n",
        "      MAT_INDo[0,7]=MAT_IND[0,16]   # VALOR CRo\n",
        "      mut=MAT_IND[0,15]\n",
        "      crossp=MAT_IND[0,16]\n",
        "\n",
        "      Fitness = np.asarray([Fun(ind) for ind in X])\n",
        "      #Fitnessf = np.asarray([Fun(ind) for ind in Xf])\n",
        "      Maior=np.argmax(Fitness)\n",
        "      #Maiorf=np.argmax(Fitnessf)\n",
        "      Menor=np.argmin(Fitness)\n",
        "      #Menorf=np.argmin(Fitnessf)\n",
        "\n",
        "      #X[Maior,:]=np.copy(Xf[Menorf,:])\n",
        "      #Xf[Maiorf,:]=np.copy(X[Menor,:])\n",
        "      \n",
        "    BEST_AGENTS.append(BEST_XY)\n",
        "    MAT_stat.append(MAT)\n",
        "    #print(\"GlobalParam e Solucao:\", BEST,\"Funcao=\",FOBEST)\n",
        "    \n",
        "############################## Cálculo dos Parâmetros de Avaliação   \n",
        "TIME = (time.time() - start_time)/RUNS\n",
        "BEST_AGENTS=np.array(BEST_AGENTS)\n",
        "BEST_AGENTS_ST= BEST_AGENTS[BEST_AGENTS[:,-1].argsort()]\n",
        "BEST=BEST_AGENTS_ST[0]\n",
        "WORSE=BEST_AGENTS_ST[-1]\n",
        "MEAN=np.mean(BEST_AGENTS,axis=0)\n",
        "MAXFO=BEST_AGENTS[:,-1].max()\n",
        "MINFO=BEST_AGENTS[:,-1].min()\n",
        "STD=BEST_AGENTS[:,-1].std()\n",
        "\n",
        "print()\n",
        "nome='_ANN_Div3x4_Fo-'+str(Fi)+'_CRo-'+str(CRi)+'_D-'+str(dim)+'_Interv-'+str(ITE)\n",
        "print('DE_POP_VAR_F_CR','TOTAL=',TOTAL,'Iterações=',ITE*its,'Dim=', PAR,\"Min/Max=\",MIN[0],\"/\",MAX[0],'_',Fun.__name__)\n",
        "print(nome, '\\n')\n",
        "print('MÉDIA: ',MEAN[-1])\n",
        "print('MIN __:',MINFO)\n",
        "print('MAX__: ',MAXFO)\n",
        "print('STD __:',STD)\n",
        "print(\"Tempo Médio= %.3f segundos ---\" % (TIME))\n",
        "print(RUNS,'Rodadas') \n",
        "print()\n",
        "print('BEST: ',BEST)"
      ],
      "execution_count": 12,
      "outputs": [
        {
          "output_type": "stream",
          "text": [
            "ite= 0 time= 8.567174275716145e-06\n",
            "ite= 1 time= 1.9702200770378113\n",
            "ite= 2 time= 3.9198841293652853\n",
            "ite= 3 time= 5.886472690105438\n",
            "ite= 4 time= 7.84546926021576\n",
            "ite= 5 time= 9.795368254184723\n",
            "ite= 6 time= 11.774446793397267\n",
            "ite= 7 time= 13.744895811875661\n",
            "ite= 8 time= 15.713086485862732\n",
            "ite= 9 time= 17.685276814301808\n",
            "ite= 10 time= 19.65964593887329\n",
            "ite= 11 time= 21.62618496020635\n",
            "ite= 12 time= 23.602541104952493\n",
            "ite= 13 time= 25.549317252635955\n",
            "ite= 14 time= 27.493244874477387\n",
            "ite= 15 time= 29.472367413838704\n",
            "ite= 16 time= 31.44198366800944\n",
            "ite= 17 time= 33.411539284388226\n",
            "ite= 18 time= 35.39954345623652\n",
            "ite= 19 time= 37.36416293780009\n",
            "ite= 20 time= 39.32640533447265\n",
            "ite= 21 time= 41.29907114903132\n",
            "ite= 22 time= 43.245526234308876\n",
            "ite= 23 time= 45.220558778444925\n",
            "ite= 24 time= 47.18616269429525\n",
            "ite= 25 time= 49.164156675338745\n",
            "ite= 26 time= 51.13169239362081\n",
            "ite= 27 time= 53.099001061916354\n",
            "ite= 28 time= 55.07516189018885\n",
            "ite= 29 time= 57.05256028175354\n",
            "ite= 30 time= 59.02309887011846\n",
            "ite= 31 time= 60.988845038414\n",
            "ite= 32 time= 62.94616476297379\n",
            "ite= 33 time= 64.91889409224193\n",
            "ite= 34 time= 66.89484332005183\n",
            "ite= 35 time= 68.8592591603597\n",
            "ite= 36 time= 70.82501312494279\n",
            "ite= 37 time= 72.77734589576721\n",
            "ite= 38 time= 74.7500309586525\n",
            "ite= 39 time= 76.72682756185532\n",
            "ite= 40 time= 78.69834816058477\n",
            "ite= 41 time= 80.67302141984304\n",
            "ite= 42 time= 82.64696338574092\n",
            "ite= 43 time= 84.6185691833496\n",
            "ite= 44 time= 86.57083036104838\n",
            "ite= 45 time= 88.54313973983129\n",
            "ite= 46 time= 90.48836985826492\n",
            "ite= 47 time= 92.43899132410685\n",
            "ite= 48 time= 94.4061371644338\n",
            "ite= 49 time= 96.37299212217332\n",
            "\n",
            "DE_POP_VAR_F_CR TOTAL= 300000 Iterações= 2000 Dim= 30 Min/Max= -100 / 100 _ Bent_Cigar\n",
            "_ANN_Div3x4_Fo-0.25_CRo-0.25_D-30_Interv-2000 \n",
            "\n",
            "MÉDIA:  1.704157382942127e-27\n",
            "MIN __: 1.8304791537932704e-30\n",
            "MAX__:  8.281995274206558e-27\n",
            "STD __: 2.1256511506799268e-27\n",
            "Tempo Médio= 118.017 segundos ---\n",
            "50 Rodadas\n",
            "\n",
            "BEST:  [-7.81220774e-17  4.96510329e-20  4.21959002e-20  9.48162981e-20\n",
            " -5.89776776e-19  1.81914687e-19  1.26297295e-19 -2.87445619e-19\n",
            "  1.57316263e-19  2.12225607e-19  7.19257164e-20 -1.26818675e-19\n",
            " -6.62917015e-21  3.63353927e-20  2.31713969e-19  1.95304495e-19\n",
            " -2.92079212e-19  7.13392576e-19 -1.01374041e-19  1.54059414e-19\n",
            "  2.75867751e-20 -2.49006910e-19  2.98626428e-19  1.32398646e-19\n",
            "  3.05958759e-19  2.01435856e-19  1.81889304e-19 -2.55921924e-19\n",
            "  3.40785990e-19 -2.76763720e-20  1.83047915e-30]\n"
          ],
          "name": "stdout"
        }
      ]
    },
    {
      "cell_type": "code",
      "metadata": {
        "id": "egkWFpw6GiNo",
        "colab_type": "code",
        "colab": {
          "base_uri": "https://localhost:8080/",
          "height": 1000
        },
        "outputId": "4741f4f9-9570-4dbe-bbec-7b2190a55581"
      },
      "source": [
        "#DE_ tradicional\n",
        "\n",
        "!git clone https://github.com/ucfilho/Raianars_July_2020 #clonar do Github\n",
        "%cd Raianars_July_2020\n",
        "\n",
        "mut=0.5\n",
        "crossp=0.5\n",
        "\n",
        "SOMA=0\n",
        "start_time = time.time()\n",
        "BEST_AGENTS=[]\n",
        "MAT_stat=[]\n",
        "\n",
        "for i in range(RUNS):\n",
        "\n",
        "    pop = np.random.rand(NPAR, dim)\n",
        "    diff=np.zeros(dim)\n",
        "    for ii in range(dim):\n",
        "      diff[ii] = MAX[ii]-MIN[ii]\n",
        "    X = MIN + pop * diff\n",
        "\n",
        "    SOMA=0\n",
        "\n",
        "    for k in range(ITE):\n",
        "      X,BEST,FOBEST,XY,BEST_XY,SOMA= de_soma_Insight.de(MAX,MIN, mut, crossp,dim,its,Fun,X,SOMA,TOTAL)\n",
        "\n",
        "    start_run = (time.time()-start_time)/60\n",
        "    print('run=',i,'total=50','Fobj=',FOBEST,'Time=',start_run)  \n",
        "    BEST_AGENTS.append(BEST_XY)"
      ],
      "execution_count": 13,
      "outputs": [
        {
          "output_type": "stream",
          "text": [
            "Cloning into 'Raianars_July_2020'...\n",
            "remote: Enumerating objects: 27, done.\u001b[K\n",
            "remote: Counting objects:   3% (1/27)\u001b[K\rremote: Counting objects:   7% (2/27)\u001b[K\rremote: Counting objects:  11% (3/27)\u001b[K\rremote: Counting objects:  14% (4/27)\u001b[K\rremote: Counting objects:  18% (5/27)\u001b[K\rremote: Counting objects:  22% (6/27)\u001b[K\rremote: Counting objects:  25% (7/27)\u001b[K\rremote: Counting objects:  29% (8/27)\u001b[K\rremote: Counting objects:  33% (9/27)\u001b[K\rremote: Counting objects:  37% (10/27)\u001b[K\rremote: Counting objects:  40% (11/27)\u001b[K\rremote: Counting objects:  44% (12/27)\u001b[K\rremote: Counting objects:  48% (13/27)\u001b[K\rremote: Counting objects:  51% (14/27)\u001b[K\rremote: Counting objects:  55% (15/27)\u001b[K\rremote: Counting objects:  59% (16/27)\u001b[K\rremote: Counting objects:  62% (17/27)\u001b[K\rremote: Counting objects:  66% (18/27)\u001b[K\rremote: Counting objects:  70% (19/27)\u001b[K\rremote: Counting objects:  74% (20/27)\u001b[K\rremote: Counting objects:  77% (21/27)\u001b[K\rremote: Counting objects:  81% (22/27)\u001b[K\rremote: Counting objects:  85% (23/27)\u001b[K\rremote: Counting objects:  88% (24/27)\u001b[K\rremote: Counting objects:  92% (25/27)\u001b[K\rremote: Counting objects:  96% (26/27)\u001b[K\rremote: Counting objects: 100% (27/27)\u001b[K\rremote: Counting objects: 100% (27/27), done.\u001b[K\n",
            "remote: Compressing objects:   3% (1/27)\u001b[K\rremote: Compressing objects:   7% (2/27)\u001b[K\rremote: Compressing objects:  11% (3/27)\u001b[K\rremote: Compressing objects:  14% (4/27)\u001b[K\rremote: Compressing objects:  18% (5/27)\u001b[K\rremote: Compressing objects:  22% (6/27)\u001b[K\rremote: Compressing objects:  25% (7/27)\u001b[K\rremote: Compressing objects:  29% (8/27)\u001b[K\rremote: Compressing objects:  33% (9/27)\u001b[K\rremote: Compressing objects:  37% (10/27)\u001b[K\rremote: Compressing objects:  40% (11/27)\u001b[K\rremote: Compressing objects:  44% (12/27)\u001b[K\rremote: Compressing objects:  48% (13/27)\u001b[K\rremote: Compressing objects:  51% (14/27)\u001b[K\rremote: Compressing objects:  55% (15/27)\u001b[K\rremote: Compressing objects:  59% (16/27)\u001b[K\rremote: Compressing objects:  62% (17/27)\u001b[K\rremote: Compressing objects:  66% (18/27)\u001b[K\rremote: Compressing objects:  70% (19/27)\u001b[K\rremote: Compressing objects:  74% (20/27)\u001b[K\rremote: Compressing objects:  77% (21/27)\u001b[K\rremote: Compressing objects:  81% (22/27)\u001b[K\rremote: Compressing objects:  85% (23/27)\u001b[K\rremote: Compressing objects:  88% (24/27)\u001b[K\rremote: Compressing objects:  92% (25/27)\u001b[K\rremote: Compressing objects:  96% (26/27)\u001b[K\rremote: Compressing objects: 100% (27/27)\u001b[K\rremote: Compressing objects: 100% (27/27), done.\u001b[K\n",
            "Receiving objects:   0% (1/150)   \rReceiving objects:   1% (2/150)   \rReceiving objects:   2% (3/150)   \rReceiving objects:   3% (5/150)   \rReceiving objects:   4% (6/150)   \rReceiving objects:   5% (8/150)   \rReceiving objects:   6% (9/150)   \rReceiving objects:   7% (11/150)   \rReceiving objects:   8% (12/150)   \rReceiving objects:   9% (14/150)   \rReceiving objects:  10% (15/150)   \rReceiving objects:  11% (17/150)   \rReceiving objects:  12% (18/150)   \rReceiving objects:  13% (20/150)   \rReceiving objects:  14% (21/150)   \rReceiving objects:  15% (23/150)   \rReceiving objects:  16% (24/150)   \rReceiving objects:  17% (26/150)   \rReceiving objects:  18% (27/150)   \rReceiving objects:  19% (29/150)   \rReceiving objects:  20% (30/150)   \rReceiving objects:  21% (32/150)   \rReceiving objects:  22% (33/150)   \rReceiving objects:  23% (35/150)   \rReceiving objects:  24% (36/150)   \rReceiving objects:  25% (38/150)   \rReceiving objects:  26% (39/150)   \rReceiving objects:  27% (41/150)   \rReceiving objects:  28% (42/150)   \rReceiving objects:  29% (44/150)   \rReceiving objects:  30% (45/150)   \rReceiving objects:  31% (47/150)   \rReceiving objects:  32% (48/150)   \rReceiving objects:  33% (50/150)   \rReceiving objects:  34% (51/150)   \rReceiving objects:  35% (53/150)   \rReceiving objects:  36% (54/150)   \rremote: Total 150 (delta 14), reused 0 (delta 0), pack-reused 123\u001b[K\n",
            "Receiving objects:  37% (56/150)   \rReceiving objects:  38% (57/150)   \rReceiving objects:  39% (59/150)   \rReceiving objects:  40% (60/150)   \rReceiving objects:  41% (62/150)   \rReceiving objects:  42% (63/150)   \rReceiving objects:  43% (65/150)   \rReceiving objects:  44% (66/150)   \rReceiving objects:  45% (68/150)   \rReceiving objects:  46% (69/150)   \rReceiving objects:  47% (71/150)   \rReceiving objects:  48% (72/150)   \rReceiving objects:  49% (74/150)   \rReceiving objects:  50% (75/150)   \rReceiving objects:  51% (77/150)   \rReceiving objects:  52% (78/150)   \rReceiving objects:  53% (80/150)   \rReceiving objects:  54% (81/150)   \rReceiving objects:  55% (83/150)   \rReceiving objects:  56% (84/150)   \rReceiving objects:  57% (86/150)   \rReceiving objects:  58% (87/150)   \rReceiving objects:  59% (89/150)   \rReceiving objects:  60% (90/150)   \rReceiving objects:  61% (92/150)   \rReceiving objects:  62% (93/150)   \rReceiving objects:  63% (95/150)   \rReceiving objects:  64% (96/150)   \rReceiving objects:  65% (98/150)   \rReceiving objects:  66% (99/150)   \rReceiving objects:  67% (101/150)   \rReceiving objects:  68% (102/150)   \rReceiving objects:  69% (104/150)   \rReceiving objects:  70% (105/150)   \rReceiving objects:  71% (107/150)   \rReceiving objects:  72% (108/150)   \rReceiving objects:  73% (110/150)   \rReceiving objects:  74% (111/150)   \rReceiving objects:  75% (113/150)   \rReceiving objects:  76% (114/150)   \rReceiving objects:  77% (116/150)   \rReceiving objects:  78% (117/150)   \rReceiving objects:  79% (119/150)   \rReceiving objects:  80% (120/150)   \rReceiving objects:  81% (122/150)   \rReceiving objects:  82% (123/150)   \rReceiving objects:  83% (125/150)   \rReceiving objects:  84% (126/150)   \rReceiving objects:  85% (128/150)   \rReceiving objects:  86% (129/150)   \rReceiving objects:  87% (131/150)   \rReceiving objects:  88% (132/150)   \rReceiving objects:  89% (134/150)   \rReceiving objects:  90% (135/150)   \rReceiving objects:  91% (137/150)   \rReceiving objects:  92% (138/150)   \rReceiving objects:  93% (140/150)   \rReceiving objects:  94% (141/150)   \rReceiving objects:  95% (143/150)   \rReceiving objects:  96% (144/150)   \rReceiving objects:  97% (146/150)   \rReceiving objects:  98% (147/150)   \rReceiving objects:  99% (149/150)   \rReceiving objects: 100% (150/150)   \rReceiving objects: 100% (150/150), 204.85 KiB | 1.26 MiB/s, done.\n",
            "Resolving deltas:   0% (0/76)   \rResolving deltas:   7% (6/76)   \rResolving deltas:  52% (40/76)   \rResolving deltas:  64% (49/76)   \rResolving deltas:  68% (52/76)   \rResolving deltas:  72% (55/76)   \rResolving deltas:  88% (67/76)   \rResolving deltas:  92% (70/76)   \rResolving deltas:  94% (72/76)   \rResolving deltas:  97% (74/76)   \rResolving deltas: 100% (76/76)   \rResolving deltas: 100% (76/76), done.\n",
            "/content/Raianars_July_2020/ANN_read_matrix/Raianars_July_2020\n",
            "run= 0 total=50 Fobj= 3.914174896490512e-24 Time= 0.28678032954533894\n",
            "run= 1 total=50 Fobj= 6.244714412803456e-24 Time= 0.5731058677037557\n",
            "run= 2 total=50 Fobj= 1.4431681662788795e-23 Time= 0.8604872186978658\n",
            "run= 3 total=50 Fobj= 5.5468798384090685e-24 Time= 1.1466652671496074\n",
            "run= 4 total=50 Fobj= 2.732714198315532e-24 Time= 1.4326513528823852\n",
            "run= 5 total=50 Fobj= 1.0277274668040283e-23 Time= 1.7190516630808512\n",
            "run= 6 total=50 Fobj= 2.6966030364165916e-23 Time= 2.0079290668169656\n",
            "run= 7 total=50 Fobj= 8.802361155160062e-24 Time= 2.293562924861908\n",
            "run= 8 total=50 Fobj= 1.8926371639139268e-23 Time= 2.579546085993449\n",
            "run= 9 total=50 Fobj= 1.4771271437018297e-23 Time= 2.8655555764834086\n",
            "run= 10 total=50 Fobj= 3.20689465959056e-23 Time= 3.152469189961751\n",
            "run= 11 total=50 Fobj= 1.6559097844486537e-23 Time= 3.4388168970743815\n",
            "run= 12 total=50 Fobj= 2.5869579869539673e-24 Time= 3.728373142083486\n",
            "run= 13 total=50 Fobj= 5.270182336546369e-23 Time= 4.014092338085175\n",
            "run= 14 total=50 Fobj= 2.935324885040187e-23 Time= 4.299307489395142\n",
            "run= 15 total=50 Fobj= 3.4955093355698285e-23 Time= 4.585254331429799\n",
            "run= 16 total=50 Fobj= 2.4624955492522223e-23 Time= 4.87088965177536\n",
            "run= 17 total=50 Fobj= 5.982022246006631e-24 Time= 5.1567754666010535\n",
            "run= 18 total=50 Fobj= 2.582780800816012e-23 Time= 5.442475243409475\n",
            "run= 19 total=50 Fobj= 1.0368297082537281e-23 Time= 5.728718117872874\n",
            "run= 20 total=50 Fobj= 7.322826079038187e-24 Time= 6.015441687901815\n",
            "run= 21 total=50 Fobj= 1.9844322471450225e-23 Time= 6.300564197699229\n",
            "run= 22 total=50 Fobj= 8.26558984609803e-24 Time= 6.586796732743581\n",
            "run= 23 total=50 Fobj= 5.1768375304475664e-24 Time= 6.873127257823944\n",
            "run= 24 total=50 Fobj= 1.033299527242241e-24 Time= 7.1621662418047585\n",
            "run= 25 total=50 Fobj= 7.881801915312934e-24 Time= 7.447688313325246\n",
            "run= 26 total=50 Fobj= 1.2256388487777228e-24 Time= 7.733721395333608\n",
            "run= 27 total=50 Fobj= 5.5375056191481925e-24 Time= 8.019618995984395\n",
            "run= 28 total=50 Fobj= 8.065394727545559e-24 Time= 8.304532090822855\n",
            "run= 29 total=50 Fobj= 9.305856087594143e-24 Time= 8.59070714712143\n",
            "run= 30 total=50 Fobj= 3.1805026620398025e-24 Time= 8.88036851088206\n",
            "run= 31 total=50 Fobj= 7.951910922687041e-24 Time= 9.166925060749055\n",
            "run= 32 total=50 Fobj= 1.1219336623377003e-23 Time= 9.45372788508733\n",
            "run= 33 total=50 Fobj= 1.1933393195504024e-24 Time= 9.73995453119278\n",
            "run= 34 total=50 Fobj= 7.274334062554202e-24 Time= 10.026881722609202\n",
            "run= 35 total=50 Fobj= 2.5837973935348554e-23 Time= 10.312661107381185\n",
            "run= 36 total=50 Fobj= 2.170249183978828e-22 Time= 10.599029330412547\n",
            "run= 37 total=50 Fobj= 9.50165713345879e-25 Time= 10.885633063316345\n",
            "run= 38 total=50 Fobj= 2.4905683453207477e-24 Time= 11.172397855917612\n",
            "run= 39 total=50 Fobj= 5.491758742802997e-23 Time= 11.459490303198496\n",
            "run= 40 total=50 Fobj= 8.4580292963792e-24 Time= 11.746131447950999\n",
            "run= 41 total=50 Fobj= 5.0758555973448095e-24 Time= 12.032091116905212\n",
            "run= 42 total=50 Fobj= 2.3841773622839825e-24 Time= 12.32046055396398\n",
            "run= 43 total=50 Fobj= 6.505030940537687e-24 Time= 12.606637680530548\n",
            "run= 44 total=50 Fobj= 9.94610503810892e-24 Time= 12.89233542283376\n",
            "run= 45 total=50 Fobj= 2.5858012190591516e-23 Time= 13.17919280131658\n",
            "run= 46 total=50 Fobj= 2.3724338109374162e-23 Time= 13.465348378817241\n",
            "run= 47 total=50 Fobj= 2.5274492182291677e-23 Time= 13.752672406037648\n",
            "run= 48 total=50 Fobj= 2.108548539595153e-23 Time= 14.046990239620209\n",
            "run= 49 total=50 Fobj= 9.027471027964707e-23 Time= 14.338512814044952\n"
          ],
          "name": "stdout"
        }
      ]
    },
    {
      "cell_type": "code",
      "metadata": {
        "id": "3W8R6htAHO63",
        "colab_type": "code",
        "colab": {
          "base_uri": "https://localhost:8080/",
          "height": 323
        },
        "outputId": "1f17bed4-e13f-45a3-f592-65276edb8b25"
      },
      "source": [
        "############################## Cálculo dos Parâmetros de Avaliação   \n",
        "TIME = (time.time() - start_time)/RUNS\n",
        "BEST_AGENTS=np.array(BEST_AGENTS)\n",
        "BEST_AGENTS_ST= BEST_AGENTS[BEST_AGENTS[:,-1].argsort()]\n",
        "BEST=BEST_AGENTS_ST[0]\n",
        "WORSE=BEST_AGENTS_ST[-1]\n",
        "MEAN=np.mean(BEST_AGENTS,axis=0)\n",
        "MAXFO=BEST_AGENTS[:,-1].max()\n",
        "MINFO=BEST_AGENTS[:,-1].min()\n",
        "STD=BEST_AGENTS[:,-1].std()\n",
        "\n",
        "nome='DE_STAT_Fo-'+str(mut)+'_CRo-'+str(crossp)+'_D-'+str(dim)+'_Interv-'+str(ITE)\n",
        "print('DE_','TOTAL=',TOTAL,'Iterações=',ITE*its,'Dim=', dim,\"Min/Max=\",MIN[0],\"/\",MAX[0],'_',Fun.__name__)\n",
        "print(nome, '\\n')\n",
        "#print('BEST: ',BEST)\n",
        "#print('MÉDIA: ',MEAN)\n",
        "print('MÉDIA: ',MEAN[-1])\n",
        "print('MIN __:',MINFO)\n",
        "print('MAX__: ',MAXFO)\n",
        "print('STD __:',STD)\n",
        "print(\"Tempo Médio= %.3f segundos ---\" % (TIME))\n",
        "print(RUNS,'Rodadas') \n",
        "print()\n",
        "print('BEST: ',BEST)"
      ],
      "execution_count": 14,
      "outputs": [
        {
          "output_type": "stream",
          "text": [
            "DE_ TOTAL= 300000 Iterações= 2000 Dim= 30 Min/Max= -100 / 100 _ Bent_Cigar\n",
            "DE_STAT_Fo-0.5_CRo-0.5_D-30_Interv-2000 \n",
            "\n",
            "MÉDIA:  1.9438553431115383e-23\n",
            "MIN __: 9.50165713345879e-25\n",
            "MAX__:  2.170249183978828e-22\n",
            "STD __: 3.25649645935866e-23\n",
            "Tempo Médio= 17.207 segundos ---\n",
            "50 Rodadas\n",
            "\n",
            "BEST:  [ 4.14650224e-14  8.87035800e-17  2.72957141e-16  1.54011094e-16\n",
            " -1.54379722e-16 -2.22527789e-16 -2.19414582e-16 -8.24989725e-17\n",
            "  2.22312484e-16  2.00988015e-16  1.18359083e-16 -2.82408376e-16\n",
            "  1.25299531e-16  1.10364724e-16  2.22535183e-16 -1.31289468e-16\n",
            "  2.09866421e-17  9.49587411e-17  7.79178209e-18  2.20477675e-17\n",
            " -1.16154634e-16  4.38054150e-16 -2.09519945e-16 -2.50949140e-16\n",
            " -5.01771529e-18  2.06114702e-16 -6.33013368e-17  4.82600725e-17\n",
            "  5.49385447e-17 -2.48407498e-16  9.50165713e-25]\n"
          ],
          "name": "stdout"
        }
      ]
    }
  ]
}