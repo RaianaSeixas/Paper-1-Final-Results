{
  "nbformat": 4,
  "nbformat_minor": 0,
  "metadata": {
    "colab": {
      "name": "Stats_2000_Sphere_ALL3_D_30_0.25_0.25.ipynb",
      "provenance": [],
      "collapsed_sections": [],
      "include_colab_link": true
    },
    "kernelspec": {
      "name": "python3",
      "display_name": "Python 3"
    }
  },
  "cells": [
    {
      "cell_type": "markdown",
      "metadata": {
        "id": "view-in-github",
        "colab_type": "text"
      },
      "source": [
        "<a href=\"https://colab.research.google.com/github/RaianaSeixas/Paper-1-Final-Results/blob/master/Stats_2000_Sphere_ALL3_D_30_0_25_0_25.ipynb\" target=\"_parent\"><img src=\"https://colab.research.google.com/assets/colab-badge.svg\" alt=\"Open In Colab\"/></a>"
      ]
    },
    {
      "cell_type": "code",
      "metadata": {
        "id": "MC26Bm1UyUR5",
        "colab_type": "code",
        "colab": {
          "base_uri": "https://localhost:8080/",
          "height": 34
        },
        "outputId": "15123738-85f8-457c-e1d3-3df589bf405a"
      },
      "source": [
        "!pip install pyade-python"
      ],
      "execution_count": 29,
      "outputs": [
        {
          "output_type": "stream",
          "text": [
            "Requirement already satisfied: pyade-python in /usr/local/lib/python3.6/dist-packages (1.1)\n"
          ],
          "name": "stdout"
        }
      ]
    },
    {
      "cell_type": "code",
      "metadata": {
        "id": "rRwqrtCmgzdZ",
        "colab_type": "code",
        "colab": {
          "base_uri": "https://localhost:8080/",
          "height": 51
        },
        "outputId": "3dbf7468-dab4-4d95-f481-daea2dff3c64"
      },
      "source": [
        "!pip install PyFDE"
      ],
      "execution_count": 30,
      "outputs": [
        {
          "output_type": "stream",
          "text": [
            "Requirement already satisfied: PyFDE in /usr/local/lib/python3.6/dist-packages (1.3.0)\n",
            "Requirement already satisfied: numpy in /usr/local/lib/python3.6/dist-packages (from PyFDE) (1.18.5)\n"
          ],
          "name": "stdout"
        }
      ]
    },
    {
      "cell_type": "code",
      "metadata": {
        "id": "anFukot-ypn6",
        "colab_type": "code",
        "colab": {}
      },
      "source": [
        "import pyade.ilshade \n",
        "import pyade.sade \n",
        "import pyade.jso\n",
        "import pyade.shade\n",
        "import pyade.jade \n",
        "import pyfde\n",
        "import numpy as np\n",
        "import pandas as pd\n",
        "import time"
      ],
      "execution_count": 31,
      "outputs": []
    },
    {
      "cell_type": "code",
      "metadata": {
        "id": "6Oh714_-z1Ia",
        "colab_type": "code",
        "colab": {
          "base_uri": "https://localhost:8080/",
          "height": 173
        },
        "outputId": "e837215a-8dd1-49ab-9c81-4b60cf029297"
      },
      "source": [
        "!git clone https://github.com/ucfilho/Raianars_July_2020 #clonar do Github\n",
        "%cd Raianars_July_2020"
      ],
      "execution_count": 32,
      "outputs": [
        {
          "output_type": "stream",
          "text": [
            "Cloning into 'Raianars_July_2020'...\n",
            "remote: Enumerating objects: 12, done.\u001b[K\n",
            "remote: Counting objects:   8% (1/12)\u001b[K\rremote: Counting objects:  16% (2/12)\u001b[K\rremote: Counting objects:  25% (3/12)\u001b[K\rremote: Counting objects:  33% (4/12)\u001b[K\rremote: Counting objects:  41% (5/12)\u001b[K\rremote: Counting objects:  50% (6/12)\u001b[K\rremote: Counting objects:  58% (7/12)\u001b[K\rremote: Counting objects:  66% (8/12)\u001b[K\rremote: Counting objects:  75% (9/12)\u001b[K\rremote: Counting objects:  83% (10/12)\u001b[K\rremote: Counting objects:  91% (11/12)\u001b[K\rremote: Counting objects: 100% (12/12)\u001b[K\rremote: Counting objects: 100% (12/12), done.\u001b[K\n",
            "remote: Compressing objects: 100% (12/12), done.\u001b[K\n",
            "remote: Total 135 (delta 5), reused 0 (delta 0), pack-reused 123\u001b[K\n",
            "Receiving objects: 100% (135/135), 200.94 KiB | 1.73 MiB/s, done.\n",
            "Resolving deltas: 100% (67/67), done.\n",
            "/content/Raianars_July_2020/ANN_read_matrix/Raianars_July_2020/Raianars_July_2020/ANN_read_matrix/Raianars_July_2020/Raianars_July_2020\n"
          ],
          "name": "stdout"
        }
      ]
    },
    {
      "cell_type": "code",
      "metadata": {
        "id": "LnzftXkky78A",
        "colab_type": "code",
        "colab": {}
      },
      "source": [
        "import Go2Ann\n",
        "import de_soma_Insight\n",
        "import de_bounds_matriz\n",
        "from AvaliaX import AvaliaX\n",
        "from GeraIndices import GeraIndices"
      ],
      "execution_count": 33,
      "outputs": []
    },
    {
      "cell_type": "code",
      "metadata": {
        "id": "HNW92728z7fR",
        "colab_type": "code",
        "colab": {}
      },
      "source": [
        "import Function\n",
        "import Go2MinMax"
      ],
      "execution_count": 34,
      "outputs": []
    },
    {
      "cell_type": "code",
      "metadata": {
        "id": "T_C-e7aH0CZH",
        "colab_type": "code",
        "colab": {}
      },
      "source": [
        "ITE=2000 #10 # PONTOS quantas vezes vai alteral NPAR \n",
        "NPAR=100 # NUMBER OF PARTICLES\n",
        "dim=30\n",
        "RUNS=50\n",
        "fchoice='Sphere'  #US\n",
        "Fun=Function.Sphere\n",
        "\n",
        "MIN,MAX=Go2MinMax.Intervalo(dim,fchoice)\n",
        "bounds = [(0,0)]*dim\n",
        "\n",
        "for i in range(dim):\n",
        "  bounds[i] = (MIN[i],MAX[i])\n",
        "\n",
        "start_time = time.time() "
      ],
      "execution_count": 35,
      "outputs": []
    },
    {
      "cell_type": "code",
      "metadata": {
        "id": "Nqv5qp9yzQEw",
        "colab_type": "code",
        "colab": {}
      },
      "source": [
        "############################### INPUT INFORMATION (FRANNK)\n",
        "Fc=0.1 # fator de correcao parametros da ANN\n",
        "its=1 #10 # quantas vezes vai usar o NPAR antes de alterar de novo\n",
        "mut=0.25\n",
        "crossp=0.25\n",
        "Fi=mut;CRi=crossp;# para impressão\n",
        "PAR=len(MAX) #NUM DE PARAMETROS A SER OTIMIZADOS"
      ],
      "execution_count": 36,
      "outputs": []
    },
    {
      "cell_type": "code",
      "metadata": {
        "id": "q77YsFa82zFU",
        "colab_type": "code",
        "colab": {
          "base_uri": "https://localhost:8080/",
          "height": 323
        },
        "outputId": "72e14a4c-38d0-4ed7-c555-0615ac4a2117"
      },
      "source": [
        "# JADE\n",
        "algorithm = pyade.jso\n",
        "BEST_AGENTS=[]\n",
        "for i in range(RUNS):\n",
        "  ANSWER_AGENTS=[]\n",
        "  solver = pyfde.JADE(Fun, n_dim=dim, n_pop=NPAR, limits=bounds, minimize=True)\n",
        "  solver.p = 0.05\n",
        "  solver.c = 0.1\n",
        "  solver.cr = 0.5\n",
        "  solver.f = 0.5\n",
        "  best, fit = solver.run(n_it=ITE)\n",
        "  for x in best:\n",
        "    ANSWER_AGENTS.append(x)\n",
        "  ANSWER_AGENTS.append(fit)\n",
        "  BEST_AGENTS.append(ANSWER_AGENTS)\n",
        "BEST_AGENTS=np.array(BEST_AGENTS)\n",
        "TIME = (time.time() - start_time)/RUNS\n",
        "BEST_AGENTS=np.array(BEST_AGENTS)\n",
        "BEST_AGENTS_ST= BEST_AGENTS[BEST_AGENTS[:,-1].argsort()]\n",
        "BEST=BEST_AGENTS_ST[0]\n",
        "WORSE=BEST_AGENTS_ST[-1]\n",
        "MEAN=np.mean(BEST_AGENTS,axis=0)\n",
        "MAXFO=BEST_AGENTS[:,-1].max()\n",
        "MINFO=BEST_AGENTS[:,-1].min()\n",
        "STD=BEST_AGENTS[:,-1].std()\n",
        "nome='JADE_Fo-'+str(0)+'_CRo-'+str(0)\n",
        "print(nome,'NPAR',NPAR,'Iterações=',ITE,'Dim=',dim ,\"Min/Max=\",MIN[0],\"/\",MAX[0],'_',Fun.__name__)\n",
        "print( '\\n')\n",
        "print('MÉDIA: ',MEAN[-1])\n",
        "print('MIN __:',MINFO)\n",
        "print('MAX__: ',MAXFO)\n",
        "print('STD __:',STD)\n",
        "print(\"Tempo Médio= %.3f segundos ---\" % (TIME))\n",
        "print(RUNS,'Rodadas') \n",
        "print()\n",
        "print('BEST: ',BEST)"
      ],
      "execution_count": 37,
      "outputs": [
        {
          "output_type": "stream",
          "text": [
            "JADE_Fo-0_CRo-0 NPAR 100 Iterações= 2000 Dim= 30 Min/Max= -5.12 / 5.12 _ Sphere\n",
            "\n",
            "\n",
            "MÉDIA:  -2.2205260153359737e-84\n",
            "MIN __: -1.0947762903738146e-82\n",
            "MAX__:  -5.128547793215789e-101\n",
            "STD __: 1.5323558561552456e-83\n",
            "Tempo Médio= 2.056 segundos ---\n",
            "50 Rodadas\n",
            "\n",
            "BEST:  [-2.54382623e-43 -1.53766511e-42 -2.03163715e-42  1.32583605e-42\n",
            "  4.82350818e-43 -3.16730060e-42  3.53553832e-43 -2.58882599e-43\n",
            "  1.88972860e-42 -7.41267091e-43  3.46780646e-42  2.38783041e-42\n",
            " -1.67238709e-42  5.80753500e-43 -2.26553596e-42 -1.07830309e-42\n",
            " -8.51927588e-43 -1.80004056e-42  3.98323815e-43  8.16925753e-43\n",
            "  1.39251467e-42 -6.56934830e-43 -2.88256620e-42  2.54477811e-42\n",
            "  1.37063440e-42 -2.28541692e-42 -8.94604685e-43 -4.86732530e-42\n",
            " -8.53517422e-43 -2.27156174e-42 -1.09477629e-82]\n"
          ],
          "name": "stdout"
        }
      ]
    },
    {
      "cell_type": "code",
      "metadata": {
        "id": "gXdUgSStzppX",
        "colab_type": "code",
        "colab": {}
      },
      "source": [
        "# FRANNK START HERE !!!!!"
      ],
      "execution_count": 38,
      "outputs": []
    },
    {
      "cell_type": "code",
      "metadata": {
        "id": "raWOfeJBztuj",
        "colab_type": "code",
        "colab": {
          "base_uri": "https://localhost:8080/",
          "height": 156
        },
        "outputId": "9f421213-3ab7-4caf-adb3-7f948c8f488b"
      },
      "source": [
        "!git clone https://github.com/ucfilho/ANN_read_matrix #clonar do Github\n",
        "%cd ANN_read_matrix"
      ],
      "execution_count": 39,
      "outputs": [
        {
          "output_type": "stream",
          "text": [
            "Cloning into 'ANN_read_matrix'...\n",
            "remote: Enumerating objects: 20, done.\u001b[K\n",
            "remote: Counting objects:   5% (1/20)\u001b[K\rremote: Counting objects:  10% (2/20)\u001b[K\rremote: Counting objects:  15% (3/20)\u001b[K\rremote: Counting objects:  20% (4/20)\u001b[K\rremote: Counting objects:  25% (5/20)\u001b[K\rremote: Counting objects:  30% (6/20)\u001b[K\rremote: Counting objects:  35% (7/20)\u001b[K\rremote: Counting objects:  40% (8/20)\u001b[K\rremote: Counting objects:  45% (9/20)\u001b[K\rremote: Counting objects:  50% (10/20)\u001b[K\rremote: Counting objects:  55% (11/20)\u001b[K\rremote: Counting objects:  60% (12/20)\u001b[K\rremote: Counting objects:  65% (13/20)\u001b[K\rremote: Counting objects:  70% (14/20)\u001b[K\rremote: Counting objects:  75% (15/20)\u001b[K\rremote: Counting objects:  80% (16/20)\u001b[K\rremote: Counting objects:  85% (17/20)\u001b[K\rremote: Counting objects:  90% (18/20)\u001b[K\rremote: Counting objects:  95% (19/20)\u001b[K\rremote: Counting objects: 100% (20/20)\u001b[K\rremote: Counting objects: 100% (20/20), done.\u001b[K\n",
            "remote: Compressing objects:   5% (1/18)\u001b[K\rremote: Compressing objects:  11% (2/18)\u001b[K\rremote: Compressing objects:  16% (3/18)\u001b[K\rremote: Compressing objects:  22% (4/18)\u001b[K\rremote: Compressing objects:  27% (5/18)\u001b[K\rremote: Compressing objects:  33% (6/18)\u001b[K\rremote: Compressing objects:  38% (7/18)\u001b[K\rremote: Compressing objects:  44% (8/18)\u001b[K\rremote: Compressing objects:  50% (9/18)\u001b[K\rremote: Compressing objects:  55% (10/18)\u001b[K\rremote: Compressing objects:  61% (11/18)\u001b[K\rremote: Compressing objects:  66% (12/18)\u001b[K\rremote: Compressing objects:  72% (13/18)\u001b[K\rremote: Compressing objects:  77% (14/18)\u001b[K\rremote: Compressing objects:  83% (15/18)\u001b[K\rremote: Compressing objects:  88% (16/18)\u001b[K\rremote: Compressing objects:  94% (17/18)\u001b[K\rremote: Compressing objects: 100% (18/18)\u001b[K\rremote: Compressing objects: 100% (18/18), done.\u001b[K\n",
            "remote: Total 20 (delta 5), reused 0 (delta 0), pack-reused 0\u001b[K\n",
            "Unpacking objects:   5% (1/20)   \rUnpacking objects:  10% (2/20)   \rUnpacking objects:  15% (3/20)   \rUnpacking objects:  20% (4/20)   \rUnpacking objects:  25% (5/20)   \rUnpacking objects:  30% (6/20)   \rUnpacking objects:  35% (7/20)   \rUnpacking objects:  40% (8/20)   \rUnpacking objects:  45% (9/20)   \rUnpacking objects:  50% (10/20)   \rUnpacking objects:  55% (11/20)   \rUnpacking objects:  60% (12/20)   \rUnpacking objects:  65% (13/20)   \rUnpacking objects:  70% (14/20)   \rUnpacking objects:  75% (15/20)   \rUnpacking objects:  80% (16/20)   \rUnpacking objects:  85% (17/20)   \rUnpacking objects:  90% (18/20)   \rUnpacking objects:  95% (19/20)   \rUnpacking objects: 100% (20/20)   \rUnpacking objects: 100% (20/20), done.\n",
            "/content/Raianars_July_2020/ANN_read_matrix/Raianars_July_2020/Raianars_July_2020/ANN_read_matrix/Raianars_July_2020/Raianars_July_2020/ANN_read_matrix\n"
          ],
          "name": "stdout"
        }
      ]
    },
    {
      "cell_type": "code",
      "metadata": {
        "id": "N2lyPfivzwGv",
        "colab_type": "code",
        "colab": {
          "base_uri": "https://localhost:8080/",
          "height": 1000
        },
        "outputId": "a488d835-702f-4c3c-ffa5-5244dec75188"
      },
      "source": [
        "ANN_F=pd.read_csv('ANN_INSIGHT_Valor_F.csv')\n",
        "ANN_CR=pd.read_csv('ANN_INSIGHT_CR.csv')\n",
        "syn0_F,syn1_F,X_max_F,X_min_F=Go2Ann.GetMatriz(ANN_F)\n",
        "syn0_CR,syn1_CR,X_max_CR,X_min_CR=Go2Ann.GetMatriz(ANN_CR)\n",
        "fields = ['DI RELATIVO','FRAC Its','Fo','CRo']\n",
        "\n",
        "#TOTAL=7*dim*its*ITE\n",
        "TOTAL=10*dim*its*ITE\n",
        "TOTAL=int(TOTAL/2)   # CONFERIR SE ESTE EH O MELHOR LUGAR\n",
        "\n",
        "dimensions=len(MAX)\n",
        "start_time = time.time() #INICIALIZA CONTAGEM DO TEMPO\n",
        "\n",
        "MAX_P=np.zeros(ITE) # ATENCAO para variar F e Cr MAX_P passa a ser 3 vezes maior\n",
        "MIN_P=np.zeros(ITE) # ATENCAO para variar F e Cr MIN_P passa a ser 3 vezes maior\n",
        "\n",
        "for i in range(dim):\n",
        "  MAX_P[i]=MAX[i] \n",
        "  MIN_P[i]=MIN[i]\n",
        "\n",
        "rodadas=1\n",
        "for i in range(rodadas):\n",
        "  SOMA=0\n",
        "  pop = np.random.rand(NPAR, dimensions)\n",
        "  diff=np.zeros(PAR)\n",
        "  for ii in range(PAR):\n",
        "    diff[ii] = MAX[ii]-MIN[ii]\n",
        "  X = MIN + pop * diff\n",
        "    \n",
        "  PONTOS=ITE # DIVISOES DA POPULACAO\n",
        "start_time = time.time()\n",
        "BEST_AGENTS=[]\n",
        "MAT_stat=[]\n",
        "for i in range(RUNS):\n",
        "    MAT=[] \n",
        "    mut=Fi\n",
        "    crossp=CRi\n",
        "    SOMA=0\n",
        "    SOMAf=0\n",
        "    start_ite = time.time()\n",
        "    delta_time=(start_ite-start_time)/60\n",
        "    print('ite=',i,'time=',delta_time)\n",
        "    pop = np.random.rand(NPAR, dim)\n",
        "    diff=np.zeros(PAR)\n",
        "    for ii in range(PAR):\n",
        "      diff[ii] = MAX[ii]-MIN[ii]\n",
        "    X = MIN + pop * diff\n",
        "    Xf = MIN + pop * diff\n",
        "    \n",
        "    DIo=1e99\n",
        "  \n",
        "    CRo=crossp;Fo=mut;\n",
        "    Fitness = np.asarray([Fun(ind) for ind in X])\n",
        "\n",
        "    XY,BEST_XY,BESTo,FOBESTo=AvaliaX(X,Fitness)\n",
        "    nrow,ncol=X.shape\n",
        "\n",
        "    QUANT=17;MAT_INDo=np.zeros((1,QUANT)); # quantos indices esta fazendo\n",
        "    MAT_INDo[0,5]=nrow  # VALOR NP\n",
        "    MAT_INDo[0,6]=Fo    # VALOR Fo   \n",
        "    MAT_INDo[0,7]=CRo   # VALOR CRo\n",
        "  \n",
        "    MAT_INDo=GeraIndices(X,BESTo,FOBESTo,DIo,MAT_INDo,SOMA,TOTAL,syn0_F,\n",
        "                        syn1_F,X_max_F,X_min_F,syn0_CR,syn1_CR,X_max_CR,\n",
        "                        X_min_CR,Fc,fields,Fun)\n",
        "  \n",
        "    DIo=np.copy(MAT_INDo[0,0])\n",
        "    MAT_INDo[0,15]=Fo    # VALOR Fo   \n",
        "    MAT_INDo[0,16]=CRo   # VALOR CRo\n",
        "    #ind_crossp=ITE-1\n",
        "\n",
        "    \n",
        "    for k in range(ITE):\n",
        "      X,BEST,FOBEST,XY,BEST_XY,SOMA= de_soma_Insight.de(MAX,MIN, mut, crossp,NPAR,its,Fun,X,SOMA,TOTAL)\n",
        "      #Xf,BESTf,FOBESTf,XYf,BEST_XYf,SOMAf= de_soma_Insight.de(MAX,MIN, Fi, CRi, NPAR,its,Fun,Xf,SOMAf,TOTAL)\n",
        "\n",
        "      \n",
        "      MAT_IND=GeraIndices(X,BESTo,FOBESTo,DIo,MAT_INDo,SOMA,TOTAL,syn0_F,\n",
        "                          syn1_F,X_max_F,X_min_F,syn0_CR,syn1_CR,X_max_CR,\n",
        "                          X_min_CR,Fc,fields,Fun)\n",
        "    \n",
        "      BESTo=np.copy(BEST);FOBESTo=np.copy(FOBEST);\n",
        "      MAT.append(MAT_IND.ravel())\n",
        "    \n",
        "      MAT_INDo[0,6]=MAT_IND[0,15]   # VALOR Fo   \n",
        "      MAT_INDo[0,7]=MAT_IND[0,16]   # VALOR CRo\n",
        "      mut=MAT_IND[0,15]\n",
        "      crossp=MAT_IND[0,16]\n",
        "\n",
        "      Fitness = np.asarray([Fun(ind) for ind in X])\n",
        "      #Fitnessf = np.asarray([Fun(ind) for ind in Xf])\n",
        "      Maior=np.argmax(Fitness)\n",
        "      #Maiorf=np.argmax(Fitnessf)\n",
        "      Menor=np.argmin(Fitness)\n",
        "      #Menorf=np.argmin(Fitnessf)\n",
        "\n",
        "      #X[Maior,:]=np.copy(Xf[Menorf,:])\n",
        "      #Xf[Maiorf,:]=np.copy(X[Menor,:])\n",
        "      \n",
        "    BEST_AGENTS.append(BEST_XY)\n",
        "    MAT_stat.append(MAT)\n",
        "    #print(\"GlobalParam e Solucao:\", BEST,\"Funcao=\",FOBEST)\n",
        "    \n",
        "############################## Cálculo dos Parâmetros de Avaliação   \n",
        "TIME = (time.time() - start_time)/RUNS\n",
        "BEST_AGENTS=np.array(BEST_AGENTS)\n",
        "BEST_AGENTS_ST= BEST_AGENTS[BEST_AGENTS[:,-1].argsort()]\n",
        "BEST=BEST_AGENTS_ST[0]\n",
        "WORSE=BEST_AGENTS_ST[-1]\n",
        "MEAN=np.mean(BEST_AGENTS,axis=0)\n",
        "MAXFO=BEST_AGENTS[:,-1].max()\n",
        "MINFO=BEST_AGENTS[:,-1].min()\n",
        "STD=BEST_AGENTS[:,-1].std()\n",
        "\n",
        "print()\n",
        "nome='_ANN_Div3x4_Fo-'+str(Fi)+'_CRo-'+str(CRi)+'_D-'+str(dim)+'_Interv-'+str(ITE)\n",
        "print('DE_POP_VAR_F_CR','TOTAL=',TOTAL,'Iterações=',ITE*its,'Dim=', PAR,\"Min/Max=\",MIN[0],\"/\",MAX[0],'_',Fun.__name__)\n",
        "print(nome, '\\n')\n",
        "print('MÉDIA: ',MEAN[-1])\n",
        "print('MIN __:',MINFO)\n",
        "print('MAX__: ',MAXFO)\n",
        "print('STD __:',STD)\n",
        "print(\"Tempo Médio= %.3f segundos ---\" % (TIME))\n",
        "print(RUNS,'Rodadas') \n",
        "print()\n",
        "print('BEST: ',BEST)"
      ],
      "execution_count": 40,
      "outputs": [
        {
          "output_type": "stream",
          "text": [
            "ite= 0 time= 2.3674964904785156e-05\n",
            "ite= 1 time= 1.9574496388435363\n",
            "ite= 2 time= 3.9923616607983905\n",
            "ite= 3 time= 6.057288761933645\n",
            "ite= 4 time= 8.193536619345346\n",
            "ite= 5 time= 10.216702564557393\n",
            "ite= 6 time= 12.178145384788513\n",
            "ite= 7 time= 14.166663483778636\n",
            "ite= 8 time= 16.133356193701427\n",
            "ite= 9 time= 18.129839877287548\n",
            "ite= 10 time= 20.0951966603597\n",
            "ite= 11 time= 22.085189231236775\n",
            "ite= 12 time= 24.07313465277354\n",
            "ite= 13 time= 26.058890823523203\n",
            "ite= 14 time= 28.057380414009096\n",
            "ite= 15 time= 30.054139260451\n",
            "ite= 16 time= 32.00892426172892\n",
            "ite= 17 time= 34.0021633942922\n",
            "ite= 18 time= 35.96654300689697\n",
            "ite= 19 time= 37.96189983288447\n",
            "ite= 20 time= 39.93963802258174\n",
            "ite= 21 time= 41.948448685805005\n",
            "ite= 22 time= 43.98796615600586\n",
            "ite= 23 time= 46.00158027807871\n",
            "ite= 24 time= 48.01261910200119\n",
            "ite= 25 time= 50.00654979546865\n",
            "ite= 26 time= 52.0401534875234\n",
            "ite= 27 time= 54.01671055157979\n",
            "ite= 28 time= 56.02065492471059\n",
            "ite= 29 time= 58.00056915283203\n",
            "ite= 30 time= 59.995974600315094\n",
            "ite= 31 time= 61.989996385574344\n",
            "ite= 32 time= 63.96066807508468\n",
            "ite= 33 time= 65.95802197853725\n",
            "ite= 34 time= 67.95331233739853\n",
            "ite= 35 time= 69.93496188322703\n",
            "ite= 36 time= 71.93352952400843\n",
            "ite= 37 time= 73.92891209522882\n",
            "ite= 38 time= 75.9445180773735\n",
            "ite= 39 time= 77.95323353211084\n",
            "ite= 40 time= 79.95751412709554\n",
            "ite= 41 time= 81.95898249546687\n",
            "ite= 42 time= 83.97297271092732\n",
            "ite= 43 time= 85.96091666221619\n",
            "ite= 44 time= 87.96506365140279\n",
            "ite= 45 time= 89.9694971203804\n",
            "ite= 46 time= 91.98764553070069\n",
            "ite= 47 time= 93.9913430849711\n",
            "ite= 48 time= 95.99020462036133\n",
            "ite= 49 time= 97.9644030769666\n",
            "\n",
            "DE_POP_VAR_F_CR TOTAL= 300000 Iterações= 2000 Dim= 30 Min/Max= -5.12 / 5.12 _ Sphere\n",
            "_ANN_Div3x4_Fo-0.25_CRo-0.25_D-30_Interv-2000 \n",
            "\n",
            "MÉDIA:  4.125757017375943e-36\n",
            "MIN __: 6.786217590824298e-39\n",
            "MAX__:  3.1096636463728485e-35\n",
            "STD __: 5.279499329856854e-36\n",
            "Tempo Médio= 119.945 segundos ---\n",
            "50 Rodadas\n",
            "\n",
            "BEST:  [-1.03839822e-20  1.38558303e-21  2.55289185e-20  1.74275313e-20\n",
            " -5.11070890e-21  3.94757580e-21  2.14221088e-20 -1.17347781e-20\n",
            " -1.05793738e-20  1.54047310e-20  8.89474653e-21  2.83728553e-20\n",
            " -8.56235895e-21  1.10315201e-20 -1.95390719e-20 -2.15481586e-20\n",
            "  2.56670542e-21 -8.02211850e-22 -1.86887393e-20 -5.85250227e-21\n",
            "  1.91131249e-20  4.03577785e-20 -7.17268704e-21  7.31344273e-22\n",
            " -4.08108746e-21  1.66619445e-20 -7.69367282e-21  4.46938206e-22\n",
            "  2.61693297e-21  3.30570407e-21  6.78621759e-39]\n"
          ],
          "name": "stdout"
        }
      ]
    },
    {
      "cell_type": "code",
      "metadata": {
        "id": "egkWFpw6GiNo",
        "colab_type": "code",
        "colab": {
          "base_uri": "https://localhost:8080/",
          "height": 1000
        },
        "outputId": "87292f39-5571-42e7-f11e-2f2a912c7057"
      },
      "source": [
        "#DE_ tradicional\n",
        "\n",
        "!git clone https://github.com/ucfilho/Raianars_July_2020 #clonar do Github\n",
        "%cd Raianars_July_2020\n",
        "\n",
        "mut=0.5\n",
        "crossp=0.5\n",
        "\n",
        "SOMA=0\n",
        "start_time = time.time()\n",
        "BEST_AGENTS=[]\n",
        "MAT_stat=[]\n",
        "\n",
        "for i in range(RUNS):\n",
        "\n",
        "    pop = np.random.rand(NPAR, dim)\n",
        "    diff=np.zeros(dim)\n",
        "    for ii in range(dim):\n",
        "      diff[ii] = MAX[ii]-MIN[ii]\n",
        "    X = MIN + pop * diff\n",
        "\n",
        "    SOMA=0\n",
        "\n",
        "    for k in range(ITE):\n",
        "      X,BEST,FOBEST,XY,BEST_XY,SOMA= de_soma_Insight.de(MAX,MIN, mut, crossp,dim,its,Fun,X,SOMA,TOTAL)\n",
        "\n",
        "    start_run = (time.time()-start_time)/60\n",
        "    print('run=',i,'total=50','Fobj=',FOBEST,'Time=',start_run)  \n",
        "    BEST_AGENTS.append(BEST_XY)"
      ],
      "execution_count": 41,
      "outputs": [
        {
          "output_type": "stream",
          "text": [
            "Cloning into 'Raianars_July_2020'...\n",
            "remote: Enumerating objects: 15, done.\u001b[K\n",
            "remote: Counting objects:   6% (1/15)\u001b[K\rremote: Counting objects:  13% (2/15)\u001b[K\rremote: Counting objects:  20% (3/15)\u001b[K\rremote: Counting objects:  26% (4/15)\u001b[K\rremote: Counting objects:  33% (5/15)\u001b[K\rremote: Counting objects:  40% (6/15)\u001b[K\rremote: Counting objects:  46% (7/15)\u001b[K\rremote: Counting objects:  53% (8/15)\u001b[K\rremote: Counting objects:  60% (9/15)\u001b[K\rremote: Counting objects:  66% (10/15)\u001b[K\rremote: Counting objects:  73% (11/15)\u001b[K\rremote: Counting objects:  80% (12/15)\u001b[K\rremote: Counting objects:  86% (13/15)\u001b[K\rremote: Counting objects:  93% (14/15)\u001b[K\rremote: Counting objects: 100% (15/15)\u001b[K\rremote: Counting objects: 100% (15/15), done.\u001b[K\n",
            "remote: Compressing objects:   6% (1/15)\u001b[K\rremote: Compressing objects:  13% (2/15)\u001b[K\rremote: Compressing objects:  20% (3/15)\u001b[K\rremote: Compressing objects:  26% (4/15)\u001b[K\rremote: Compressing objects:  33% (5/15)\u001b[K\rremote: Compressing objects:  40% (6/15)\u001b[K\rremote: Compressing objects:  46% (7/15)\u001b[K\rremote: Compressing objects:  53% (8/15)\u001b[K\rremote: Compressing objects:  60% (9/15)\u001b[K\rremote: Compressing objects:  66% (10/15)\u001b[K\rremote: Compressing objects:  73% (11/15)\u001b[K\rremote: Compressing objects:  80% (12/15)\u001b[K\rremote: Compressing objects:  86% (13/15)\u001b[K\rremote: Compressing objects:  93% (14/15)\u001b[K\rremote: Compressing objects: 100% (15/15)\u001b[K\rremote: Compressing objects: 100% (15/15), done.\u001b[K\n",
            "Receiving objects:   0% (1/138)   \rReceiving objects:   1% (2/138)   \rReceiving objects:   2% (3/138)   \rReceiving objects:   3% (5/138)   \rReceiving objects:   4% (6/138)   \rReceiving objects:   5% (7/138)   \rReceiving objects:   6% (9/138)   \rReceiving objects:   7% (10/138)   \rReceiving objects:   8% (12/138)   \rReceiving objects:   9% (13/138)   \rReceiving objects:  10% (14/138)   \rReceiving objects:  11% (16/138)   \rReceiving objects:  12% (17/138)   \rReceiving objects:  13% (18/138)   \rReceiving objects:  14% (20/138)   \rReceiving objects:  15% (21/138)   \rReceiving objects:  16% (23/138)   \rReceiving objects:  17% (24/138)   \rReceiving objects:  18% (25/138)   \rReceiving objects:  19% (27/138)   \rReceiving objects:  20% (28/138)   \rReceiving objects:  21% (29/138)   \rReceiving objects:  22% (31/138)   \rReceiving objects:  23% (32/138)   \rReceiving objects:  24% (34/138)   \rReceiving objects:  25% (35/138)   \rReceiving objects:  26% (36/138)   \rReceiving objects:  27% (38/138)   \rReceiving objects:  28% (39/138)   \rReceiving objects:  29% (41/138)   \rReceiving objects:  30% (42/138)   \rReceiving objects:  31% (43/138)   \rReceiving objects:  32% (45/138)   \rReceiving objects:  33% (46/138)   \rReceiving objects:  34% (47/138)   \rReceiving objects:  35% (49/138)   \rReceiving objects:  36% (50/138)   \rremote: Total 138 (delta 7), reused 0 (delta 0), pack-reused 123\u001b[K\n",
            "Receiving objects:  37% (52/138)   \rReceiving objects:  38% (53/138)   \rReceiving objects:  39% (54/138)   \rReceiving objects:  40% (56/138)   \rReceiving objects:  41% (57/138)   \rReceiving objects:  42% (58/138)   \rReceiving objects:  43% (60/138)   \rReceiving objects:  44% (61/138)   \rReceiving objects:  45% (63/138)   \rReceiving objects:  46% (64/138)   \rReceiving objects:  47% (65/138)   \rReceiving objects:  48% (67/138)   \rReceiving objects:  49% (68/138)   \rReceiving objects:  50% (69/138)   \rReceiving objects:  51% (71/138)   \rReceiving objects:  52% (72/138)   \rReceiving objects:  53% (74/138)   \rReceiving objects:  54% (75/138)   \rReceiving objects:  55% (76/138)   \rReceiving objects:  56% (78/138)   \rReceiving objects:  57% (79/138)   \rReceiving objects:  58% (81/138)   \rReceiving objects:  59% (82/138)   \rReceiving objects:  60% (83/138)   \rReceiving objects:  61% (85/138)   \rReceiving objects:  62% (86/138)   \rReceiving objects:  63% (87/138)   \rReceiving objects:  64% (89/138)   \rReceiving objects:  65% (90/138)   \rReceiving objects:  66% (92/138)   \rReceiving objects:  67% (93/138)   \rReceiving objects:  68% (94/138)   \rReceiving objects:  69% (96/138)   \rReceiving objects:  70% (97/138)   \rReceiving objects:  71% (98/138)   \rReceiving objects:  72% (100/138)   \rReceiving objects:  73% (101/138)   \rReceiving objects:  74% (103/138)   \rReceiving objects:  75% (104/138)   \rReceiving objects:  76% (105/138)   \rReceiving objects:  77% (107/138)   \rReceiving objects:  78% (108/138)   \rReceiving objects:  79% (110/138)   \rReceiving objects:  80% (111/138)   \rReceiving objects:  81% (112/138)   \rReceiving objects:  82% (114/138)   \rReceiving objects:  83% (115/138)   \rReceiving objects:  84% (116/138)   \rReceiving objects:  85% (118/138)   \rReceiving objects:  86% (119/138)   \rReceiving objects:  87% (121/138)   \rReceiving objects:  88% (122/138)   \rReceiving objects:  89% (123/138)   \rReceiving objects:  90% (125/138)   \rReceiving objects:  91% (126/138)   \rReceiving objects:  92% (127/138)   \rReceiving objects:  93% (129/138)   \rReceiving objects:  94% (130/138)   \rReceiving objects:  95% (132/138)   \rReceiving objects:  96% (133/138)   \rReceiving objects:  97% (134/138)   \rReceiving objects:  98% (136/138)   \rReceiving objects:  99% (137/138)   \rReceiving objects: 100% (138/138)   \rReceiving objects: 100% (138/138), 201.58 KiB | 14.40 MiB/s, done.\n",
            "Resolving deltas:   0% (0/69)   \rResolving deltas:   8% (6/69)   \rResolving deltas:  57% (40/69)   \rResolving deltas:  72% (50/69)   \rResolving deltas:  76% (53/69)   \rResolving deltas:  78% (54/69)   \rResolving deltas:  86% (60/69)   \rResolving deltas:  97% (67/69)   \rResolving deltas:  98% (68/69)   \rResolving deltas: 100% (69/69)   \rResolving deltas: 100% (69/69), done.\n",
            "/content/Raianars_July_2020/ANN_read_matrix/Raianars_July_2020/Raianars_July_2020/ANN_read_matrix/Raianars_July_2020/Raianars_July_2020/ANN_read_matrix/Raianars_July_2020\n",
            "run= 0 total=50 Fobj= 1.5874652765726343e-32 Time= 0.2797526836395264\n",
            "run= 1 total=50 Fobj= 7.102384261736336e-32 Time= 0.5613654255867004\n",
            "run= 2 total=50 Fobj= 5.112309002795446e-32 Time= 0.844255006313324\n",
            "run= 3 total=50 Fobj= 6.496006125751377e-32 Time= 1.1249718467394512\n",
            "run= 4 total=50 Fobj= 9.829988263017387e-32 Time= 1.4027635018030802\n",
            "run= 5 total=50 Fobj= 2.1847188681802368e-32 Time= 1.6828158140182494\n",
            "run= 6 total=50 Fobj= 3.320535288941669e-32 Time= 1.962490701675415\n",
            "run= 7 total=50 Fobj= 2.5844624733953517e-32 Time= 2.242476534843445\n",
            "run= 8 total=50 Fobj= 5.754806924052081e-32 Time= 2.521472076574961\n",
            "run= 9 total=50 Fobj= 3.4749144748799407e-32 Time= 2.800578538576762\n",
            "run= 10 total=50 Fobj= 1.3896370199254013e-31 Time= 3.082033669948578\n",
            "run= 11 total=50 Fobj= 2.767163578653121e-32 Time= 3.3622451106707256\n",
            "run= 12 total=50 Fobj= 8.440203359734971e-32 Time= 3.6426913102467853\n",
            "run= 13 total=50 Fobj= 6.901883071534441e-32 Time= 3.9231896003087363\n",
            "run= 14 total=50 Fobj= 3.922825730191716e-32 Time= 4.203218444188436\n",
            "run= 15 total=50 Fobj= 8.262795373065988e-32 Time= 4.482172326246897\n",
            "run= 16 total=50 Fobj= 1.4047855534283693e-31 Time= 4.761940415700277\n",
            "run= 17 total=50 Fobj= 8.758622033267577e-32 Time= 5.045260818799337\n",
            "run= 18 total=50 Fobj= 1.686445826941632e-31 Time= 5.32645894686381\n",
            "run= 19 total=50 Fobj= 1.1828126348724527e-32 Time= 5.605711229642233\n",
            "run= 20 total=50 Fobj= 1.6216450677347196e-32 Time= 5.885058824221293\n",
            "run= 21 total=50 Fobj= 4.978862713615887e-32 Time= 6.166122285525004\n",
            "run= 22 total=50 Fobj= 4.154522900966277e-32 Time= 6.446124283472697\n",
            "run= 23 total=50 Fobj= 3.910481515857211e-32 Time= 6.72805788119634\n",
            "run= 24 total=50 Fobj= 4.125260454901019e-32 Time= 7.008866326014201\n",
            "run= 25 total=50 Fobj= 1.547514453335113e-31 Time= 7.287646746635437\n",
            "run= 26 total=50 Fobj= 9.756216936559622e-32 Time= 7.567161909739176\n",
            "run= 27 total=50 Fobj= 5.056898242090969e-32 Time= 7.84509057601293\n",
            "run= 28 total=50 Fobj= 3.22161100771633e-31 Time= 8.125553623835247\n",
            "run= 29 total=50 Fobj= 7.363269807599301e-32 Time= 8.41108188231786\n",
            "run= 30 total=50 Fobj= 6.458934726172623e-32 Time= 8.693179202079772\n",
            "run= 31 total=50 Fobj= 5.10902176697799e-32 Time= 8.975481947263082\n",
            "run= 32 total=50 Fobj= 1.2375650998125755e-31 Time= 9.257465596993764\n",
            "run= 33 total=50 Fobj= 1.1030667827262858e-31 Time= 9.537354993820191\n",
            "run= 34 total=50 Fobj= 1.8526355130372245e-31 Time= 9.817811191082\n",
            "run= 35 total=50 Fobj= 1.041187959298987e-31 Time= 10.099920976161957\n",
            "run= 36 total=50 Fobj= 2.9081926658735526e-31 Time= 10.382184394200642\n",
            "run= 37 total=50 Fobj= 1.0992690530532828e-32 Time= 10.663945297400156\n",
            "run= 38 total=50 Fobj= 1.4895976162891457e-31 Time= 10.946954822540283\n",
            "run= 39 total=50 Fobj= 2.7719602302250224e-32 Time= 11.231409740447997\n",
            "run= 40 total=50 Fobj= 5.714434808923478e-32 Time= 11.513886952400208\n",
            "run= 41 total=50 Fobj= 1.2413428340388595e-32 Time= 11.794392303625743\n",
            "run= 42 total=50 Fobj= 2.1897687375288598e-32 Time= 12.075403833389283\n",
            "run= 43 total=50 Fobj= 5.672856722253654e-33 Time= 12.357479202747346\n",
            "run= 44 total=50 Fobj= 1.6160281202306596e-31 Time= 12.637422867616017\n",
            "run= 45 total=50 Fobj= 1.9013722812199422e-30 Time= 12.921766662597657\n",
            "run= 46 total=50 Fobj= 1.8053036339700845e-31 Time= 13.206454996267954\n",
            "run= 47 total=50 Fobj= 1.5375553475035788e-31 Time= 13.488282489776612\n",
            "run= 48 total=50 Fobj= 3.735273870999423e-32 Time= 13.770095547040304\n",
            "run= 49 total=50 Fobj= 1.3059646281095944e-32 Time= 14.051268831888835\n"
          ],
          "name": "stdout"
        }
      ]
    },
    {
      "cell_type": "code",
      "metadata": {
        "id": "3W8R6htAHO63",
        "colab_type": "code",
        "colab": {
          "base_uri": "https://localhost:8080/",
          "height": 323
        },
        "outputId": "0d52ba4a-552b-4d72-a221-d2f9b2422420"
      },
      "source": [
        "############################## Cálculo dos Parâmetros de Avaliação   \n",
        "TIME = (time.time() - start_time)/RUNS\n",
        "BEST_AGENTS=np.array(BEST_AGENTS)\n",
        "BEST_AGENTS_ST= BEST_AGENTS[BEST_AGENTS[:,-1].argsort()]\n",
        "BEST=BEST_AGENTS_ST[0]\n",
        "WORSE=BEST_AGENTS_ST[-1]\n",
        "MEAN=np.mean(BEST_AGENTS,axis=0)\n",
        "MAXFO=BEST_AGENTS[:,-1].max()\n",
        "MINFO=BEST_AGENTS[:,-1].min()\n",
        "STD=BEST_AGENTS[:,-1].std()\n",
        "\n",
        "nome='DE_STAT_Fo-'+str(mut)+'_CRo-'+str(crossp)+'_D-'+str(dim)+'_Interv-'+str(ITE)\n",
        "print('DE_','TOTAL=',TOTAL,'Iterações=',ITE*its,'Dim=', dim,\"Min/Max=\",MIN[0],\"/\",MAX[0],'_',Fun.__name__)\n",
        "print(nome, '\\n')\n",
        "#print('BEST: ',BEST)\n",
        "#print('MÉDIA: ',MEAN)\n",
        "print('MÉDIA: ',MEAN[-1])\n",
        "print('MIN __:',MINFO)\n",
        "print('MAX__: ',MAXFO)\n",
        "print('STD __:',STD)\n",
        "print(\"Tempo Médio= %.3f segundos ---\" % (TIME))\n",
        "print(RUNS,'Rodadas') \n",
        "print()\n",
        "print('BEST: ',BEST)"
      ],
      "execution_count": 42,
      "outputs": [
        {
          "output_type": "stream",
          "text": [
            "DE_ TOTAL= 300000 Iterações= 2000 Dim= 30 Min/Max= -5.12 / 5.12 _ Sphere\n",
            "DE_STAT_Fo-0.5_CRo-0.5_D-30_Interv-2000 \n",
            "\n",
            "MÉDIA:  1.1747856096622116e-31\n",
            "MIN __: 5.672856722253654e-33\n",
            "MAX__:  1.9013722812199422e-30\n",
            "STD __: 2.63738182329605e-31\n",
            "Tempo Médio= 16.862 segundos ---\n",
            "50 Rodadas\n",
            "\n",
            "BEST:  [ 8.76446250e-18 -1.15097708e-17  2.15070625e-18  7.27705655e-18\n",
            "  8.09920675e-18 -8.99783087e-18 -1.52073331e-17  6.94079680e-18\n",
            " -1.95737839e-17  4.44294679e-18 -2.33300713e-18  2.06893755e-17\n",
            "  2.71885061e-18  6.51344928e-18 -3.05705833e-18 -3.00571444e-17\n",
            "  2.37260598e-17  1.77560597e-17 -2.54937385e-18 -1.03942288e-17\n",
            " -1.70940601e-17  4.59473762e-18  4.21389756e-18  4.77008766e-18\n",
            " -2.08808093e-17 -3.66801118e-19  1.35706927e-17  3.61947915e-18\n",
            "  2.51796512e-17  2.38124890e-17  5.67285672e-33]\n"
          ],
          "name": "stdout"
        }
      ]
    }
  ]
}